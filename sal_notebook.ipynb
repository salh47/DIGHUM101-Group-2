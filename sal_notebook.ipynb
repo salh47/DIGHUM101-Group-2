{
 "cells": [
  {
   "cell_type": "code",
   "execution_count": 1,
   "id": "3578df6b",
   "metadata": {},
   "outputs": [],
   "source": [
    "# Import libraries\n",
    "import pandas as pd\n",
    "import os"
   ]
  },
  {
   "cell_type": "code",
   "execution_count": 2,
   "id": "fa9c4dbf",
   "metadata": {},
   "outputs": [
    {
     "name": "stdout",
     "output_type": "stream",
     "text": [
      "       year  voting_amendment_count\n",
      "0    1797.0                       1\n",
      "1    1798.0                       1\n",
      "2    1799.0                       3\n",
      "3    1800.0                       1\n",
      "4    1802.0                       3\n",
      "..      ...                     ...\n",
      "137  2009.0                       4\n",
      "138  2010.0                       1\n",
      "139  2011.0                       4\n",
      "140  2012.0                       1\n",
      "141  2013.0                       3\n",
      "\n",
      "[142 rows x 2 columns]\n"
     ]
    }
   ],
   "source": [
    "data = pd.read_csv('all_proposed_amendments.csv', encoding='ISO-8859-1')\n",
    "\n",
    "#print(data.columns)\n",
    "\"\"\"\n",
    "Index(['identifier', 'source_code', 'source_citation', 'source_index_number',\n",
    "       'title_or_description_from_source', 'date_approximation', 'year',\n",
    "       'month', 'day', 'congress', 'congressional_session',\n",
    "       'joint_resolution_chamber', 'joint_resolution_number', 'sponsor_name',\n",
    "       'sponsor_state_or_territory', 'committee_of_referral', 'last_modified'],\n",
    "      dtype='object')\n",
    "\"\"\"\n",
    "\n",
    "# Make a DataFrame with the same data\n",
    "df = pd.DataFrame(data)\n",
    "# SHow the last 5 rows\n",
    "#print(df.head())\n",
    "\n",
    "# Make a table that shows the amount of amendments per year\n",
    "amendments_per_year = df.groupby('year').size().reset_index(name='amendment_count')\n",
    "# Show the first 5 rows of the amendments per year\n",
    "#print(amendments_per_year)\n",
    "# Show the rows where count > 100\n",
    "amendments_per_year = amendments_per_year[amendments_per_year['amendment_count'] > 100]\n",
    "#print(amendments_per_year)\n",
    "\n",
    "\n",
    "# Get the first row of the DataFrame\n",
    "first_row = df.iloc[0]\n",
    "# Print the first row\n",
    "#print(first_row)\n",
    "\n",
    "# Year is 1869 and month is 2\n",
    "d_1869 = df[(df['year'] == 1870) & (df['month'] == 2)]\n",
    "#print(d_1869)\n",
    "\n",
    "# Filter the dataset for amendments related to voting\n",
    "voting_amendments = df[df['title_or_description_from_source'].str.contains('voting|vote', case=False, na=False)]\n",
    "\n",
    "# Group the voting amendments by year and count them\n",
    "voting_amendments_per_year = voting_amendments.groupby('year').size().reset_index(name='voting_amendment_count')\n",
    "\n",
    "print(voting_amendments_per_year)\n"
   ]
  },
  {
   "cell_type": "code",
   "execution_count": null,
   "id": "3b4ac495",
   "metadata": {},
   "outputs": [],
   "source": []
  }
 ],
 "metadata": {
  "kernelspec": {
   "display_name": "dighum101",
   "language": "python",
   "name": "dighum101"
  },
  "language_info": {
   "codemirror_mode": {
    "name": "ipython",
    "version": 3
   },
   "file_extension": ".py",
   "mimetype": "text/x-python",
   "name": "python",
   "nbconvert_exporter": "python",
   "pygments_lexer": "ipython3",
   "version": "3.12.10"
  }
 },
 "nbformat": 4,
 "nbformat_minor": 5
}
