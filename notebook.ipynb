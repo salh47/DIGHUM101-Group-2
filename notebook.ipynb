{
 "cells": [
  {
   "cell_type": "markdown",
   "id": "b479aecd",
   "metadata": {},
   "source": [
    "# Analysis of Proposed Amendments to the U.S. Constitution\n",
    "\n",
    "**Objective:** This notebook analyzes the entire history of proposed amendments to the U.S. Constitution, from 1787 to 2014. The goal is to uncover historical trends, identify dominant themes in different eras, and understand the political and social contexts that drive the desire for constitutional change.\n",
    "\n",
    "**Methodology:** The analysis will employ Natural Language Processing (NLP) to parse the text of the amendments and statistical modeling to explore the factors influencing their frequency."
   ]
  },
  {
   "cell_type": "code",
   "execution_count": 124,
   "id": "ac2828c4",
   "metadata": {},
   "outputs": [],
   "source": [
    "# Import libraries\n",
    "import pandas as pd\n",
    "import numpy as np\n",
    "import matplotlib.pyplot as plt\n",
    "import os\n",
    "import nltk\n",
    "\n",
    "from nltk.tokenize import sent_tokenize\n",
    "from nltk.tokenize import word_tokenize\n",
    "from string import punctuation\n",
    "from nltk.corpus import stopwords\n",
    "stop_words = set(stopwords.words(\"english\"))\n",
    "from collections import Counter\n",
    "import spacy\n",
    "\n",
    "from sklearn.linear_model import LinearRegression\n",
    "from sklearn.model_selection import train_test_split\n",
    "from sklearn.metrics import mean_squared_error, r2_score"
   ]
  },
  {
   "cell_type": "markdown",
   "id": "f0dd80e2",
   "metadata": {},
   "source": [
    "The dataset that will be used is all the [Proposed Amendments to the United States Constitution](https://www.archives.gov/open/dataset-amendments); the dataset uses a unique encoding which is why it isn't UTF8"
   ]
  },
  {
   "cell_type": "code",
   "execution_count": 125,
   "id": "73c7ce45",
   "metadata": {},
   "outputs": [],
   "source": [
    "data = pd.read_csv('all_proposed_amendments.csv', encoding='ISO-8859-1')\n",
    "\n",
    "# Pre-processing\n",
    "data = data[data['year'] != 19931.0]  # Remove the random 19931 year\n",
    "data['title_or_description_from_source'] = data['title_or_description_from_source'].astype(str)"
   ]
  },
  {
   "cell_type": "markdown",
   "id": "812fa3ac",
   "metadata": {},
   "source": [
    "### Data Cleaning\n",
    "\n",
    "There are some columns that contain very few unique values or are simply metadata that isn't useful for this analysis. The `source_code`, `date_approximation`, and `last_modified` columns, along with the `identifier` column (which serves as an index), will be dropped to streamline the dataset."
   ]
  },
  {
   "cell_type": "code",
   "execution_count": 127,
   "id": "b8dbe4ae",
   "metadata": {},
   "outputs": [],
   "source": [
    "data.drop(columns=['identifier', 'source_code', 'date_approximation', 'last_modified'], inplace=True)"
   ]
  },
  {
   "cell_type": "markdown",
   "id": "08fe4dfe",
   "metadata": {},
   "source": [
    "### Getting Rid of Duplicates For a New Dataset\n",
    "\n",
    "The raw dataset contains numerous duplicate entries for the same proposed amendment. This occurs because an amendment is recorded at multiple stages of the legislative process. To ensure each unique amendment idea is counted only once, we will:\n",
    "1.  **Tokenize** the amendment titles to create a consistent representation of each proposal.\n",
    "2.  Remove duplicates based on these tokens, keeping only the **last recorded entry** for each unique amendment. This is based on the assumption that the final entry represents the most complete record."
   ]
  },
  {
   "cell_type": "code",
   "execution_count": 128,
   "id": "4cf92ec3",
   "metadata": {},
   "outputs": [
    {
     "name": "stdout",
     "output_type": "stream",
     "text": [
      "(11796, 14)\n",
      "(4627, 14)\n",
      "Dropped 7169 duplicate entries based on title_tokens.\n"
     ]
    },
    {
     "data": {
      "application/vnd.microsoft.datawrangler.viewer.v0+json": {
       "columns": [
        {
         "name": "index",
         "rawType": "int64",
         "type": "integer"
        },
        {
         "name": "source_citation",
         "rawType": "object",
         "type": "string"
        },
        {
         "name": "source_index_number",
         "rawType": "object",
         "type": "string"
        },
        {
         "name": "title_or_description_from_source",
         "rawType": "object",
         "type": "string"
        },
        {
         "name": "year",
         "rawType": "float64",
         "type": "float"
        },
        {
         "name": "month",
         "rawType": "float64",
         "type": "float"
        },
        {
         "name": "day",
         "rawType": "float64",
         "type": "float"
        },
        {
         "name": "congress",
         "rawType": "float64",
         "type": "float"
        },
        {
         "name": "congressional_session",
         "rawType": "object",
         "type": "unknown"
        },
        {
         "name": "joint_resolution_chamber",
         "rawType": "object",
         "type": "unknown"
        },
        {
         "name": "joint_resolution_number",
         "rawType": "float64",
         "type": "float"
        },
        {
         "name": "sponsor_name",
         "rawType": "object",
         "type": "unknown"
        },
        {
         "name": "sponsor_state_or_territory",
         "rawType": "object",
         "type": "unknown"
        },
        {
         "name": "committee_of_referral",
         "rawType": "object",
         "type": "unknown"
        },
        {
         "name": "title_tokens",
         "rawType": "object",
         "type": "unknown"
        }
       ],
       "ref": "d67a453e-07fd-4c95-8da9-f72b0c8500f0",
       "rows": [
        [
         "7",
         "Ames, Herman V. The Proposed Amendments to the Constitution of the United States During the First Century of Its History, American Historical Society Annual Report for the year 1896; H. Doc. 353 part 2, 54th Cong., 2d Session, volume 3550-2, Washington: U.S. Government Printing Office, 1897.",
         "8",
         "Trial by jury in civil action",
         "1788.0",
         null,
         null,
         null,
         null,
         null,
         null,
         null,
         null,
         null,
         "['trial', 'by', 'jury', 'in', 'civil', 'action']"
        ],
        [
         "20",
         "Ames, Herman V. The Proposed Amendments to the Constitution of the United States During the First Century of Its History, American Historical Society Annual Report for the year 1896; H. Doc. 353 part 2, 54th Cong., 2d Session, volume 3550-2, Washington: U.S. Government Printing Office, 1897.",
         "21",
         "Trial by jury in civil cases",
         "1788.0",
         null,
         null,
         null,
         null,
         null,
         null,
         null,
         null,
         null,
         "['trial', 'by', 'jury', 'in', 'civil', 'cases']"
        ],
        [
         "23",
         "Ames, Herman V. The Proposed Amendments to the Constitution of the United States During the First Century of Its History, American Historical Society Annual Report for the year 1896; H. Doc. 353 part 2, 54th Cong., 2d Session, volume 3550-2, Washington: U.S. Government Printing Office, 1897.",
         "24",
         "Religion",
         "1788.0",
         null,
         null,
         null,
         null,
         null,
         null,
         null,
         null,
         null,
         "['religion']"
        ],
        [
         "29",
         "Ames, Herman V. The Proposed Amendments to the Constitution of the United States During the First Century of Its History, American Historical Society Annual Report for the year 1896; H. Doc. 353 part 2, 54th Cong., 2d Session, volume 3550-2, Washington: U.S. Government Printing Office, 1897.",
         "30",
         "Publication of journals annually",
         "1788.0",
         null,
         null,
         null,
         null,
         null,
         null,
         null,
         null,
         null,
         "['publication', 'of', 'journals', 'annually']"
        ],
        [
         "34",
         "Ames, Herman V. The Proposed Amendments to the Constitution of the United States During the First Century of Its History, American Historical Society Annual Report for the year 1896; H. Doc. 353 part 2, 54th Cong., 2d Session, volume 3550-2, Washington: U.S. Government Printing Office, 1897.",
         "35",
         "Period of enlistment of soldiers limited",
         "1788.0",
         null,
         null,
         null,
         null,
         null,
         null,
         null,
         null,
         null,
         "['period', 'of', 'enlistment', 'of', 'soldiers', 'limited']"
        ]
       ],
       "shape": {
        "columns": 14,
        "rows": 5
       }
      },
      "text/html": [
       "<div>\n",
       "<style scoped>\n",
       "    .dataframe tbody tr th:only-of-type {\n",
       "        vertical-align: middle;\n",
       "    }\n",
       "\n",
       "    .dataframe tbody tr th {\n",
       "        vertical-align: top;\n",
       "    }\n",
       "\n",
       "    .dataframe thead th {\n",
       "        text-align: right;\n",
       "    }\n",
       "</style>\n",
       "<table border=\"1\" class=\"dataframe\">\n",
       "  <thead>\n",
       "    <tr style=\"text-align: right;\">\n",
       "      <th></th>\n",
       "      <th>source_citation</th>\n",
       "      <th>source_index_number</th>\n",
       "      <th>title_or_description_from_source</th>\n",
       "      <th>year</th>\n",
       "      <th>month</th>\n",
       "      <th>day</th>\n",
       "      <th>congress</th>\n",
       "      <th>congressional_session</th>\n",
       "      <th>joint_resolution_chamber</th>\n",
       "      <th>joint_resolution_number</th>\n",
       "      <th>sponsor_name</th>\n",
       "      <th>sponsor_state_or_territory</th>\n",
       "      <th>committee_of_referral</th>\n",
       "      <th>title_tokens</th>\n",
       "    </tr>\n",
       "  </thead>\n",
       "  <tbody>\n",
       "    <tr>\n",
       "      <th>7</th>\n",
       "      <td>Ames, Herman V. The Proposed Amendments to the...</td>\n",
       "      <td>8</td>\n",
       "      <td>Trial by jury in civil action</td>\n",
       "      <td>1788.0</td>\n",
       "      <td>NaN</td>\n",
       "      <td>NaN</td>\n",
       "      <td>NaN</td>\n",
       "      <td>NaN</td>\n",
       "      <td>NaN</td>\n",
       "      <td>NaN</td>\n",
       "      <td>NaN</td>\n",
       "      <td>NaN</td>\n",
       "      <td>NaN</td>\n",
       "      <td>[trial, by, jury, in, civil, action]</td>\n",
       "    </tr>\n",
       "    <tr>\n",
       "      <th>20</th>\n",
       "      <td>Ames, Herman V. The Proposed Amendments to the...</td>\n",
       "      <td>21</td>\n",
       "      <td>Trial by jury in civil cases</td>\n",
       "      <td>1788.0</td>\n",
       "      <td>NaN</td>\n",
       "      <td>NaN</td>\n",
       "      <td>NaN</td>\n",
       "      <td>NaN</td>\n",
       "      <td>NaN</td>\n",
       "      <td>NaN</td>\n",
       "      <td>NaN</td>\n",
       "      <td>NaN</td>\n",
       "      <td>NaN</td>\n",
       "      <td>[trial, by, jury, in, civil, cases]</td>\n",
       "    </tr>\n",
       "    <tr>\n",
       "      <th>23</th>\n",
       "      <td>Ames, Herman V. The Proposed Amendments to the...</td>\n",
       "      <td>24</td>\n",
       "      <td>Religion</td>\n",
       "      <td>1788.0</td>\n",
       "      <td>NaN</td>\n",
       "      <td>NaN</td>\n",
       "      <td>NaN</td>\n",
       "      <td>NaN</td>\n",
       "      <td>NaN</td>\n",
       "      <td>NaN</td>\n",
       "      <td>NaN</td>\n",
       "      <td>NaN</td>\n",
       "      <td>NaN</td>\n",
       "      <td>[religion]</td>\n",
       "    </tr>\n",
       "    <tr>\n",
       "      <th>29</th>\n",
       "      <td>Ames, Herman V. The Proposed Amendments to the...</td>\n",
       "      <td>30</td>\n",
       "      <td>Publication of journals annually</td>\n",
       "      <td>1788.0</td>\n",
       "      <td>NaN</td>\n",
       "      <td>NaN</td>\n",
       "      <td>NaN</td>\n",
       "      <td>NaN</td>\n",
       "      <td>NaN</td>\n",
       "      <td>NaN</td>\n",
       "      <td>NaN</td>\n",
       "      <td>NaN</td>\n",
       "      <td>NaN</td>\n",
       "      <td>[publication, of, journals, annually]</td>\n",
       "    </tr>\n",
       "    <tr>\n",
       "      <th>34</th>\n",
       "      <td>Ames, Herman V. The Proposed Amendments to the...</td>\n",
       "      <td>35</td>\n",
       "      <td>Period of enlistment of soldiers limited</td>\n",
       "      <td>1788.0</td>\n",
       "      <td>NaN</td>\n",
       "      <td>NaN</td>\n",
       "      <td>NaN</td>\n",
       "      <td>NaN</td>\n",
       "      <td>NaN</td>\n",
       "      <td>NaN</td>\n",
       "      <td>NaN</td>\n",
       "      <td>NaN</td>\n",
       "      <td>NaN</td>\n",
       "      <td>[period, of, enlistment, of, soldiers, limited]</td>\n",
       "    </tr>\n",
       "  </tbody>\n",
       "</table>\n",
       "</div>"
      ],
      "text/plain": [
       "                                      source_citation source_index_number  \\\n",
       "7   Ames, Herman V. The Proposed Amendments to the...                   8   \n",
       "20  Ames, Herman V. The Proposed Amendments to the...                  21   \n",
       "23  Ames, Herman V. The Proposed Amendments to the...                  24   \n",
       "29  Ames, Herman V. The Proposed Amendments to the...                  30   \n",
       "34  Ames, Herman V. The Proposed Amendments to the...                  35   \n",
       "\n",
       "            title_or_description_from_source    year  month  day  congress  \\\n",
       "7              Trial by jury in civil action  1788.0    NaN  NaN       NaN   \n",
       "20              Trial by jury in civil cases  1788.0    NaN  NaN       NaN   \n",
       "23                                  Religion  1788.0    NaN  NaN       NaN   \n",
       "29          Publication of journals annually  1788.0    NaN  NaN       NaN   \n",
       "34  Period of enlistment of soldiers limited  1788.0    NaN  NaN       NaN   \n",
       "\n",
       "   congressional_session joint_resolution_chamber  joint_resolution_number  \\\n",
       "7                    NaN                      NaN                      NaN   \n",
       "20                   NaN                      NaN                      NaN   \n",
       "23                   NaN                      NaN                      NaN   \n",
       "29                   NaN                      NaN                      NaN   \n",
       "34                   NaN                      NaN                      NaN   \n",
       "\n",
       "   sponsor_name sponsor_state_or_territory committee_of_referral  \\\n",
       "7           NaN                        NaN                   NaN   \n",
       "20          NaN                        NaN                   NaN   \n",
       "23          NaN                        NaN                   NaN   \n",
       "29          NaN                        NaN                   NaN   \n",
       "34          NaN                        NaN                   NaN   \n",
       "\n",
       "                                       title_tokens  \n",
       "7              [trial, by, jury, in, civil, action]  \n",
       "20              [trial, by, jury, in, civil, cases]  \n",
       "23                                       [religion]  \n",
       "29            [publication, of, journals, annually]  \n",
       "34  [period, of, enlistment, of, soldiers, limited]  "
      ]
     },
     "execution_count": 128,
     "metadata": {},
     "output_type": "execute_result"
    }
   ],
   "source": [
    "# Tokenize the title_or_description_from_source column\n",
    "data['title_tokens'] = data['title_or_description_from_source'].apply(\n",
    "\tlambda x: nltk.word_tokenize(x.lower()) if isinstance(x, str) else []\n",
    ")\n",
    "\n",
    "# Drop the duplicates within the 'title_tokens\" column\n",
    "data_unique = data.copy().drop_duplicates(subset='title_tokens', keep='last')\n",
    "\n",
    "'''\n",
    "To make a new csv file with the unique words:\n",
    "data_unique.to_csv('all_proposed_amendments_cleaned.csv', index=False)\n",
    "'''\n",
    "\n",
    "print(data.shape)\n",
    "print(data_unique.shape)\n",
    "print(f'Dropped {data.shape[0] - data_unique.shape[0]} duplicate entries based on title_tokens.')\n",
    "data_unique.head()"
   ]
  },
  {
   "cell_type": "markdown",
   "id": "f95464d6",
   "metadata": {},
   "source": [
    "### Text Analysis Through NLP\n",
    "\n",
    "To understand the core ideas within the proposals, we will perform several NLP steps on the amendment descriptions.\n",
    "\n",
    "* **Preprocessing:** The text is converted to lowercase, and common \"stop words\" (e.g., 'the', 'a', 'in') are removed to focus on meaningful terms.\n",
    "* **Lemmatization:** Words are reduced to their root form (e.g., \"elections\" becomes \"election\") using `spaCy`. This helps in accurately counting the frequency of a core concept regardless of its grammatical form.\n",
    "* **Frequency Analysis:** We will count the occurrences of each lemma to identify the most common words and themes across all proposed amendments."
   ]
  },
  {
   "cell_type": "code",
   "execution_count": 129,
   "id": "973809eb",
   "metadata": {},
   "outputs": [
    {
     "name": "stdout",
     "output_type": "stream",
     "text": [
      "['reservation nondelegated powers', 'apportionment representatives', 'restriction federal control election senators representatives', 'restriction upon levying direct taxes', 'commercial monopolies prohibited', 'indictment grand jury', 'jurisdiction federal courts', 'trial jury civil action', 'titles nobility', 'restriction federal control election senators representatives']\n"
     ]
    }
   ],
   "source": [
    "def preprocess_text_list(data):\n",
    "    processed_list = []\n",
    "    for text in data:\n",
    "        # Tokenize into sentences\n",
    "        tokens = word_tokenize(str(text).lower())\n",
    "        tokens = [word for word in tokens if word.isalpha() and word not in stop_words]\n",
    "        processed_list.append(\" \".join(tokens))\n",
    "    return processed_list\n",
    "processed_texts = preprocess_text_list(data[\"title_or_description_from_source\"])\n",
    "print(processed_texts[:10])"
   ]
  },
  {
   "cell_type": "code",
   "execution_count": 130,
   "id": "47ac8cf1",
   "metadata": {},
   "outputs": [
    {
     "name": "stdout",
     "output_type": "stream",
     "text": [
      "['reservation', 'nondelegated', 'powers', 'apportionment', 'representatives', 'restriction', 'federal', 'control', 'election', 'senators', 'representatives', 'restriction', 'upon', 'levying', 'direct', 'taxes', 'commercial', 'monopolies', 'prohibited', 'indictment', 'grand', 'jury', 'jurisdiction', 'federal', 'courts', 'trial', 'jury', 'civil', 'action', 'titles']\n"
     ]
    }
   ],
   "source": [
    "wordsplit = [word for processed_texts in processed_texts for word in processed_texts.split()]\n",
    "print(wordsplit[:30])"
   ]
  },
  {
   "cell_type": "code",
   "execution_count": 131,
   "id": "8ef66204",
   "metadata": {},
   "outputs": [
    {
     "data": {
      "text/plain": [
       "[('president', 2640),\n",
       " ('states', 2341),\n",
       " ('united', 1839),\n",
       " ('amendment', 1484),\n",
       " ('congress', 1417),\n",
       " ('constitution', 1379),\n",
       " ('rights', 1334),\n",
       " ('election', 1279),\n",
       " ('equal', 1183),\n",
       " ('vice', 1175),\n",
       " ('proposing', 1144),\n",
       " ('public', 873),\n",
       " ('representatives', 855),\n",
       " ('vote', 762),\n",
       " ('right', 758)]"
      ]
     },
     "execution_count": 131,
     "metadata": {},
     "output_type": "execute_result"
    }
   ],
   "source": [
    "freq2 = Counter(wordsplit)\n",
    "freq2.most_common(15)"
   ]
  },
  {
   "cell_type": "code",
   "execution_count": 132,
   "id": "6fb16964",
   "metadata": {},
   "outputs": [],
   "source": [
    "nlp = spacy.load(\"en_core_web_sm\", disable=[\"ner\", \"textcat\"])\n",
    "doc = nlp(\" \".join(wordsplit))"
   ]
  },
  {
   "cell_type": "code",
   "execution_count": 133,
   "id": "07413874",
   "metadata": {},
   "outputs": [
    {
     "name": "stdout",
     "output_type": "stream",
     "text": [
      "['reservation', 'nondelegate', 'power', 'apportionment', 'representative', 'restriction', 'federal', 'control', 'election', 'senator', 'representative', 'restriction', 'upon', 'levy', 'direct', 'taxis', 'commercial', 'monopoly', 'prohibit', 'indictment', 'grand', 'jury', 'jurisdiction', 'federal', 'court', 'trial', 'jury', 'civil', 'action', 'title']\n"
     ]
    }
   ],
   "source": [
    "nlp = spacy.load(\"en_core_web_sm\")\n",
    "lemmas = [token.lemma_ for token in doc]\n",
    "print(lemmas[:30])"
   ]
  },
  {
   "cell_type": "code",
   "execution_count": 134,
   "id": "a95eaaa4",
   "metadata": {},
   "outputs": [
    {
     "data": {
      "text/plain": [
       "[('president', 2648),\n",
       " ('right', 2090),\n",
       " ('states', 1871),\n",
       " ('united', 1832),\n",
       " ('amendment', 1608),\n",
       " ('election', 1417),\n",
       " ('congress', 1417),\n",
       " ('constitution', 1379),\n",
       " ('propose', 1231),\n",
       " ('equal', 1183),\n",
       " ('vice', 1175),\n",
       " ('term', 1157),\n",
       " ('state', 1114),\n",
       " ('provide', 1039),\n",
       " ('public', 873)]"
      ]
     },
     "execution_count": 134,
     "metadata": {},
     "output_type": "execute_result"
    }
   ],
   "source": [
    "freq3 = Counter(lemmas)\n",
    "freq3.most_common(15)"
   ]
  },
  {
   "cell_type": "code",
   "execution_count": 135,
   "id": "e5d5cac8",
   "metadata": {},
   "outputs": [
    {
     "data": {
      "application/vnd.microsoft.datawrangler.viewer.v0+json": {
       "columns": [
        {
         "name": "index",
         "rawType": "int64",
         "type": "integer"
        },
        {
         "name": "word",
         "rawType": "object",
         "type": "string"
        },
        {
         "name": "frequency",
         "rawType": "int64",
         "type": "integer"
        }
       ],
       "ref": "4cce5465-0b5d-444e-9bc9-67828b418de2",
       "rows": [
        [
         "0",
         "president",
         "2648"
        ],
        [
         "1",
         "right",
         "2090"
        ],
        [
         "2",
         "states",
         "1871"
        ],
        [
         "3",
         "united",
         "1832"
        ],
        [
         "4",
         "amendment",
         "1608"
        ],
        [
         "5",
         "election",
         "1417"
        ],
        [
         "6",
         "congress",
         "1417"
        ],
        [
         "7",
         "constitution",
         "1379"
        ],
        [
         "8",
         "propose",
         "1231"
        ],
        [
         "9",
         "equal",
         "1183"
        ],
        [
         "10",
         "vice",
         "1175"
        ],
        [
         "11",
         "term",
         "1157"
        ],
        [
         "12",
         "state",
         "1114"
        ],
        [
         "13",
         "provide",
         "1039"
        ],
        [
         "14",
         "public",
         "873"
        ],
        [
         "15",
         "woman",
         "847"
        ],
        [
         "16",
         "representative",
         "841"
        ],
        [
         "17",
         "vote",
         "820"
        ],
        [
         "18",
         "school",
         "787"
        ],
        [
         "19",
         "office",
         "767"
        ],
        [
         "20",
         "man",
         "734"
        ],
        [
         "21",
         "prayer",
         "721"
        ],
        [
         "22",
         "budget",
         "662"
        ],
        [
         "23",
         "prohibit",
         "607"
        ],
        [
         "24",
         "year",
         "557"
        ],
        [
         "25",
         "member",
         "531"
        ],
        [
         "26",
         "senator",
         "510"
        ],
        [
         "27",
         "popular",
         "507"
        ],
        [
         "28",
         "court",
         "489"
        ],
        [
         "29",
         "power",
         "482"
        ],
        [
         "30",
         "federal",
         "469"
        ],
        [
         "31",
         "limit",
         "457"
        ],
        [
         "32",
         "balance",
         "422"
        ],
        [
         "33",
         "sex",
         "418"
        ],
        [
         "34",
         "regardless",
         "414"
        ],
        [
         "35",
         "relate",
         "399"
        ],
        [
         "36",
         "house",
         "394"
        ],
        [
         "37",
         "district",
         "385"
        ],
        [
         "38",
         "shall",
         "373"
        ],
        [
         "39",
         "apportionment",
         "369"
        ],
        [
         "40",
         "relative",
         "369"
        ],
        [
         "41",
         "judge",
         "366"
        ],
        [
         "42",
         "supreme",
         "358"
        ],
        [
         "43",
         "direct",
         "312"
        ],
        [
         "44",
         "proposal",
         "311"
        ],
        [
         "45",
         "item",
         "310"
        ],
        [
         "46",
         "choice",
         "308"
        ],
        [
         "47",
         "veto",
         "308"
        ],
        [
         "48",
         "tax",
         "302"
        ],
        [
         "49",
         "appropriation",
         "287"
        ]
       ],
       "shape": {
        "columns": 2,
        "rows": 50
       }
      },
      "text/html": [
       "<div>\n",
       "<style scoped>\n",
       "    .dataframe tbody tr th:only-of-type {\n",
       "        vertical-align: middle;\n",
       "    }\n",
       "\n",
       "    .dataframe tbody tr th {\n",
       "        vertical-align: top;\n",
       "    }\n",
       "\n",
       "    .dataframe thead th {\n",
       "        text-align: right;\n",
       "    }\n",
       "</style>\n",
       "<table border=\"1\" class=\"dataframe\">\n",
       "  <thead>\n",
       "    <tr style=\"text-align: right;\">\n",
       "      <th></th>\n",
       "      <th>word</th>\n",
       "      <th>frequency</th>\n",
       "    </tr>\n",
       "  </thead>\n",
       "  <tbody>\n",
       "    <tr>\n",
       "      <th>0</th>\n",
       "      <td>president</td>\n",
       "      <td>2648</td>\n",
       "    </tr>\n",
       "    <tr>\n",
       "      <th>1</th>\n",
       "      <td>right</td>\n",
       "      <td>2090</td>\n",
       "    </tr>\n",
       "    <tr>\n",
       "      <th>2</th>\n",
       "      <td>states</td>\n",
       "      <td>1871</td>\n",
       "    </tr>\n",
       "    <tr>\n",
       "      <th>3</th>\n",
       "      <td>united</td>\n",
       "      <td>1832</td>\n",
       "    </tr>\n",
       "    <tr>\n",
       "      <th>4</th>\n",
       "      <td>amendment</td>\n",
       "      <td>1608</td>\n",
       "    </tr>\n",
       "    <tr>\n",
       "      <th>5</th>\n",
       "      <td>election</td>\n",
       "      <td>1417</td>\n",
       "    </tr>\n",
       "    <tr>\n",
       "      <th>6</th>\n",
       "      <td>congress</td>\n",
       "      <td>1417</td>\n",
       "    </tr>\n",
       "    <tr>\n",
       "      <th>7</th>\n",
       "      <td>constitution</td>\n",
       "      <td>1379</td>\n",
       "    </tr>\n",
       "    <tr>\n",
       "      <th>8</th>\n",
       "      <td>propose</td>\n",
       "      <td>1231</td>\n",
       "    </tr>\n",
       "    <tr>\n",
       "      <th>9</th>\n",
       "      <td>equal</td>\n",
       "      <td>1183</td>\n",
       "    </tr>\n",
       "    <tr>\n",
       "      <th>10</th>\n",
       "      <td>vice</td>\n",
       "      <td>1175</td>\n",
       "    </tr>\n",
       "    <tr>\n",
       "      <th>11</th>\n",
       "      <td>term</td>\n",
       "      <td>1157</td>\n",
       "    </tr>\n",
       "    <tr>\n",
       "      <th>12</th>\n",
       "      <td>state</td>\n",
       "      <td>1114</td>\n",
       "    </tr>\n",
       "    <tr>\n",
       "      <th>13</th>\n",
       "      <td>provide</td>\n",
       "      <td>1039</td>\n",
       "    </tr>\n",
       "    <tr>\n",
       "      <th>14</th>\n",
       "      <td>public</td>\n",
       "      <td>873</td>\n",
       "    </tr>\n",
       "    <tr>\n",
       "      <th>15</th>\n",
       "      <td>woman</td>\n",
       "      <td>847</td>\n",
       "    </tr>\n",
       "    <tr>\n",
       "      <th>16</th>\n",
       "      <td>representative</td>\n",
       "      <td>841</td>\n",
       "    </tr>\n",
       "    <tr>\n",
       "      <th>17</th>\n",
       "      <td>vote</td>\n",
       "      <td>820</td>\n",
       "    </tr>\n",
       "    <tr>\n",
       "      <th>18</th>\n",
       "      <td>school</td>\n",
       "      <td>787</td>\n",
       "    </tr>\n",
       "    <tr>\n",
       "      <th>19</th>\n",
       "      <td>office</td>\n",
       "      <td>767</td>\n",
       "    </tr>\n",
       "    <tr>\n",
       "      <th>20</th>\n",
       "      <td>man</td>\n",
       "      <td>734</td>\n",
       "    </tr>\n",
       "    <tr>\n",
       "      <th>21</th>\n",
       "      <td>prayer</td>\n",
       "      <td>721</td>\n",
       "    </tr>\n",
       "    <tr>\n",
       "      <th>22</th>\n",
       "      <td>budget</td>\n",
       "      <td>662</td>\n",
       "    </tr>\n",
       "    <tr>\n",
       "      <th>23</th>\n",
       "      <td>prohibit</td>\n",
       "      <td>607</td>\n",
       "    </tr>\n",
       "    <tr>\n",
       "      <th>24</th>\n",
       "      <td>year</td>\n",
       "      <td>557</td>\n",
       "    </tr>\n",
       "    <tr>\n",
       "      <th>25</th>\n",
       "      <td>member</td>\n",
       "      <td>531</td>\n",
       "    </tr>\n",
       "    <tr>\n",
       "      <th>26</th>\n",
       "      <td>senator</td>\n",
       "      <td>510</td>\n",
       "    </tr>\n",
       "    <tr>\n",
       "      <th>27</th>\n",
       "      <td>popular</td>\n",
       "      <td>507</td>\n",
       "    </tr>\n",
       "    <tr>\n",
       "      <th>28</th>\n",
       "      <td>court</td>\n",
       "      <td>489</td>\n",
       "    </tr>\n",
       "    <tr>\n",
       "      <th>29</th>\n",
       "      <td>power</td>\n",
       "      <td>482</td>\n",
       "    </tr>\n",
       "    <tr>\n",
       "      <th>30</th>\n",
       "      <td>federal</td>\n",
       "      <td>469</td>\n",
       "    </tr>\n",
       "    <tr>\n",
       "      <th>31</th>\n",
       "      <td>limit</td>\n",
       "      <td>457</td>\n",
       "    </tr>\n",
       "    <tr>\n",
       "      <th>32</th>\n",
       "      <td>balance</td>\n",
       "      <td>422</td>\n",
       "    </tr>\n",
       "    <tr>\n",
       "      <th>33</th>\n",
       "      <td>sex</td>\n",
       "      <td>418</td>\n",
       "    </tr>\n",
       "    <tr>\n",
       "      <th>34</th>\n",
       "      <td>regardless</td>\n",
       "      <td>414</td>\n",
       "    </tr>\n",
       "    <tr>\n",
       "      <th>35</th>\n",
       "      <td>relate</td>\n",
       "      <td>399</td>\n",
       "    </tr>\n",
       "    <tr>\n",
       "      <th>36</th>\n",
       "      <td>house</td>\n",
       "      <td>394</td>\n",
       "    </tr>\n",
       "    <tr>\n",
       "      <th>37</th>\n",
       "      <td>district</td>\n",
       "      <td>385</td>\n",
       "    </tr>\n",
       "    <tr>\n",
       "      <th>38</th>\n",
       "      <td>shall</td>\n",
       "      <td>373</td>\n",
       "    </tr>\n",
       "    <tr>\n",
       "      <th>39</th>\n",
       "      <td>apportionment</td>\n",
       "      <td>369</td>\n",
       "    </tr>\n",
       "    <tr>\n",
       "      <th>40</th>\n",
       "      <td>relative</td>\n",
       "      <td>369</td>\n",
       "    </tr>\n",
       "    <tr>\n",
       "      <th>41</th>\n",
       "      <td>judge</td>\n",
       "      <td>366</td>\n",
       "    </tr>\n",
       "    <tr>\n",
       "      <th>42</th>\n",
       "      <td>supreme</td>\n",
       "      <td>358</td>\n",
       "    </tr>\n",
       "    <tr>\n",
       "      <th>43</th>\n",
       "      <td>direct</td>\n",
       "      <td>312</td>\n",
       "    </tr>\n",
       "    <tr>\n",
       "      <th>44</th>\n",
       "      <td>proposal</td>\n",
       "      <td>311</td>\n",
       "    </tr>\n",
       "    <tr>\n",
       "      <th>45</th>\n",
       "      <td>item</td>\n",
       "      <td>310</td>\n",
       "    </tr>\n",
       "    <tr>\n",
       "      <th>46</th>\n",
       "      <td>choice</td>\n",
       "      <td>308</td>\n",
       "    </tr>\n",
       "    <tr>\n",
       "      <th>47</th>\n",
       "      <td>veto</td>\n",
       "      <td>308</td>\n",
       "    </tr>\n",
       "    <tr>\n",
       "      <th>48</th>\n",
       "      <td>tax</td>\n",
       "      <td>302</td>\n",
       "    </tr>\n",
       "    <tr>\n",
       "      <th>49</th>\n",
       "      <td>appropriation</td>\n",
       "      <td>287</td>\n",
       "    </tr>\n",
       "  </tbody>\n",
       "</table>\n",
       "</div>"
      ],
      "text/plain": [
       "              word  frequency\n",
       "0        president       2648\n",
       "1            right       2090\n",
       "2           states       1871\n",
       "3           united       1832\n",
       "4        amendment       1608\n",
       "5         election       1417\n",
       "6         congress       1417\n",
       "7     constitution       1379\n",
       "8          propose       1231\n",
       "9            equal       1183\n",
       "10            vice       1175\n",
       "11            term       1157\n",
       "12           state       1114\n",
       "13         provide       1039\n",
       "14          public        873\n",
       "15           woman        847\n",
       "16  representative        841\n",
       "17            vote        820\n",
       "18          school        787\n",
       "19          office        767\n",
       "20             man        734\n",
       "21          prayer        721\n",
       "22          budget        662\n",
       "23        prohibit        607\n",
       "24            year        557\n",
       "25          member        531\n",
       "26         senator        510\n",
       "27         popular        507\n",
       "28           court        489\n",
       "29           power        482\n",
       "30         federal        469\n",
       "31           limit        457\n",
       "32         balance        422\n",
       "33             sex        418\n",
       "34      regardless        414\n",
       "35          relate        399\n",
       "36           house        394\n",
       "37        district        385\n",
       "38           shall        373\n",
       "39   apportionment        369\n",
       "40        relative        369\n",
       "41           judge        366\n",
       "42         supreme        358\n",
       "43          direct        312\n",
       "44        proposal        311\n",
       "45            item        310\n",
       "46          choice        308\n",
       "47            veto        308\n",
       "48             tax        302\n",
       "49   appropriation        287"
      ]
     },
     "execution_count": 135,
     "metadata": {},
     "output_type": "execute_result"
    }
   ],
   "source": [
    "freq3 = pd.DataFrame(freq3.most_common(50), columns=['word', 'frequency'])\n",
    "freq3"
   ]
  },
  {
   "cell_type": "code",
   "execution_count": 136,
   "id": "48b827b2",
   "metadata": {},
   "outputs": [
    {
     "data": {
      "application/vnd.microsoft.datawrangler.viewer.v0+json": {
       "columns": [
        {
         "name": "index",
         "rawType": "int64",
         "type": "integer"
        },
        {
         "name": "word",
         "rawType": "object",
         "type": "string"
        },
        {
         "name": "frequency",
         "rawType": "int64",
         "type": "integer"
        },
        {
         "name": "Year mostly appear",
         "rawType": "float64",
         "type": "float"
        }
       ],
       "ref": "127958bb-027c-4e29-9188-e62a147a354f",
       "rows": [
        [
         "0",
         "president",
         "2648",
         "1969.0"
        ],
        [
         "1",
         "right",
         "2090",
         "1969.0"
        ],
        [
         "2",
         "states",
         "1871",
         "1993.0"
        ],
        [
         "3",
         "united",
         "1832",
         "1993.0"
        ],
        [
         "4",
         "amendment",
         "1608",
         "1993.0"
        ],
        [
         "5",
         "election",
         "1417",
         "1969.0"
        ],
        [
         "6",
         "congress",
         "1417",
         "1923.0"
        ],
        [
         "7",
         "constitution",
         "1379",
         "1993.0"
        ],
        [
         "8",
         "propose",
         "1231",
         "1861.0"
        ],
        [
         "9",
         "equal",
         "1183",
         "1969.0"
        ],
        [
         "10",
         "vice",
         "1175",
         "1969.0"
        ],
        [
         "11",
         "term",
         "1157",
         "1979.0"
        ],
        [
         "12",
         "state",
         "1114",
         "1965.0"
        ],
        [
         "13",
         "provide",
         "1039",
         "1993.0"
        ],
        [
         "14",
         "public",
         "873",
         "1963.0"
        ],
        [
         "15",
         "woman",
         "847",
         "1917.0"
        ],
        [
         "16",
         "representative",
         "841",
         "1979.0"
        ],
        [
         "17",
         "vote",
         "820",
         "1969.0"
        ],
        [
         "18",
         "school",
         "787",
         "1977.0"
        ],
        [
         "19",
         "office",
         "767",
         "1965.0"
        ],
        [
         "20",
         "man",
         "734",
         "1923.0"
        ],
        [
         "21",
         "prayer",
         "721",
         "1963.0"
        ],
        [
         "22",
         "budget",
         "662",
         "1979.0"
        ],
        [
         "23",
         "prohibit",
         "607",
         "1989.0"
        ],
        [
         "24",
         "year",
         "557",
         "1991.0"
        ],
        [
         "25",
         "member",
         "531",
         "2013.0"
        ],
        [
         "26",
         "senator",
         "510",
         "1979.0"
        ],
        [
         "27",
         "popular",
         "507",
         "1977.0"
        ],
        [
         "28",
         "court",
         "489",
         "1962.0"
        ],
        [
         "29",
         "power",
         "482",
         "1975.0"
        ],
        [
         "30",
         "federal",
         "469",
         "1973.0"
        ],
        [
         "31",
         "limit",
         "457",
         "1989.0"
        ],
        [
         "32",
         "balance",
         "422",
         "2010.0"
        ],
        [
         "33",
         "sex",
         "418",
         "1967.0"
        ],
        [
         "34",
         "regardless",
         "414",
         "1967.0"
        ],
        [
         "35",
         "relate",
         "399",
         null
        ],
        [
         "36",
         "house",
         "394",
         "1969.0"
        ],
        [
         "37",
         "district",
         "385",
         "1967.0"
        ],
        [
         "38",
         "shall",
         "373",
         "1861.0"
        ],
        [
         "39",
         "apportionment",
         "369",
         "1965.0"
        ],
        [
         "40",
         "relative",
         "369",
         "1961.0"
        ],
        [
         "41",
         "judge",
         "366",
         "1789.0"
        ],
        [
         "42",
         "supreme",
         "358",
         "1962.0"
        ],
        [
         "43",
         "direct",
         "312",
         "1969.0"
        ],
        [
         "44",
         "proposal",
         "311",
         "1961.0"
        ],
        [
         "45",
         "item",
         "310",
         "1993.0"
        ],
        [
         "46",
         "choice",
         "308",
         "1826.0"
        ],
        [
         "47",
         "veto",
         "308",
         "1959.0"
        ],
        [
         "48",
         "tax",
         "302",
         "1981.0"
        ],
        [
         "49",
         "appropriation",
         "287",
         "1959.0"
        ]
       ],
       "shape": {
        "columns": 3,
        "rows": 50
       }
      },
      "text/html": [
       "<div>\n",
       "<style scoped>\n",
       "    .dataframe tbody tr th:only-of-type {\n",
       "        vertical-align: middle;\n",
       "    }\n",
       "\n",
       "    .dataframe tbody tr th {\n",
       "        vertical-align: top;\n",
       "    }\n",
       "\n",
       "    .dataframe thead th {\n",
       "        text-align: right;\n",
       "    }\n",
       "</style>\n",
       "<table border=\"1\" class=\"dataframe\">\n",
       "  <thead>\n",
       "    <tr style=\"text-align: right;\">\n",
       "      <th></th>\n",
       "      <th>word</th>\n",
       "      <th>frequency</th>\n",
       "      <th>Year mostly appear</th>\n",
       "    </tr>\n",
       "  </thead>\n",
       "  <tbody>\n",
       "    <tr>\n",
       "      <th>0</th>\n",
       "      <td>president</td>\n",
       "      <td>2648</td>\n",
       "      <td>1969.0</td>\n",
       "    </tr>\n",
       "    <tr>\n",
       "      <th>1</th>\n",
       "      <td>right</td>\n",
       "      <td>2090</td>\n",
       "      <td>1969.0</td>\n",
       "    </tr>\n",
       "    <tr>\n",
       "      <th>2</th>\n",
       "      <td>states</td>\n",
       "      <td>1871</td>\n",
       "      <td>1993.0</td>\n",
       "    </tr>\n",
       "    <tr>\n",
       "      <th>3</th>\n",
       "      <td>united</td>\n",
       "      <td>1832</td>\n",
       "      <td>1993.0</td>\n",
       "    </tr>\n",
       "    <tr>\n",
       "      <th>4</th>\n",
       "      <td>amendment</td>\n",
       "      <td>1608</td>\n",
       "      <td>1993.0</td>\n",
       "    </tr>\n",
       "    <tr>\n",
       "      <th>5</th>\n",
       "      <td>election</td>\n",
       "      <td>1417</td>\n",
       "      <td>1969.0</td>\n",
       "    </tr>\n",
       "    <tr>\n",
       "      <th>6</th>\n",
       "      <td>congress</td>\n",
       "      <td>1417</td>\n",
       "      <td>1923.0</td>\n",
       "    </tr>\n",
       "    <tr>\n",
       "      <th>7</th>\n",
       "      <td>constitution</td>\n",
       "      <td>1379</td>\n",
       "      <td>1993.0</td>\n",
       "    </tr>\n",
       "    <tr>\n",
       "      <th>8</th>\n",
       "      <td>propose</td>\n",
       "      <td>1231</td>\n",
       "      <td>1861.0</td>\n",
       "    </tr>\n",
       "    <tr>\n",
       "      <th>9</th>\n",
       "      <td>equal</td>\n",
       "      <td>1183</td>\n",
       "      <td>1969.0</td>\n",
       "    </tr>\n",
       "    <tr>\n",
       "      <th>10</th>\n",
       "      <td>vice</td>\n",
       "      <td>1175</td>\n",
       "      <td>1969.0</td>\n",
       "    </tr>\n",
       "    <tr>\n",
       "      <th>11</th>\n",
       "      <td>term</td>\n",
       "      <td>1157</td>\n",
       "      <td>1979.0</td>\n",
       "    </tr>\n",
       "    <tr>\n",
       "      <th>12</th>\n",
       "      <td>state</td>\n",
       "      <td>1114</td>\n",
       "      <td>1965.0</td>\n",
       "    </tr>\n",
       "    <tr>\n",
       "      <th>13</th>\n",
       "      <td>provide</td>\n",
       "      <td>1039</td>\n",
       "      <td>1993.0</td>\n",
       "    </tr>\n",
       "    <tr>\n",
       "      <th>14</th>\n",
       "      <td>public</td>\n",
       "      <td>873</td>\n",
       "      <td>1963.0</td>\n",
       "    </tr>\n",
       "    <tr>\n",
       "      <th>15</th>\n",
       "      <td>woman</td>\n",
       "      <td>847</td>\n",
       "      <td>1917.0</td>\n",
       "    </tr>\n",
       "    <tr>\n",
       "      <th>16</th>\n",
       "      <td>representative</td>\n",
       "      <td>841</td>\n",
       "      <td>1979.0</td>\n",
       "    </tr>\n",
       "    <tr>\n",
       "      <th>17</th>\n",
       "      <td>vote</td>\n",
       "      <td>820</td>\n",
       "      <td>1969.0</td>\n",
       "    </tr>\n",
       "    <tr>\n",
       "      <th>18</th>\n",
       "      <td>school</td>\n",
       "      <td>787</td>\n",
       "      <td>1977.0</td>\n",
       "    </tr>\n",
       "    <tr>\n",
       "      <th>19</th>\n",
       "      <td>office</td>\n",
       "      <td>767</td>\n",
       "      <td>1965.0</td>\n",
       "    </tr>\n",
       "    <tr>\n",
       "      <th>20</th>\n",
       "      <td>man</td>\n",
       "      <td>734</td>\n",
       "      <td>1923.0</td>\n",
       "    </tr>\n",
       "    <tr>\n",
       "      <th>21</th>\n",
       "      <td>prayer</td>\n",
       "      <td>721</td>\n",
       "      <td>1963.0</td>\n",
       "    </tr>\n",
       "    <tr>\n",
       "      <th>22</th>\n",
       "      <td>budget</td>\n",
       "      <td>662</td>\n",
       "      <td>1979.0</td>\n",
       "    </tr>\n",
       "    <tr>\n",
       "      <th>23</th>\n",
       "      <td>prohibit</td>\n",
       "      <td>607</td>\n",
       "      <td>1989.0</td>\n",
       "    </tr>\n",
       "    <tr>\n",
       "      <th>24</th>\n",
       "      <td>year</td>\n",
       "      <td>557</td>\n",
       "      <td>1991.0</td>\n",
       "    </tr>\n",
       "    <tr>\n",
       "      <th>25</th>\n",
       "      <td>member</td>\n",
       "      <td>531</td>\n",
       "      <td>2013.0</td>\n",
       "    </tr>\n",
       "    <tr>\n",
       "      <th>26</th>\n",
       "      <td>senator</td>\n",
       "      <td>510</td>\n",
       "      <td>1979.0</td>\n",
       "    </tr>\n",
       "    <tr>\n",
       "      <th>27</th>\n",
       "      <td>popular</td>\n",
       "      <td>507</td>\n",
       "      <td>1977.0</td>\n",
       "    </tr>\n",
       "    <tr>\n",
       "      <th>28</th>\n",
       "      <td>court</td>\n",
       "      <td>489</td>\n",
       "      <td>1962.0</td>\n",
       "    </tr>\n",
       "    <tr>\n",
       "      <th>29</th>\n",
       "      <td>power</td>\n",
       "      <td>482</td>\n",
       "      <td>1975.0</td>\n",
       "    </tr>\n",
       "    <tr>\n",
       "      <th>30</th>\n",
       "      <td>federal</td>\n",
       "      <td>469</td>\n",
       "      <td>1973.0</td>\n",
       "    </tr>\n",
       "    <tr>\n",
       "      <th>31</th>\n",
       "      <td>limit</td>\n",
       "      <td>457</td>\n",
       "      <td>1989.0</td>\n",
       "    </tr>\n",
       "    <tr>\n",
       "      <th>32</th>\n",
       "      <td>balance</td>\n",
       "      <td>422</td>\n",
       "      <td>2010.0</td>\n",
       "    </tr>\n",
       "    <tr>\n",
       "      <th>33</th>\n",
       "      <td>sex</td>\n",
       "      <td>418</td>\n",
       "      <td>1967.0</td>\n",
       "    </tr>\n",
       "    <tr>\n",
       "      <th>34</th>\n",
       "      <td>regardless</td>\n",
       "      <td>414</td>\n",
       "      <td>1967.0</td>\n",
       "    </tr>\n",
       "    <tr>\n",
       "      <th>35</th>\n",
       "      <td>relate</td>\n",
       "      <td>399</td>\n",
       "      <td>NaN</td>\n",
       "    </tr>\n",
       "    <tr>\n",
       "      <th>36</th>\n",
       "      <td>house</td>\n",
       "      <td>394</td>\n",
       "      <td>1969.0</td>\n",
       "    </tr>\n",
       "    <tr>\n",
       "      <th>37</th>\n",
       "      <td>district</td>\n",
       "      <td>385</td>\n",
       "      <td>1967.0</td>\n",
       "    </tr>\n",
       "    <tr>\n",
       "      <th>38</th>\n",
       "      <td>shall</td>\n",
       "      <td>373</td>\n",
       "      <td>1861.0</td>\n",
       "    </tr>\n",
       "    <tr>\n",
       "      <th>39</th>\n",
       "      <td>apportionment</td>\n",
       "      <td>369</td>\n",
       "      <td>1965.0</td>\n",
       "    </tr>\n",
       "    <tr>\n",
       "      <th>40</th>\n",
       "      <td>relative</td>\n",
       "      <td>369</td>\n",
       "      <td>1961.0</td>\n",
       "    </tr>\n",
       "    <tr>\n",
       "      <th>41</th>\n",
       "      <td>judge</td>\n",
       "      <td>366</td>\n",
       "      <td>1789.0</td>\n",
       "    </tr>\n",
       "    <tr>\n",
       "      <th>42</th>\n",
       "      <td>supreme</td>\n",
       "      <td>358</td>\n",
       "      <td>1962.0</td>\n",
       "    </tr>\n",
       "    <tr>\n",
       "      <th>43</th>\n",
       "      <td>direct</td>\n",
       "      <td>312</td>\n",
       "      <td>1969.0</td>\n",
       "    </tr>\n",
       "    <tr>\n",
       "      <th>44</th>\n",
       "      <td>proposal</td>\n",
       "      <td>311</td>\n",
       "      <td>1961.0</td>\n",
       "    </tr>\n",
       "    <tr>\n",
       "      <th>45</th>\n",
       "      <td>item</td>\n",
       "      <td>310</td>\n",
       "      <td>1993.0</td>\n",
       "    </tr>\n",
       "    <tr>\n",
       "      <th>46</th>\n",
       "      <td>choice</td>\n",
       "      <td>308</td>\n",
       "      <td>1826.0</td>\n",
       "    </tr>\n",
       "    <tr>\n",
       "      <th>47</th>\n",
       "      <td>veto</td>\n",
       "      <td>308</td>\n",
       "      <td>1959.0</td>\n",
       "    </tr>\n",
       "    <tr>\n",
       "      <th>48</th>\n",
       "      <td>tax</td>\n",
       "      <td>302</td>\n",
       "      <td>1981.0</td>\n",
       "    </tr>\n",
       "    <tr>\n",
       "      <th>49</th>\n",
       "      <td>appropriation</td>\n",
       "      <td>287</td>\n",
       "      <td>1959.0</td>\n",
       "    </tr>\n",
       "  </tbody>\n",
       "</table>\n",
       "</div>"
      ],
      "text/plain": [
       "              word  frequency  Year mostly appear\n",
       "0        president       2648              1969.0\n",
       "1            right       2090              1969.0\n",
       "2           states       1871              1993.0\n",
       "3           united       1832              1993.0\n",
       "4        amendment       1608              1993.0\n",
       "5         election       1417              1969.0\n",
       "6         congress       1417              1923.0\n",
       "7     constitution       1379              1993.0\n",
       "8          propose       1231              1861.0\n",
       "9            equal       1183              1969.0\n",
       "10            vice       1175              1969.0\n",
       "11            term       1157              1979.0\n",
       "12           state       1114              1965.0\n",
       "13         provide       1039              1993.0\n",
       "14          public        873              1963.0\n",
       "15           woman        847              1917.0\n",
       "16  representative        841              1979.0\n",
       "17            vote        820              1969.0\n",
       "18          school        787              1977.0\n",
       "19          office        767              1965.0\n",
       "20             man        734              1923.0\n",
       "21          prayer        721              1963.0\n",
       "22          budget        662              1979.0\n",
       "23        prohibit        607              1989.0\n",
       "24            year        557              1991.0\n",
       "25          member        531              2013.0\n",
       "26         senator        510              1979.0\n",
       "27         popular        507              1977.0\n",
       "28           court        489              1962.0\n",
       "29           power        482              1975.0\n",
       "30         federal        469              1973.0\n",
       "31           limit        457              1989.0\n",
       "32         balance        422              2010.0\n",
       "33             sex        418              1967.0\n",
       "34      regardless        414              1967.0\n",
       "35          relate        399                 NaN\n",
       "36           house        394              1969.0\n",
       "37        district        385              1967.0\n",
       "38           shall        373              1861.0\n",
       "39   apportionment        369              1965.0\n",
       "40        relative        369              1961.0\n",
       "41           judge        366              1789.0\n",
       "42         supreme        358              1962.0\n",
       "43          direct        312              1969.0\n",
       "44        proposal        311              1961.0\n",
       "45            item        310              1993.0\n",
       "46          choice        308              1826.0\n",
       "47            veto        308              1959.0\n",
       "48             tax        302              1981.0\n",
       "49   appropriation        287              1959.0"
      ]
     },
     "execution_count": 136,
     "metadata": {},
     "output_type": "execute_result"
    }
   ],
   "source": [
    "def most_common_year_from_df(word):\n",
    "    # Filter rows where the word appears in the text\n",
    "    mask = data['title_or_description_from_source'].str.lower().str.contains(r'\\b{}\\b'.format(word), na=False)\n",
    "    years = data.loc[mask, 'year']\n",
    "    if not years.empty:\n",
    "        return years.value_counts().idxmax()\n",
    "    return None\n",
    "\n",
    "freq3[\"Year mostly appear\"] = freq3[\"word\"].apply(most_common_year_from_df)\n",
    "freq3"
   ]
  },
  {
   "cell_type": "code",
   "execution_count": 137,
   "id": "f8889653",
   "metadata": {},
   "outputs": [
    {
     "name": "stdout",
     "output_type": "stream",
     "text": [
      "11796\n"
     ]
    }
   ],
   "source": [
    "number_documents = len(data)\n",
    "print(number_documents)"
   ]
  },
  {
   "cell_type": "code",
   "execution_count": 138,
   "id": "042b2244",
   "metadata": {},
   "outputs": [
    {
     "name": "stdout",
     "output_type": "stream",
     "text": [
      "Number of documents with the word president: 1479\n"
     ]
    }
   ],
   "source": [
    "number_of_documents_with_document = sum(1 for doc in processed_texts if 'president' in word_tokenize(doc))\n",
    "print(\"Number of documents with the word president:\", number_of_documents_with_document)"
   ]
  },
  {
   "cell_type": "code",
   "execution_count": 139,
   "id": "64e3eed6",
   "metadata": {},
   "outputs": [
    {
     "name": "stdout",
     "output_type": "stream",
     "text": [
      "Inverse Document Frequency for 'president': 7.975659229208925\n"
     ]
    }
   ],
   "source": [
    "idf = number_documents/number_of_documents_with_document\n",
    "print(\"Inverse Document Frequency for 'president':\", idf)"
   ]
  },
  {
   "cell_type": "code",
   "execution_count": 140,
   "id": "285c67ac",
   "metadata": {},
   "outputs": [
    {
     "name": "stdout",
     "output_type": "stream",
     "text": [
      "[0, 0, 0, 0, 0, 0, 0, 0, 0, 0, 0, 0, 0, 0, 0, 0, 0, 0, 0, 0, 0, 0, 0, 0, 0, 0, 0, 0, 0, 0, 0, 0, 0, 0, 0, 0, 0, 1, 0, 0, 0, 0, 0, 0, 0, 0, 0, 0, 0, 0, 0, 0, 0, 0, 0, 0, 0, 0, 0, 0, 0, 0, 0, 0, 0, 0, 1, 0, 0, 0, 0, 0, 0, 0, 0, 0, 0, 0, 0, 0, 0, 0, 0, 0, 0, 0, 0, 0, 0, 0, 1, 0, 0, 0, 0, 0, 0, 0, 0, 0, 0, 0, 0, 0, 0, 0, 0, 0, 0, 0, 0, 0, 0, 0, 0, 0, 0, 0, 0, 0]\n"
     ]
    }
   ],
   "source": [
    "tf = [word_tokenize(doc).count('president') for doc in processed_texts]\n",
    "print(tf[:120])"
   ]
  },
  {
   "cell_type": "code",
   "execution_count": 141,
   "id": "4fe3a46e",
   "metadata": {},
   "outputs": [
    {
     "name": "stdout",
     "output_type": "stream",
     "text": [
      "President 0: TF = 0, Doc Length = 3, TF_norm = 0.00, IDF = 7.98, TF-IDF = 0.0000\n",
      "President 1: TF = 0, Doc Length = 2, TF_norm = 0.00, IDF = 7.98, TF-IDF = 0.0000\n",
      "President 2: TF = 0, Doc Length = 6, TF_norm = 0.00, IDF = 7.98, TF-IDF = 0.0000\n",
      "President 3: TF = 0, Doc Length = 5, TF_norm = 0.00, IDF = 7.98, TF-IDF = 0.0000\n",
      "President 4: TF = 0, Doc Length = 3, TF_norm = 0.00, IDF = 7.98, TF-IDF = 0.0000\n",
      "President 5: TF = 0, Doc Length = 3, TF_norm = 0.00, IDF = 7.98, TF-IDF = 0.0000\n",
      "President 6: TF = 0, Doc Length = 3, TF_norm = 0.00, IDF = 7.98, TF-IDF = 0.0000\n",
      "President 7: TF = 0, Doc Length = 4, TF_norm = 0.00, IDF = 7.98, TF-IDF = 0.0000\n",
      "President 8: TF = 0, Doc Length = 2, TF_norm = 0.00, IDF = 7.98, TF-IDF = 0.0000\n",
      "President 9: TF = 0, Doc Length = 6, TF_norm = 0.00, IDF = 7.98, TF-IDF = 0.0000\n",
      "President 10: TF = 0, Doc Length = 3, TF_norm = 0.00, IDF = 7.98, TF-IDF = 0.0000\n",
      "President 11: TF = 0, Doc Length = 5, TF_norm = 0.00, IDF = 7.98, TF-IDF = 0.0000\n",
      "President 12: TF = 0, Doc Length = 1, TF_norm = 0.00, IDF = 7.98, TF-IDF = 0.0000\n",
      "President 13: TF = 0, Doc Length = 3, TF_norm = 0.00, IDF = 7.98, TF-IDF = 0.0000\n",
      "President 14: TF = 0, Doc Length = 2, TF_norm = 0.00, IDF = 7.98, TF-IDF = 0.0000\n",
      "President 15: TF = 0, Doc Length = 6, TF_norm = 0.00, IDF = 7.98, TF-IDF = 0.0000\n",
      "President 16: TF = 0, Doc Length = 5, TF_norm = 0.00, IDF = 7.98, TF-IDF = 0.0000\n",
      "President 17: TF = 0, Doc Length = 3, TF_norm = 0.00, IDF = 7.98, TF-IDF = 0.0000\n",
      "President 18: TF = 0, Doc Length = 3, TF_norm = 0.00, IDF = 7.98, TF-IDF = 0.0000\n",
      "President 19: TF = 0, Doc Length = 3, TF_norm = 0.00, IDF = 7.98, TF-IDF = 0.0000\n",
      "President 20: TF = 0, Doc Length = 4, TF_norm = 0.00, IDF = 7.98, TF-IDF = 0.0000\n",
      "President 21: TF = 0, Doc Length = 2, TF_norm = 0.00, IDF = 7.98, TF-IDF = 0.0000\n",
      "President 22: TF = 0, Doc Length = 4, TF_norm = 0.00, IDF = 7.98, TF-IDF = 0.0000\n",
      "President 23: TF = 0, Doc Length = 1, TF_norm = 0.00, IDF = 7.98, TF-IDF = 0.0000\n",
      "President 24: TF = 0, Doc Length = 3, TF_norm = 0.00, IDF = 7.98, TF-IDF = 0.0000\n",
      "President 25: TF = 0, Doc Length = 3, TF_norm = 0.00, IDF = 7.98, TF-IDF = 0.0000\n",
      "President 26: TF = 0, Doc Length = 2, TF_norm = 0.00, IDF = 7.98, TF-IDF = 0.0000\n",
      "President 27: TF = 0, Doc Length = 5, TF_norm = 0.00, IDF = 7.98, TF-IDF = 0.0000\n",
      "President 28: TF = 0, Doc Length = 6, TF_norm = 0.00, IDF = 7.98, TF-IDF = 0.0000\n",
      "President 29: TF = 0, Doc Length = 3, TF_norm = 0.00, IDF = 7.98, TF-IDF = 0.0000\n",
      "President 30: TF = 0, Doc Length = 3, TF_norm = 0.00, IDF = 7.98, TF-IDF = 0.0000\n"
     ]
    }
   ],
   "source": [
    "tf_idf = []\n",
    "for i, doc in enumerate(processed_texts):\n",
    "    tf_i = word_tokenize(doc).count('president')\n",
    "    doc_length = len(word_tokenize(doc))\n",
    "    if doc_length > 0:\n",
    "        tf_normalized = tf_i / doc_length\n",
    "    else:\n",
    "        tf_normalized = 0\n",
    "    tfidf_value = tf_normalized * idf\n",
    "    tf_idf.append(tfidf_value)\n",
    "    print(f\"President {i}: TF = {tf_i}, Doc Length = {doc_length}, TF_norm = {tf_normalized:.2f}, IDF = {idf:.2f}, TF-IDF = {tfidf_value:.4f}\")\n",
    "    if (i >= 30):\n",
    "        break"
   ]
  },
  {
   "cell_type": "code",
   "execution_count": 142,
   "id": "bdaf608d",
   "metadata": {},
   "outputs": [
    {
     "name": "stdout",
     "output_type": "stream",
     "text": [
      "(11796, 1637)\n"
     ]
    }
   ],
   "source": [
    "from sklearn.feature_extraction.text import TfidfVectorizer\n",
    "stop = stopwords.words('english')\n",
    "tfidfvec = TfidfVectorizer(min_df=2,lowercase=True,stop_words=stop)\n",
    "# min_df=2 means we only consider words that appear in at least 2 documents\n",
    "\n",
    "tfidf_bow = tfidfvec.fit_transform(processed_texts)\n",
    "#print(tfidf_bow.toarray())\n",
    "print(tfidf_bow.shape)"
   ]
  },
  {
   "cell_type": "code",
   "execution_count": 143,
   "id": "01347c71",
   "metadata": {},
   "outputs": [
    {
     "data": {
      "application/vnd.microsoft.datawrangler.viewer.v0+json": {
       "columns": [
        {
         "name": "index",
         "rawType": "int64",
         "type": "integer"
        },
        {
         "name": "abode",
         "rawType": "float64",
         "type": "float"
        },
        {
         "name": "abolish",
         "rawType": "float64",
         "type": "float"
        },
        {
         "name": "abolished",
         "rawType": "float64",
         "type": "float"
        },
        {
         "name": "abolishes",
         "rawType": "float64",
         "type": "float"
        },
        {
         "name": "abolishing",
         "rawType": "float64",
         "type": "float"
        },
        {
         "name": "abolishment",
         "rawType": "float64",
         "type": "float"
        },
        {
         "name": "abolition",
         "rawType": "float64",
         "type": "float"
        },
        {
         "name": "abortion",
         "rawType": "float64",
         "type": "float"
        },
        {
         "name": "abortions",
         "rawType": "float64",
         "type": "float"
        },
        {
         "name": "abridge",
         "rawType": "float64",
         "type": "float"
        },
        {
         "name": "abridged",
         "rawType": "float64",
         "type": "float"
        },
        {
         "name": "abridgement",
         "rawType": "float64",
         "type": "float"
        },
        {
         "name": "abridging",
         "rawType": "float64",
         "type": "float"
        },
        {
         "name": "abridgment",
         "rawType": "float64",
         "type": "float"
        },
        {
         "name": "absenteeism",
         "rawType": "float64",
         "type": "float"
        },
        {
         "name": "acceptance",
         "rawType": "float64",
         "type": "float"
        },
        {
         "name": "access",
         "rawType": "float64",
         "type": "float"
        },
        {
         "name": "accompanied",
         "rawType": "float64",
         "type": "float"
        },
        {
         "name": "according",
         "rawType": "float64",
         "type": "float"
        },
        {
         "name": "account",
         "rawType": "float64",
         "type": "float"
        },
        {
         "name": "accountability",
         "rawType": "float64",
         "type": "float"
        },
        {
         "name": "accounts",
         "rawType": "float64",
         "type": "float"
        },
        {
         "name": "accused",
         "rawType": "float64",
         "type": "float"
        },
        {
         "name": "acknowledge",
         "rawType": "float64",
         "type": "float"
        },
        {
         "name": "acknowledging",
         "rawType": "float64",
         "type": "float"
        },
        {
         "name": "acquired",
         "rawType": "float64",
         "type": "float"
        },
        {
         "name": "acquirement",
         "rawType": "float64",
         "type": "float"
        },
        {
         "name": "act",
         "rawType": "float64",
         "type": "float"
        },
        {
         "name": "acting",
         "rawType": "float64",
         "type": "float"
        },
        {
         "name": "action",
         "rawType": "float64",
         "type": "float"
        },
        {
         "name": "actions",
         "rawType": "float64",
         "type": "float"
        },
        {
         "name": "activities",
         "rawType": "float64",
         "type": "float"
        },
        {
         "name": "activity",
         "rawType": "float64",
         "type": "float"
        },
        {
         "name": "acts",
         "rawType": "float64",
         "type": "float"
        },
        {
         "name": "actual",
         "rawType": "float64",
         "type": "float"
        },
        {
         "name": "additional",
         "rawType": "float64",
         "type": "float"
        },
        {
         "name": "address",
         "rawType": "float64",
         "type": "float"
        },
        {
         "name": "adjournment",
         "rawType": "float64",
         "type": "float"
        },
        {
         "name": "administration",
         "rawType": "float64",
         "type": "float"
        },
        {
         "name": "administrative",
         "rawType": "float64",
         "type": "float"
        },
        {
         "name": "admiralty",
         "rawType": "float64",
         "type": "float"
        },
        {
         "name": "admissibility",
         "rawType": "float64",
         "type": "float"
        },
        {
         "name": "admission",
         "rawType": "float64",
         "type": "float"
        },
        {
         "name": "admissions",
         "rawType": "float64",
         "type": "float"
        },
        {
         "name": "admitted",
         "rawType": "float64",
         "type": "float"
        },
        {
         "name": "admitting",
         "rawType": "float64",
         "type": "float"
        },
        {
         "name": "adopted",
         "rawType": "float64",
         "type": "float"
        },
        {
         "name": "adoption",
         "rawType": "float64",
         "type": "float"
        },
        {
         "name": "adults",
         "rawType": "float64",
         "type": "float"
        },
        {
         "name": "advice",
         "rawType": "float64",
         "type": "float"
        },
        {
         "name": "affairs",
         "rawType": "float64",
         "type": "float"
        },
        {
         "name": "affect",
         "rawType": "float64",
         "type": "float"
        },
        {
         "name": "affecting",
         "rawType": "float64",
         "type": "float"
        },
        {
         "name": "affiliated",
         "rawType": "float64",
         "type": "float"
        },
        {
         "name": "affiliations",
         "rawType": "float64",
         "type": "float"
        },
        {
         "name": "affirm",
         "rawType": "float64",
         "type": "float"
        },
        {
         "name": "affirmation",
         "rawType": "float64",
         "type": "float"
        },
        {
         "name": "affirmative",
         "rawType": "float64",
         "type": "float"
        },
        {
         "name": "affordable",
         "rawType": "float64",
         "type": "float"
        },
        {
         "name": "african",
         "rawType": "float64",
         "type": "float"
        },
        {
         "name": "africans",
         "rawType": "float64",
         "type": "float"
        },
        {
         "name": "age",
         "rawType": "float64",
         "type": "float"
        },
        {
         "name": "aggressive",
         "rawType": "float64",
         "type": "float"
        },
        {
         "name": "agreed",
         "rawType": "float64",
         "type": "float"
        },
        {
         "name": "agreement",
         "rawType": "float64",
         "type": "float"
        },
        {
         "name": "agreements",
         "rawType": "float64",
         "type": "float"
        },
        {
         "name": "agricultural",
         "rawType": "float64",
         "type": "float"
        },
        {
         "name": "agriculture",
         "rawType": "float64",
         "type": "float"
        },
        {
         "name": "aid",
         "rawType": "float64",
         "type": "float"
        },
        {
         "name": "aiding",
         "rawType": "float64",
         "type": "float"
        },
        {
         "name": "alcohol",
         "rawType": "float64",
         "type": "float"
        },
        {
         "name": "alcoholic",
         "rawType": "float64",
         "type": "float"
        },
        {
         "name": "aliens",
         "rawType": "float64",
         "type": "float"
        },
        {
         "name": "allegiance",
         "rawType": "float64",
         "type": "float"
        },
        {
         "name": "allow",
         "rawType": "float64",
         "type": "float"
        },
        {
         "name": "allowing",
         "rawType": "float64",
         "type": "float"
        },
        {
         "name": "ally",
         "rawType": "float64",
         "type": "float"
        },
        {
         "name": "almighty",
         "rawType": "float64",
         "type": "float"
        },
        {
         "name": "also",
         "rawType": "float64",
         "type": "float"
        },
        {
         "name": "alter",
         "rawType": "float64",
         "type": "float"
        },
        {
         "name": "alteration",
         "rawType": "float64",
         "type": "float"
        },
        {
         "name": "altered",
         "rawType": "float64",
         "type": "float"
        },
        {
         "name": "amend",
         "rawType": "float64",
         "type": "float"
        },
        {
         "name": "amended",
         "rawType": "float64",
         "type": "float"
        },
        {
         "name": "amending",
         "rawType": "float64",
         "type": "float"
        },
        {
         "name": "amendment",
         "rawType": "float64",
         "type": "float"
        },
        {
         "name": "amendments",
         "rawType": "float64",
         "type": "float"
        },
        {
         "name": "america",
         "rawType": "float64",
         "type": "float"
        },
        {
         "name": "american",
         "rawType": "float64",
         "type": "float"
        },
        {
         "name": "americans",
         "rawType": "float64",
         "type": "float"
        },
        {
         "name": "among",
         "rawType": "float64",
         "type": "float"
        },
        {
         "name": "amount",
         "rawType": "float64",
         "type": "float"
        },
        {
         "name": "amounts",
         "rawType": "float64",
         "type": "float"
        },
        {
         "name": "anarchical",
         "rawType": "float64",
         "type": "float"
        },
        {
         "name": "ancestry",
         "rawType": "float64",
         "type": "float"
        },
        {
         "name": "annexation",
         "rawType": "float64",
         "type": "float"
        },
        {
         "name": "announces",
         "rawType": "float64",
         "type": "float"
        },
        {
         "name": "annual",
         "rawType": "float64",
         "type": "float"
        },
        {
         "name": "annually",
         "rawType": "float64",
         "type": "float"
        },
        {
         "name": "another",
         "rawType": "float64",
         "type": "float"
        },
        {
         "name": "anyone",
         "rawType": "float64",
         "type": "float"
        },
        {
         "name": "appeal",
         "rawType": "float64",
         "type": "float"
        },
        {
         "name": "appeals",
         "rawType": "float64",
         "type": "float"
        },
        {
         "name": "appellate",
         "rawType": "float64",
         "type": "float"
        },
        {
         "name": "application",
         "rawType": "float64",
         "type": "float"
        },
        {
         "name": "apply",
         "rawType": "float64",
         "type": "float"
        },
        {
         "name": "applying",
         "rawType": "float64",
         "type": "float"
        },
        {
         "name": "appoint",
         "rawType": "float64",
         "type": "float"
        },
        {
         "name": "appointed",
         "rawType": "float64",
         "type": "float"
        },
        {
         "name": "appointees",
         "rawType": "float64",
         "type": "float"
        },
        {
         "name": "appointing",
         "rawType": "float64",
         "type": "float"
        },
        {
         "name": "appointment",
         "rawType": "float64",
         "type": "float"
        },
        {
         "name": "appointments",
         "rawType": "float64",
         "type": "float"
        },
        {
         "name": "apportion",
         "rawType": "float64",
         "type": "float"
        },
        {
         "name": "apportioned",
         "rawType": "float64",
         "type": "float"
        },
        {
         "name": "apportionment",
         "rawType": "float64",
         "type": "float"
        },
        {
         "name": "appropriation",
         "rawType": "float64",
         "type": "float"
        },
        {
         "name": "appropriations",
         "rawType": "float64",
         "type": "float"
        },
        {
         "name": "approval",
         "rawType": "float64",
         "type": "float"
        },
        {
         "name": "approve",
         "rawType": "float64",
         "type": "float"
        },
        {
         "name": "approved",
         "rawType": "float64",
         "type": "float"
        },
        {
         "name": "april",
         "rawType": "float64",
         "type": "float"
        },
        {
         "name": "area",
         "rawType": "float64",
         "type": "float"
        },
        {
         "name": "areas",
         "rawType": "float64",
         "type": "float"
        },
        {
         "name": "armed",
         "rawType": "float64",
         "type": "float"
        },
        {
         "name": "arms",
         "rawType": "float64",
         "type": "float"
        },
        {
         "name": "army",
         "rawType": "float64",
         "type": "float"
        },
        {
         "name": "article",
         "rawType": "float64",
         "type": "float"
        },
        {
         "name": "articles",
         "rawType": "float64",
         "type": "float"
        },
        {
         "name": "aside",
         "rawType": "float64",
         "type": "float"
        },
        {
         "name": "assemble",
         "rawType": "float64",
         "type": "float"
        },
        {
         "name": "assembling",
         "rawType": "float64",
         "type": "float"
        },
        {
         "name": "assembly",
         "rawType": "float64",
         "type": "float"
        },
        {
         "name": "assessed",
         "rawType": "float64",
         "type": "float"
        },
        {
         "name": "assign",
         "rawType": "float64",
         "type": "float"
        },
        {
         "name": "assignment",
         "rawType": "float64",
         "type": "float"
        },
        {
         "name": "assistance",
         "rawType": "float64",
         "type": "float"
        },
        {
         "name": "association",
         "rawType": "float64",
         "type": "float"
        },
        {
         "name": "athletic",
         "rawType": "float64",
         "type": "float"
        },
        {
         "name": "attained",
         "rawType": "float64",
         "type": "float"
        },
        {
         "name": "attempting",
         "rawType": "float64",
         "type": "float"
        },
        {
         "name": "attend",
         "rawType": "float64",
         "type": "float"
        },
        {
         "name": "attendance",
         "rawType": "float64",
         "type": "float"
        },
        {
         "name": "attending",
         "rawType": "float64",
         "type": "float"
        },
        {
         "name": "attorney",
         "rawType": "float64",
         "type": "float"
        },
        {
         "name": "attorneys",
         "rawType": "float64",
         "type": "float"
        },
        {
         "name": "authorities",
         "rawType": "float64",
         "type": "float"
        },
        {
         "name": "authority",
         "rawType": "float64",
         "type": "float"
        },
        {
         "name": "authorization",
         "rawType": "float64",
         "type": "float"
        },
        {
         "name": "authorize",
         "rawType": "float64",
         "type": "float"
        },
        {
         "name": "authorized",
         "rawType": "float64",
         "type": "float"
        },
        {
         "name": "authorizes",
         "rawType": "float64",
         "type": "float"
        },
        {
         "name": "authorizing",
         "rawType": "float64",
         "type": "float"
        },
        {
         "name": "automatic",
         "rawType": "float64",
         "type": "float"
        },
        {
         "name": "away",
         "rawType": "float64",
         "type": "float"
        },
        {
         "name": "back",
         "rawType": "float64",
         "type": "float"
        },
        {
         "name": "balance",
         "rawType": "float64",
         "type": "float"
        },
        {
         "name": "balanced",
         "rawType": "float64",
         "type": "float"
        },
        {
         "name": "balances",
         "rawType": "float64",
         "type": "float"
        },
        {
         "name": "balancing",
         "rawType": "float64",
         "type": "float"
        },
        {
         "name": "ballots",
         "rawType": "float64",
         "type": "float"
        },
        {
         "name": "bank",
         "rawType": "float64",
         "type": "float"
        },
        {
         "name": "bankruptcy",
         "rawType": "float64",
         "type": "float"
        },
        {
         "name": "barring",
         "rawType": "float64",
         "type": "float"
        },
        {
         "name": "based",
         "rawType": "float64",
         "type": "float"
        },
        {
         "name": "basis",
         "rawType": "float64",
         "type": "float"
        },
        {
         "name": "bear",
         "rawType": "float64",
         "type": "float"
        },
        {
         "name": "become",
         "rawType": "float64",
         "type": "float"
        },
        {
         "name": "beer",
         "rawType": "float64",
         "type": "float"
        },
        {
         "name": "beers",
         "rawType": "float64",
         "type": "float"
        },
        {
         "name": "begin",
         "rawType": "float64",
         "type": "float"
        },
        {
         "name": "beginning",
         "rawType": "float64",
         "type": "float"
        },
        {
         "name": "benefits",
         "rawType": "float64",
         "type": "float"
        },
        {
         "name": "bestowed",
         "rawType": "float64",
         "type": "float"
        },
        {
         "name": "beverages",
         "rawType": "float64",
         "type": "float"
        },
        {
         "name": "beyond",
         "rawType": "float64",
         "type": "float"
        },
        {
         "name": "bible",
         "rawType": "float64",
         "type": "float"
        },
        {
         "name": "bigamy",
         "rawType": "float64",
         "type": "float"
        },
        {
         "name": "bill",
         "rawType": "float64",
         "type": "float"
        },
        {
         "name": "bills",
         "rawType": "float64",
         "type": "float"
        },
        {
         "name": "birth",
         "rawType": "float64",
         "type": "float"
        },
        {
         "name": "blessings",
         "rawType": "float64",
         "type": "float"
        },
        {
         "name": "blood",
         "rawType": "float64",
         "type": "float"
        },
        {
         "name": "board",
         "rawType": "float64",
         "type": "float"
        },
        {
         "name": "bodies",
         "rawType": "float64",
         "type": "float"
        },
        {
         "name": "body",
         "rawType": "float64",
         "type": "float"
        },
        {
         "name": "bonus",
         "rawType": "float64",
         "type": "float"
        },
        {
         "name": "born",
         "rawType": "float64",
         "type": "float"
        },
        {
         "name": "borrow",
         "rawType": "float64",
         "type": "float"
        },
        {
         "name": "borrowing",
         "rawType": "float64",
         "type": "float"
        },
        {
         "name": "boundaries",
         "rawType": "float64",
         "type": "float"
        },
        {
         "name": "branch",
         "rawType": "float64",
         "type": "float"
        },
        {
         "name": "branches",
         "rawType": "float64",
         "type": "float"
        },
        {
         "name": "bring",
         "rawType": "float64",
         "type": "float"
        },
        {
         "name": "bringing",
         "rawType": "float64",
         "type": "float"
        },
        {
         "name": "brought",
         "rawType": "float64",
         "type": "float"
        },
        {
         "name": "budget",
         "rawType": "float64",
         "type": "float"
        },
        {
         "name": "budgetary",
         "rawType": "float64",
         "type": "float"
        },
        {
         "name": "budgets",
         "rawType": "float64",
         "type": "float"
        },
        {
         "name": "buildings",
         "rawType": "float64",
         "type": "float"
        },
        {
         "name": "business",
         "rawType": "float64",
         "type": "float"
        },
        {
         "name": "busing",
         "rawType": "float64",
         "type": "float"
        },
        {
         "name": "buy",
         "rawType": "float64",
         "type": "float"
        },
        {
         "name": "cabinet",
         "rawType": "float64",
         "type": "float"
        },
        {
         "name": "calendar",
         "rawType": "float64",
         "type": "float"
        },
        {
         "name": "call",
         "rawType": "float64",
         "type": "float"
        },
        {
         "name": "calling",
         "rawType": "float64",
         "type": "float"
        },
        {
         "name": "campaign",
         "rawType": "float64",
         "type": "float"
        },
        {
         "name": "campaigns",
         "rawType": "float64",
         "type": "float"
        },
        {
         "name": "canals",
         "rawType": "float64",
         "type": "float"
        },
        {
         "name": "candidate",
         "rawType": "float64",
         "type": "float"
        },
        {
         "name": "candidates",
         "rawType": "float64",
         "type": "float"
        },
        {
         "name": "canvass",
         "rawType": "float64",
         "type": "float"
        },
        {
         "name": "capable",
         "rawType": "float64",
         "type": "float"
        },
        {
         "name": "capita",
         "rawType": "float64",
         "type": "float"
        },
        {
         "name": "capital",
         "rawType": "float64",
         "type": "float"
        },
        {
         "name": "capitalism",
         "rawType": "float64",
         "type": "float"
        },
        {
         "name": "capitation",
         "rawType": "float64",
         "type": "float"
        },
        {
         "name": "care",
         "rawType": "float64",
         "type": "float"
        },
        {
         "name": "carry",
         "rawType": "float64",
         "type": "float"
        },
        {
         "name": "carrying",
         "rawType": "float64",
         "type": "float"
        },
        {
         "name": "case",
         "rawType": "float64",
         "type": "float"
        },
        {
         "name": "cases",
         "rawType": "float64",
         "type": "float"
        },
        {
         "name": "cast",
         "rawType": "float64",
         "type": "float"
        },
        {
         "name": "caused",
         "rawType": "float64",
         "type": "float"
        },
        {
         "name": "causes",
         "rawType": "float64",
         "type": "float"
        },
        {
         "name": "census",
         "rawType": "float64",
         "type": "float"
        },
        {
         "name": "cent",
         "rawType": "float64",
         "type": "float"
        },
        {
         "name": "centum",
         "rawType": "float64",
         "type": "float"
        },
        {
         "name": "ceremonies",
         "rawType": "float64",
         "type": "float"
        },
        {
         "name": "certain",
         "rawType": "float64",
         "type": "float"
        },
        {
         "name": "certification",
         "rawType": "float64",
         "type": "float"
        },
        {
         "name": "change",
         "rawType": "float64",
         "type": "float"
        },
        {
         "name": "changed",
         "rawType": "float64",
         "type": "float"
        },
        {
         "name": "changes",
         "rawType": "float64",
         "type": "float"
        },
        {
         "name": "changing",
         "rawType": "float64",
         "type": "float"
        },
        {
         "name": "charged",
         "rawType": "float64",
         "type": "float"
        },
        {
         "name": "chartering",
         "rawType": "float64",
         "type": "float"
        },
        {
         "name": "checks",
         "rawType": "float64",
         "type": "float"
        },
        {
         "name": "chief",
         "rawType": "float64",
         "type": "float"
        },
        {
         "name": "child",
         "rawType": "float64",
         "type": "float"
        },
        {
         "name": "children",
         "rawType": "float64",
         "type": "float"
        },
        {
         "name": "choice",
         "rawType": "float64",
         "type": "float"
        },
        {
         "name": "choose",
         "rawType": "float64",
         "type": "float"
        },
        {
         "name": "chooses",
         "rawType": "float64",
         "type": "float"
        },
        {
         "name": "choosing",
         "rawType": "float64",
         "type": "float"
        },
        {
         "name": "chosen",
         "rawType": "float64",
         "type": "float"
        },
        {
         "name": "christ",
         "rawType": "float64",
         "type": "float"
        },
        {
         "name": "church",
         "rawType": "float64",
         "type": "float"
        },
        {
         "name": "circuit",
         "rawType": "float64",
         "type": "float"
        },
        {
         "name": "circumstances",
         "rawType": "float64",
         "type": "float"
        },
        {
         "name": "citizen",
         "rawType": "float64",
         "type": "float"
        },
        {
         "name": "citizens",
         "rawType": "float64",
         "type": "float"
        },
        {
         "name": "citizenship",
         "rawType": "float64",
         "type": "float"
        },
        {
         "name": "civil",
         "rawType": "float64",
         "type": "float"
        },
        {
         "name": "claims",
         "rawType": "float64",
         "type": "float"
        },
        {
         "name": "clarify",
         "rawType": "float64",
         "type": "float"
        },
        {
         "name": "classes",
         "rawType": "float64",
         "type": "float"
        },
        {
         "name": "clause",
         "rawType": "float64",
         "type": "float"
        },
        {
         "name": "clauses",
         "rawType": "float64",
         "type": "float"
        },
        {
         "name": "clean",
         "rawType": "float64",
         "type": "float"
        },
        {
         "name": "closing",
         "rawType": "float64",
         "type": "float"
        },
        {
         "name": "collect",
         "rawType": "float64",
         "type": "float"
        },
        {
         "name": "collected",
         "rawType": "float64",
         "type": "float"
        },
        {
         "name": "collection",
         "rawType": "float64",
         "type": "float"
        },
        {
         "name": "collectors",
         "rawType": "float64",
         "type": "float"
        },
        {
         "name": "college",
         "rawType": "float64",
         "type": "float"
        },
        {
         "name": "colonization",
         "rawType": "float64",
         "type": "float"
        },
        {
         "name": "color",
         "rawType": "float64",
         "type": "float"
        },
        {
         "name": "colored",
         "rawType": "float64",
         "type": "float"
        },
        {
         "name": "columbia",
         "rawType": "float64",
         "type": "float"
        },
        {
         "name": "combinations",
         "rawType": "float64",
         "type": "float"
        },
        {
         "name": "commander",
         "rawType": "float64",
         "type": "float"
        },
        {
         "name": "commence",
         "rawType": "float64",
         "type": "float"
        },
        {
         "name": "commencement",
         "rawType": "float64",
         "type": "float"
        },
        {
         "name": "commerce",
         "rawType": "float64",
         "type": "float"
        },
        {
         "name": "commercial",
         "rawType": "float64",
         "type": "float"
        },
        {
         "name": "commission",
         "rawType": "float64",
         "type": "float"
        },
        {
         "name": "commit",
         "rawType": "float64",
         "type": "float"
        },
        {
         "name": "committee",
         "rawType": "float64",
         "type": "float"
        },
        {
         "name": "commodities",
         "rawType": "float64",
         "type": "float"
        },
        {
         "name": "common",
         "rawType": "float64",
         "type": "float"
        },
        {
         "name": "commonwealth",
         "rawType": "float64",
         "type": "float"
        },
        {
         "name": "commonwealths",
         "rawType": "float64",
         "type": "float"
        },
        {
         "name": "companies",
         "rawType": "float64",
         "type": "float"
        },
        {
         "name": "compel",
         "rawType": "float64",
         "type": "float"
        },
        {
         "name": "compelling",
         "rawType": "float64",
         "type": "float"
        },
        {
         "name": "compensate",
         "rawType": "float64",
         "type": "float"
        },
        {
         "name": "compensation",
         "rawType": "float64",
         "type": "float"
        },
        {
         "name": "competition",
         "rawType": "float64",
         "type": "float"
        },
        {
         "name": "completion",
         "rawType": "float64",
         "type": "float"
        },
        {
         "name": "composition",
         "rawType": "float64",
         "type": "float"
        },
        {
         "name": "compulsion",
         "rawType": "float64",
         "type": "float"
        },
        {
         "name": "compulsory",
         "rawType": "float64",
         "type": "float"
        },
        {
         "name": "concealed",
         "rawType": "float64",
         "type": "float"
        },
        {
         "name": "concerning",
         "rawType": "float64",
         "type": "float"
        },
        {
         "name": "conclusion",
         "rawType": "float64",
         "type": "float"
        },
        {
         "name": "concur",
         "rawType": "float64",
         "type": "float"
        },
        {
         "name": "concurred",
         "rawType": "float64",
         "type": "float"
        },
        {
         "name": "concurrence",
         "rawType": "float64",
         "type": "float"
        },
        {
         "name": "concurrent",
         "rawType": "float64",
         "type": "float"
        },
        {
         "name": "concurrently",
         "rawType": "float64",
         "type": "float"
        },
        {
         "name": "conditions",
         "rawType": "float64",
         "type": "float"
        },
        {
         "name": "conduct",
         "rawType": "float64",
         "type": "float"
        },
        {
         "name": "confer",
         "rawType": "float64",
         "type": "float"
        },
        {
         "name": "conferring",
         "rawType": "float64",
         "type": "float"
        },
        {
         "name": "confessions",
         "rawType": "float64",
         "type": "float"
        },
        {
         "name": "confidence",
         "rawType": "float64",
         "type": "float"
        },
        {
         "name": "confirmation",
         "rawType": "float64",
         "type": "float"
        },
        {
         "name": "confirmed",
         "rawType": "float64",
         "type": "float"
        },
        {
         "name": "conflict",
         "rawType": "float64",
         "type": "float"
        },
        {
         "name": "conflicting",
         "rawType": "float64",
         "type": "float"
        },
        {
         "name": "conflicts",
         "rawType": "float64",
         "type": "float"
        },
        {
         "name": "congress",
         "rawType": "float64",
         "type": "float"
        },
        {
         "name": "congressional",
         "rawType": "float64",
         "type": "float"
        },
        {
         "name": "congressmen",
         "rawType": "float64",
         "type": "float"
        },
        {
         "name": "connected",
         "rawType": "float64",
         "type": "float"
        },
        {
         "name": "connection",
         "rawType": "float64",
         "type": "float"
        },
        {
         "name": "conscience",
         "rawType": "float64",
         "type": "float"
        },
        {
         "name": "consciences",
         "rawType": "float64",
         "type": "float"
        },
        {
         "name": "conscript",
         "rawType": "float64",
         "type": "float"
        },
        {
         "name": "conscripted",
         "rawType": "float64",
         "type": "float"
        },
        {
         "name": "conscripting",
         "rawType": "float64",
         "type": "float"
        },
        {
         "name": "conscription",
         "rawType": "float64",
         "type": "float"
        },
        {
         "name": "consecutive",
         "rawType": "float64",
         "type": "float"
        },
        {
         "name": "consent",
         "rawType": "float64",
         "type": "float"
        },
        {
         "name": "conservation",
         "rawType": "float64",
         "type": "float"
        },
        {
         "name": "consider",
         "rawType": "float64",
         "type": "float"
        },
        {
         "name": "considered",
         "rawType": "float64",
         "type": "float"
        },
        {
         "name": "considering",
         "rawType": "float64",
         "type": "float"
        },
        {
         "name": "constitution",
         "rawType": "float64",
         "type": "float"
        },
        {
         "name": "constitutional",
         "rawType": "float64",
         "type": "float"
        },
        {
         "name": "constitutionality",
         "rawType": "float64",
         "type": "float"
        },
        {
         "name": "construction",
         "rawType": "float64",
         "type": "float"
        },
        {
         "name": "construe",
         "rawType": "float64",
         "type": "float"
        },
        {
         "name": "construed",
         "rawType": "float64",
         "type": "float"
        },
        {
         "name": "containing",
         "rawType": "float64",
         "type": "float"
        },
        {
         "name": "content",
         "rawType": "float64",
         "type": "float"
        },
        {
         "name": "contested",
         "rawType": "float64",
         "type": "float"
        },
        {
         "name": "contests",
         "rawType": "float64",
         "type": "float"
        },
        {
         "name": "continuance",
         "rawType": "float64",
         "type": "float"
        },
        {
         "name": "continuing",
         "rawType": "float64",
         "type": "float"
        },
        {
         "name": "contract",
         "rawType": "float64",
         "type": "float"
        },
        {
         "name": "contracting",
         "rawType": "float64",
         "type": "float"
        },
        {
         "name": "contractors",
         "rawType": "float64",
         "type": "float"
        },
        {
         "name": "contracts",
         "rawType": "float64",
         "type": "float"
        },
        {
         "name": "contrary",
         "rawType": "float64",
         "type": "float"
        },
        {
         "name": "contributions",
         "rawType": "float64",
         "type": "float"
        },
        {
         "name": "control",
         "rawType": "float64",
         "type": "float"
        },
        {
         "name": "convene",
         "rawType": "float64",
         "type": "float"
        },
        {
         "name": "convening",
         "rawType": "float64",
         "type": "float"
        },
        {
         "name": "convention",
         "rawType": "float64",
         "type": "float"
        },
        {
         "name": "conventions",
         "rawType": "float64",
         "type": "float"
        },
        {
         "name": "convict",
         "rawType": "float64",
         "type": "float"
        },
        {
         "name": "convicted",
         "rawType": "float64",
         "type": "float"
        },
        {
         "name": "conviction",
         "rawType": "float64",
         "type": "float"
        },
        {
         "name": "convictions",
         "rawType": "float64",
         "type": "float"
        },
        {
         "name": "coordinate",
         "rawType": "float64",
         "type": "float"
        },
        {
         "name": "corporate",
         "rawType": "float64",
         "type": "float"
        },
        {
         "name": "corporation",
         "rawType": "float64",
         "type": "float"
        },
        {
         "name": "corporations",
         "rawType": "float64",
         "type": "float"
        },
        {
         "name": "corrosive",
         "rawType": "float64",
         "type": "float"
        },
        {
         "name": "cost",
         "rawType": "float64",
         "type": "float"
        },
        {
         "name": "cotton",
         "rawType": "float64",
         "type": "float"
        },
        {
         "name": "council",
         "rawType": "float64",
         "type": "float"
        },
        {
         "name": "count",
         "rawType": "float64",
         "type": "float"
        },
        {
         "name": "counted",
         "rawType": "float64",
         "type": "float"
        },
        {
         "name": "counting",
         "rawType": "float64",
         "type": "float"
        },
        {
         "name": "country",
         "rawType": "float64",
         "type": "float"
        },
        {
         "name": "counts",
         "rawType": "float64",
         "type": "float"
        },
        {
         "name": "county",
         "rawType": "float64",
         "type": "float"
        },
        {
         "name": "court",
         "rawType": "float64",
         "type": "float"
        },
        {
         "name": "courts",
         "rawType": "float64",
         "type": "float"
        },
        {
         "name": "creating",
         "rawType": "float64",
         "type": "float"
        },
        {
         "name": "creation",
         "rawType": "float64",
         "type": "float"
        },
        {
         "name": "credit",
         "rawType": "float64",
         "type": "float"
        },
        {
         "name": "credits",
         "rawType": "float64",
         "type": "float"
        },
        {
         "name": "creed",
         "rawType": "float64",
         "type": "float"
        },
        {
         "name": "crime",
         "rawType": "float64",
         "type": "float"
        },
        {
         "name": "crimes",
         "rawType": "float64",
         "type": "float"
        },
        {
         "name": "criminal",
         "rawType": "float64",
         "type": "float"
        },
        {
         "name": "crittenden",
         "rawType": "float64",
         "type": "float"
        },
        {
         "name": "cultural",
         "rawType": "float64",
         "type": "float"
        },
        {
         "name": "currency",
         "rawType": "float64",
         "type": "float"
        },
        {
         "name": "daily",
         "rawType": "float64",
         "type": "float"
        },
        {
         "name": "date",
         "rawType": "float64",
         "type": "float"
        },
        {
         "name": "day",
         "rawType": "float64",
         "type": "float"
        },
        {
         "name": "days",
         "rawType": "float64",
         "type": "float"
        },
        {
         "name": "death",
         "rawType": "float64",
         "type": "float"
        },
        {
         "name": "debate",
         "rawType": "float64",
         "type": "float"
        },
        {
         "name": "debates",
         "rawType": "float64",
         "type": "float"
        },
        {
         "name": "debt",
         "rawType": "float64",
         "type": "float"
        },
        {
         "name": "debts",
         "rawType": "float64",
         "type": "float"
        },
        {
         "name": "december",
         "rawType": "float64",
         "type": "float"
        },
        {
         "name": "decennial",
         "rawType": "float64",
         "type": "float"
        },
        {
         "name": "decennially",
         "rawType": "float64",
         "type": "float"
        },
        {
         "name": "decent",
         "rawType": "float64",
         "type": "float"
        },
        {
         "name": "decide",
         "rawType": "float64",
         "type": "float"
        },
        {
         "name": "deciding",
         "rawType": "float64",
         "type": "float"
        },
        {
         "name": "decision",
         "rawType": "float64",
         "type": "float"
        },
        {
         "name": "decisions",
         "rawType": "float64",
         "type": "float"
        },
        {
         "name": "declaration",
         "rawType": "float64",
         "type": "float"
        },
        {
         "name": "declarations",
         "rawType": "float64",
         "type": "float"
        },
        {
         "name": "declaratory",
         "rawType": "float64",
         "type": "float"
        },
        {
         "name": "declare",
         "rawType": "float64",
         "type": "float"
        },
        {
         "name": "declared",
         "rawType": "float64",
         "type": "float"
        },
        {
         "name": "declaring",
         "rawType": "float64",
         "type": "float"
        },
        {
         "name": "deem",
         "rawType": "float64",
         "type": "float"
        },
        {
         "name": "defendant",
         "rawType": "float64",
         "type": "float"
        },
        {
         "name": "defense",
         "rawType": "float64",
         "type": "float"
        },
        {
         "name": "deficit",
         "rawType": "float64",
         "type": "float"
        },
        {
         "name": "deficits",
         "rawType": "float64",
         "type": "float"
        },
        {
         "name": "define",
         "rawType": "float64",
         "type": "float"
        },
        {
         "name": "defined",
         "rawType": "float64",
         "type": "float"
        },
        {
         "name": "defining",
         "rawType": "float64",
         "type": "float"
        },
        {
         "name": "definition",
         "rawType": "float64",
         "type": "float"
        },
        {
         "name": "degree",
         "rawType": "float64",
         "type": "float"
        },
        {
         "name": "degrees",
         "rawType": "float64",
         "type": "float"
        },
        {
         "name": "deity",
         "rawType": "float64",
         "type": "float"
        },
        {
         "name": "delegated",
         "rawType": "float64",
         "type": "float"
        },
        {
         "name": "delegates",
         "rawType": "float64",
         "type": "float"
        },
        {
         "name": "democratic",
         "rawType": "float64",
         "type": "float"
        },
        {
         "name": "denial",
         "rawType": "float64",
         "type": "float"
        },
        {
         "name": "denied",
         "rawType": "float64",
         "type": "float"
        },
        {
         "name": "deny",
         "rawType": "float64",
         "type": "float"
        },
        {
         "name": "denying",
         "rawType": "float64",
         "type": "float"
        },
        {
         "name": "department",
         "rawType": "float64",
         "type": "float"
        },
        {
         "name": "departments",
         "rawType": "float64",
         "type": "float"
        },
        {
         "name": "deportation",
         "rawType": "float64",
         "type": "float"
        },
        {
         "name": "deprived",
         "rawType": "float64",
         "type": "float"
        },
        {
         "name": "derived",
         "rawType": "float64",
         "type": "float"
        },
        {
         "name": "derogatory",
         "rawType": "float64",
         "type": "float"
        },
        {
         "name": "descendants",
         "rawType": "float64",
         "type": "float"
        },
        {
         "name": "descent",
         "rawType": "float64",
         "type": "float"
        },
        {
         "name": "desecration",
         "rawType": "float64",
         "type": "float"
        },
        {
         "name": "designate",
         "rawType": "float64",
         "type": "float"
        },
        {
         "name": "designation",
         "rawType": "float64",
         "type": "float"
        },
        {
         "name": "destruction",
         "rawType": "float64",
         "type": "float"
        },
        {
         "name": "deterioration",
         "rawType": "float64",
         "type": "float"
        },
        {
         "name": "determination",
         "rawType": "float64",
         "type": "float"
        },
        {
         "name": "determine",
         "rawType": "float64",
         "type": "float"
        },
        {
         "name": "determined",
         "rawType": "float64",
         "type": "float"
        },
        {
         "name": "determining",
         "rawType": "float64",
         "type": "float"
        },
        {
         "name": "devolution",
         "rawType": "float64",
         "type": "float"
        },
        {
         "name": "devolve",
         "rawType": "float64",
         "type": "float"
        },
        {
         "name": "devolves",
         "rawType": "float64",
         "type": "float"
        },
        {
         "name": "devolving",
         "rawType": "float64",
         "type": "float"
        },
        {
         "name": "devoutly",
         "rawType": "float64",
         "type": "float"
        },
        {
         "name": "dictates",
         "rawType": "float64",
         "type": "float"
        },
        {
         "name": "dies",
         "rawType": "float64",
         "type": "float"
        },
        {
         "name": "different",
         "rawType": "float64",
         "type": "float"
        },
        {
         "name": "diminished",
         "rawType": "float64",
         "type": "float"
        },
        {
         "name": "direct",
         "rawType": "float64",
         "type": "float"
        },
        {
         "name": "directly",
         "rawType": "float64",
         "type": "float"
        },
        {
         "name": "disabilities",
         "rawType": "float64",
         "type": "float"
        },
        {
         "name": "disability",
         "rawType": "float64",
         "type": "float"
        },
        {
         "name": "disapproval",
         "rawType": "float64",
         "type": "float"
        },
        {
         "name": "disapprove",
         "rawType": "float64",
         "type": "float"
        },
        {
         "name": "disaster",
         "rawType": "float64",
         "type": "float"
        },
        {
         "name": "disbursement",
         "rawType": "float64",
         "type": "float"
        },
        {
         "name": "discharge",
         "rawType": "float64",
         "type": "float"
        },
        {
         "name": "discriminating",
         "rawType": "float64",
         "type": "float"
        },
        {
         "name": "discrimination",
         "rawType": "float64",
         "type": "float"
        },
        {
         "name": "dishonestly",
         "rawType": "float64",
         "type": "float"
        },
        {
         "name": "disloyal",
         "rawType": "float64",
         "type": "float"
        },
        {
         "name": "dispatch",
         "rawType": "float64",
         "type": "float"
        },
        {
         "name": "disputes",
         "rawType": "float64",
         "type": "float"
        },
        {
         "name": "disqualification",
         "rawType": "float64",
         "type": "float"
        },
        {
         "name": "disqualified",
         "rawType": "float64",
         "type": "float"
        },
        {
         "name": "disqualify",
         "rawType": "float64",
         "type": "float"
        },
        {
         "name": "distinction",
         "rawType": "float64",
         "type": "float"
        },
        {
         "name": "distribution",
         "rawType": "float64",
         "type": "float"
        },
        {
         "name": "district",
         "rawType": "float64",
         "type": "float"
        },
        {
         "name": "districts",
         "rawType": "float64",
         "type": "float"
        },
        {
         "name": "divided",
         "rawType": "float64",
         "type": "float"
        },
        {
         "name": "division",
         "rawType": "float64",
         "type": "float"
        },
        {
         "name": "divorce",
         "rawType": "float64",
         "type": "float"
        },
        {
         "name": "domestic",
         "rawType": "float64",
         "type": "float"
        },
        {
         "name": "domiciliaries",
         "rawType": "float64",
         "type": "float"
        },
        {
         "name": "draft",
         "rawType": "float64",
         "type": "float"
        },
        {
         "name": "drafting",
         "rawType": "float64",
         "type": "float"
        },
        {
         "name": "due",
         "rawType": "float64",
         "type": "float"
        },
        {
         "name": "duel",
         "rawType": "float64",
         "type": "float"
        },
        {
         "name": "duly",
         "rawType": "float64",
         "type": "float"
        },
        {
         "name": "duration",
         "rawType": "float64",
         "type": "float"
        },
        {
         "name": "duties",
         "rawType": "float64",
         "type": "float"
        },
        {
         "name": "duty",
         "rawType": "float64",
         "type": "float"
        },
        {
         "name": "economic",
         "rawType": "float64",
         "type": "float"
        },
        {
         "name": "education",
         "rawType": "float64",
         "type": "float"
        },
        {
         "name": "educational",
         "rawType": "float64",
         "type": "float"
        },
        {
         "name": "effect",
         "rawType": "float64",
         "type": "float"
        },
        {
         "name": "effectively",
         "rawType": "float64",
         "type": "float"
        },
        {
         "name": "eight",
         "rawType": "float64",
         "type": "float"
        },
        {
         "name": "eighteen",
         "rawType": "float64",
         "type": "float"
        },
        {
         "name": "eighteenth",
         "rawType": "float64",
         "type": "float"
        },
        {
         "name": "either",
         "rawType": "float64",
         "type": "float"
        },
        {
         "name": "elect",
         "rawType": "float64",
         "type": "float"
        },
        {
         "name": "elected",
         "rawType": "float64",
         "type": "float"
        },
        {
         "name": "electing",
         "rawType": "float64",
         "type": "float"
        },
        {
         "name": "election",
         "rawType": "float64",
         "type": "float"
        },
        {
         "name": "elections",
         "rawType": "float64",
         "type": "float"
        },
        {
         "name": "elective",
         "rawType": "float64",
         "type": "float"
        },
        {
         "name": "elector",
         "rawType": "float64",
         "type": "float"
        },
        {
         "name": "electoral",
         "rawType": "float64",
         "type": "float"
        },
        {
         "name": "electors",
         "rawType": "float64",
         "type": "float"
        },
        {
         "name": "element",
         "rawType": "float64",
         "type": "float"
        },
        {
         "name": "eligibility",
         "rawType": "float64",
         "type": "float"
        },
        {
         "name": "eligible",
         "rawType": "float64",
         "type": "float"
        },
        {
         "name": "eliminate",
         "rawType": "float64",
         "type": "float"
        },
        {
         "name": "emancipated",
         "rawType": "float64",
         "type": "float"
        },
        {
         "name": "embargo",
         "rawType": "float64",
         "type": "float"
        },
        {
         "name": "embrace",
         "rawType": "float64",
         "type": "float"
        },
        {
         "name": "emergencies",
         "rawType": "float64",
         "type": "float"
        },
        {
         "name": "emergency",
         "rawType": "float64",
         "type": "float"
        },
        {
         "name": "employed",
         "rawType": "float64",
         "type": "float"
        },
        {
         "name": "employees",
         "rawType": "float64",
         "type": "float"
        },
        {
         "name": "employment",
         "rawType": "float64",
         "type": "float"
        },
        {
         "name": "empower",
         "rawType": "float64",
         "type": "float"
        },
        {
         "name": "empowering",
         "rawType": "float64",
         "type": "float"
        },
        {
         "name": "empowers",
         "rawType": "float64",
         "type": "float"
        },
        {
         "name": "enable",
         "rawType": "float64",
         "type": "float"
        },
        {
         "name": "enact",
         "rawType": "float64",
         "type": "float"
        },
        {
         "name": "enacted",
         "rawType": "float64",
         "type": "float"
        },
        {
         "name": "enactment",
         "rawType": "float64",
         "type": "float"
        },
        {
         "name": "end",
         "rawType": "float64",
         "type": "float"
        },
        {
         "name": "ended",
         "rawType": "float64",
         "type": "float"
        },
        {
         "name": "ending",
         "rawType": "float64",
         "type": "float"
        },
        {
         "name": "enemy",
         "rawType": "float64",
         "type": "float"
        },
        {
         "name": "enforce",
         "rawType": "float64",
         "type": "float"
        },
        {
         "name": "enforcement",
         "rawType": "float64",
         "type": "float"
        },
        {
         "name": "engage",
         "rawType": "float64",
         "type": "float"
        },
        {
         "name": "engaged",
         "rawType": "float64",
         "type": "float"
        },
        {
         "name": "engaging",
         "rawType": "float64",
         "type": "float"
        },
        {
         "name": "england",
         "rawType": "float64",
         "type": "float"
        },
        {
         "name": "english",
         "rawType": "float64",
         "type": "float"
        },
        {
         "name": "enjoyed",
         "rawType": "float64",
         "type": "float"
        },
        {
         "name": "enlistment",
         "rawType": "float64",
         "type": "float"
        },
        {
         "name": "ensure",
         "rawType": "float64",
         "type": "float"
        },
        {
         "name": "enterprise",
         "rawType": "float64",
         "type": "float"
        },
        {
         "name": "entire",
         "rawType": "float64",
         "type": "float"
        },
        {
         "name": "entities",
         "rawType": "float64",
         "type": "float"
        },
        {
         "name": "entitled",
         "rawType": "float64",
         "type": "float"
        },
        {
         "name": "environment",
         "rawType": "float64",
         "type": "float"
        },
        {
         "name": "equal",
         "rawType": "float64",
         "type": "float"
        },
        {
         "name": "equality",
         "rawType": "float64",
         "type": "float"
        },
        {
         "name": "equally",
         "rawType": "float64",
         "type": "float"
        },
        {
         "name": "equitable",
         "rawType": "float64",
         "type": "float"
        },
        {
         "name": "equity",
         "rawType": "float64",
         "type": "float"
        },
        {
         "name": "essential",
         "rawType": "float64",
         "type": "float"
        },
        {
         "name": "establish",
         "rawType": "float64",
         "type": "float"
        },
        {
         "name": "established",
         "rawType": "float64",
         "type": "float"
        },
        {
         "name": "establishes",
         "rawType": "float64",
         "type": "float"
        },
        {
         "name": "establishing",
         "rawType": "float64",
         "type": "float"
        },
        {
         "name": "establishment",
         "rawType": "float64",
         "type": "float"
        },
        {
         "name": "estate",
         "rawType": "float64",
         "type": "float"
        },
        {
         "name": "etc",
         "rawType": "float64",
         "type": "float"
        },
        {
         "name": "event",
         "rawType": "float64",
         "type": "float"
        },
        {
         "name": "events",
         "rawType": "float64",
         "type": "float"
        },
        {
         "name": "every",
         "rawType": "float64",
         "type": "float"
        },
        {
         "name": "evidence",
         "rawType": "float64",
         "type": "float"
        },
        {
         "name": "exceed",
         "rawType": "float64",
         "type": "float"
        },
        {
         "name": "exceeding",
         "rawType": "float64",
         "type": "float"
        },
        {
         "name": "exceeds",
         "rawType": "float64",
         "type": "float"
        },
        {
         "name": "except",
         "rawType": "float64",
         "type": "float"
        },
        {
         "name": "exceptions",
         "rawType": "float64",
         "type": "float"
        },
        {
         "name": "excess",
         "rawType": "float64",
         "type": "float"
        },
        {
         "name": "excises",
         "rawType": "float64",
         "type": "float"
        },
        {
         "name": "exclude",
         "rawType": "float64",
         "type": "float"
        },
        {
         "name": "excluded",
         "rawType": "float64",
         "type": "float"
        },
        {
         "name": "excluding",
         "rawType": "float64",
         "type": "float"
        },
        {
         "name": "exclusion",
         "rawType": "float64",
         "type": "float"
        },
        {
         "name": "exclusive",
         "rawType": "float64",
         "type": "float"
        },
        {
         "name": "exclusively",
         "rawType": "float64",
         "type": "float"
        },
        {
         "name": "executive",
         "rawType": "float64",
         "type": "float"
        },
        {
         "name": "executives",
         "rawType": "float64",
         "type": "float"
        },
        {
         "name": "exempt",
         "rawType": "float64",
         "type": "float"
        },
        {
         "name": "exemption",
         "rawType": "float64",
         "type": "float"
        },
        {
         "name": "exercise",
         "rawType": "float64",
         "type": "float"
        },
        {
         "name": "exercising",
         "rawType": "float64",
         "type": "float"
        },
        {
         "name": "exists",
         "rawType": "float64",
         "type": "float"
        },
        {
         "name": "expended",
         "rawType": "float64",
         "type": "float"
        },
        {
         "name": "expenditure",
         "rawType": "float64",
         "type": "float"
        },
        {
         "name": "expenditures",
         "rawType": "float64",
         "type": "float"
        },
        {
         "name": "expenses",
         "rawType": "float64",
         "type": "float"
        },
        {
         "name": "expiration",
         "rawType": "float64",
         "type": "float"
        },
        {
         "name": "export",
         "rawType": "float64",
         "type": "float"
        },
        {
         "name": "exportation",
         "rawType": "float64",
         "type": "float"
        },
        {
         "name": "exports",
         "rawType": "float64",
         "type": "float"
        },
        {
         "name": "expressly",
         "rawType": "float64",
         "type": "float"
        },
        {
         "name": "extend",
         "rawType": "float64",
         "type": "float"
        },
        {
         "name": "extended",
         "rawType": "float64",
         "type": "float"
        },
        {
         "name": "extending",
         "rawType": "float64",
         "type": "float"
        },
        {
         "name": "extends",
         "rawType": "float64",
         "type": "float"
        },
        {
         "name": "extension",
         "rawType": "float64",
         "type": "float"
        },
        {
         "name": "extent",
         "rawType": "float64",
         "type": "float"
        },
        {
         "name": "external",
         "rawType": "float64",
         "type": "float"
        },
        {
         "name": "extra",
         "rawType": "float64",
         "type": "float"
        },
        {
         "name": "facilities",
         "rawType": "float64",
         "type": "float"
        },
        {
         "name": "factories",
         "rawType": "float64",
         "type": "float"
        },
        {
         "name": "failure",
         "rawType": "float64",
         "type": "float"
        },
        {
         "name": "false",
         "rawType": "float64",
         "type": "float"
        },
        {
         "name": "farm",
         "rawType": "float64",
         "type": "float"
        },
        {
         "name": "farmers",
         "rawType": "float64",
         "type": "float"
        },
        {
         "name": "father",
         "rawType": "float64",
         "type": "float"
        },
        {
         "name": "favorable",
         "rawType": "float64",
         "type": "float"
        },
        {
         "name": "federal",
         "rawType": "float64",
         "type": "float"
        },
        {
         "name": "federally",
         "rawType": "float64",
         "type": "float"
        },
        {
         "name": "fees",
         "rawType": "float64",
         "type": "float"
        },
        {
         "name": "felonies",
         "rawType": "float64",
         "type": "float"
        },
        {
         "name": "felons",
         "rawType": "float64",
         "type": "float"
        },
        {
         "name": "felony",
         "rawType": "float64",
         "type": "float"
        },
        {
         "name": "fermented",
         "rawType": "float64",
         "type": "float"
        },
        {
         "name": "fifteenth",
         "rawType": "float64",
         "type": "float"
        },
        {
         "name": "fifth",
         "rawType": "float64",
         "type": "float"
        },
        {
         "name": "fill",
         "rawType": "float64",
         "type": "float"
        },
        {
         "name": "filled",
         "rawType": "float64",
         "type": "float"
        },
        {
         "name": "filling",
         "rawType": "float64",
         "type": "float"
        },
        {
         "name": "final",
         "rawType": "float64",
         "type": "float"
        },
        {
         "name": "finance",
         "rawType": "float64",
         "type": "float"
        },
        {
         "name": "financial",
         "rawType": "float64",
         "type": "float"
        },
        {
         "name": "financing",
         "rawType": "float64",
         "type": "float"
        },
        {
         "name": "fines",
         "rawType": "float64",
         "type": "float"
        },
        {
         "name": "first",
         "rawType": "float64",
         "type": "float"
        },
        {
         "name": "fiscal",
         "rawType": "float64",
         "type": "float"
        },
        {
         "name": "five",
         "rawType": "float64",
         "type": "float"
        },
        {
         "name": "fix",
         "rawType": "float64",
         "type": "float"
        },
        {
         "name": "fixed",
         "rawType": "float64",
         "type": "float"
        },
        {
         "name": "fixing",
         "rawType": "float64",
         "type": "float"
        },
        {
         "name": "flag",
         "rawType": "float64",
         "type": "float"
        },
        {
         "name": "flags",
         "rawType": "float64",
         "type": "float"
        },
        {
         "name": "followed",
         "rawType": "float64",
         "type": "float"
        },
        {
         "name": "following",
         "rawType": "float64",
         "type": "float"
        },
        {
         "name": "food",
         "rawType": "float64",
         "type": "float"
        },
        {
         "name": "forbid",
         "rawType": "float64",
         "type": "float"
        },
        {
         "name": "forbidden",
         "rawType": "float64",
         "type": "float"
        },
        {
         "name": "forbidding",
         "rawType": "float64",
         "type": "float"
        },
        {
         "name": "force",
         "rawType": "float64",
         "type": "float"
        },
        {
         "name": "forced",
         "rawType": "float64",
         "type": "float"
        },
        {
         "name": "forces",
         "rawType": "float64",
         "type": "float"
        },
        {
         "name": "foreign",
         "rawType": "float64",
         "type": "float"
        },
        {
         "name": "forever",
         "rawType": "float64",
         "type": "float"
        },
        {
         "name": "forfeit",
         "rawType": "float64",
         "type": "float"
        },
        {
         "name": "forfeiture",
         "rawType": "float64",
         "type": "float"
        },
        {
         "name": "form",
         "rawType": "float64",
         "type": "float"
        },
        {
         "name": "formed",
         "rawType": "float64",
         "type": "float"
        },
        {
         "name": "former",
         "rawType": "float64",
         "type": "float"
        },
        {
         "name": "forth",
         "rawType": "float64",
         "type": "float"
        },
        {
         "name": "fortunes",
         "rawType": "float64",
         "type": "float"
        },
        {
         "name": "founded",
         "rawType": "float64",
         "type": "float"
        },
        {
         "name": "four",
         "rawType": "float64",
         "type": "float"
        },
        {
         "name": "fourteenth",
         "rawType": "float64",
         "type": "float"
        },
        {
         "name": "frame",
         "rawType": "float64",
         "type": "float"
        },
        {
         "name": "franchise",
         "rawType": "float64",
         "type": "float"
        },
        {
         "name": "free",
         "rawType": "float64",
         "type": "float"
        },
        {
         "name": "freedom",
         "rawType": "float64",
         "type": "float"
        },
        {
         "name": "freedoms",
         "rawType": "float64",
         "type": "float"
        },
        {
         "name": "fugitive",
         "rawType": "float64",
         "type": "float"
        },
        {
         "name": "fugitives",
         "rawType": "float64",
         "type": "float"
        },
        {
         "name": "full",
         "rawType": "float64",
         "type": "float"
        },
        {
         "name": "function",
         "rawType": "float64",
         "type": "float"
        },
        {
         "name": "funds",
         "rawType": "float64",
         "type": "float"
        },
        {
         "name": "general",
         "rawType": "float64",
         "type": "float"
        },
        {
         "name": "gift",
         "rawType": "float64",
         "type": "float"
        },
        {
         "name": "gifts",
         "rawType": "float64",
         "type": "float"
        },
        {
         "name": "give",
         "rawType": "float64",
         "type": "float"
        },
        {
         "name": "given",
         "rawType": "float64",
         "type": "float"
        },
        {
         "name": "gives",
         "rawType": "float64",
         "type": "float"
        },
        {
         "name": "giving",
         "rawType": "float64",
         "type": "float"
        },
        {
         "name": "gnp",
         "rawType": "float64",
         "type": "float"
        },
        {
         "name": "god",
         "rawType": "float64",
         "type": "float"
        },
        {
         "name": "gold",
         "rawType": "float64",
         "type": "float"
        },
        {
         "name": "good",
         "rawType": "float64",
         "type": "float"
        },
        {
         "name": "goods",
         "rawType": "float64",
         "type": "float"
        },
        {
         "name": "government",
         "rawType": "float64",
         "type": "float"
        },
        {
         "name": "governmental",
         "rawType": "float64",
         "type": "float"
        },
        {
         "name": "governments",
         "rawType": "float64",
         "type": "float"
        },
        {
         "name": "governors",
         "rawType": "float64",
         "type": "float"
        },
        {
         "name": "graduation",
         "rawType": "float64",
         "type": "float"
        },
        {
         "name": "grand",
         "rawType": "float64",
         "type": "float"
        },
        {
         "name": "grant",
         "rawType": "float64",
         "type": "float"
        },
        {
         "name": "granted",
         "rawType": "float64",
         "type": "float"
        },
        {
         "name": "granting",
         "rawType": "float64",
         "type": "float"
        },
        {
         "name": "grants",
         "rawType": "float64",
         "type": "float"
        },
        {
         "name": "grave",
         "rawType": "float64",
         "type": "float"
        },
        {
         "name": "greater",
         "rawType": "float64",
         "type": "float"
        },
        {
         "name": "gross",
         "rawType": "float64",
         "type": "float"
        },
        {
         "name": "group",
         "rawType": "float64",
         "type": "float"
        },
        {
         "name": "groups",
         "rawType": "float64",
         "type": "float"
        },
        {
         "name": "growth",
         "rawType": "float64",
         "type": "float"
        },
        {
         "name": "guam",
         "rawType": "float64",
         "type": "float"
        },
        {
         "name": "guarantee",
         "rawType": "float64",
         "type": "float"
        },
        {
         "name": "guaranteed",
         "rawType": "float64",
         "type": "float"
        },
        {
         "name": "guaranteeing",
         "rawType": "float64",
         "type": "float"
        },
        {
         "name": "handicap",
         "rawType": "float64",
         "type": "float"
        },
        {
         "name": "harbor",
         "rawType": "float64",
         "type": "float"
        },
        {
         "name": "health",
         "rawType": "float64",
         "type": "float"
        },
        {
         "name": "healthcare",
         "rawType": "float64",
         "type": "float"
        },
        {
         "name": "held",
         "rawType": "float64",
         "type": "float"
        },
        {
         "name": "hereafter",
         "rawType": "float64",
         "type": "float"
        },
        {
         "name": "high",
         "rawType": "float64",
         "type": "float"
        },
        {
         "name": "higher",
         "rawType": "float64",
         "type": "float"
        },
        {
         "name": "highest",
         "rawType": "float64",
         "type": "float"
        },
        {
         "name": "hire",
         "rawType": "float64",
         "type": "float"
        },
        {
         "name": "hold",
         "rawType": "float64",
         "type": "float"
        },
        {
         "name": "holding",
         "rawType": "float64",
         "type": "float"
        },
        {
         "name": "home",
         "rawType": "float64",
         "type": "float"
        },
        {
         "name": "homesteads",
         "rawType": "float64",
         "type": "float"
        },
        {
         "name": "hostility",
         "rawType": "float64",
         "type": "float"
        },
        {
         "name": "hour",
         "rawType": "float64",
         "type": "float"
        },
        {
         "name": "hours",
         "rawType": "float64",
         "type": "float"
        },
        {
         "name": "house",
         "rawType": "float64",
         "type": "float"
        },
        {
         "name": "houses",
         "rawType": "float64",
         "type": "float"
        },
        {
         "name": "housing",
         "rawType": "float64",
         "type": "float"
        },
        {
         "name": "human",
         "rawType": "float64",
         "type": "float"
        },
        {
         "name": "hundred",
         "rawType": "float64",
         "type": "float"
        },
        {
         "name": "iii",
         "rawType": "float64",
         "type": "float"
        },
        {
         "name": "illegal",
         "rawType": "float64",
         "type": "float"
        },
        {
         "name": "immigration",
         "rawType": "float64",
         "type": "float"
        },
        {
         "name": "immunity",
         "rawType": "float64",
         "type": "float"
        },
        {
         "name": "impaired",
         "rawType": "float64",
         "type": "float"
        },
        {
         "name": "impairing",
         "rawType": "float64",
         "type": "float"
        },
        {
         "name": "impeachable",
         "rawType": "float64",
         "type": "float"
        },
        {
         "name": "impeachment",
         "rawType": "float64",
         "type": "float"
        },
        {
         "name": "impeachments",
         "rawType": "float64",
         "type": "float"
        },
        {
         "name": "importation",
         "rawType": "float64",
         "type": "float"
        },
        {
         "name": "imports",
         "rawType": "float64",
         "type": "float"
        },
        {
         "name": "impose",
         "rawType": "float64",
         "type": "float"
        },
        {
         "name": "imposed",
         "rawType": "float64",
         "type": "float"
        },
        {
         "name": "imposing",
         "rawType": "float64",
         "type": "float"
        },
        {
         "name": "imposition",
         "rawType": "float64",
         "type": "float"
        },
        {
         "name": "imposts",
         "rawType": "float64",
         "type": "float"
        },
        {
         "name": "imprisonment",
         "rawType": "float64",
         "type": "float"
        },
        {
         "name": "improvements",
         "rawType": "float64",
         "type": "float"
        },
        {
         "name": "inability",
         "rawType": "float64",
         "type": "float"
        },
        {
         "name": "inalienable",
         "rawType": "float64",
         "type": "float"
        },
        {
         "name": "inauguration",
         "rawType": "float64",
         "type": "float"
        },
        {
         "name": "incapacity",
         "rawType": "float64",
         "type": "float"
        },
        {
         "name": "include",
         "rawType": "float64",
         "type": "float"
        },
        {
         "name": "including",
         "rawType": "float64",
         "type": "float"
        },
        {
         "name": "income",
         "rawType": "float64",
         "type": "float"
        },
        {
         "name": "incomes",
         "rawType": "float64",
         "type": "float"
        },
        {
         "name": "increase",
         "rawType": "float64",
         "type": "float"
        },
        {
         "name": "increased",
         "rawType": "float64",
         "type": "float"
        },
        {
         "name": "increases",
         "rawType": "float64",
         "type": "float"
        },
        {
         "name": "increasing",
         "rawType": "float64",
         "type": "float"
        },
        {
         "name": "indefinite",
         "rawType": "float64",
         "type": "float"
        },
        {
         "name": "independence",
         "rawType": "float64",
         "type": "float"
        },
        {
         "name": "independent",
         "rawType": "float64",
         "type": "float"
        },
        {
         "name": "indexing",
         "rawType": "float64",
         "type": "float"
        },
        {
         "name": "indian",
         "rawType": "float64",
         "type": "float"
        },
        {
         "name": "indians",
         "rawType": "float64",
         "type": "float"
        },
        {
         "name": "indictment",
         "rawType": "float64",
         "type": "float"
        },
        {
         "name": "indirect",
         "rawType": "float64",
         "type": "float"
        },
        {
         "name": "indirectly",
         "rawType": "float64",
         "type": "float"
        },
        {
         "name": "individual",
         "rawType": "float64",
         "type": "float"
        },
        {
         "name": "individuals",
         "rawType": "float64",
         "type": "float"
        },
        {
         "name": "industry",
         "rawType": "float64",
         "type": "float"
        },
        {
         "name": "ineligibility",
         "rawType": "float64",
         "type": "float"
        },
        {
         "name": "ineligible",
         "rawType": "float64",
         "type": "float"
        },
        {
         "name": "inferior",
         "rawType": "float64",
         "type": "float"
        },
        {
         "name": "influence",
         "rawType": "float64",
         "type": "float"
        },
        {
         "name": "information",
         "rawType": "float64",
         "type": "float"
        },
        {
         "name": "informed",
         "rawType": "float64",
         "type": "float"
        },
        {
         "name": "infringe",
         "rawType": "float64",
         "type": "float"
        },
        {
         "name": "ingress",
         "rawType": "float64",
         "type": "float"
        },
        {
         "name": "inhabitants",
         "rawType": "float64",
         "type": "float"
        },
        {
         "name": "inheritance",
         "rawType": "float64",
         "type": "float"
        },
        {
         "name": "inheritances",
         "rawType": "float64",
         "type": "float"
        },
        {
         "name": "initiative",
         "rawType": "float64",
         "type": "float"
        },
        {
         "name": "injure",
         "rawType": "float64",
         "type": "float"
        },
        {
         "name": "injuries",
         "rawType": "float64",
         "type": "float"
        },
        {
         "name": "instances",
         "rawType": "float64",
         "type": "float"
        },
        {
         "name": "instead",
         "rawType": "float64",
         "type": "float"
        },
        {
         "name": "institution",
         "rawType": "float64",
         "type": "float"
        },
        {
         "name": "institutions",
         "rawType": "float64",
         "type": "float"
        },
        {
         "name": "instruction",
         "rawType": "float64",
         "type": "float"
        },
        {
         "name": "insular",
         "rawType": "float64",
         "type": "float"
        },
        {
         "name": "insurance",
         "rawType": "float64",
         "type": "float"
        },
        {
         "name": "insure",
         "rawType": "float64",
         "type": "float"
        },
        {
         "name": "insurrection",
         "rawType": "float64",
         "type": "float"
        },
        {
         "name": "integrity",
         "rawType": "float64",
         "type": "float"
        },
        {
         "name": "intended",
         "rawType": "float64",
         "type": "float"
        },
        {
         "name": "intent",
         "rawType": "float64",
         "type": "float"
        },
        {
         "name": "intercourse",
         "rawType": "float64",
         "type": "float"
        },
        {
         "name": "interdict",
         "rawType": "float64",
         "type": "float"
        },
        {
         "name": "interest",
         "rawType": "float64",
         "type": "float"
        },
        {
         "name": "interfere",
         "rawType": "float64",
         "type": "float"
        },
        {
         "name": "interference",
         "rawType": "float64",
         "type": "float"
        },
        {
         "name": "interfering",
         "rawType": "float64",
         "type": "float"
        },
        {
         "name": "intermarriage",
         "rawType": "float64",
         "type": "float"
        },
        {
         "name": "internal",
         "rawType": "float64",
         "type": "float"
        },
        {
         "name": "international",
         "rawType": "float64",
         "type": "float"
        },
        {
         "name": "interstate",
         "rawType": "float64",
         "type": "float"
        },
        {
         "name": "intervening",
         "rawType": "float64",
         "type": "float"
        },
        {
         "name": "intoxicating",
         "rawType": "float64",
         "type": "float"
        },
        {
         "name": "invalid",
         "rawType": "float64",
         "type": "float"
        },
        {
         "name": "invalidate",
         "rawType": "float64",
         "type": "float"
        },
        {
         "name": "invasion",
         "rawType": "float64",
         "type": "float"
        },
        {
         "name": "investing",
         "rawType": "float64",
         "type": "float"
        },
        {
         "name": "involuntary",
         "rawType": "float64",
         "type": "float"
        },
        {
         "name": "involving",
         "rawType": "float64",
         "type": "float"
        },
        {
         "name": "irrespective",
         "rawType": "float64",
         "type": "float"
        },
        {
         "name": "islands",
         "rawType": "float64",
         "type": "float"
        },
        {
         "name": "issuance",
         "rawType": "float64",
         "type": "float"
        },
        {
         "name": "issue",
         "rawType": "float64",
         "type": "float"
        },
        {
         "name": "issued",
         "rawType": "float64",
         "type": "float"
        },
        {
         "name": "issues",
         "rawType": "float64",
         "type": "float"
        },
        {
         "name": "item",
         "rawType": "float64",
         "type": "float"
        },
        {
         "name": "items",
         "rawType": "float64",
         "type": "float"
        },
        {
         "name": "january",
         "rawType": "float64",
         "type": "float"
        },
        {
         "name": "jesus",
         "rawType": "float64",
         "type": "float"
        },
        {
         "name": "joint",
         "rawType": "float64",
         "type": "float"
        },
        {
         "name": "journals",
         "rawType": "float64",
         "type": "float"
        },
        {
         "name": "judge",
         "rawType": "float64",
         "type": "float"
        },
        {
         "name": "judgement",
         "rawType": "float64",
         "type": "float"
        },
        {
         "name": "judges",
         "rawType": "float64",
         "type": "float"
        },
        {
         "name": "judgments",
         "rawType": "float64",
         "type": "float"
        },
        {
         "name": "judicial",
         "rawType": "float64",
         "type": "float"
        },
        {
         "name": "judiciary",
         "rawType": "float64",
         "type": "float"
        },
        {
         "name": "juries",
         "rawType": "float64",
         "type": "float"
        },
        {
         "name": "jurisdiction",
         "rawType": "float64",
         "type": "float"
        },
        {
         "name": "jury",
         "rawType": "float64",
         "type": "float"
        },
        {
         "name": "justice",
         "rawType": "float64",
         "type": "float"
        },
        {
         "name": "justices",
         "rawType": "float64",
         "type": "float"
        },
        {
         "name": "keep",
         "rawType": "float64",
         "type": "float"
        },
        {
         "name": "keeping",
         "rawType": "float64",
         "type": "float"
        },
        {
         "name": "known",
         "rawType": "float64",
         "type": "float"
        },
        {
         "name": "labor",
         "rawType": "float64",
         "type": "float"
        },
        {
         "name": "land",
         "rawType": "float64",
         "type": "float"
        },
        {
         "name": "lands",
         "rawType": "float64",
         "type": "float"
        },
        {
         "name": "language",
         "rawType": "float64",
         "type": "float"
        },
        {
         "name": "large",
         "rawType": "float64",
         "type": "float"
        },
        {
         "name": "last",
         "rawType": "float64",
         "type": "float"
        },
        {
         "name": "law",
         "rawType": "float64",
         "type": "float"
        },
        {
         "name": "lawful",
         "rawType": "float64",
         "type": "float"
        },
        {
         "name": "lawfully",
         "rawType": "float64",
         "type": "float"
        },
        {
         "name": "laws",
         "rawType": "float64",
         "type": "float"
        },
        {
         "name": "lay",
         "rawType": "float64",
         "type": "float"
        },
        {
         "name": "laying",
         "rawType": "float64",
         "type": "float"
        },
        {
         "name": "least",
         "rawType": "float64",
         "type": "float"
        },
        {
         "name": "legal",
         "rawType": "float64",
         "type": "float"
        },
        {
         "name": "legislate",
         "rawType": "float64",
         "type": "float"
        },
        {
         "name": "legislation",
         "rawType": "float64",
         "type": "float"
        },
        {
         "name": "legislative",
         "rawType": "float64",
         "type": "float"
        },
        {
         "name": "legislature",
         "rawType": "float64",
         "type": "float"
        },
        {
         "name": "legislatures",
         "rawType": "float64",
         "type": "float"
        },
        {
         "name": "legitimation",
         "rawType": "float64",
         "type": "float"
        },
        {
         "name": "lending",
         "rawType": "float64",
         "type": "float"
        },
        {
         "name": "length",
         "rawType": "float64",
         "type": "float"
        },
        {
         "name": "lengthens",
         "rawType": "float64",
         "type": "float"
        },
        {
         "name": "less",
         "rawType": "float64",
         "type": "float"
        },
        {
         "name": "level",
         "rawType": "float64",
         "type": "float"
        },
        {
         "name": "levels",
         "rawType": "float64",
         "type": "float"
        },
        {
         "name": "levied",
         "rawType": "float64",
         "type": "float"
        },
        {
         "name": "levy",
         "rawType": "float64",
         "type": "float"
        },
        {
         "name": "levying",
         "rawType": "float64",
         "type": "float"
        },
        {
         "name": "liability",
         "rawType": "float64",
         "type": "float"
        },
        {
         "name": "liable",
         "rawType": "float64",
         "type": "float"
        },
        {
         "name": "liberties",
         "rawType": "float64",
         "type": "float"
        },
        {
         "name": "liberty",
         "rawType": "float64",
         "type": "float"
        },
        {
         "name": "life",
         "rawType": "float64",
         "type": "float"
        },
        {
         "name": "limit",
         "rawType": "float64",
         "type": "float"
        },
        {
         "name": "limitation",
         "rawType": "float64",
         "type": "float"
        },
        {
         "name": "limitations",
         "rawType": "float64",
         "type": "float"
        },
        {
         "name": "limited",
         "rawType": "float64",
         "type": "float"
        },
        {
         "name": "limiting",
         "rawType": "float64",
         "type": "float"
        },
        {
         "name": "limits",
         "rawType": "float64",
         "type": "float"
        },
        {
         "name": "line",
         "rawType": "float64",
         "type": "float"
        },
        {
         "name": "linguistic",
         "rawType": "float64",
         "type": "float"
        },
        {
         "name": "liquor",
         "rawType": "float64",
         "type": "float"
        },
        {
         "name": "liquors",
         "rawType": "float64",
         "type": "float"
        },
        {
         "name": "literacy",
         "rawType": "float64",
         "type": "float"
        },
        {
         "name": "lives",
         "rawType": "float64",
         "type": "float"
        },
        {
         "name": "loan",
         "rawType": "float64",
         "type": "float"
        },
        {
         "name": "loaned",
         "rawType": "float64",
         "type": "float"
        },
        {
         "name": "loans",
         "rawType": "float64",
         "type": "float"
        },
        {
         "name": "local",
         "rawType": "float64",
         "type": "float"
        },
        {
         "name": "longer",
         "rawType": "float64",
         "type": "float"
        },
        {
         "name": "loss",
         "rawType": "float64",
         "type": "float"
        },
        {
         "name": "lot",
         "rawType": "float64",
         "type": "float"
        },
        {
         "name": "lotteries",
         "rawType": "float64",
         "type": "float"
        },
        {
         "name": "made",
         "rawType": "float64",
         "type": "float"
        },
        {
         "name": "maintaining",
         "rawType": "float64",
         "type": "float"
        },
        {
         "name": "maintenance",
         "rawType": "float64",
         "type": "float"
        },
        {
         "name": "major",
         "rawType": "float64",
         "type": "float"
        },
        {
         "name": "majorities",
         "rawType": "float64",
         "type": "float"
        },
        {
         "name": "majority",
         "rawType": "float64",
         "type": "float"
        },
        {
         "name": "make",
         "rawType": "float64",
         "type": "float"
        },
        {
         "name": "making",
         "rawType": "float64",
         "type": "float"
        },
        {
         "name": "malt",
         "rawType": "float64",
         "type": "float"
        },
        {
         "name": "man",
         "rawType": "float64",
         "type": "float"
        },
        {
         "name": "mandated",
         "rawType": "float64",
         "type": "float"
        },
        {
         "name": "mandates",
         "rawType": "float64",
         "type": "float"
        },
        {
         "name": "mandatory",
         "rawType": "float64",
         "type": "float"
        },
        {
         "name": "manner",
         "rawType": "float64",
         "type": "float"
        },
        {
         "name": "manufacture",
         "rawType": "float64",
         "type": "float"
        },
        {
         "name": "march",
         "rawType": "float64",
         "type": "float"
        },
        {
         "name": "marketing",
         "rawType": "float64",
         "type": "float"
        },
        {
         "name": "marriage",
         "rawType": "float64",
         "type": "float"
        },
        {
         "name": "marshals",
         "rawType": "float64",
         "type": "float"
        },
        {
         "name": "martial",
         "rawType": "float64",
         "type": "float"
        },
        {
         "name": "maryland",
         "rawType": "float64",
         "type": "float"
        },
        {
         "name": "mass",
         "rawType": "float64",
         "type": "float"
        },
        {
         "name": "material",
         "rawType": "float64",
         "type": "float"
        },
        {
         "name": "matter",
         "rawType": "float64",
         "type": "float"
        },
        {
         "name": "matters",
         "rawType": "float64",
         "type": "float"
        },
        {
         "name": "maximum",
         "rawType": "float64",
         "type": "float"
        },
        {
         "name": "may",
         "rawType": "float64",
         "type": "float"
        },
        {
         "name": "mean",
         "rawType": "float64",
         "type": "float"
        },
        {
         "name": "meaning",
         "rawType": "float64",
         "type": "float"
        },
        {
         "name": "measure",
         "rawType": "float64",
         "type": "float"
        },
        {
         "name": "measures",
         "rawType": "float64",
         "type": "float"
        },
        {
         "name": "medical",
         "rawType": "float64",
         "type": "float"
        },
        {
         "name": "meditation",
         "rawType": "float64",
         "type": "float"
        },
        {
         "name": "meet",
         "rawType": "float64",
         "type": "float"
        },
        {
         "name": "meeting",
         "rawType": "float64",
         "type": "float"
        },
        {
         "name": "member",
         "rawType": "float64",
         "type": "float"
        },
        {
         "name": "members",
         "rawType": "float64",
         "type": "float"
        },
        {
         "name": "membership",
         "rawType": "float64",
         "type": "float"
        },
        {
         "name": "men",
         "rawType": "float64",
         "type": "float"
        },
        {
         "name": "method",
         "rawType": "float64",
         "type": "float"
        },
        {
         "name": "methods",
         "rawType": "float64",
         "type": "float"
        },
        {
         "name": "military",
         "rawType": "float64",
         "type": "float"
        },
        {
         "name": "militia",
         "rawType": "float64",
         "type": "float"
        },
        {
         "name": "minimum",
         "rawType": "float64",
         "type": "float"
        },
        {
         "name": "minors",
         "rawType": "float64",
         "type": "float"
        },
        {
         "name": "mode",
         "rawType": "float64",
         "type": "float"
        },
        {
         "name": "modify",
         "rawType": "float64",
         "type": "float"
        },
        {
         "name": "monday",
         "rawType": "float64",
         "type": "float"
        },
        {
         "name": "money",
         "rawType": "float64",
         "type": "float"
        },
        {
         "name": "moneys",
         "rawType": "float64",
         "type": "float"
        },
        {
         "name": "monopolies",
         "rawType": "float64",
         "type": "float"
        },
        {
         "name": "month",
         "rawType": "float64",
         "type": "float"
        },
        {
         "name": "moral",
         "rawType": "float64",
         "type": "float"
        },
        {
         "name": "morality",
         "rawType": "float64",
         "type": "float"
        },
        {
         "name": "morals",
         "rawType": "float64",
         "type": "float"
        },
        {
         "name": "mother",
         "rawType": "float64",
         "type": "float"
        },
        {
         "name": "mothers",
         "rawType": "float64",
         "type": "float"
        },
        {
         "name": "motion",
         "rawType": "float64",
         "type": "float"
        },
        {
         "name": "motto",
         "rawType": "float64",
         "type": "float"
        },
        {
         "name": "murder",
         "rawType": "float64",
         "type": "float"
        },
        {
         "name": "must",
         "rawType": "float64",
         "type": "float"
        },
        {
         "name": "name",
         "rawType": "float64",
         "type": "float"
        },
        {
         "name": "nan",
         "rawType": "float64",
         "type": "float"
        },
        {
         "name": "nation",
         "rawType": "float64",
         "type": "float"
        },
        {
         "name": "national",
         "rawType": "float64",
         "type": "float"
        },
        {
         "name": "nationality",
         "rawType": "float64",
         "type": "float"
        },
        {
         "name": "nations",
         "rawType": "float64",
         "type": "float"
        },
        {
         "name": "nativity",
         "rawType": "float64",
         "type": "float"
        },
        {
         "name": "natural",
         "rawType": "float64",
         "type": "float"
        },
        {
         "name": "naturalized",
         "rawType": "float64",
         "type": "float"
        },
        {
         "name": "navigation",
         "rawType": "float64",
         "type": "float"
        },
        {
         "name": "navy",
         "rawType": "float64",
         "type": "float"
        },
        {
         "name": "nays",
         "rawType": "float64",
         "type": "float"
        },
        {
         "name": "nearest",
         "rawType": "float64",
         "type": "float"
        },
        {
         "name": "necessary",
         "rawType": "float64",
         "type": "float"
        },
        {
         "name": "necessity",
         "rawType": "float64",
         "type": "float"
        },
        {
         "name": "negroes",
         "rawType": "float64",
         "type": "float"
        },
        {
         "name": "neighborhood",
         "rawType": "float64",
         "type": "float"
        },
        {
         "name": "neither",
         "rawType": "float64",
         "type": "float"
        },
        {
         "name": "new",
         "rawType": "float64",
         "type": "float"
        },
        {
         "name": "next",
         "rawType": "float64",
         "type": "float"
        },
        {
         "name": "nine",
         "rawType": "float64",
         "type": "float"
        },
        {
         "name": "nobility",
         "rawType": "float64",
         "type": "float"
        },
        {
         "name": "nominate",
         "rawType": "float64",
         "type": "float"
        },
        {
         "name": "nominated",
         "rawType": "float64",
         "type": "float"
        },
        {
         "name": "nominating",
         "rawType": "float64",
         "type": "float"
        },
        {
         "name": "nomination",
         "rawType": "float64",
         "type": "float"
        },
        {
         "name": "nominations",
         "rawType": "float64",
         "type": "float"
        },
        {
         "name": "nominees",
         "rawType": "float64",
         "type": "float"
        },
        {
         "name": "non",
         "rawType": "float64",
         "type": "float"
        },
        {
         "name": "nonage",
         "rawType": "float64",
         "type": "float"
        },
        {
         "name": "noncontiguous",
         "rawType": "float64",
         "type": "float"
        },
        {
         "name": "nondelegated",
         "rawType": "float64",
         "type": "float"
        },
        {
         "name": "none",
         "rawType": "float64",
         "type": "float"
        },
        {
         "name": "nonmilitary",
         "rawType": "float64",
         "type": "float"
        },
        {
         "name": "nonresidence",
         "rawType": "float64",
         "type": "float"
        },
        {
         "name": "nonresident",
         "rawType": "float64",
         "type": "float"
        },
        {
         "name": "nonresidents",
         "rawType": "float64",
         "type": "float"
        },
        {
         "name": "nonsectarian",
         "rawType": "float64",
         "type": "float"
        },
        {
         "name": "nontaxable",
         "rawType": "float64",
         "type": "float"
        },
        {
         "name": "noon",
         "rawType": "float64",
         "type": "float"
        },
        {
         "name": "north",
         "rawType": "float64",
         "type": "float"
        },
        {
         "name": "notes",
         "rawType": "float64",
         "type": "float"
        },
        {
         "name": "nullify",
         "rawType": "float64",
         "type": "float"
        },
        {
         "name": "number",
         "rawType": "float64",
         "type": "float"
        },
        {
         "name": "numbers",
         "rawType": "float64",
         "type": "float"
        },
        {
         "name": "oath",
         "rawType": "float64",
         "type": "float"
        },
        {
         "name": "obligations",
         "rawType": "float64",
         "type": "float"
        },
        {
         "name": "observances",
         "rawType": "float64",
         "type": "float"
        },
        {
         "name": "occurring",
         "rawType": "float64",
         "type": "float"
        },
        {
         "name": "october",
         "rawType": "float64",
         "type": "float"
        },
        {
         "name": "offense",
         "rawType": "float64",
         "type": "float"
        },
        {
         "name": "offenses",
         "rawType": "float64",
         "type": "float"
        },
        {
         "name": "offering",
         "rawType": "float64",
         "type": "float"
        },
        {
         "name": "office",
         "rawType": "float64",
         "type": "float"
        },
        {
         "name": "officer",
         "rawType": "float64",
         "type": "float"
        },
        {
         "name": "officers",
         "rawType": "float64",
         "type": "float"
        },
        {
         "name": "offices",
         "rawType": "float64",
         "type": "float"
        },
        {
         "name": "official",
         "rawType": "float64",
         "type": "float"
        },
        {
         "name": "officials",
         "rawType": "float64",
         "type": "float"
        },
        {
         "name": "offset",
         "rawType": "float64",
         "type": "float"
        },
        {
         "name": "old",
         "rawType": "float64",
         "type": "float"
        },
        {
         "name": "older",
         "rawType": "float64",
         "type": "float"
        },
        {
         "name": "one",
         "rawType": "float64",
         "type": "float"
        },
        {
         "name": "ones",
         "rawType": "float64",
         "type": "float"
        },
        {
         "name": "open",
         "rawType": "float64",
         "type": "float"
        },
        {
         "name": "opening",
         "rawType": "float64",
         "type": "float"
        },
        {
         "name": "operated",
         "rawType": "float64",
         "type": "float"
        },
        {
         "name": "operation",
         "rawType": "float64",
         "type": "float"
        },
        {
         "name": "operations",
         "rawType": "float64",
         "type": "float"
        },
        {
         "name": "operative",
         "rawType": "float64",
         "type": "float"
        },
        {
         "name": "opinion",
         "rawType": "float64",
         "type": "float"
        },
        {
         "name": "opportunity",
         "rawType": "float64",
         "type": "float"
        },
        {
         "name": "opposition",
         "rawType": "float64",
         "type": "float"
        },
        {
         "name": "order",
         "rawType": "float64",
         "type": "float"
        },
        {
         "name": "ordering",
         "rawType": "float64",
         "type": "float"
        },
        {
         "name": "orders",
         "rawType": "float64",
         "type": "float"
        },
        {
         "name": "organization",
         "rawType": "float64",
         "type": "float"
        },
        {
         "name": "organizations",
         "rawType": "float64",
         "type": "float"
        },
        {
         "name": "organized",
         "rawType": "float64",
         "type": "float"
        },
        {
         "name": "origin",
         "rawType": "float64",
         "type": "float"
        },
        {
         "name": "original",
         "rawType": "float64",
         "type": "float"
        },
        {
         "name": "originate",
         "rawType": "float64",
         "type": "float"
        },
        {
         "name": "others",
         "rawType": "float64",
         "type": "float"
        },
        {
         "name": "otherwise",
         "rawType": "float64",
         "type": "float"
        },
        {
         "name": "outlays",
         "rawType": "float64",
         "type": "float"
        },
        {
         "name": "outside",
         "rawType": "float64",
         "type": "float"
        },
        {
         "name": "override",
         "rawType": "float64",
         "type": "float"
        },
        {
         "name": "overriding",
         "rawType": "float64",
         "type": "float"
        },
        {
         "name": "overseas",
         "rawType": "float64",
         "type": "float"
        },
        {
         "name": "overthrow",
         "rawType": "float64",
         "type": "float"
        },
        {
         "name": "owe",
         "rawType": "float64",
         "type": "float"
        },
        {
         "name": "owned",
         "rawType": "float64",
         "type": "float"
        },
        {
         "name": "owners",
         "rawType": "float64",
         "type": "float"
        },
        {
         "name": "ownership",
         "rawType": "float64",
         "type": "float"
        },
        {
         "name": "packages",
         "rawType": "float64",
         "type": "float"
        },
        {
         "name": "paid",
         "rawType": "float64",
         "type": "float"
        },
        {
         "name": "paper",
         "rawType": "float64",
         "type": "float"
        },
        {
         "name": "parallel",
         "rawType": "float64",
         "type": "float"
        },
        {
         "name": "pardon",
         "rawType": "float64",
         "type": "float"
        },
        {
         "name": "pardons",
         "rawType": "float64",
         "type": "float"
        },
        {
         "name": "parent",
         "rawType": "float64",
         "type": "float"
        },
        {
         "name": "parentage",
         "rawType": "float64",
         "type": "float"
        },
        {
         "name": "parental",
         "rawType": "float64",
         "type": "float"
        },
        {
         "name": "parents",
         "rawType": "float64",
         "type": "float"
        },
        {
         "name": "parochial",
         "rawType": "float64",
         "type": "float"
        },
        {
         "name": "part",
         "rawType": "float64",
         "type": "float"
        },
        {
         "name": "participation",
         "rawType": "float64",
         "type": "float"
        },
        {
         "name": "party",
         "rawType": "float64",
         "type": "float"
        },
        {
         "name": "pass",
         "rawType": "float64",
         "type": "float"
        },
        {
         "name": "passage",
         "rawType": "float64",
         "type": "float"
        },
        {
         "name": "passed",
         "rawType": "float64",
         "type": "float"
        },
        {
         "name": "past",
         "rawType": "float64",
         "type": "float"
        },
        {
         "name": "pay",
         "rawType": "float64",
         "type": "float"
        },
        {
         "name": "payment",
         "rawType": "float64",
         "type": "float"
        },
        {
         "name": "payments",
         "rawType": "float64",
         "type": "float"
        },
        {
         "name": "peace",
         "rawType": "float64",
         "type": "float"
        },
        {
         "name": "penal",
         "rawType": "float64",
         "type": "float"
        },
        {
         "name": "penalties",
         "rawType": "float64",
         "type": "float"
        },
        {
         "name": "penalty",
         "rawType": "float64",
         "type": "float"
        },
        {
         "name": "pension",
         "rawType": "float64",
         "type": "float"
        },
        {
         "name": "pensions",
         "rawType": "float64",
         "type": "float"
        },
        {
         "name": "people",
         "rawType": "float64",
         "type": "float"
        },
        {
         "name": "per",
         "rawType": "float64",
         "type": "float"
        },
        {
         "name": "percent",
         "rawType": "float64",
         "type": "float"
        },
        {
         "name": "percentage",
         "rawType": "float64",
         "type": "float"
        },
        {
         "name": "perform",
         "rawType": "float64",
         "type": "float"
        },
        {
         "name": "period",
         "rawType": "float64",
         "type": "float"
        },
        {
         "name": "permanent",
         "rawType": "float64",
         "type": "float"
        },
        {
         "name": "permit",
         "rawType": "float64",
         "type": "float"
        },
        {
         "name": "permits",
         "rawType": "float64",
         "type": "float"
        },
        {
         "name": "permitted",
         "rawType": "float64",
         "type": "float"
        },
        {
         "name": "permitting",
         "rawType": "float64",
         "type": "float"
        },
        {
         "name": "person",
         "rawType": "float64",
         "type": "float"
        },
        {
         "name": "personal",
         "rawType": "float64",
         "type": "float"
        },
        {
         "name": "persons",
         "rawType": "float64",
         "type": "float"
        },
        {
         "name": "pertaining",
         "rawType": "float64",
         "type": "float"
        },
        {
         "name": "petition",
         "rawType": "float64",
         "type": "float"
        },
        {
         "name": "petitions",
         "rawType": "float64",
         "type": "float"
        },
        {
         "name": "physical",
         "rawType": "float64",
         "type": "float"
        },
        {
         "name": "place",
         "rawType": "float64",
         "type": "float"
        },
        {
         "name": "places",
         "rawType": "float64",
         "type": "float"
        },
        {
         "name": "placing",
         "rawType": "float64",
         "type": "float"
        },
        {
         "name": "pledge",
         "rawType": "float64",
         "type": "float"
        },
        {
         "name": "plurality",
         "rawType": "float64",
         "type": "float"
        },
        {
         "name": "policies",
         "rawType": "float64",
         "type": "float"
        },
        {
         "name": "political",
         "rawType": "float64",
         "type": "float"
        },
        {
         "name": "poll",
         "rawType": "float64",
         "type": "float"
        },
        {
         "name": "polygamists",
         "rawType": "float64",
         "type": "float"
        },
        {
         "name": "polygamous",
         "rawType": "float64",
         "type": "float"
        },
        {
         "name": "polygamy",
         "rawType": "float64",
         "type": "float"
        },
        {
         "name": "popular",
         "rawType": "float64",
         "type": "float"
        },
        {
         "name": "population",
         "rawType": "float64",
         "type": "float"
        },
        {
         "name": "pornography",
         "rawType": "float64",
         "type": "float"
        },
        {
         "name": "portions",
         "rawType": "float64",
         "type": "float"
        },
        {
         "name": "position",
         "rawType": "float64",
         "type": "float"
        },
        {
         "name": "positions",
         "rawType": "float64",
         "type": "float"
        },
        {
         "name": "possession",
         "rawType": "float64",
         "type": "float"
        },
        {
         "name": "possessions",
         "rawType": "float64",
         "type": "float"
        },
        {
         "name": "postal",
         "rawType": "float64",
         "type": "float"
        },
        {
         "name": "postmasters",
         "rawType": "float64",
         "type": "float"
        },
        {
         "name": "power",
         "rawType": "float64",
         "type": "float"
        },
        {
         "name": "powers",
         "rawType": "float64",
         "type": "float"
        },
        {
         "name": "practice",
         "rawType": "float64",
         "type": "float"
        },
        {
         "name": "practices",
         "rawType": "float64",
         "type": "float"
        },
        {
         "name": "pray",
         "rawType": "float64",
         "type": "float"
        },
        {
         "name": "prayer",
         "rawType": "float64",
         "type": "float"
        },
        {
         "name": "prayers",
         "rawType": "float64",
         "type": "float"
        },
        {
         "name": "preamble",
         "rawType": "float64",
         "type": "float"
        },
        {
         "name": "preceding",
         "rawType": "float64",
         "type": "float"
        },
        {
         "name": "pres",
         "rawType": "float64",
         "type": "float"
        },
        {
         "name": "prescribe",
         "rawType": "float64",
         "type": "float"
        },
        {
         "name": "prescribed",
         "rawType": "float64",
         "type": "float"
        },
        {
         "name": "prescribing",
         "rawType": "float64",
         "type": "float"
        },
        {
         "name": "present",
         "rawType": "float64",
         "type": "float"
        },
        {
         "name": "presentation",
         "rawType": "float64",
         "type": "float"
        },
        {
         "name": "presented",
         "rawType": "float64",
         "type": "float"
        },
        {
         "name": "presentment",
         "rawType": "float64",
         "type": "float"
        },
        {
         "name": "preserve",
         "rawType": "float64",
         "type": "float"
        },
        {
         "name": "preserving",
         "rawType": "float64",
         "type": "float"
        },
        {
         "name": "presidency",
         "rawType": "float64",
         "type": "float"
        },
        {
         "name": "president",
         "rawType": "float64",
         "type": "float"
        },
        {
         "name": "presidential",
         "rawType": "float64",
         "type": "float"
        },
        {
         "name": "presidents",
         "rawType": "float64",
         "type": "float"
        },
        {
         "name": "press",
         "rawType": "float64",
         "type": "float"
        },
        {
         "name": "prevent",
         "rawType": "float64",
         "type": "float"
        },
        {
         "name": "preventing",
         "rawType": "float64",
         "type": "float"
        },
        {
         "name": "prevention",
         "rawType": "float64",
         "type": "float"
        },
        {
         "name": "previous",
         "rawType": "float64",
         "type": "float"
        },
        {
         "name": "prices",
         "rawType": "float64",
         "type": "float"
        },
        {
         "name": "primacy",
         "rawType": "float64",
         "type": "float"
        },
        {
         "name": "primaries",
         "rawType": "float64",
         "type": "float"
        },
        {
         "name": "primary",
         "rawType": "float64",
         "type": "float"
        },
        {
         "name": "principle",
         "rawType": "float64",
         "type": "float"
        },
        {
         "name": "principles",
         "rawType": "float64",
         "type": "float"
        },
        {
         "name": "prior",
         "rawType": "float64",
         "type": "float"
        },
        {
         "name": "private",
         "rawType": "float64",
         "type": "float"
        },
        {
         "name": "privileges",
         "rawType": "float64",
         "type": "float"
        },
        {
         "name": "procedure",
         "rawType": "float64",
         "type": "float"
        },
        {
         "name": "procedures",
         "rawType": "float64",
         "type": "float"
        },
        {
         "name": "proceedings",
         "rawType": "float64",
         "type": "float"
        },
        {
         "name": "process",
         "rawType": "float64",
         "type": "float"
        },
        {
         "name": "proclaimed",
         "rawType": "float64",
         "type": "float"
        },
        {
         "name": "produced",
         "rawType": "float64",
         "type": "float"
        },
        {
         "name": "product",
         "rawType": "float64",
         "type": "float"
        },
        {
         "name": "production",
         "rawType": "float64",
         "type": "float"
        },
        {
         "name": "products",
         "rawType": "float64",
         "type": "float"
        },
        {
         "name": "profit",
         "rawType": "float64",
         "type": "float"
        },
        {
         "name": "profiteering",
         "rawType": "float64",
         "type": "float"
        },
        {
         "name": "program",
         "rawType": "float64",
         "type": "float"
        },
        {
         "name": "programs",
         "rawType": "float64",
         "type": "float"
        },
        {
         "name": "progressively",
         "rawType": "float64",
         "type": "float"
        },
        {
         "name": "prohibit",
         "rawType": "float64",
         "type": "float"
        },
        {
         "name": "prohibited",
         "rawType": "float64",
         "type": "float"
        },
        {
         "name": "prohibiting",
         "rawType": "float64",
         "type": "float"
        },
        {
         "name": "prohibition",
         "rawType": "float64",
         "type": "float"
        },
        {
         "name": "prohibitions",
         "rawType": "float64",
         "type": "float"
        },
        {
         "name": "prohibits",
         "rawType": "float64",
         "type": "float"
        },
        {
         "name": "proper",
         "rawType": "float64",
         "type": "float"
        },
        {
         "name": "property",
         "rawType": "float64",
         "type": "float"
        },
        {
         "name": "proportion",
         "rawType": "float64",
         "type": "float"
        },
        {
         "name": "proportional",
         "rawType": "float64",
         "type": "float"
        },
        {
         "name": "proportionally",
         "rawType": "float64",
         "type": "float"
        },
        {
         "name": "proportionately",
         "rawType": "float64",
         "type": "float"
        },
        {
         "name": "proposal",
         "rawType": "float64",
         "type": "float"
        },
        {
         "name": "propose",
         "rawType": "float64",
         "type": "float"
        },
        {
         "name": "proposed",
         "rawType": "float64",
         "type": "float"
        },
        {
         "name": "proposes",
         "rawType": "float64",
         "type": "float"
        },
        {
         "name": "proposing",
         "rawType": "float64",
         "type": "float"
        },
        {
         "name": "proposition",
         "rawType": "float64",
         "type": "float"
        },
        {
         "name": "protect",
         "rawType": "float64",
         "type": "float"
        },
        {
         "name": "protected",
         "rawType": "float64",
         "type": "float"
        },
        {
         "name": "protecting",
         "rawType": "float64",
         "type": "float"
        },
        {
         "name": "protection",
         "rawType": "float64",
         "type": "float"
        },
        {
         "name": "provide",
         "rawType": "float64",
         "type": "float"
        },
        {
         "name": "provided",
         "rawType": "float64",
         "type": "float"
        },
        {
         "name": "provides",
         "rawType": "float64",
         "type": "float"
        },
        {
         "name": "providing",
         "rawType": "float64",
         "type": "float"
        },
        {
         "name": "provision",
         "rawType": "float64",
         "type": "float"
        },
        {
         "name": "provisions",
         "rawType": "float64",
         "type": "float"
        },
        {
         "name": "public",
         "rawType": "float64",
         "type": "float"
        },
        {
         "name": "publication",
         "rawType": "float64",
         "type": "float"
        },
        {
         "name": "puerto",
         "rawType": "float64",
         "type": "float"
        },
        {
         "name": "punish",
         "rawType": "float64",
         "type": "float"
        },
        {
         "name": "punishable",
         "rawType": "float64",
         "type": "float"
        },
        {
         "name": "punishment",
         "rawType": "float64",
         "type": "float"
        },
        {
         "name": "purchase",
         "rawType": "float64",
         "type": "float"
        },
        {
         "name": "purpose",
         "rawType": "float64",
         "type": "float"
        },
        {
         "name": "purposes",
         "rawType": "float64",
         "type": "float"
        },
        {
         "name": "pursuance",
         "rawType": "float64",
         "type": "float"
        },
        {
         "name": "pursuant",
         "rawType": "float64",
         "type": "float"
        },
        {
         "name": "qualification",
         "rawType": "float64",
         "type": "float"
        },
        {
         "name": "qualifications",
         "rawType": "float64",
         "type": "float"
        },
        {
         "name": "qualified",
         "rawType": "float64",
         "type": "float"
        },
        {
         "name": "qualify",
         "rawType": "float64",
         "type": "float"
        },
        {
         "name": "quality",
         "rawType": "float64",
         "type": "float"
        },
        {
         "name": "quartering",
         "rawType": "float64",
         "type": "float"
        },
        {
         "name": "question",
         "rawType": "float64",
         "type": "float"
        },
        {
         "name": "questions",
         "rawType": "float64",
         "type": "float"
        },
        {
         "name": "quorum",
         "rawType": "float64",
         "type": "float"
        },
        {
         "name": "quotas",
         "rawType": "float64",
         "type": "float"
        },
        {
         "name": "race",
         "rawType": "float64",
         "type": "float"
        },
        {
         "name": "races",
         "rawType": "float64",
         "type": "float"
        },
        {
         "name": "raise",
         "rawType": "float64",
         "type": "float"
        },
        {
         "name": "raising",
         "rawType": "float64",
         "type": "float"
        },
        {
         "name": "rape",
         "rawType": "float64",
         "type": "float"
        },
        {
         "name": "rate",
         "rawType": "float64",
         "type": "float"
        },
        {
         "name": "rates",
         "rawType": "float64",
         "type": "float"
        },
        {
         "name": "ratification",
         "rawType": "float64",
         "type": "float"
        },
        {
         "name": "ratified",
         "rawType": "float64",
         "type": "float"
        },
        {
         "name": "ratify",
         "rawType": "float64",
         "type": "float"
        },
        {
         "name": "ratifying",
         "rawType": "float64",
         "type": "float"
        },
        {
         "name": "ratio",
         "rawType": "float64",
         "type": "float"
        },
        {
         "name": "reading",
         "rawType": "float64",
         "type": "float"
        },
        {
         "name": "real",
         "rawType": "float64",
         "type": "float"
        },
        {
         "name": "reappointment",
         "rawType": "float64",
         "type": "float"
        },
        {
         "name": "reapportionment",
         "rawType": "float64",
         "type": "float"
        },
        {
         "name": "reason",
         "rawType": "float64",
         "type": "float"
        },
        {
         "name": "rebel",
         "rawType": "float64",
         "type": "float"
        },
        {
         "name": "rebellion",
         "rawType": "float64",
         "type": "float"
        },
        {
         "name": "recall",
         "rawType": "float64",
         "type": "float"
        },
        {
         "name": "receipts",
         "rawType": "float64",
         "type": "float"
        },
        {
         "name": "received",
         "rawType": "float64",
         "type": "float"
        },
        {
         "name": "receives",
         "rawType": "float64",
         "type": "float"
        },
        {
         "name": "reciprocity",
         "rawType": "float64",
         "type": "float"
        },
        {
         "name": "recite",
         "rawType": "float64",
         "type": "float"
        },
        {
         "name": "recognition",
         "rawType": "float64",
         "type": "float"
        },
        {
         "name": "recognized",
         "rawType": "float64",
         "type": "float"
        },
        {
         "name": "recognizes",
         "rawType": "float64",
         "type": "float"
        },
        {
         "name": "recognizing",
         "rawType": "float64",
         "type": "float"
        },
        {
         "name": "recommendations",
         "rawType": "float64",
         "type": "float"
        },
        {
         "name": "reconfirmation",
         "rawType": "float64",
         "type": "float"
        },
        {
         "name": "reconfirmed",
         "rawType": "float64",
         "type": "float"
        },
        {
         "name": "reconstruction",
         "rawType": "float64",
         "type": "float"
        },
        {
         "name": "redefine",
         "rawType": "float64",
         "type": "float"
        },
        {
         "name": "redemption",
         "rawType": "float64",
         "type": "float"
        },
        {
         "name": "reduce",
         "rawType": "float64",
         "type": "float"
        },
        {
         "name": "reduced",
         "rawType": "float64",
         "type": "float"
        },
        {
         "name": "reducing",
         "rawType": "float64",
         "type": "float"
        },
        {
         "name": "reduction",
         "rawType": "float64",
         "type": "float"
        },
        {
         "name": "reelection",
         "rawType": "float64",
         "type": "float"
        },
        {
         "name": "reeligible",
         "rawType": "float64",
         "type": "float"
        },
        {
         "name": "reenacted",
         "rawType": "float64",
         "type": "float"
        },
        {
         "name": "reference",
         "rawType": "float64",
         "type": "float"
        },
        {
         "name": "referendum",
         "rawType": "float64",
         "type": "float"
        },
        {
         "name": "reform",
         "rawType": "float64",
         "type": "float"
        },
        {
         "name": "reforming",
         "rawType": "float64",
         "type": "float"
        },
        {
         "name": "regard",
         "rawType": "float64",
         "type": "float"
        },
        {
         "name": "regarding",
         "rawType": "float64",
         "type": "float"
        },
        {
         "name": "regardless",
         "rawType": "float64",
         "type": "float"
        },
        {
         "name": "regular",
         "rawType": "float64",
         "type": "float"
        },
        {
         "name": "regulate",
         "rawType": "float64",
         "type": "float"
        },
        {
         "name": "regulated",
         "rawType": "float64",
         "type": "float"
        },
        {
         "name": "regulating",
         "rawType": "float64",
         "type": "float"
        },
        {
         "name": "regulation",
         "rawType": "float64",
         "type": "float"
        },
        {
         "name": "regulations",
         "rawType": "float64",
         "type": "float"
        },
        {
         "name": "related",
         "rawType": "float64",
         "type": "float"
        },
        {
         "name": "relates",
         "rawType": "float64",
         "type": "float"
        },
        {
         "name": "relating",
         "rawType": "float64",
         "type": "float"
        },
        {
         "name": "relation",
         "rawType": "float64",
         "type": "float"
        },
        {
         "name": "relations",
         "rawType": "float64",
         "type": "float"
        },
        {
         "name": "relative",
         "rawType": "float64",
         "type": "float"
        },
        {
         "name": "released",
         "rawType": "float64",
         "type": "float"
        },
        {
         "name": "reliance",
         "rawType": "float64",
         "type": "float"
        },
        {
         "name": "religion",
         "rawType": "float64",
         "type": "float"
        },
        {
         "name": "religious",
         "rawType": "float64",
         "type": "float"
        },
        {
         "name": "religiously",
         "rawType": "float64",
         "type": "float"
        },
        {
         "name": "removal",
         "rawType": "float64",
         "type": "float"
        },
        {
         "name": "remove",
         "rawType": "float64",
         "type": "float"
        },
        {
         "name": "removing",
         "rawType": "float64",
         "type": "float"
        },
        {
         "name": "remuneration",
         "rawType": "float64",
         "type": "float"
        },
        {
         "name": "render",
         "rawType": "float64",
         "type": "float"
        },
        {
         "name": "renomination",
         "rawType": "float64",
         "type": "float"
        },
        {
         "name": "repayment",
         "rawType": "float64",
         "type": "float"
        },
        {
         "name": "repeal",
         "rawType": "float64",
         "type": "float"
        },
        {
         "name": "repealed",
         "rawType": "float64",
         "type": "float"
        },
        {
         "name": "repealing",
         "rawType": "float64",
         "type": "float"
        },
        {
         "name": "repeals",
         "rawType": "float64",
         "type": "float"
        },
        {
         "name": "reported",
         "rawType": "float64",
         "type": "float"
        },
        {
         "name": "representation",
         "rawType": "float64",
         "type": "float"
        },
        {
         "name": "representative",
         "rawType": "float64",
         "type": "float"
        },
        {
         "name": "representatives",
         "rawType": "float64",
         "type": "float"
        },
        {
         "name": "reprieves",
         "rawType": "float64",
         "type": "float"
        },
        {
         "name": "reproductive",
         "rawType": "float64",
         "type": "float"
        },
        {
         "name": "republican",
         "rawType": "float64",
         "type": "float"
        },
        {
         "name": "repugnant",
         "rawType": "float64",
         "type": "float"
        },
        {
         "name": "requested",
         "rawType": "float64",
         "type": "float"
        },
        {
         "name": "require",
         "rawType": "float64",
         "type": "float"
        },
        {
         "name": "required",
         "rawType": "float64",
         "type": "float"
        },
        {
         "name": "requirement",
         "rawType": "float64",
         "type": "float"
        },
        {
         "name": "requirements",
         "rawType": "float64",
         "type": "float"
        },
        {
         "name": "requires",
         "rawType": "float64",
         "type": "float"
        },
        {
         "name": "requiring",
         "rawType": "float64",
         "type": "float"
        },
        {
         "name": "requisition",
         "rawType": "float64",
         "type": "float"
        },
        {
         "name": "requisitions",
         "rawType": "float64",
         "type": "float"
        },
        {
         "name": "rescinded",
         "rawType": "float64",
         "type": "float"
        },
        {
         "name": "rescued",
         "rawType": "float64",
         "type": "float"
        },
        {
         "name": "reservation",
         "rawType": "float64",
         "type": "float"
        },
        {
         "name": "reserved",
         "rawType": "float64",
         "type": "float"
        },
        {
         "name": "reserving",
         "rawType": "float64",
         "type": "float"
        },
        {
         "name": "residence",
         "rawType": "float64",
         "type": "float"
        },
        {
         "name": "resident",
         "rawType": "float64",
         "type": "float"
        },
        {
         "name": "residents",
         "rawType": "float64",
         "type": "float"
        },
        {
         "name": "resignation",
         "rawType": "float64",
         "type": "float"
        },
        {
         "name": "resolution",
         "rawType": "float64",
         "type": "float"
        },
        {
         "name": "resolutions",
         "rawType": "float64",
         "type": "float"
        },
        {
         "name": "resources",
         "rawType": "float64",
         "type": "float"
        },
        {
         "name": "respect",
         "rawType": "float64",
         "type": "float"
        },
        {
         "name": "respecting",
         "rawType": "float64",
         "type": "float"
        },
        {
         "name": "respective",
         "rawType": "float64",
         "type": "float"
        },
        {
         "name": "responsibility",
         "rawType": "float64",
         "type": "float"
        },
        {
         "name": "responsible",
         "rawType": "float64",
         "type": "float"
        },
        {
         "name": "restore",
         "rawType": "float64",
         "type": "float"
        },
        {
         "name": "restoring",
         "rawType": "float64",
         "type": "float"
        },
        {
         "name": "restraint",
         "rawType": "float64",
         "type": "float"
        },
        {
         "name": "restrict",
         "rawType": "float64",
         "type": "float"
        },
        {
         "name": "restricted",
         "rawType": "float64",
         "type": "float"
        },
        {
         "name": "restricting",
         "rawType": "float64",
         "type": "float"
        },
        {
         "name": "restriction",
         "rawType": "float64",
         "type": "float"
        },
        {
         "name": "restrictions",
         "rawType": "float64",
         "type": "float"
        },
        {
         "name": "restricts",
         "rawType": "float64",
         "type": "float"
        },
        {
         "name": "retained",
         "rawType": "float64",
         "type": "float"
        },
        {
         "name": "retaining",
         "rawType": "float64",
         "type": "float"
        },
        {
         "name": "retire",
         "rawType": "float64",
         "type": "float"
        },
        {
         "name": "retirement",
         "rawType": "float64",
         "type": "float"
        },
        {
         "name": "retiring",
         "rawType": "float64",
         "type": "float"
        },
        {
         "name": "retroactive",
         "rawType": "float64",
         "type": "float"
        },
        {
         "name": "retrocede",
         "rawType": "float64",
         "type": "float"
        },
        {
         "name": "return",
         "rawType": "float64",
         "type": "float"
        },
        {
         "name": "returned",
         "rawType": "float64",
         "type": "float"
        },
        {
         "name": "returns",
         "rawType": "float64",
         "type": "float"
        },
        {
         "name": "revenue",
         "rawType": "float64",
         "type": "float"
        },
        {
         "name": "revenues",
         "rawType": "float64",
         "type": "float"
        },
        {
         "name": "reverse",
         "rawType": "float64",
         "type": "float"
        },
        {
         "name": "reversed",
         "rawType": "float64",
         "type": "float"
        },
        {
         "name": "review",
         "rawType": "float64",
         "type": "float"
        },
        {
         "name": "revise",
         "rawType": "float64",
         "type": "float"
        },
        {
         "name": "rico",
         "rawType": "float64",
         "type": "float"
        },
        {
         "name": "right",
         "rawType": "float64",
         "type": "float"
        },
        {
         "name": "rightful",
         "rawType": "float64",
         "type": "float"
        },
        {
         "name": "rights",
         "rawType": "float64",
         "type": "float"
        },
        {
         "name": "river",
         "rawType": "float64",
         "type": "float"
        },
        {
         "name": "roads",
         "rawType": "float64",
         "type": "float"
        },
        {
         "name": "rule",
         "rawType": "float64",
         "type": "float"
        },
        {
         "name": "ruler",
         "rawType": "float64",
         "type": "float"
        },
        {
         "name": "rules",
         "rawType": "float64",
         "type": "float"
        },
        {
         "name": "runoff",
         "rawType": "float64",
         "type": "float"
        },
        {
         "name": "safe",
         "rawType": "float64",
         "type": "float"
        },
        {
         "name": "safeguard",
         "rawType": "float64",
         "type": "float"
        },
        {
         "name": "said",
         "rawType": "float64",
         "type": "float"
        },
        {
         "name": "salaries",
         "rawType": "float64",
         "type": "float"
        },
        {
         "name": "salary",
         "rawType": "float64",
         "type": "float"
        },
        {
         "name": "sale",
         "rawType": "float64",
         "type": "float"
        },
        {
         "name": "sanction",
         "rawType": "float64",
         "type": "float"
        },
        {
         "name": "sanitary",
         "rawType": "float64",
         "type": "float"
        },
        {
         "name": "saviour",
         "rawType": "float64",
         "type": "float"
        },
        {
         "name": "school",
         "rawType": "float64",
         "type": "float"
        },
        {
         "name": "schools",
         "rawType": "float64",
         "type": "float"
        },
        {
         "name": "search",
         "rawType": "float64",
         "type": "float"
        },
        {
         "name": "seat",
         "rawType": "float64",
         "type": "float"
        },
        {
         "name": "secede",
         "rawType": "float64",
         "type": "float"
        },
        {
         "name": "secessionist",
         "rawType": "float64",
         "type": "float"
        },
        {
         "name": "secessionists",
         "rawType": "float64",
         "type": "float"
        },
        {
         "name": "second",
         "rawType": "float64",
         "type": "float"
        },
        {
         "name": "secretary",
         "rawType": "float64",
         "type": "float"
        },
        {
         "name": "sect",
         "rawType": "float64",
         "type": "float"
        },
        {
         "name": "sectarian",
         "rawType": "float64",
         "type": "float"
        },
        {
         "name": "section",
         "rawType": "float64",
         "type": "float"
        },
        {
         "name": "sections",
         "rawType": "float64",
         "type": "float"
        },
        {
         "name": "sects",
         "rawType": "float64",
         "type": "float"
        },
        {
         "name": "secure",
         "rawType": "float64",
         "type": "float"
        },
        {
         "name": "securing",
         "rawType": "float64",
         "type": "float"
        },
        {
         "name": "securities",
         "rawType": "float64",
         "type": "float"
        },
        {
         "name": "security",
         "rawType": "float64",
         "type": "float"
        },
        {
         "name": "see",
         "rawType": "float64",
         "type": "float"
        },
        {
         "name": "segregate",
         "rawType": "float64",
         "type": "float"
        },
        {
         "name": "seizure",
         "rawType": "float64",
         "type": "float"
        },
        {
         "name": "selection",
         "rawType": "float64",
         "type": "float"
        },
        {
         "name": "sell",
         "rawType": "float64",
         "type": "float"
        },
        {
         "name": "senate",
         "rawType": "float64",
         "type": "float"
        },
        {
         "name": "senator",
         "rawType": "float64",
         "type": "float"
        },
        {
         "name": "senators",
         "rawType": "float64",
         "type": "float"
        },
        {
         "name": "sense",
         "rawType": "float64",
         "type": "float"
        },
        {
         "name": "sentence",
         "rawType": "float64",
         "type": "float"
        },
        {
         "name": "sentenced",
         "rawType": "float64",
         "type": "float"
        },
        {
         "name": "separate",
         "rawType": "float64",
         "type": "float"
        },
        {
         "name": "september",
         "rawType": "float64",
         "type": "float"
        },
        {
         "name": "serious",
         "rawType": "float64",
         "type": "float"
        },
        {
         "name": "serve",
         "rawType": "float64",
         "type": "float"
        },
        {
         "name": "service",
         "rawType": "float64",
         "type": "float"
        },
        {
         "name": "services",
         "rawType": "float64",
         "type": "float"
        },
        {
         "name": "session",
         "rawType": "float64",
         "type": "float"
        },
        {
         "name": "sessions",
         "rawType": "float64",
         "type": "float"
        },
        {
         "name": "set",
         "rawType": "float64",
         "type": "float"
        },
        {
         "name": "setting",
         "rawType": "float64",
         "type": "float"
        },
        {
         "name": "seven",
         "rawType": "float64",
         "type": "float"
        },
        {
         "name": "seventeenth",
         "rawType": "float64",
         "type": "float"
        },
        {
         "name": "seventy",
         "rawType": "float64",
         "type": "float"
        },
        {
         "name": "several",
         "rawType": "float64",
         "type": "float"
        },
        {
         "name": "sex",
         "rawType": "float64",
         "type": "float"
        },
        {
         "name": "shall",
         "rawType": "float64",
         "type": "float"
        },
        {
         "name": "sharing",
         "rawType": "float64",
         "type": "float"
        },
        {
         "name": "signed",
         "rawType": "float64",
         "type": "float"
        },
        {
         "name": "significant",
         "rawType": "float64",
         "type": "float"
        },
        {
         "name": "silence",
         "rawType": "float64",
         "type": "float"
        },
        {
         "name": "silver",
         "rawType": "float64",
         "type": "float"
        },
        {
         "name": "similar",
         "rawType": "float64",
         "type": "float"
        },
        {
         "name": "since",
         "rawType": "float64",
         "type": "float"
        },
        {
         "name": "single",
         "rawType": "float64",
         "type": "float"
        },
        {
         "name": "six",
         "rawType": "float64",
         "type": "float"
        },
        {
         "name": "sixteenth",
         "rawType": "float64",
         "type": "float"
        },
        {
         "name": "slave",
         "rawType": "float64",
         "type": "float"
        },
        {
         "name": "slavery",
         "rawType": "float64",
         "type": "float"
        },
        {
         "name": "slaves",
         "rawType": "float64",
         "type": "float"
        },
        {
         "name": "social",
         "rawType": "float64",
         "type": "float"
        },
        {
         "name": "societies",
         "rawType": "float64",
         "type": "float"
        },
        {
         "name": "soil",
         "rawType": "float64",
         "type": "float"
        },
        {
         "name": "soldiers",
         "rawType": "float64",
         "type": "float"
        },
        {
         "name": "solely",
         "rawType": "float64",
         "type": "float"
        },
        {
         "name": "source",
         "rawType": "float64",
         "type": "float"
        },
        {
         "name": "south",
         "rawType": "float64",
         "type": "float"
        },
        {
         "name": "sovereign",
         "rawType": "float64",
         "type": "float"
        },
        {
         "name": "sovereignty",
         "rawType": "float64",
         "type": "float"
        },
        {
         "name": "special",
         "rawType": "float64",
         "type": "float"
        },
        {
         "name": "specific",
         "rawType": "float64",
         "type": "float"
        },
        {
         "name": "specified",
         "rawType": "float64",
         "type": "float"
        },
        {
         "name": "speech",
         "rawType": "float64",
         "type": "float"
        },
        {
         "name": "speeches",
         "rawType": "float64",
         "type": "float"
        },
        {
         "name": "spending",
         "rawType": "float64",
         "type": "float"
        },
        {
         "name": "staggered",
         "rawType": "float64",
         "type": "float"
        },
        {
         "name": "standards",
         "rawType": "float64",
         "type": "float"
        },
        {
         "name": "standing",
         "rawType": "float64",
         "type": "float"
        },
        {
         "name": "starting",
         "rawType": "float64",
         "type": "float"
        },
        {
         "name": "state",
         "rawType": "float64",
         "type": "float"
        },
        {
         "name": "statehood",
         "rawType": "float64",
         "type": "float"
        },
        {
         "name": "statements",
         "rawType": "float64",
         "type": "float"
        },
        {
         "name": "states",
         "rawType": "float64",
         "type": "float"
        },
        {
         "name": "status",
         "rawType": "float64",
         "type": "float"
        },
        {
         "name": "statutes",
         "rawType": "float64",
         "type": "float"
        },
        {
         "name": "statutory",
         "rawType": "float64",
         "type": "float"
        },
        {
         "name": "stay",
         "rawType": "float64",
         "type": "float"
        },
        {
         "name": "stock",
         "rawType": "float64",
         "type": "float"
        },
        {
         "name": "stored",
         "rawType": "float64",
         "type": "float"
        },
        {
         "name": "strength",
         "rawType": "float64",
         "type": "float"
        },
        {
         "name": "student",
         "rawType": "float64",
         "type": "float"
        },
        {
         "name": "students",
         "rawType": "float64",
         "type": "float"
        },
        {
         "name": "suability",
         "rawType": "float64",
         "type": "float"
        },
        {
         "name": "subcommittee",
         "rawType": "float64",
         "type": "float"
        },
        {
         "name": "subdivision",
         "rawType": "float64",
         "type": "float"
        },
        {
         "name": "subdivisions",
         "rawType": "float64",
         "type": "float"
        },
        {
         "name": "subject",
         "rawType": "float64",
         "type": "float"
        },
        {
         "name": "submission",
         "rawType": "float64",
         "type": "float"
        },
        {
         "name": "submit",
         "rawType": "float64",
         "type": "float"
        },
        {
         "name": "submitted",
         "rawType": "float64",
         "type": "float"
        },
        {
         "name": "submitting",
         "rawType": "float64",
         "type": "float"
        },
        {
         "name": "substitute",
         "rawType": "float64",
         "type": "float"
        },
        {
         "name": "subversion",
         "rawType": "float64",
         "type": "float"
        },
        {
         "name": "subversive",
         "rawType": "float64",
         "type": "float"
        },
        {
         "name": "subversives",
         "rawType": "float64",
         "type": "float"
        },
        {
         "name": "succeeding",
         "rawType": "float64",
         "type": "float"
        },
        {
         "name": "succession",
         "rawType": "float64",
         "type": "float"
        },
        {
         "name": "successive",
         "rawType": "float64",
         "type": "float"
        },
        {
         "name": "successors",
         "rawType": "float64",
         "type": "float"
        },
        {
         "name": "sufficient",
         "rawType": "float64",
         "type": "float"
        },
        {
         "name": "suffrage",
         "rawType": "float64",
         "type": "float"
        },
        {
         "name": "suit",
         "rawType": "float64",
         "type": "float"
        },
        {
         "name": "suitable",
         "rawType": "float64",
         "type": "float"
        },
        {
         "name": "suits",
         "rawType": "float64",
         "type": "float"
        },
        {
         "name": "support",
         "rawType": "float64",
         "type": "float"
        },
        {
         "name": "suppress",
         "rawType": "float64",
         "type": "float"
        },
        {
         "name": "supreme",
         "rawType": "float64",
         "type": "float"
        },
        {
         "name": "surplus",
         "rawType": "float64",
         "type": "float"
        },
        {
         "name": "surpluses",
         "rawType": "float64",
         "type": "float"
        },
        {
         "name": "surtax",
         "rawType": "float64",
         "type": "float"
        },
        {
         "name": "suspend",
         "rawType": "float64",
         "type": "float"
        },
        {
         "name": "suspension",
         "rawType": "float64",
         "type": "float"
        },
        {
         "name": "sustainable",
         "rawType": "float64",
         "type": "float"
        },
        {
         "name": "system",
         "rawType": "float64",
         "type": "float"
        },
        {
         "name": "systematic",
         "rawType": "float64",
         "type": "float"
        },
        {
         "name": "systems",
         "rawType": "float64",
         "type": "float"
        },
        {
         "name": "take",
         "rawType": "float64",
         "type": "float"
        },
        {
         "name": "taken",
         "rawType": "float64",
         "type": "float"
        },
        {
         "name": "taking",
         "rawType": "float64",
         "type": "float"
        },
        {
         "name": "tariff",
         "rawType": "float64",
         "type": "float"
        },
        {
         "name": "tax",
         "rawType": "float64",
         "type": "float"
        },
        {
         "name": "taxation",
         "rawType": "float64",
         "type": "float"
        },
        {
         "name": "taxed",
         "rawType": "float64",
         "type": "float"
        },
        {
         "name": "taxes",
         "rawType": "float64",
         "type": "float"
        },
        {
         "name": "taxing",
         "rawType": "float64",
         "type": "float"
        },
        {
         "name": "teachers",
         "rawType": "float64",
         "type": "float"
        },
        {
         "name": "teaching",
         "rawType": "float64",
         "type": "float"
        },
        {
         "name": "temporarily",
         "rawType": "float64",
         "type": "float"
        },
        {
         "name": "temporary",
         "rawType": "float64",
         "type": "float"
        },
        {
         "name": "ten",
         "rawType": "float64",
         "type": "float"
        },
        {
         "name": "tender",
         "rawType": "float64",
         "type": "float"
        },
        {
         "name": "tenure",
         "rawType": "float64",
         "type": "float"
        },
        {
         "name": "term",
         "rawType": "float64",
         "type": "float"
        },
        {
         "name": "terminate",
         "rawType": "float64",
         "type": "float"
        },
        {
         "name": "termination",
         "rawType": "float64",
         "type": "float"
        },
        {
         "name": "terms",
         "rawType": "float64",
         "type": "float"
        },
        {
         "name": "tern",
         "rawType": "float64",
         "type": "float"
        },
        {
         "name": "territorial",
         "rawType": "float64",
         "type": "float"
        },
        {
         "name": "territories",
         "rawType": "float64",
         "type": "float"
        },
        {
         "name": "territory",
         "rawType": "float64",
         "type": "float"
        },
        {
         "name": "test",
         "rawType": "float64",
         "type": "float"
        },
        {
         "name": "testimony",
         "rawType": "float64",
         "type": "float"
        },
        {
         "name": "thereafter",
         "rawType": "float64",
         "type": "float"
        },
        {
         "name": "thereby",
         "rawType": "float64",
         "type": "float"
        },
        {
         "name": "therefrom",
         "rawType": "float64",
         "type": "float"
        },
        {
         "name": "therein",
         "rawType": "float64",
         "type": "float"
        },
        {
         "name": "thereof",
         "rawType": "float64",
         "type": "float"
        },
        {
         "name": "thereto",
         "rawType": "float64",
         "type": "float"
        },
        {
         "name": "third",
         "rawType": "float64",
         "type": "float"
        },
        {
         "name": "thirds",
         "rawType": "float64",
         "type": "float"
        },
        {
         "name": "three",
         "rawType": "float64",
         "type": "float"
        },
        {
         "name": "throughout",
         "rawType": "float64",
         "type": "float"
        },
        {
         "name": "thursday",
         "rawType": "float64",
         "type": "float"
        },
        {
         "name": "time",
         "rawType": "float64",
         "type": "float"
        },
        {
         "name": "times",
         "rawType": "float64",
         "type": "float"
        },
        {
         "name": "titles",
         "rawType": "float64",
         "type": "float"
        },
        {
         "name": "together",
         "rawType": "float64",
         "type": "float"
        },
        {
         "name": "total",
         "rawType": "float64",
         "type": "float"
        },
        {
         "name": "town",
         "rawType": "float64",
         "type": "float"
        },
        {
         "name": "trade",
         "rawType": "float64",
         "type": "float"
        },
        {
         "name": "trademarks",
         "rawType": "float64",
         "type": "float"
        },
        {
         "name": "traffic",
         "rawType": "float64",
         "type": "float"
        },
        {
         "name": "train",
         "rawType": "float64",
         "type": "float"
        },
        {
         "name": "transit",
         "rawType": "float64",
         "type": "float"
        },
        {
         "name": "transportation",
         "rawType": "float64",
         "type": "float"
        },
        {
         "name": "travel",
         "rawType": "float64",
         "type": "float"
        },
        {
         "name": "treason",
         "rawType": "float64",
         "type": "float"
        },
        {
         "name": "treasury",
         "rawType": "float64",
         "type": "float"
        },
        {
         "name": "treat",
         "rawType": "float64",
         "type": "float"
        },
        {
         "name": "treated",
         "rawType": "float64",
         "type": "float"
        },
        {
         "name": "treaties",
         "rawType": "float64",
         "type": "float"
        },
        {
         "name": "treaty",
         "rawType": "float64",
         "type": "float"
        },
        {
         "name": "trial",
         "rawType": "float64",
         "type": "float"
        },
        {
         "name": "trials",
         "rawType": "float64",
         "type": "float"
        },
        {
         "name": "tribes",
         "rawType": "float64",
         "type": "float"
        },
        {
         "name": "tribunal",
         "rawType": "float64",
         "type": "float"
        },
        {
         "name": "tribunals",
         "rawType": "float64",
         "type": "float"
        },
        {
         "name": "troops",
         "rawType": "float64",
         "type": "float"
        },
        {
         "name": "trust",
         "rawType": "float64",
         "type": "float"
        },
        {
         "name": "trusts",
         "rawType": "float64",
         "type": "float"
        },
        {
         "name": "tuesday",
         "rawType": "float64",
         "type": "float"
        },
        {
         "name": "twelve",
         "rawType": "float64",
         "type": "float"
        },
        {
         "name": "twentieth",
         "rawType": "float64",
         "type": "float"
        },
        {
         "name": "twenty",
         "rawType": "float64",
         "type": "float"
        },
        {
         "name": "twice",
         "rawType": "float64",
         "type": "float"
        },
        {
         "name": "two",
         "rawType": "float64",
         "type": "float"
        },
        {
         "name": "unable",
         "rawType": "float64",
         "type": "float"
        },
        {
         "name": "unamendable",
         "rawType": "float64",
         "type": "float"
        },
        {
         "name": "unborn",
         "rawType": "float64",
         "type": "float"
        },
        {
         "name": "unconstitutional",
         "rawType": "float64",
         "type": "float"
        },
        {
         "name": "unfair",
         "rawType": "float64",
         "type": "float"
        },
        {
         "name": "unfunded",
         "rawType": "float64",
         "type": "float"
        },
        {
         "name": "uniform",
         "rawType": "float64",
         "type": "float"
        },
        {
         "name": "uniformity",
         "rawType": "float64",
         "type": "float"
        },
        {
         "name": "uniformly",
         "rawType": "float64",
         "type": "float"
        },
        {
         "name": "union",
         "rawType": "float64",
         "type": "float"
        },
        {
         "name": "united",
         "rawType": "float64",
         "type": "float"
        },
        {
         "name": "universal",
         "rawType": "float64",
         "type": "float"
        },
        {
         "name": "university",
         "rawType": "float64",
         "type": "float"
        },
        {
         "name": "unless",
         "rawType": "float64",
         "type": "float"
        },
        {
         "name": "unqualified",
         "rawType": "float64",
         "type": "float"
        },
        {
         "name": "unreasonably",
         "rawType": "float64",
         "type": "float"
        },
        {
         "name": "unsuccessful",
         "rawType": "float64",
         "type": "float"
        },
        {
         "name": "upon",
         "rawType": "float64",
         "type": "float"
        },
        {
         "name": "use",
         "rawType": "float64",
         "type": "float"
        },
        {
         "name": "used",
         "rawType": "float64",
         "type": "float"
        },
        {
         "name": "using",
         "rawType": "float64",
         "type": "float"
        },
        {
         "name": "vacancies",
         "rawType": "float64",
         "type": "float"
        },
        {
         "name": "vacancy",
         "rawType": "float64",
         "type": "float"
        },
        {
         "name": "valid",
         "rawType": "float64",
         "type": "float"
        },
        {
         "name": "validity",
         "rawType": "float64",
         "type": "float"
        },
        {
         "name": "valuation",
         "rawType": "float64",
         "type": "float"
        },
        {
         "name": "value",
         "rawType": "float64",
         "type": "float"
        },
        {
         "name": "various",
         "rawType": "float64",
         "type": "float"
        },
        {
         "name": "vested",
         "rawType": "float64",
         "type": "float"
        },
        {
         "name": "vesting",
         "rawType": "float64",
         "type": "float"
        },
        {
         "name": "veto",
         "rawType": "float64",
         "type": "float"
        },
        {
         "name": "vetoed",
         "rawType": "float64",
         "type": "float"
        },
        {
         "name": "vetoes",
         "rawType": "float64",
         "type": "float"
        },
        {
         "name": "vetoing",
         "rawType": "float64",
         "type": "float"
        },
        {
         "name": "vice",
         "rawType": "float64",
         "type": "float"
        },
        {
         "name": "victims",
         "rawType": "float64",
         "type": "float"
        },
        {
         "name": "vinous",
         "rawType": "float64",
         "type": "float"
        },
        {
         "name": "violence",
         "rawType": "float64",
         "type": "float"
        },
        {
         "name": "violent",
         "rawType": "float64",
         "type": "float"
        },
        {
         "name": "virgin",
         "rawType": "float64",
         "type": "float"
        },
        {
         "name": "virtual",
         "rawType": "float64",
         "type": "float"
        },
        {
         "name": "virtue",
         "rawType": "float64",
         "type": "float"
        },
        {
         "name": "viva",
         "rawType": "float64",
         "type": "float"
        },
        {
         "name": "voce",
         "rawType": "float64",
         "type": "float"
        },
        {
         "name": "volume",
         "rawType": "float64",
         "type": "float"
        },
        {
         "name": "voluntarily",
         "rawType": "float64",
         "type": "float"
        },
        {
         "name": "voluntary",
         "rawType": "float64",
         "type": "float"
        },
        {
         "name": "vote",
         "rawType": "float64",
         "type": "float"
        },
        {
         "name": "voted",
         "rawType": "float64",
         "type": "float"
        },
        {
         "name": "voter",
         "rawType": "float64",
         "type": "float"
        },
        {
         "name": "voters",
         "rawType": "float64",
         "type": "float"
        },
        {
         "name": "votes",
         "rawType": "float64",
         "type": "float"
        },
        {
         "name": "voting",
         "rawType": "float64",
         "type": "float"
        },
        {
         "name": "wage",
         "rawType": "float64",
         "type": "float"
        },
        {
         "name": "wages",
         "rawType": "float64",
         "type": "float"
        },
        {
         "name": "waiving",
         "rawType": "float64",
         "type": "float"
        },
        {
         "name": "war",
         "rawType": "float64",
         "type": "float"
        },
        {
         "name": "warrants",
         "rawType": "float64",
         "type": "float"
        },
        {
         "name": "water",
         "rawType": "float64",
         "type": "float"
        },
        {
         "name": "wealth",
         "rawType": "float64",
         "type": "float"
        },
        {
         "name": "weapons",
         "rawType": "float64",
         "type": "float"
        },
        {
         "name": "wednesday",
         "rawType": "float64",
         "type": "float"
        },
        {
         "name": "welfare",
         "rawType": "float64",
         "type": "float"
        },
        {
         "name": "well",
         "rawType": "float64",
         "type": "float"
        },
        {
         "name": "whenever",
         "rawType": "float64",
         "type": "float"
        },
        {
         "name": "whether",
         "rawType": "float64",
         "type": "float"
        },
        {
         "name": "white",
         "rawType": "float64",
         "type": "float"
        },
        {
         "name": "whole",
         "rawType": "float64",
         "type": "float"
        },
        {
         "name": "whose",
         "rawType": "float64",
         "type": "float"
        },
        {
         "name": "wine",
         "rawType": "float64",
         "type": "float"
        },
        {
         "name": "withdraw",
         "rawType": "float64",
         "type": "float"
        },
        {
         "name": "withdrawal",
         "rawType": "float64",
         "type": "float"
        },
        {
         "name": "within",
         "rawType": "float64",
         "type": "float"
        },
        {
         "name": "without",
         "rawType": "float64",
         "type": "float"
        },
        {
         "name": "woman",
         "rawType": "float64",
         "type": "float"
        },
        {
         "name": "women",
         "rawType": "float64",
         "type": "float"
        },
        {
         "name": "work",
         "rawType": "float64",
         "type": "float"
        },
        {
         "name": "world",
         "rawType": "float64",
         "type": "float"
        },
        {
         "name": "would",
         "rawType": "float64",
         "type": "float"
        },
        {
         "name": "writing",
         "rawType": "float64",
         "type": "float"
        },
        {
         "name": "writs",
         "rawType": "float64",
         "type": "float"
        },
        {
         "name": "xi",
         "rawType": "float64",
         "type": "float"
        },
        {
         "name": "xiv",
         "rawType": "float64",
         "type": "float"
        },
        {
         "name": "year",
         "rawType": "float64",
         "type": "float"
        },
        {
         "name": "years",
         "rawType": "float64",
         "type": "float"
        },
        {
         "name": "yeas",
         "rawType": "float64",
         "type": "float"
        }
       ],
       "ref": "4706b998-a7fd-405a-bb4a-86bef8669f5f",
       "rows": [
        [
         "0",
         "0.0",
         "0.0",
         "0.0",
         "0.0",
         "0.0",
         "0.0",
         "0.0",
         "0.0",
         "0.0",
         "0.0",
         "0.0",
         "0.0",
         "0.0",
         "0.0",
         "0.0",
         "0.0",
         "0.0",
         "0.0",
         "0.0",
         "0.0",
         "0.0",
         "0.0",
         "0.0",
         "0.0",
         "0.0",
         "0.0",
         "0.0",
         "0.0",
         "0.0",
         "0.0",
         "0.0",
         "0.0",
         "0.0",
         "0.0",
         "0.0",
         "0.0",
         "0.0",
         "0.0",
         "0.0",
         "0.0",
         "0.0",
         "0.0",
         "0.0",
         "0.0",
         "0.0",
         "0.0",
         "0.0",
         "0.0",
         "0.0",
         "0.0",
         "0.0",
         "0.0",
         "0.0",
         "0.0",
         "0.0",
         "0.0",
         "0.0",
         "0.0",
         "0.0",
         "0.0",
         "0.0",
         "0.0",
         "0.0",
         "0.0",
         "0.0",
         "0.0",
         "0.0",
         "0.0",
         "0.0",
         "0.0",
         "0.0",
         "0.0",
         "0.0",
         "0.0",
         "0.0",
         "0.0",
         "0.0",
         "0.0",
         "0.0",
         "0.0",
         "0.0",
         "0.0",
         "0.0",
         "0.0",
         "0.0",
         "0.0",
         "0.0",
         "0.0",
         "0.0",
         "0.0",
         "0.0",
         "0.0",
         "0.0",
         "0.0",
         "0.0",
         "0.0",
         "0.0",
         "0.0",
         "0.0",
         "0.0",
         "0.0",
         "0.0",
         "0.0",
         "0.0",
         "0.0",
         "0.0",
         "0.0",
         "0.0",
         "0.0",
         "0.0",
         "0.0",
         "0.0",
         "0.0",
         "0.0",
         "0.0",
         "0.0",
         "0.0",
         "0.0",
         "0.0",
         "0.0",
         "0.0",
         "0.0",
         "0.0",
         "0.0",
         "0.0",
         "0.0",
         "0.0",
         "0.0",
         "0.0",
         "0.0",
         "0.0",
         "0.0",
         "0.0",
         "0.0",
         "0.0",
         "0.0",
         "0.0",
         "0.0",
         "0.0",
         "0.0",
         "0.0",
         "0.0",
         "0.0",
         "0.0",
         "0.0",
         "0.0",
         "0.0",
         "0.0",
         "0.0",
         "0.0",
         "0.0",
         "0.0",
         "0.0",
         "0.0",
         "0.0",
         "0.0",
         "0.0",
         "0.0",
         "0.0",
         "0.0",
         "0.0",
         "0.0",
         "0.0",
         "0.0",
         "0.0",
         "0.0",
         "0.0",
         "0.0",
         "0.0",
         "0.0",
         "0.0",
         "0.0",
         "0.0",
         "0.0",
         "0.0",
         "0.0",
         "0.0",
         "0.0",
         "0.0",
         "0.0",
         "0.0",
         "0.0",
         "0.0",
         "0.0",
         "0.0",
         "0.0",
         "0.0",
         "0.0",
         "0.0",
         "0.0",
         "0.0",
         "0.0",
         "0.0",
         "0.0",
         "0.0",
         "0.0",
         "0.0",
         "0.0",
         "0.0",
         "0.0",
         "0.0",
         "0.0",
         "0.0",
         "0.0",
         "0.0",
         "0.0",
         "0.0",
         "0.0",
         "0.0",
         "0.0",
         "0.0",
         "0.0",
         "0.0",
         "0.0",
         "0.0",
         "0.0",
         "0.0",
         "0.0",
         "0.0",
         "0.0",
         "0.0",
         "0.0",
         "0.0",
         "0.0",
         "0.0",
         "0.0",
         "0.0",
         "0.0",
         "0.0",
         "0.0",
         "0.0",
         "0.0",
         "0.0",
         "0.0",
         "0.0",
         "0.0",
         "0.0",
         "0.0",
         "0.0",
         "0.0",
         "0.0",
         "0.0",
         "0.0",
         "0.0",
         "0.0",
         "0.0",
         "0.0",
         "0.0",
         "0.0",
         "0.0",
         "0.0",
         "0.0",
         "0.0",
         "0.0",
         "0.0",
         "0.0",
         "0.0",
         "0.0",
         "0.0",
         "0.0",
         "0.0",
         "0.0",
         "0.0",
         "0.0",
         "0.0",
         "0.0",
         "0.0",
         "0.0",
         "0.0",
         "0.0",
         "0.0",
         "0.0",
         "0.0",
         "0.0",
         "0.0",
         "0.0",
         "0.0",
         "0.0",
         "0.0",
         "0.0",
         "0.0",
         "0.0",
         "0.0",
         "0.0",
         "0.0",
         "0.0",
         "0.0",
         "0.0",
         "0.0",
         "0.0",
         "0.0",
         "0.0",
         "0.0",
         "0.0",
         "0.0",
         "0.0",
         "0.0",
         "0.0",
         "0.0",
         "0.0",
         "0.0",
         "0.0",
         "0.0",
         "0.0",
         "0.0",
         "0.0",
         "0.0",
         "0.0",
         "0.0",
         "0.0",
         "0.0",
         "0.0",
         "0.0",
         "0.0",
         "0.0",
         "0.0",
         "0.0",
         "0.0",
         "0.0",
         "0.0",
         "0.0",
         "0.0",
         "0.0",
         "0.0",
         "0.0",
         "0.0",
         "0.0",
         "0.0",
         "0.0",
         "0.0",
         "0.0",
         "0.0",
         "0.0",
         "0.0",
         "0.0",
         "0.0",
         "0.0",
         "0.0",
         "0.0",
         "0.0",
         "0.0",
         "0.0",
         "0.0",
         "0.0",
         "0.0",
         "0.0",
         "0.0",
         "0.0",
         "0.0",
         "0.0",
         "0.0",
         "0.0",
         "0.0",
         "0.0",
         "0.0",
         "0.0",
         "0.0",
         "0.0",
         "0.0",
         "0.0",
         "0.0",
         "0.0",
         "0.0",
         "0.0",
         "0.0",
         "0.0",
         "0.0",
         "0.0",
         "0.0",
         "0.0",
         "0.0",
         "0.0",
         "0.0",
         "0.0",
         "0.0",
         "0.0",
         "0.0",
         "0.0",
         "0.0",
         "0.0",
         "0.0",
         "0.0",
         "0.0",
         "0.0",
         "0.0",
         "0.0",
         "0.0",
         "0.0",
         "0.0",
         "0.0",
         "0.0",
         "0.0",
         "0.0",
         "0.0",
         "0.0",
         "0.0",
         "0.0",
         "0.0",
         "0.0",
         "0.0",
         "0.0",
         "0.0",
         "0.0",
         "0.0",
         "0.0",
         "0.0",
         "0.0",
         "0.0",
         "0.0",
         "0.0",
         "0.0",
         "0.0",
         "0.0",
         "0.0",
         "0.0",
         "0.0",
         "0.0",
         "0.0",
         "0.0",
         "0.0",
         "0.0",
         "0.0",
         "0.0",
         "0.0",
         "0.0",
         "0.0",
         "0.0",
         "0.0",
         "0.0",
         "0.0",
         "0.0",
         "0.0",
         "0.0",
         "0.0",
         "0.0",
         "0.0",
         "0.0",
         "0.0",
         "0.0",
         "0.0",
         "0.0",
         "0.0",
         "0.0",
         "0.0",
         "0.0",
         "0.0",
         "0.0",
         "0.0",
         "0.0",
         "0.0",
         "0.0",
         "0.0",
         "0.0",
         "0.0",
         "0.0",
         "0.0",
         "0.0",
         "0.0",
         "0.0",
         "0.0",
         "0.0",
         "0.0",
         "0.0",
         "0.0",
         "0.0",
         "0.0",
         "0.0",
         "0.0",
         "0.0",
         "0.0",
         "0.0",
         "0.0",
         "0.0",
         "0.0",
         "0.0",
         "0.0",
         "0.0",
         "0.0",
         "0.0",
         "0.0",
         "0.0",
         "0.0",
         "0.0",
         "0.0",
         "0.0",
         "0.0",
         "0.0",
         "0.0",
         "0.0",
         "0.0",
         "0.0",
         "0.0",
         "0.0",
         "0.0",
         "0.0",
         "0.0",
         "0.0",
         "0.0",
         "0.0",
         "0.0",
         "0.0",
         "0.0",
         "0.0",
         "0.0",
         "0.0",
         "0.0",
         "0.0",
         "0.0",
         "0.0",
         "0.0",
         "0.0",
         "0.0",
         "0.0",
         "0.0",
         "0.0",
         "0.0",
         "0.0",
         "0.0",
         "0.0",
         "0.0",
         "0.0",
         "0.0",
         "0.0",
         "0.0",
         "0.0",
         "0.0",
         "0.0",
         "0.0",
         "0.0",
         "0.0",
         "0.0",
         "0.0",
         "0.0",
         "0.0",
         "0.0",
         "0.0",
         "0.0",
         "0.0",
         "0.0",
         "0.0",
         "0.0",
         "0.0",
         "0.0",
         "0.0",
         "0.0",
         "0.0",
         "0.0",
         "0.0",
         "0.0",
         "0.0",
         "0.0",
         "0.0",
         "0.0",
         "0.0",
         "0.0",
         "0.0",
         "0.0",
         "0.0",
         "0.0",
         "0.0",
         "0.0",
         "0.0",
         "0.0",
         "0.0",
         "0.0",
         "0.0",
         "0.0",
         "0.0",
         "0.0",
         "0.0",
         "0.0",
         "0.0",
         "0.0",
         "0.0",
         "0.0",
         "0.0",
         "0.0",
         "0.0",
         "0.0",
         "0.0",
         "0.0",
         "0.0",
         "0.0",
         "0.0",
         "0.0",
         "0.0",
         "0.0",
         "0.0",
         "0.0",
         "0.0",
         "0.0",
         "0.0",
         "0.0",
         "0.0",
         "0.0",
         "0.0",
         "0.0",
         "0.0",
         "0.0",
         "0.0",
         "0.0",
         "0.0",
         "0.0",
         "0.0",
         "0.0",
         "0.0",
         "0.0",
         "0.0",
         "0.0",
         "0.0",
         "0.0",
         "0.0",
         "0.0",
         "0.0",
         "0.0",
         "0.0",
         "0.0",
         "0.0",
         "0.0",
         "0.0",
         "0.0",
         "0.0",
         "0.0",
         "0.0",
         "0.0",
         "0.0",
         "0.0",
         "0.0",
         "0.0",
         "0.0",
         "0.0",
         "0.0",
         "0.0",
         "0.0",
         "0.0",
         "0.0",
         "0.0",
         "0.0",
         "0.0",
         "0.0",
         "0.0",
         "0.0",
         "0.0",
         "0.0",
         "0.0",
         "0.0",
         "0.0",
         "0.0",
         "0.0",
         "0.0",
         "0.0",
         "0.0",
         "0.0",
         "0.0",
         "0.0",
         "0.0",
         "0.0",
         "0.0",
         "0.0",
         "0.0",
         "0.0",
         "0.0",
         "0.0",
         "0.0",
         "0.0",
         "0.0",
         "0.0",
         "0.0",
         "0.0",
         "0.0",
         "0.0",
         "0.0",
         "0.0",
         "0.0",
         "0.0",
         "0.0",
         "0.0",
         "0.0",
         "0.0",
         "0.0",
         "0.0",
         "0.0",
         "0.0",
         "0.0",
         "0.0",
         "0.0",
         "0.0",
         "0.0",
         "0.0",
         "0.0",
         "0.0",
         "0.0",
         "0.0",
         "0.0",
         "0.0",
         "0.0",
         "0.0",
         "0.0",
         "0.0",
         "0.0",
         "0.0",
         "0.0",
         "0.0",
         "0.0",
         "0.0",
         "0.0",
         "0.0",
         "0.0",
         "0.0",
         "0.0",
         "0.0",
         "0.0",
         "0.0",
         "0.0",
         "0.0",
         "0.0",
         "0.0",
         "0.0",
         "0.0",
         "0.0",
         "0.0",
         "0.0",
         "0.0",
         "0.0",
         "0.0",
         "0.0",
         "0.0",
         "0.0",
         "0.0",
         "0.0",
         "0.0",
         "0.0",
         "0.0",
         "0.0",
         "0.0",
         "0.0",
         "0.0",
         "0.0",
         "0.0",
         "0.0",
         "0.0",
         "0.0",
         "0.0",
         "0.0",
         "0.0",
         "0.0",
         "0.0",
         "0.0",
         "0.0",
         "0.0",
         "0.0",
         "0.0",
         "0.0",
         "0.0",
         "0.0",
         "0.0",
         "0.0",
         "0.0",
         "0.0",
         "0.0",
         "0.0",
         "0.0",
         "0.0",
         "0.0",
         "0.0",
         "0.0",
         "0.0",
         "0.0",
         "0.0",
         "0.0",
         "0.0",
         "0.0",
         "0.0",
         "0.0",
         "0.0",
         "0.0",
         "0.0",
         "0.0",
         "0.0",
         "0.0",
         "0.0",
         "0.0",
         "0.0",
         "0.0",
         "0.0",
         "0.0",
         "0.0",
         "0.0",
         "0.0",
         "0.0",
         "0.0",
         "0.0",
         "0.0",
         "0.0",
         "0.0",
         "0.0",
         "0.0",
         "0.0",
         "0.0",
         "0.0",
         "0.0",
         "0.0",
         "0.0",
         "0.0",
         "0.0",
         "0.0",
         "0.0",
         "0.0",
         "0.0",
         "0.0",
         "0.0",
         "0.0",
         "0.0",
         "0.0",
         "0.0",
         "0.0",
         "0.0",
         "0.0",
         "0.0",
         "0.0",
         "0.0",
         "0.0",
         "0.0",
         "0.0",
         "0.0",
         "0.0",
         "0.0",
         "0.0",
         "0.0",
         "0.0",
         "0.0",
         "0.0",
         "0.0",
         "0.0",
         "0.0",
         "0.0",
         "0.0",
         "0.0",
         "0.0",
         "0.0",
         "0.0",
         "0.0",
         "0.0",
         "0.0",
         "0.0",
         "0.0",
         "0.0",
         "0.0",
         "0.0",
         "0.0",
         "0.0",
         "0.0",
         "0.0",
         "0.0",
         "0.0",
         "0.0",
         "0.0",
         "0.0",
         "0.0",
         "0.0",
         "0.0",
         "0.0",
         "0.0",
         "0.0",
         "0.0",
         "0.0",
         "0.0",
         "0.0",
         "0.0",
         "0.0",
         "0.0",
         "0.0",
         "0.0",
         "0.0",
         "0.0",
         "0.0",
         "0.0",
         "0.0",
         "0.0",
         "0.0",
         "0.0",
         "0.0",
         "0.0",
         "0.0",
         "0.0",
         "0.0",
         "0.0",
         "0.0",
         "0.0",
         "0.0",
         "0.0",
         "0.0",
         "0.0",
         "0.0",
         "0.0",
         "0.0",
         "0.0",
         "0.0",
         "0.0",
         "0.0",
         "0.0",
         "0.0",
         "0.0",
         "0.0",
         "0.0",
         "0.0",
         "0.0",
         "0.0",
         "0.0",
         "0.0",
         "0.0",
         "0.0",
         "0.0",
         "0.0",
         "0.0",
         "0.0",
         "0.0",
         "0.0",
         "0.0",
         "0.0",
         "0.0",
         "0.0",
         "0.0",
         "0.0",
         "0.0",
         "0.0",
         "0.0",
         "0.0",
         "0.0",
         "0.0",
         "0.0",
         "0.0",
         "0.0",
         "0.0",
         "0.0",
         "0.0",
         "0.0",
         "0.0",
         "0.0",
         "0.0",
         "0.0",
         "0.0",
         "0.0",
         "0.0",
         "0.0",
         "0.0",
         "0.0",
         "0.0",
         "0.0",
         "0.0",
         "0.0",
         "0.0",
         "0.0",
         "0.0",
         "0.0",
         "0.0",
         "0.0",
         "0.0",
         "0.0",
         "0.0",
         "0.0",
         "0.0",
         "0.0",
         "0.0",
         "0.0",
         "0.0",
         "0.0",
         "0.0",
         "0.0",
         "0.0",
         "0.0",
         "0.0",
         "0.0",
         "0.6067428483689756",
         "0.0",
         "0.0",
         "0.0",
         "0.0",
         "0.0",
         "0.0",
         "0.0",
         "0.0",
         "0.0",
         "0.0",
         "0.0",
         "0.0",
         "0.0",
         "0.0",
         "0.0",
         "0.0",
         "0.0",
         "0.0",
         "0.0",
         "0.0",
         "0.0",
         "0.0",
         "0.0",
         "0.0",
         "0.0",
         "0.0",
         "0.0",
         "0.0",
         "0.0",
         "0.0",
         "0.0",
         "0.0",
         "0.0",
         "0.0",
         "0.0",
         "0.0",
         "0.0",
         "0.0",
         "0.0",
         "0.0",
         "0.0",
         "0.0",
         "0.0",
         "0.0",
         "0.0",
         "0.0",
         "0.0",
         "0.0",
         "0.0",
         "0.0",
         "0.0",
         "0.0",
         "0.0",
         "0.0",
         "0.0",
         "0.0",
         "0.0",
         "0.0",
         "0.0",
         "0.0",
         "0.0",
         "0.0",
         "0.0",
         "0.0",
         "0.0",
         "0.0",
         "0.0",
         "0.0",
         "0.0",
         "0.0",
         "0.0",
         "0.0",
         "0.0",
         "0.0",
         "0.0",
         "0.0",
         "0.0",
         "0.0",
         "0.0",
         "0.0",
         "0.0",
         "0.0",
         "0.0",
         "0.0",
         "0.0",
         "0.0",
         "0.0",
         "0.0",
         "0.0",
         "0.0",
         "0.0",
         "0.0",
         "0.0",
         "0.0",
         "0.0",
         "0.0",
         "0.0",
         "0.0",
         "0.0",
         "0.0",
         "0.0",
         "0.0",
         "0.0",
         "0.0",
         "0.0",
         "0.0",
         "0.0",
         "0.0",
         "0.0",
         "0.0",
         "0.0",
         "0.0",
         "0.0",
         "0.0",
         "0.0",
         "0.0",
         "0.0",
         "0.0",
         "0.0",
         "0.0",
         "0.0",
         "0.0",
         "0.0",
         "0.0",
         "0.0",
         "0.0",
         "0.0",
         "0.0",
         "0.0",
         "0.450621615726009",
         "0.0",
         "0.0",
         "0.0",
         "0.0",
         "0.0",
         "0.0",
         "0.0",
         "0.0",
         "0.0",
         "0.0",
         "0.0",
         "0.0",
         "0.0",
         "0.0",
         "0.0",
         "0.0",
         "0.0",
         "0.0",
         "0.0",
         "0.0",
         "0.0",
         "0.0",
         "0.0",
         "0.0",
         "0.0",
         "0.0",
         "0.0",
         "0.0",
         "0.0",
         "0.0",
         "0.0",
         "0.0",
         "0.0",
         "0.0",
         "0.0",
         "0.0",
         "0.0",
         "0.0",
         "0.0",
         "0.0",
         "0.0",
         "0.0",
         "0.0",
         "0.0",
         "0.0",
         "0.0",
         "0.0",
         "0.0",
         "0.0",
         "0.0",
         "0.0",
         "0.0",
         "0.0",
         "0.0",
         "0.0",
         "0.0",
         "0.0",
         "0.0",
         "0.0",
         "0.0",
         "0.0",
         "0.0",
         "0.0",
         "0.0",
         "0.0",
         "0.0",
         "0.0",
         "0.0",
         "0.0",
         "0.0",
         "0.0",
         "0.0",
         "0.0",
         "0.0",
         "0.0",
         "0.0",
         "0.0",
         "0.0",
         "0.0",
         "0.0",
         "0.0",
         "0.0",
         "0.0",
         "0.0",
         "0.0",
         "0.0",
         "0.0",
         "0.0",
         "0.0",
         "0.0",
         "0.0",
         "0.0",
         "0.0",
         "0.0",
         "0.0",
         "0.0",
         "0.0",
         "0.0",
         "0.0",
         "0.0",
         "0.0",
         "0.0",
         "0.0",
         "0.0",
         "0.0",
         "0.0",
         "0.0",
         "0.0",
         "0.0",
         "0.0",
         "0.0",
         "0.0",
         "0.0",
         "0.0",
         "0.0",
         "0.0",
         "0.0",
         "0.0",
         "0.0",
         "0.0",
         "0.0",
         "0.0",
         "0.0",
         "0.0",
         "0.0",
         "0.0",
         "0.0",
         "0.0",
         "0.0",
         "0.0",
         "0.0",
         "0.0",
         "0.0",
         "0.0",
         "0.0",
         "0.0",
         "0.0",
         "0.0",
         "0.0",
         "0.0",
         "0.0",
         "0.0",
         "0.0",
         "0.0",
         "0.0",
         "0.0",
         "0.0",
         "0.0",
         "0.0",
         "0.0",
         "0.0",
         "0.0",
         "0.0",
         "0.0",
         "0.0",
         "0.0",
         "0.0",
         "0.0",
         "0.0",
         "0.0",
         "0.0",
         "0.0",
         "0.0",
         "0.0",
         "0.0",
         "0.0",
         "0.0",
         "0.0",
         "0.0",
         "0.0",
         "0.0",
         "0.0",
         "0.0",
         "0.0",
         "0.0",
         "0.0",
         "0.0",
         "0.0",
         "0.0",
         "0.0",
         "0.0",
         "0.0",
         "0.0",
         "0.0",
         "0.0",
         "0.0",
         "0.0",
         "0.0",
         "0.0",
         "0.0",
         "0.0",
         "0.0",
         "0.0",
         "0.0",
         "0.6548307227013583",
         "0.0",
         "0.0",
         "0.0",
         "0.0",
         "0.0",
         "0.0",
         "0.0",
         "0.0",
         "0.0",
         "0.0",
         "0.0",
         "0.0",
         "0.0",
         "0.0",
         "0.0",
         "0.0",
         "0.0",
         "0.0",
         "0.0",
         "0.0",
         "0.0",
         "0.0",
         "0.0",
         "0.0",
         "0.0",
         "0.0",
         "0.0",
         "0.0",
         "0.0",
         "0.0",
         "0.0",
         "0.0",
         "0.0",
         "0.0",
         "0.0",
         "0.0",
         "0.0",
         "0.0",
         "0.0",
         "0.0",
         "0.0",
         "0.0",
         "0.0",
         "0.0",
         "0.0",
         "0.0",
         "0.0",
         "0.0",
         "0.0",
         "0.0",
         "0.0",
         "0.0",
         "0.0",
         "0.0",
         "0.0",
         "0.0",
         "0.0",
         "0.0",
         "0.0",
         "0.0",
         "0.0",
         "0.0",
         "0.0",
         "0.0",
         "0.0",
         "0.0",
         "0.0",
         "0.0",
         "0.0",
         "0.0",
         "0.0",
         "0.0",
         "0.0",
         "0.0",
         "0.0",
         "0.0",
         "0.0",
         "0.0",
         "0.0",
         "0.0",
         "0.0",
         "0.0",
         "0.0",
         "0.0",
         "0.0",
         "0.0",
         "0.0",
         "0.0",
         "0.0",
         "0.0",
         "0.0",
         "0.0",
         "0.0",
         "0.0",
         "0.0",
         "0.0",
         "0.0",
         "0.0",
         "0.0",
         "0.0",
         "0.0",
         "0.0",
         "0.0",
         "0.0",
         "0.0",
         "0.0",
         "0.0",
         "0.0",
         "0.0",
         "0.0",
         "0.0",
         "0.0",
         "0.0",
         "0.0",
         "0.0",
         "0.0",
         "0.0",
         "0.0",
         "0.0",
         "0.0",
         "0.0",
         "0.0",
         "0.0",
         "0.0",
         "0.0",
         "0.0",
         "0.0",
         "0.0",
         "0.0",
         "0.0",
         "0.0",
         "0.0",
         "0.0",
         "0.0",
         "0.0",
         "0.0",
         "0.0",
         "0.0",
         "0.0",
         "0.0",
         "0.0",
         "0.0",
         "0.0",
         "0.0",
         "0.0",
         "0.0",
         "0.0",
         "0.0",
         "0.0",
         "0.0",
         "0.0",
         "0.0",
         "0.0",
         "0.0",
         "0.0",
         "0.0",
         "0.0",
         "0.0",
         "0.0",
         "0.0",
         "0.0",
         "0.0",
         "0.0",
         "0.0",
         "0.0",
         "0.0",
         "0.0",
         "0.0",
         "0.0",
         "0.0",
         "0.0",
         "0.0",
         "0.0",
         "0.0",
         "0.0",
         "0.0",
         "0.0",
         "0.0",
         "0.0",
         "0.0",
         "0.0",
         "0.0",
         "0.0",
         "0.0",
         "0.0",
         "0.0",
         "0.0",
         "0.0",
         "0.0",
         "0.0",
         "0.0",
         "0.0",
         "0.0",
         "0.0",
         "0.0",
         "0.0",
         "0.0",
         "0.0",
         "0.0",
         "0.0",
         "0.0",
         "0.0",
         "0.0",
         "0.0",
         "0.0",
         "0.0",
         "0.0",
         "0.0",
         "0.0",
         "0.0",
         "0.0",
         "0.0",
         "0.0",
         "0.0",
         "0.0",
         "0.0",
         "0.0",
         "0.0",
         "0.0",
         "0.0",
         "0.0",
         "0.0",
         "0.0",
         "0.0",
         "0.0",
         "0.0",
         "0.0",
         "0.0",
         "0.0",
         "0.0",
         "0.0",
         "0.0",
         "0.0",
         "0.0",
         "0.0",
         "0.0",
         "0.0",
         "0.0",
         "0.0",
         "0.0",
         "0.0",
         "0.0",
         "0.0",
         "0.0",
         "0.0",
         "0.0",
         "0.0",
         "0.0",
         "0.0",
         "0.0",
         "0.0",
         "0.0",
         "0.0",
         "0.0",
         "0.0",
         "0.0",
         "0.0",
         "0.0",
         "0.0",
         "0.0",
         "0.0",
         "0.0",
         "0.0",
         "0.0",
         "0.0",
         "0.0",
         "0.0",
         "0.0",
         "0.0",
         "0.0",
         "0.0",
         "0.0",
         "0.0",
         "0.0",
         "0.0",
         "0.0",
         "0.0",
         "0.0",
         "0.0",
         "0.0",
         "0.0",
         "0.0",
         "0.0",
         "0.0",
         "0.0",
         "0.0",
         "0.0",
         "0.0",
         "0.0",
         "0.0",
         "0.0",
         "0.0",
         "0.0",
         "0.0",
         "0.0",
         "0.0",
         "0.0",
         "0.0",
         "0.0",
         "0.0",
         "0.0",
         "0.0",
         "0.0",
         "0.0",
         "0.0",
         "0.0",
         "0.0",
         "0.0",
         "0.0",
         "0.0",
         "0.0",
         "0.0",
         "0.0",
         "0.0",
         "0.0",
         "0.0",
         "0.0",
         "0.0",
         "0.0",
         "0.0",
         "0.0",
         "0.0",
         "0.0",
         "0.0",
         "0.0",
         "0.0",
         "0.0",
         "0.0",
         "0.0",
         "0.0",
         "0.0",
         "0.0",
         "0.0",
         "0.0",
         "0.0",
         "0.0",
         "0.0",
         "0.0"
        ],
        [
         "1",
         "0.0",
         "0.0",
         "0.0",
         "0.0",
         "0.0",
         "0.0",
         "0.0",
         "0.0",
         "0.0",
         "0.0",
         "0.0",
         "0.0",
         "0.0",
         "0.0",
         "0.0",
         "0.0",
         "0.0",
         "0.0",
         "0.0",
         "0.0",
         "0.0",
         "0.0",
         "0.0",
         "0.0",
         "0.0",
         "0.0",
         "0.0",
         "0.0",
         "0.0",
         "0.0",
         "0.0",
         "0.0",
         "0.0",
         "0.0",
         "0.0",
         "0.0",
         "0.0",
         "0.0",
         "0.0",
         "0.0",
         "0.0",
         "0.0",
         "0.0",
         "0.0",
         "0.0",
         "0.0",
         "0.0",
         "0.0",
         "0.0",
         "0.0",
         "0.0",
         "0.0",
         "0.0",
         "0.0",
         "0.0",
         "0.0",
         "0.0",
         "0.0",
         "0.0",
         "0.0",
         "0.0",
         "0.0",
         "0.0",
         "0.0",
         "0.0",
         "0.0",
         "0.0",
         "0.0",
         "0.0",
         "0.0",
         "0.0",
         "0.0",
         "0.0",
         "0.0",
         "0.0",
         "0.0",
         "0.0",
         "0.0",
         "0.0",
         "0.0",
         "0.0",
         "0.0",
         "0.0",
         "0.0",
         "0.0",
         "0.0",
         "0.0",
         "0.0",
         "0.0",
         "0.0",
         "0.0",
         "0.0",
         "0.0",
         "0.0",
         "0.0",
         "0.0",
         "0.0",
         "0.0",
         "0.0",
         "0.0",
         "0.0",
         "0.0",
         "0.0",
         "0.0",
         "0.0",
         "0.0",
         "0.0",
         "0.0",
         "0.0",
         "0.0",
         "0.0",
         "0.0",
         "0.0",
         "0.0",
         "0.0",
         "0.7706291481378009",
         "0.0",
         "0.0",
         "0.0",
         "0.0",
         "0.0",
         "0.0",
         "0.0",
         "0.0",
         "0.0",
         "0.0",
         "0.0",
         "0.0",
         "0.0",
         "0.0",
         "0.0",
         "0.0",
         "0.0",
         "0.0",
         "0.0",
         "0.0",
         "0.0",
         "0.0",
         "0.0",
         "0.0",
         "0.0",
         "0.0",
         "0.0",
         "0.0",
         "0.0",
         "0.0",
         "0.0",
         "0.0",
         "0.0",
         "0.0",
         "0.0",
         "0.0",
         "0.0",
         "0.0",
         "0.0",
         "0.0",
         "0.0",
         "0.0",
         "0.0",
         "0.0",
         "0.0",
         "0.0",
         "0.0",
         "0.0",
         "0.0",
         "0.0",
         "0.0",
         "0.0",
         "0.0",
         "0.0",
         "0.0",
         "0.0",
         "0.0",
         "0.0",
         "0.0",
         "0.0",
         "0.0",
         "0.0",
         "0.0",
         "0.0",
         "0.0",
         "0.0",
         "0.0",
         "0.0",
         "0.0",
         "0.0",
         "0.0",
         "0.0",
         "0.0",
         "0.0",
         "0.0",
         "0.0",
         "0.0",
         "0.0",
         "0.0",
         "0.0",
         "0.0",
         "0.0",
         "0.0",
         "0.0",
         "0.0",
         "0.0",
         "0.0",
         "0.0",
         "0.0",
         "0.0",
         "0.0",
         "0.0",
         "0.0",
         "0.0",
         "0.0",
         "0.0",
         "0.0",
         "0.0",
         "0.0",
         "0.0",
         "0.0",
         "0.0",
         "0.0",
         "0.0",
         "0.0",
         "0.0",
         "0.0",
         "0.0",
         "0.0",
         "0.0",
         "0.0",
         "0.0",
         "0.0",
         "0.0",
         "0.0",
         "0.0",
         "0.0",
         "0.0",
         "0.0",
         "0.0",
         "0.0",
         "0.0",
         "0.0",
         "0.0",
         "0.0",
         "0.0",
         "0.0",
         "0.0",
         "0.0",
         "0.0",
         "0.0",
         "0.0",
         "0.0",
         "0.0",
         "0.0",
         "0.0",
         "0.0",
         "0.0",
         "0.0",
         "0.0",
         "0.0",
         "0.0",
         "0.0",
         "0.0",
         "0.0",
         "0.0",
         "0.0",
         "0.0",
         "0.0",
         "0.0",
         "0.0",
         "0.0",
         "0.0",
         "0.0",
         "0.0",
         "0.0",
         "0.0",
         "0.0",
         "0.0",
         "0.0",
         "0.0",
         "0.0",
         "0.0",
         "0.0",
         "0.0",
         "0.0",
         "0.0",
         "0.0",
         "0.0",
         "0.0",
         "0.0",
         "0.0",
         "0.0",
         "0.0",
         "0.0",
         "0.0",
         "0.0",
         "0.0",
         "0.0",
         "0.0",
         "0.0",
         "0.0",
         "0.0",
         "0.0",
         "0.0",
         "0.0",
         "0.0",
         "0.0",
         "0.0",
         "0.0",
         "0.0",
         "0.0",
         "0.0",
         "0.0",
         "0.0",
         "0.0",
         "0.0",
         "0.0",
         "0.0",
         "0.0",
         "0.0",
         "0.0",
         "0.0",
         "0.0",
         "0.0",
         "0.0",
         "0.0",
         "0.0",
         "0.0",
         "0.0",
         "0.0",
         "0.0",
         "0.0",
         "0.0",
         "0.0",
         "0.0",
         "0.0",
         "0.0",
         "0.0",
         "0.0",
         "0.0",
         "0.0",
         "0.0",
         "0.0",
         "0.0",
         "0.0",
         "0.0",
         "0.0",
         "0.0",
         "0.0",
         "0.0",
         "0.0",
         "0.0",
         "0.0",
         "0.0",
         "0.0",
         "0.0",
         "0.0",
         "0.0",
         "0.0",
         "0.0",
         "0.0",
         "0.0",
         "0.0",
         "0.0",
         "0.0",
         "0.0",
         "0.0",
         "0.0",
         "0.0",
         "0.0",
         "0.0",
         "0.0",
         "0.0",
         "0.0",
         "0.0",
         "0.0",
         "0.0",
         "0.0",
         "0.0",
         "0.0",
         "0.0",
         "0.0",
         "0.0",
         "0.0",
         "0.0",
         "0.0",
         "0.0",
         "0.0",
         "0.0",
         "0.0",
         "0.0",
         "0.0",
         "0.0",
         "0.0",
         "0.0",
         "0.0",
         "0.0",
         "0.0",
         "0.0",
         "0.0",
         "0.0",
         "0.0",
         "0.0",
         "0.0",
         "0.0",
         "0.0",
         "0.0",
         "0.0",
         "0.0",
         "0.0",
         "0.0",
         "0.0",
         "0.0",
         "0.0",
         "0.0",
         "0.0",
         "0.0",
         "0.0",
         "0.0",
         "0.0",
         "0.0",
         "0.0",
         "0.0",
         "0.0",
         "0.0",
         "0.0",
         "0.0",
         "0.0",
         "0.0",
         "0.0",
         "0.0",
         "0.0",
         "0.0",
         "0.0",
         "0.0",
         "0.0",
         "0.0",
         "0.0",
         "0.0",
         "0.0",
         "0.0",
         "0.0",
         "0.0",
         "0.0",
         "0.0",
         "0.0",
         "0.0",
         "0.0",
         "0.0",
         "0.0",
         "0.0",
         "0.0",
         "0.0",
         "0.0",
         "0.0",
         "0.0",
         "0.0",
         "0.0",
         "0.0",
         "0.0",
         "0.0",
         "0.0",
         "0.0",
         "0.0",
         "0.0",
         "0.0",
         "0.0",
         "0.0",
         "0.0",
         "0.0",
         "0.0",
         "0.0",
         "0.0",
         "0.0",
         "0.0",
         "0.0",
         "0.0",
         "0.0",
         "0.0",
         "0.0",
         "0.0",
         "0.0",
         "0.0",
         "0.0",
         "0.0",
         "0.0",
         "0.0",
         "0.0",
         "0.0",
         "0.0",
         "0.0",
         "0.0",
         "0.0",
         "0.0",
         "0.0",
         "0.0",
         "0.0",
         "0.0",
         "0.0",
         "0.0",
         "0.0",
         "0.0",
         "0.0",
         "0.0",
         "0.0",
         "0.0",
         "0.0",
         "0.0",
         "0.0",
         "0.0",
         "0.0",
         "0.0",
         "0.0",
         "0.0",
         "0.0",
         "0.0",
         "0.0",
         "0.0",
         "0.0",
         "0.0",
         "0.0",
         "0.0",
         "0.0",
         "0.0",
         "0.0",
         "0.0",
         "0.0",
         "0.0",
         "0.0",
         "0.0",
         "0.0",
         "0.0",
         "0.0",
         "0.0",
         "0.0",
         "0.0",
         "0.0",
         "0.0",
         "0.0",
         "0.0",
         "0.0",
         "0.0",
         "0.0",
         "0.0",
         "0.0",
         "0.0",
         "0.0",
         "0.0",
         "0.0",
         "0.0",
         "0.0",
         "0.0",
         "0.0",
         "0.0",
         "0.0",
         "0.0",
         "0.0",
         "0.0",
         "0.0",
         "0.0",
         "0.0",
         "0.0",
         "0.0",
         "0.0",
         "0.0",
         "0.0",
         "0.0",
         "0.0",
         "0.0",
         "0.0",
         "0.0",
         "0.0",
         "0.0",
         "0.0",
         "0.0",
         "0.0",
         "0.0",
         "0.0",
         "0.0",
         "0.0",
         "0.0",
         "0.0",
         "0.0",
         "0.0",
         "0.0",
         "0.0",
         "0.0",
         "0.0",
         "0.0",
         "0.0",
         "0.0",
         "0.0",
         "0.0",
         "0.0",
         "0.0",
         "0.0",
         "0.0",
         "0.0",
         "0.0",
         "0.0",
         "0.0",
         "0.0",
         "0.0",
         "0.0",
         "0.0",
         "0.0",
         "0.0",
         "0.0",
         "0.0",
         "0.0",
         "0.0",
         "0.0",
         "0.0",
         "0.0",
         "0.0",
         "0.0",
         "0.0",
         "0.0",
         "0.0",
         "0.0",
         "0.0",
         "0.0",
         "0.0",
         "0.0",
         "0.0",
         "0.0",
         "0.0",
         "0.0",
         "0.0",
         "0.0",
         "0.0",
         "0.0",
         "0.0",
         "0.0",
         "0.0",
         "0.0",
         "0.0",
         "0.0",
         "0.0",
         "0.0",
         "0.0",
         "0.0",
         "0.0",
         "0.0",
         "0.0",
         "0.0",
         "0.0",
         "0.0",
         "0.0",
         "0.0",
         "0.0",
         "0.0",
         "0.0",
         "0.0",
         "0.0",
         "0.0",
         "0.0",
         "0.0",
         "0.0",
         "0.0",
         "0.0",
         "0.0",
         "0.0",
         "0.0",
         "0.0",
         "0.0",
         "0.0",
         "0.0",
         "0.0",
         "0.0",
         "0.0",
         "0.0",
         "0.0",
         "0.0",
         "0.0",
         "0.0",
         "0.0",
         "0.0",
         "0.0",
         "0.0",
         "0.0",
         "0.0",
         "0.0",
         "0.0",
         "0.0",
         "0.0",
         "0.0",
         "0.0",
         "0.0",
         "0.0",
         "0.0",
         "0.0",
         "0.0",
         "0.0",
         "0.0",
         "0.0",
         "0.0",
         "0.0",
         "0.0",
         "0.0",
         "0.0",
         "0.0",
         "0.0",
         "0.0",
         "0.0",
         "0.0",
         "0.0",
         "0.0",
         "0.0",
         "0.0",
         "0.0",
         "0.0",
         "0.0",
         "0.0",
         "0.0",
         "0.0",
         "0.0",
         "0.0",
         "0.0",
         "0.0",
         "0.0",
         "0.0",
         "0.0",
         "0.0",
         "0.0",
         "0.0",
         "0.0",
         "0.0",
         "0.0",
         "0.0",
         "0.0",
         "0.0",
         "0.0",
         "0.0",
         "0.0",
         "0.0",
         "0.0",
         "0.0",
         "0.0",
         "0.0",
         "0.0",
         "0.0",
         "0.0",
         "0.0",
         "0.0",
         "0.0",
         "0.0",
         "0.0",
         "0.0",
         "0.0",
         "0.0",
         "0.0",
         "0.0",
         "0.0",
         "0.0",
         "0.0",
         "0.0",
         "0.0",
         "0.0",
         "0.0",
         "0.0",
         "0.0",
         "0.0",
         "0.0",
         "0.0",
         "0.0",
         "0.0",
         "0.0",
         "0.0",
         "0.0",
         "0.0",
         "0.0",
         "0.0",
         "0.0",
         "0.0",
         "0.0",
         "0.0",
         "0.0",
         "0.0",
         "0.0",
         "0.0",
         "0.0",
         "0.0",
         "0.0",
         "0.0",
         "0.0",
         "0.0",
         "0.0",
         "0.0",
         "0.0",
         "0.0",
         "0.0",
         "0.0",
         "0.0",
         "0.0",
         "0.0",
         "0.0",
         "0.0",
         "0.0",
         "0.0",
         "0.0",
         "0.0",
         "0.0",
         "0.0",
         "0.0",
         "0.0",
         "0.0",
         "0.0",
         "0.0",
         "0.0",
         "0.0",
         "0.0",
         "0.0",
         "0.0",
         "0.0",
         "0.0",
         "0.0",
         "0.0",
         "0.0",
         "0.0",
         "0.0",
         "0.0",
         "0.0",
         "0.0",
         "0.0",
         "0.0",
         "0.0",
         "0.0",
         "0.0",
         "0.0",
         "0.0",
         "0.0",
         "0.0",
         "0.0",
         "0.0",
         "0.0",
         "0.0",
         "0.0",
         "0.0",
         "0.0",
         "0.0",
         "0.0",
         "0.0",
         "0.0",
         "0.0",
         "0.0",
         "0.0",
         "0.0",
         "0.0",
         "0.0",
         "0.0",
         "0.0",
         "0.0",
         "0.0",
         "0.0",
         "0.0",
         "0.0",
         "0.0",
         "0.0",
         "0.0",
         "0.0",
         "0.0",
         "0.0",
         "0.0",
         "0.0",
         "0.0",
         "0.0",
         "0.0",
         "0.0",
         "0.0",
         "0.0",
         "0.0",
         "0.0",
         "0.0",
         "0.0",
         "0.0",
         "0.0",
         "0.0",
         "0.0",
         "0.0",
         "0.0",
         "0.0",
         "0.0",
         "0.0",
         "0.0",
         "0.0",
         "0.0",
         "0.0",
         "0.0",
         "0.0",
         "0.0",
         "0.0",
         "0.0",
         "0.0",
         "0.0",
         "0.0",
         "0.0",
         "0.0",
         "0.0",
         "0.0",
         "0.0",
         "0.0",
         "0.0",
         "0.0",
         "0.0",
         "0.0",
         "0.0",
         "0.0",
         "0.0",
         "0.0",
         "0.0",
         "0.0",
         "0.0",
         "0.0",
         "0.0",
         "0.0",
         "0.0",
         "0.0",
         "0.0",
         "0.0",
         "0.0",
         "0.0",
         "0.0",
         "0.0",
         "0.0",
         "0.0",
         "0.0",
         "0.0",
         "0.0",
         "0.0",
         "0.0",
         "0.0",
         "0.0",
         "0.0",
         "0.0",
         "0.0",
         "0.0",
         "0.0",
         "0.0",
         "0.0",
         "0.0",
         "0.0",
         "0.0",
         "0.0",
         "0.0",
         "0.0",
         "0.0",
         "0.0",
         "0.0",
         "0.0",
         "0.0",
         "0.0",
         "0.0",
         "0.0",
         "0.0",
         "0.0",
         "0.0",
         "0.0",
         "0.0",
         "0.0",
         "0.0",
         "0.0",
         "0.0",
         "0.0",
         "0.0",
         "0.0",
         "0.0",
         "0.0",
         "0.0",
         "0.0",
         "0.0",
         "0.0",
         "0.0",
         "0.0",
         "0.0",
         "0.0",
         "0.0",
         "0.0",
         "0.0",
         "0.0",
         "0.0",
         "0.0",
         "0.0",
         "0.0",
         "0.0",
         "0.0",
         "0.0",
         "0.0",
         "0.0",
         "0.0",
         "0.0",
         "0.0",
         "0.0",
         "0.0",
         "0.0",
         "0.0",
         "0.0",
         "0.0",
         "0.0",
         "0.0",
         "0.0",
         "0.0",
         "0.0",
         "0.0",
         "0.0",
         "0.0",
         "0.0",
         "0.0",
         "0.0",
         "0.0",
         "0.0",
         "0.0",
         "0.0",
         "0.0",
         "0.0",
         "0.0",
         "0.0",
         "0.0",
         "0.0",
         "0.0",
         "0.0",
         "0.0",
         "0.0",
         "0.0",
         "0.0",
         "0.0",
         "0.0",
         "0.0",
         "0.0",
         "0.0",
         "0.0",
         "0.0",
         "0.0",
         "0.0",
         "0.0",
         "0.0",
         "0.0",
         "0.0",
         "0.0",
         "0.0",
         "0.0",
         "0.0",
         "0.0",
         "0.0",
         "0.0",
         "0.0",
         "0.0",
         "0.0",
         "0.0",
         "0.0",
         "0.0",
         "0.0",
         "0.0",
         "0.0",
         "0.0",
         "0.0",
         "0.0",
         "0.0",
         "0.0",
         "0.0",
         "0.0",
         "0.0",
         "0.0",
         "0.0",
         "0.0",
         "0.0",
         "0.0",
         "0.0",
         "0.0",
         "0.0",
         "0.0",
         "0.0",
         "0.0",
         "0.0",
         "0.0",
         "0.0",
         "0.0",
         "0.0",
         "0.0",
         "0.0",
         "0.0",
         "0.0",
         "0.0",
         "0.0",
         "0.0",
         "0.0",
         "0.0",
         "0.0",
         "0.0",
         "0.0",
         "0.0",
         "0.0",
         "0.0",
         "0.0",
         "0.0",
         "0.0",
         "0.0",
         "0.0",
         "0.0",
         "0.0",
         "0.0",
         "0.0",
         "0.0",
         "0.0",
         "0.0",
         "0.0",
         "0.0",
         "0.0",
         "0.0",
         "0.0",
         "0.0",
         "0.0",
         "0.0",
         "0.0",
         "0.0",
         "0.0",
         "0.0",
         "0.0",
         "0.0",
         "0.0",
         "0.0",
         "0.0",
         "0.0",
         "0.0",
         "0.0",
         "0.0",
         "0.0",
         "0.0",
         "0.0",
         "0.0",
         "0.0",
         "0.0",
         "0.0",
         "0.0",
         "0.0",
         "0.0",
         "0.0",
         "0.0",
         "0.0",
         "0.0",
         "0.0",
         "0.0",
         "0.0",
         "0.0",
         "0.0",
         "0.0",
         "0.0",
         "0.0",
         "0.0",
         "0.0",
         "0.0",
         "0.0",
         "0.0",
         "0.0",
         "0.0",
         "0.0",
         "0.0",
         "0.0",
         "0.0",
         "0.0",
         "0.0",
         "0.0",
         "0.0",
         "0.0",
         "0.0",
         "0.0",
         "0.0",
         "0.0",
         "0.0",
         "0.0",
         "0.0",
         "0.0",
         "0.0",
         "0.0",
         "0.0",
         "0.0",
         "0.0",
         "0.0",
         "0.0",
         "0.0",
         "0.0",
         "0.0",
         "0.0",
         "0.0",
         "0.0",
         "0.0",
         "0.0",
         "0.0",
         "0.0",
         "0.0",
         "0.0",
         "0.0",
         "0.0",
         "0.0",
         "0.0",
         "0.0",
         "0.0",
         "0.0",
         "0.0",
         "0.0",
         "0.0",
         "0.0",
         "0.0",
         "0.0",
         "0.0",
         "0.0",
         "0.0",
         "0.0",
         "0.0",
         "0.0",
         "0.0",
         "0.0",
         "0.0",
         "0.0",
         "0.0",
         "0.0",
         "0.0",
         "0.0",
         "0.0",
         "0.0",
         "0.0",
         "0.0",
         "0.0",
         "0.0",
         "0.0",
         "0.0",
         "0.0",
         "0.0",
         "0.0",
         "0.0",
         "0.0",
         "0.0",
         "0.0",
         "0.0",
         "0.0",
         "0.0",
         "0.0",
         "0.0",
         "0.0",
         "0.0",
         "0.0",
         "0.0",
         "0.0",
         "0.0",
         "0.0",
         "0.0",
         "0.0",
         "0.0",
         "0.0",
         "0.0",
         "0.0",
         "0.0",
         "0.0",
         "0.0",
         "0.0",
         "0.0",
         "0.0",
         "0.0",
         "0.0",
         "0.0",
         "0.0",
         "0.0",
         "0.0",
         "0.0",
         "0.0",
         "0.0",
         "0.0",
         "0.0",
         "0.0",
         "0.0",
         "0.0",
         "0.0",
         "0.0",
         "0.0",
         "0.0",
         "0.0",
         "0.0",
         "0.0",
         "0.0",
         "0.0",
         "0.0",
         "0.0",
         "0.0",
         "0.0",
         "0.0",
         "0.637283858292682",
         "0.0",
         "0.0",
         "0.0",
         "0.0",
         "0.0",
         "0.0",
         "0.0",
         "0.0",
         "0.0",
         "0.0",
         "0.0",
         "0.0",
         "0.0",
         "0.0",
         "0.0",
         "0.0",
         "0.0",
         "0.0",
         "0.0",
         "0.0",
         "0.0",
         "0.0",
         "0.0",
         "0.0",
         "0.0",
         "0.0",
         "0.0",
         "0.0",
         "0.0",
         "0.0",
         "0.0",
         "0.0",
         "0.0",
         "0.0",
         "0.0",
         "0.0",
         "0.0",
         "0.0",
         "0.0",
         "0.0",
         "0.0",
         "0.0",
         "0.0",
         "0.0",
         "0.0",
         "0.0",
         "0.0",
         "0.0",
         "0.0",
         "0.0",
         "0.0",
         "0.0",
         "0.0",
         "0.0",
         "0.0",
         "0.0",
         "0.0",
         "0.0",
         "0.0",
         "0.0",
         "0.0",
         "0.0",
         "0.0",
         "0.0",
         "0.0",
         "0.0",
         "0.0",
         "0.0",
         "0.0",
         "0.0",
         "0.0",
         "0.0",
         "0.0",
         "0.0",
         "0.0",
         "0.0",
         "0.0",
         "0.0",
         "0.0",
         "0.0",
         "0.0",
         "0.0",
         "0.0",
         "0.0",
         "0.0",
         "0.0",
         "0.0",
         "0.0",
         "0.0",
         "0.0",
         "0.0",
         "0.0",
         "0.0",
         "0.0",
         "0.0",
         "0.0",
         "0.0",
         "0.0",
         "0.0",
         "0.0",
         "0.0",
         "0.0",
         "0.0",
         "0.0",
         "0.0",
         "0.0",
         "0.0",
         "0.0",
         "0.0",
         "0.0",
         "0.0",
         "0.0",
         "0.0",
         "0.0",
         "0.0",
         "0.0",
         "0.0",
         "0.0",
         "0.0",
         "0.0",
         "0.0",
         "0.0",
         "0.0",
         "0.0",
         "0.0",
         "0.0",
         "0.0",
         "0.0",
         "0.0",
         "0.0",
         "0.0",
         "0.0",
         "0.0",
         "0.0",
         "0.0",
         "0.0",
         "0.0",
         "0.0",
         "0.0",
         "0.0",
         "0.0",
         "0.0",
         "0.0",
         "0.0",
         "0.0",
         "0.0",
         "0.0",
         "0.0",
         "0.0",
         "0.0",
         "0.0",
         "0.0",
         "0.0",
         "0.0",
         "0.0",
         "0.0",
         "0.0",
         "0.0",
         "0.0",
         "0.0",
         "0.0",
         "0.0",
         "0.0",
         "0.0",
         "0.0",
         "0.0",
         "0.0",
         "0.0",
         "0.0",
         "0.0",
         "0.0",
         "0.0",
         "0.0",
         "0.0",
         "0.0",
         "0.0",
         "0.0",
         "0.0",
         "0.0",
         "0.0",
         "0.0",
         "0.0",
         "0.0",
         "0.0",
         "0.0",
         "0.0",
         "0.0",
         "0.0",
         "0.0",
         "0.0",
         "0.0",
         "0.0",
         "0.0",
         "0.0",
         "0.0",
         "0.0",
         "0.0",
         "0.0",
         "0.0",
         "0.0",
         "0.0",
         "0.0",
         "0.0",
         "0.0",
         "0.0",
         "0.0",
         "0.0",
         "0.0",
         "0.0",
         "0.0",
         "0.0",
         "0.0",
         "0.0",
         "0.0",
         "0.0",
         "0.0",
         "0.0",
         "0.0",
         "0.0",
         "0.0",
         "0.0",
         "0.0",
         "0.0",
         "0.0",
         "0.0",
         "0.0",
         "0.0",
         "0.0",
         "0.0",
         "0.0",
         "0.0",
         "0.0",
         "0.0",
         "0.0",
         "0.0",
         "0.0",
         "0.0",
         "0.0",
         "0.0",
         "0.0",
         "0.0",
         "0.0",
         "0.0",
         "0.0",
         "0.0",
         "0.0",
         "0.0",
         "0.0",
         "0.0",
         "0.0",
         "0.0",
         "0.0",
         "0.0",
         "0.0",
         "0.0",
         "0.0",
         "0.0",
         "0.0",
         "0.0",
         "0.0",
         "0.0",
         "0.0",
         "0.0",
         "0.0",
         "0.0",
         "0.0",
         "0.0",
         "0.0",
         "0.0",
         "0.0",
         "0.0",
         "0.0",
         "0.0",
         "0.0",
         "0.0",
         "0.0",
         "0.0",
         "0.0",
         "0.0",
         "0.0",
         "0.0",
         "0.0",
         "0.0",
         "0.0",
         "0.0",
         "0.0",
         "0.0",
         "0.0",
         "0.0",
         "0.0",
         "0.0",
         "0.0",
         "0.0",
         "0.0",
         "0.0",
         "0.0",
         "0.0",
         "0.0",
         "0.0",
         "0.0",
         "0.0",
         "0.0",
         "0.0",
         "0.0",
         "0.0",
         "0.0",
         "0.0",
         "0.0",
         "0.0",
         "0.0",
         "0.0",
         "0.0",
         "0.0",
         "0.0",
         "0.0",
         "0.0",
         "0.0",
         "0.0",
         "0.0",
         "0.0",
         "0.0",
         "0.0",
         "0.0",
         "0.0",
         "0.0",
         "0.0",
         "0.0",
         "0.0",
         "0.0",
         "0.0",
         "0.0",
         "0.0",
         "0.0",
         "0.0",
         "0.0",
         "0.0",
         "0.0",
         "0.0",
         "0.0",
         "0.0",
         "0.0",
         "0.0",
         "0.0",
         "0.0",
         "0.0",
         "0.0",
         "0.0",
         "0.0",
         "0.0",
         "0.0",
         "0.0",
         "0.0",
         "0.0",
         "0.0"
        ],
        [
         "2",
         "0.0",
         "0.0",
         "0.0",
         "0.0",
         "0.0",
         "0.0",
         "0.0",
         "0.0",
         "0.0",
         "0.0",
         "0.0",
         "0.0",
         "0.0",
         "0.0",
         "0.0",
         "0.0",
         "0.0",
         "0.0",
         "0.0",
         "0.0",
         "0.0",
         "0.0",
         "0.0",
         "0.0",
         "0.0",
         "0.0",
         "0.0",
         "0.0",
         "0.0",
         "0.0",
         "0.0",
         "0.0",
         "0.0",
         "0.0",
         "0.0",
         "0.0",
         "0.0",
         "0.0",
         "0.0",
         "0.0",
         "0.0",
         "0.0",
         "0.0",
         "0.0",
         "0.0",
         "0.0",
         "0.0",
         "0.0",
         "0.0",
         "0.0",
         "0.0",
         "0.0",
         "0.0",
         "0.0",
         "0.0",
         "0.0",
         "0.0",
         "0.0",
         "0.0",
         "0.0",
         "0.0",
         "0.0",
         "0.0",
         "0.0",
         "0.0",
         "0.0",
         "0.0",
         "0.0",
         "0.0",
         "0.0",
         "0.0",
         "0.0",
         "0.0",
         "0.0",
         "0.0",
         "0.0",
         "0.0",
         "0.0",
         "0.0",
         "0.0",
         "0.0",
         "0.0",
         "0.0",
         "0.0",
         "0.0",
         "0.0",
         "0.0",
         "0.0",
         "0.0",
         "0.0",
         "0.0",
         "0.0",
         "0.0",
         "0.0",
         "0.0",
         "0.0",
         "0.0",
         "0.0",
         "0.0",
         "0.0",
         "0.0",
         "0.0",
         "0.0",
         "0.0",
         "0.0",
         "0.0",
         "0.0",
         "0.0",
         "0.0",
         "0.0",
         "0.0",
         "0.0",
         "0.0",
         "0.0",
         "0.0",
         "0.0",
         "0.0",
         "0.0",
         "0.0",
         "0.0",
         "0.0",
         "0.0",
         "0.0",
         "0.0",
         "0.0",
         "0.0",
         "0.0",
         "0.0",
         "0.0",
         "0.0",
         "0.0",
         "0.0",
         "0.0",
         "0.0",
         "0.0",
         "0.0",
         "0.0",
         "0.0",
         "0.0",
         "0.0",
         "0.0",
         "0.0",
         "0.0",
         "0.0",
         "0.0",
         "0.0",
         "0.0",
         "0.0",
         "0.0",
         "0.0",
         "0.0",
         "0.0",
         "0.0",
         "0.0",
         "0.0",
         "0.0",
         "0.0",
         "0.0",
         "0.0",
         "0.0",
         "0.0",
         "0.0",
         "0.0",
         "0.0",
         "0.0",
         "0.0",
         "0.0",
         "0.0",
         "0.0",
         "0.0",
         "0.0",
         "0.0",
         "0.0",
         "0.0",
         "0.0",
         "0.0",
         "0.0",
         "0.0",
         "0.0",
         "0.0",
         "0.0",
         "0.0",
         "0.0",
         "0.0",
         "0.0",
         "0.0",
         "0.0",
         "0.0",
         "0.0",
         "0.0",
         "0.0",
         "0.0",
         "0.0",
         "0.0",
         "0.0",
         "0.0",
         "0.0",
         "0.0",
         "0.0",
         "0.0",
         "0.0",
         "0.0",
         "0.0",
         "0.0",
         "0.0",
         "0.0",
         "0.0",
         "0.0",
         "0.0",
         "0.0",
         "0.0",
         "0.0",
         "0.0",
         "0.0",
         "0.0",
         "0.0",
         "0.0",
         "0.0",
         "0.0",
         "0.0",
         "0.0",
         "0.0",
         "0.0",
         "0.0",
         "0.0",
         "0.0",
         "0.0",
         "0.0",
         "0.0",
         "0.0",
         "0.0",
         "0.0",
         "0.0",
         "0.0",
         "0.0",
         "0.0",
         "0.0",
         "0.0",
         "0.0",
         "0.0",
         "0.0",
         "0.0",
         "0.0",
         "0.0",
         "0.0",
         "0.0",
         "0.0",
         "0.0",
         "0.0",
         "0.0",
         "0.0",
         "0.0",
         "0.0",
         "0.0",
         "0.0",
         "0.0",
         "0.0",
         "0.0",
         "0.0",
         "0.0",
         "0.0",
         "0.0",
         "0.0",
         "0.0",
         "0.0",
         "0.0",
         "0.0",
         "0.0",
         "0.0",
         "0.0",
         "0.0",
         "0.0",
         "0.0",
         "0.0",
         "0.0",
         "0.0",
         "0.0",
         "0.0",
         "0.0",
         "0.0",
         "0.0",
         "0.0",
         "0.0",
         "0.0",
         "0.0",
         "0.0",
         "0.0",
         "0.0",
         "0.0",
         "0.0",
         "0.0",
         "0.0",
         "0.0",
         "0.0",
         "0.0",
         "0.0",
         "0.0",
         "0.0",
         "0.0",
         "0.0",
         "0.0",
         "0.0",
         "0.0",
         "0.0",
         "0.0",
         "0.0",
         "0.0",
         "0.0",
         "0.0",
         "0.0",
         "0.0",
         "0.0",
         "0.0",
         "0.0",
         "0.0",
         "0.0",
         "0.0",
         "0.0",
         "0.0",
         "0.0",
         "0.0",
         "0.0",
         "0.0",
         "0.0",
         "0.0",
         "0.0",
         "0.0",
         "0.0",
         "0.0",
         "0.0",
         "0.0",
         "0.0",
         "0.0",
         "0.0",
         "0.0",
         "0.0",
         "0.0",
         "0.0",
         "0.0",
         "0.0",
         "0.0",
         "0.0",
         "0.0",
         "0.0",
         "0.0",
         "0.0",
         "0.0",
         "0.0",
         "0.5031526019111975",
         "0.0",
         "0.0",
         "0.0",
         "0.0",
         "0.0",
         "0.0",
         "0.0",
         "0.0",
         "0.0",
         "0.0",
         "0.0",
         "0.0",
         "0.0",
         "0.0",
         "0.0",
         "0.0",
         "0.0",
         "0.0",
         "0.0",
         "0.0",
         "0.0",
         "0.0",
         "0.0",
         "0.0",
         "0.0",
         "0.0",
         "0.0",
         "0.0",
         "0.0",
         "0.0",
         "0.0",
         "0.0",
         "0.0",
         "0.0",
         "0.0",
         "0.0",
         "0.0",
         "0.0",
         "0.0",
         "0.0",
         "0.0",
         "0.0",
         "0.0",
         "0.0",
         "0.0",
         "0.0",
         "0.0",
         "0.0",
         "0.0",
         "0.0",
         "0.0",
         "0.0",
         "0.0",
         "0.0",
         "0.0",
         "0.0",
         "0.0",
         "0.0",
         "0.0",
         "0.0",
         "0.0",
         "0.0",
         "0.0",
         "0.0",
         "0.0",
         "0.0",
         "0.0",
         "0.0",
         "0.0",
         "0.0",
         "0.0",
         "0.0",
         "0.0",
         "0.0",
         "0.0",
         "0.0",
         "0.0",
         "0.0",
         "0.0",
         "0.0",
         "0.0",
         "0.0",
         "0.0",
         "0.0",
         "0.0",
         "0.0",
         "0.0",
         "0.0",
         "0.0",
         "0.0",
         "0.0",
         "0.0",
         "0.0",
         "0.0",
         "0.0",
         "0.0",
         "0.0",
         "0.0",
         "0.0",
         "0.0",
         "0.0",
         "0.0",
         "0.0",
         "0.0",
         "0.0",
         "0.0",
         "0.0",
         "0.0",
         "0.0",
         "0.0",
         "0.0",
         "0.0",
         "0.0",
         "0.0",
         "0.0",
         "0.0",
         "0.0",
         "0.0",
         "0.0",
         "0.0",
         "0.0",
         "0.0",
         "0.0",
         "0.0",
         "0.0",
         "0.0",
         "0.0",
         "0.0",
         "0.0",
         "0.0",
         "0.0",
         "0.0",
         "0.0",
         "0.0",
         "0.0",
         "0.0",
         "0.0",
         "0.0",
         "0.0",
         "0.0",
         "0.0",
         "0.0",
         "0.0",
         "0.0",
         "0.0",
         "0.0",
         "0.0",
         "0.0",
         "0.0",
         "0.0",
         "0.2694169085530357",
         "0.0",
         "0.0",
         "0.0",
         "0.0",
         "0.0",
         "0.0",
         "0.0",
         "0.0",
         "0.0",
         "0.0",
         "0.0",
         "0.0",
         "0.0",
         "0.0",
         "0.0",
         "0.0",
         "0.0",
         "0.0",
         "0.0",
         "0.0",
         "0.0",
         "0.0",
         "0.0",
         "0.0",
         "0.0",
         "0.0",
         "0.0",
         "0.0",
         "0.0",
         "0.0",
         "0.0",
         "0.0",
         "0.0",
         "0.0",
         "0.0",
         "0.0",
         "0.0",
         "0.0",
         "0.0",
         "0.0",
         "0.0",
         "0.0",
         "0.0",
         "0.0",
         "0.0",
         "0.0",
         "0.0",
         "0.0",
         "0.0",
         "0.0",
         "0.0",
         "0.0",
         "0.0",
         "0.0",
         "0.0",
         "0.0",
         "0.0",
         "0.0",
         "0.0",
         "0.0",
         "0.0",
         "0.0",
         "0.0",
         "0.0",
         "0.0",
         "0.0",
         "0.0",
         "0.0",
         "0.0",
         "0.0",
         "0.0",
         "0.0",
         "0.0",
         "0.0",
         "0.0",
         "0.0",
         "0.0",
         "0.0",
         "0.0",
         "0.0",
         "0.0",
         "0.0",
         "0.0",
         "0.0",
         "0.0",
         "0.0",
         "0.0",
         "0.0",
         "0.0",
         "0.0",
         "0.0",
         "0.0",
         "0.0",
         "0.0",
         "0.0",
         "0.0",
         "0.0",
         "0.0",
         "0.0",
         "0.0",
         "0.0",
         "0.0",
         "0.0",
         "0.0",
         "0.0",
         "0.35400916753151923",
         "0.0",
         "0.0",
         "0.0",
         "0.0",
         "0.0",
         "0.0",
         "0.0",
         "0.0",
         "0.0",
         "0.0",
         "0.0",
         "0.0",
         "0.0",
         "0.0",
         "0.0",
         "0.0",
         "0.0",
         "0.0",
         "0.0",
         "0.0",
         "0.0",
         "0.0",
         "0.0",
         "0.0",
         "0.0",
         "0.0",
         "0.0",
         "0.0",
         "0.0",
         "0.0",
         "0.0",
         "0.0",
         "0.0",
         "0.0",
         "0.0",
         "0.0",
         "0.0",
         "0.0",
         "0.0",
         "0.0",
         "0.0",
         "0.0",
         "0.0",
         "0.0",
         "0.0",
         "0.0",
         "0.0",
         "0.0",
         "0.0",
         "0.0",
         "0.0",
         "0.0",
         "0.0",
         "0.0",
         "0.0",
         "0.0",
         "0.0",
         "0.0",
         "0.0",
         "0.0",
         "0.0",
         "0.0",
         "0.0",
         "0.0",
         "0.0",
         "0.0",
         "0.0",
         "0.0",
         "0.0",
         "0.0",
         "0.0",
         "0.0",
         "0.0",
         "0.0",
         "0.0",
         "0.0",
         "0.0",
         "0.0",
         "0.0",
         "0.0",
         "0.0",
         "0.0",
         "0.0",
         "0.0",
         "0.0",
         "0.0",
         "0.0",
         "0.0",
         "0.0",
         "0.0",
         "0.0",
         "0.0",
         "0.0",
         "0.0",
         "0.0",
         "0.0",
         "0.0",
         "0.0",
         "0.0",
         "0.0",
         "0.0",
         "0.0",
         "0.0",
         "0.0",
         "0.0",
         "0.0",
         "0.0",
         "0.0",
         "0.0",
         "0.0",
         "0.0",
         "0.0",
         "0.0",
         "0.0",
         "0.0",
         "0.0",
         "0.0",
         "0.0",
         "0.0",
         "0.0",
         "0.0",
         "0.0",
         "0.0",
         "0.0",
         "0.0",
         "0.0",
         "0.0",
         "0.0",
         "0.0",
         "0.0",
         "0.0",
         "0.0",
         "0.0",
         "0.0",
         "0.0",
         "0.0",
         "0.0",
         "0.0",
         "0.0",
         "0.0",
         "0.0",
         "0.0",
         "0.0",
         "0.0",
         "0.0",
         "0.0",
         "0.0",
         "0.0",
         "0.0",
         "0.0",
         "0.0",
         "0.0",
         "0.0",
         "0.0",
         "0.0",
         "0.0",
         "0.0",
         "0.0",
         "0.0",
         "0.0",
         "0.0",
         "0.0",
         "0.0",
         "0.0",
         "0.0",
         "0.0",
         "0.0",
         "0.0",
         "0.0",
         "0.0",
         "0.0",
         "0.0",
         "0.0",
         "0.0",
         "0.0",
         "0.0",
         "0.0",
         "0.0",
         "0.0",
         "0.0",
         "0.0",
         "0.0",
         "0.0",
         "0.0",
         "0.0",
         "0.0",
         "0.0",
         "0.0",
         "0.0",
         "0.0",
         "0.0",
         "0.0",
         "0.0",
         "0.0",
         "0.0",
         "0.0",
         "0.0",
         "0.0",
         "0.0",
         "0.0",
         "0.0",
         "0.0",
         "0.0",
         "0.0",
         "0.0",
         "0.0",
         "0.0",
         "0.0",
         "0.0",
         "0.0",
         "0.0",
         "0.0",
         "0.0",
         "0.0",
         "0.0",
         "0.0",
         "0.0",
         "0.0",
         "0.0",
         "0.0",
         "0.0",
         "0.0",
         "0.0",
         "0.0",
         "0.0",
         "0.0",
         "0.0",
         "0.0",
         "0.0",
         "0.0",
         "0.0",
         "0.0",
         "0.0",
         "0.0",
         "0.0",
         "0.0",
         "0.0",
         "0.0",
         "0.0",
         "0.0",
         "0.0",
         "0.0",
         "0.0",
         "0.0",
         "0.0",
         "0.0",
         "0.0",
         "0.0",
         "0.0",
         "0.0",
         "0.0",
         "0.0",
         "0.0",
         "0.0",
         "0.0",
         "0.0",
         "0.0",
         "0.0",
         "0.0",
         "0.0",
         "0.0",
         "0.0",
         "0.0",
         "0.0",
         "0.0",
         "0.0",
         "0.0",
         "0.0",
         "0.0",
         "0.0",
         "0.0",
         "0.0",
         "0.0",
         "0.0",
         "0.0",
         "0.0",
         "0.0",
         "0.0",
         "0.0",
         "0.0",
         "0.0",
         "0.0",
         "0.0",
         "0.0",
         "0.0",
         "0.0",
         "0.0",
         "0.0",
         "0.0",
         "0.0",
         "0.0",
         "0.0",
         "0.0",
         "0.0",
         "0.0",
         "0.0",
         "0.0",
         "0.0",
         "0.0",
         "0.0",
         "0.0",
         "0.0",
         "0.0",
         "0.0",
         "0.0",
         "0.0",
         "0.0",
         "0.0",
         "0.0",
         "0.0",
         "0.0",
         "0.0",
         "0.0",
         "0.0",
         "0.0",
         "0.0",
         "0.0",
         "0.0",
         "0.0",
         "0.0",
         "0.0",
         "0.0",
         "0.0",
         "0.0",
         "0.0",
         "0.0",
         "0.0",
         "0.0",
         "0.0",
         "0.0",
         "0.0",
         "0.0",
         "0.0",
         "0.0",
         "0.0",
         "0.0",
         "0.0",
         "0.0",
         "0.0",
         "0.0",
         "0.0",
         "0.0",
         "0.0",
         "0.0",
         "0.0",
         "0.0",
         "0.0",
         "0.0",
         "0.0",
         "0.0",
         "0.0",
         "0.0",
         "0.0",
         "0.0",
         "0.0",
         "0.0",
         "0.0",
         "0.0",
         "0.0",
         "0.0",
         "0.0",
         "0.0",
         "0.0",
         "0.0",
         "0.0",
         "0.0",
         "0.0",
         "0.0",
         "0.0",
         "0.0",
         "0.0",
         "0.0",
         "0.0",
         "0.0",
         "0.0",
         "0.0",
         "0.0",
         "0.0",
         "0.0",
         "0.0",
         "0.0",
         "0.0",
         "0.0",
         "0.0",
         "0.0",
         "0.0",
         "0.0",
         "0.0",
         "0.0",
         "0.0",
         "0.0",
         "0.0",
         "0.0",
         "0.0",
         "0.0",
         "0.0",
         "0.0",
         "0.0",
         "0.0",
         "0.0",
         "0.0",
         "0.0",
         "0.0",
         "0.0",
         "0.0",
         "0.0",
         "0.0",
         "0.0",
         "0.0",
         "0.0",
         "0.0",
         "0.0",
         "0.0",
         "0.0",
         "0.0",
         "0.0",
         "0.0",
         "0.0",
         "0.0",
         "0.0",
         "0.0",
         "0.0",
         "0.0",
         "0.0",
         "0.0",
         "0.0",
         "0.0",
         "0.0",
         "0.0",
         "0.0",
         "0.0",
         "0.0",
         "0.0",
         "0.0",
         "0.0",
         "0.0",
         "0.0",
         "0.0",
         "0.0",
         "0.0",
         "0.0",
         "0.0",
         "0.0",
         "0.0",
         "0.0",
         "0.0",
         "0.0",
         "0.0",
         "0.0",
         "0.0",
         "0.0",
         "0.0",
         "0.0",
         "0.0",
         "0.0",
         "0.0",
         "0.0",
         "0.0",
         "0.0",
         "0.0",
         "0.0",
         "0.0",
         "0.0",
         "0.0",
         "0.0",
         "0.0",
         "0.0",
         "0.0",
         "0.0",
         "0.0",
         "0.0",
         "0.0",
         "0.0",
         "0.0",
         "0.0",
         "0.0",
         "0.0",
         "0.0",
         "0.0",
         "0.0",
         "0.0",
         "0.0",
         "0.0",
         "0.0",
         "0.0",
         "0.0",
         "0.0",
         "0.0",
         "0.0",
         "0.0",
         "0.0",
         "0.0",
         "0.0",
         "0.0",
         "0.0",
         "0.0",
         "0.0",
         "0.0",
         "0.0",
         "0.0",
         "0.0",
         "0.0",
         "0.0",
         "0.0",
         "0.0",
         "0.0",
         "0.0",
         "0.0",
         "0.0",
         "0.0",
         "0.0",
         "0.0",
         "0.0",
         "0.0",
         "0.0",
         "0.0",
         "0.0",
         "0.0",
         "0.0",
         "0.0",
         "0.0",
         "0.0",
         "0.0",
         "0.0",
         "0.0",
         "0.0",
         "0.0",
         "0.0",
         "0.0",
         "0.0",
         "0.0",
         "0.0",
         "0.0",
         "0.0",
         "0.0",
         "0.0",
         "0.0",
         "0.0",
         "0.0",
         "0.0",
         "0.0",
         "0.0",
         "0.0",
         "0.0",
         "0.0",
         "0.0",
         "0.0",
         "0.0",
         "0.0",
         "0.0",
         "0.0",
         "0.0",
         "0.0",
         "0.0",
         "0.0",
         "0.0",
         "0.0",
         "0.0",
         "0.0",
         "0.0",
         "0.0",
         "0.0",
         "0.0",
         "0.0",
         "0.0",
         "0.0",
         "0.0",
         "0.0",
         "0.0",
         "0.0",
         "0.0",
         "0.0",
         "0.0",
         "0.0",
         "0.0",
         "0.0",
         "0.0",
         "0.0",
         "0.0",
         "0.0",
         "0.0",
         "0.0",
         "0.0",
         "0.0",
         "0.0",
         "0.0",
         "0.0",
         "0.0",
         "0.0",
         "0.0",
         "0.0",
         "0.0",
         "0.0",
         "0.0",
         "0.0",
         "0.0",
         "0.0",
         "0.0",
         "0.0",
         "0.0",
         "0.0",
         "0.0",
         "0.0",
         "0.0",
         "0.0",
         "0.0",
         "0.0",
         "0.0",
         "0.0",
         "0.0",
         "0.0",
         "0.0",
         "0.0",
         "0.0",
         "0.0",
         "0.0",
         "0.0",
         "0.0",
         "0.0",
         "0.0",
         "0.0",
         "0.0",
         "0.0",
         "0.0",
         "0.0",
         "0.0",
         "0.0",
         "0.0",
         "0.0",
         "0.0",
         "0.0",
         "0.0",
         "0.0",
         "0.0",
         "0.0",
         "0.0",
         "0.0",
         "0.0",
         "0.0",
         "0.0",
         "0.0",
         "0.0",
         "0.0",
         "0.0",
         "0.0",
         "0.0",
         "0.0",
         "0.0",
         "0.0",
         "0.0",
         "0.0",
         "0.0",
         "0.0",
         "0.0",
         "0.0",
         "0.0",
         "0.0",
         "0.0",
         "0.0",
         "0.0",
         "0.0",
         "0.0",
         "0.0",
         "0.0",
         "0.0",
         "0.0",
         "0.0",
         "0.0",
         "0.0",
         "0.0",
         "0.0",
         "0.0",
         "0.0",
         "0.0",
         "0.0",
         "0.0",
         "0.30460402271150766",
         "0.0",
         "0.0",
         "0.0",
         "0.0",
         "0.0",
         "0.0",
         "0.0",
         "0.0",
         "0.0",
         "0.0",
         "0.0",
         "0.0",
         "0.0",
         "0.0",
         "0.0",
         "0.0",
         "0.0",
         "0.0",
         "0.0",
         "0.0",
         "0.0",
         "0.0",
         "0.0",
         "0.0",
         "0.0",
         "0.0",
         "0.0",
         "0.0",
         "0.0",
         "0.0",
         "0.0",
         "0.0",
         "0.0",
         "0.0",
         "0.0",
         "0.0",
         "0.5781742360820069",
         "0.0",
         "0.0",
         "0.0",
         "0.0",
         "0.0",
         "0.0",
         "0.0",
         "0.0",
         "0.0",
         "0.0",
         "0.0",
         "0.0",
         "0.0",
         "0.0",
         "0.0",
         "0.0",
         "0.0",
         "0.0",
         "0.0",
         "0.0",
         "0.0",
         "0.0",
         "0.0",
         "0.0",
         "0.0",
         "0.0",
         "0.0",
         "0.0",
         "0.0",
         "0.0",
         "0.0",
         "0.0",
         "0.0",
         "0.0",
         "0.0",
         "0.0",
         "0.0",
         "0.0",
         "0.0",
         "0.0",
         "0.0",
         "0.0",
         "0.0",
         "0.0",
         "0.0",
         "0.0",
         "0.0",
         "0.0",
         "0.0",
         "0.0",
         "0.0",
         "0.0",
         "0.0",
         "0.0",
         "0.0",
         "0.0",
         "0.0",
         "0.0",
         "0.0",
         "0.0",
         "0.0",
         "0.0",
         "0.3490851471465282",
         "0.0",
         "0.0",
         "0.0",
         "0.0",
         "0.0",
         "0.0",
         "0.0",
         "0.0",
         "0.0",
         "0.0",
         "0.0",
         "0.0",
         "0.0",
         "0.0",
         "0.0",
         "0.0",
         "0.0",
         "0.0",
         "0.0",
         "0.0",
         "0.0",
         "0.0",
         "0.0",
         "0.0",
         "0.0",
         "0.0",
         "0.0",
         "0.0",
         "0.0",
         "0.0",
         "0.0",
         "0.0",
         "0.0",
         "0.0",
         "0.0",
         "0.0",
         "0.0",
         "0.0",
         "0.0",
         "0.0",
         "0.0",
         "0.0",
         "0.0",
         "0.0",
         "0.0",
         "0.0",
         "0.0",
         "0.0",
         "0.0",
         "0.0",
         "0.0",
         "0.0",
         "0.0",
         "0.0",
         "0.0",
         "0.0",
         "0.0",
         "0.0",
         "0.0",
         "0.0",
         "0.0",
         "0.0",
         "0.0",
         "0.0",
         "0.0",
         "0.0",
         "0.0",
         "0.0",
         "0.0",
         "0.0",
         "0.0",
         "0.0",
         "0.0",
         "0.0",
         "0.0",
         "0.0",
         "0.0",
         "0.0",
         "0.0",
         "0.0",
         "0.0",
         "0.0",
         "0.0",
         "0.0",
         "0.0",
         "0.0",
         "0.0",
         "0.0",
         "0.0",
         "0.0",
         "0.0",
         "0.0",
         "0.0",
         "0.0",
         "0.0",
         "0.0",
         "0.0",
         "0.0",
         "0.0",
         "0.0",
         "0.0",
         "0.0",
         "0.0",
         "0.0",
         "0.0",
         "0.0",
         "0.0",
         "0.0",
         "0.0",
         "0.0",
         "0.0",
         "0.0",
         "0.0",
         "0.0",
         "0.0",
         "0.0",
         "0.0",
         "0.0",
         "0.0",
         "0.0",
         "0.0",
         "0.0",
         "0.0",
         "0.0",
         "0.0",
         "0.0",
         "0.0",
         "0.0",
         "0.0",
         "0.0",
         "0.0",
         "0.0",
         "0.0",
         "0.0",
         "0.0",
         "0.0",
         "0.0",
         "0.0",
         "0.0",
         "0.0",
         "0.0",
         "0.0",
         "0.0",
         "0.0",
         "0.0",
         "0.0",
         "0.0",
         "0.0",
         "0.0",
         "0.0",
         "0.0",
         "0.0",
         "0.0",
         "0.0",
         "0.0",
         "0.0",
         "0.0",
         "0.0",
         "0.0",
         "0.0",
         "0.0",
         "0.0",
         "0.0",
         "0.0",
         "0.0",
         "0.0",
         "0.0",
         "0.0",
         "0.0",
         "0.0",
         "0.0",
         "0.0",
         "0.0",
         "0.0",
         "0.0",
         "0.0",
         "0.0",
         "0.0",
         "0.0",
         "0.0",
         "0.0",
         "0.0",
         "0.0",
         "0.0",
         "0.0",
         "0.0",
         "0.0",
         "0.0",
         "0.0",
         "0.0",
         "0.0",
         "0.0",
         "0.0",
         "0.0",
         "0.0",
         "0.0",
         "0.0",
         "0.0",
         "0.0",
         "0.0",
         "0.0",
         "0.0",
         "0.0",
         "0.0",
         "0.0",
         "0.0",
         "0.0",
         "0.0",
         "0.0",
         "0.0",
         "0.0",
         "0.0",
         "0.0",
         "0.0",
         "0.0",
         "0.0",
         "0.0",
         "0.0",
         "0.0",
         "0.0",
         "0.0",
         "0.0",
         "0.0",
         "0.0",
         "0.0",
         "0.0",
         "0.0",
         "0.0",
         "0.0",
         "0.0",
         "0.0",
         "0.0",
         "0.0",
         "0.0",
         "0.0",
         "0.0",
         "0.0",
         "0.0",
         "0.0",
         "0.0",
         "0.0",
         "0.0",
         "0.0",
         "0.0",
         "0.0",
         "0.0",
         "0.0",
         "0.0",
         "0.0",
         "0.0",
         "0.0",
         "0.0",
         "0.0",
         "0.0"
        ],
        [
         "3",
         "0.0",
         "0.0",
         "0.0",
         "0.0",
         "0.0",
         "0.0",
         "0.0",
         "0.0",
         "0.0",
         "0.0",
         "0.0",
         "0.0",
         "0.0",
         "0.0",
         "0.0",
         "0.0",
         "0.0",
         "0.0",
         "0.0",
         "0.0",
         "0.0",
         "0.0",
         "0.0",
         "0.0",
         "0.0",
         "0.0",
         "0.0",
         "0.0",
         "0.0",
         "0.0",
         "0.0",
         "0.0",
         "0.0",
         "0.0",
         "0.0",
         "0.0",
         "0.0",
         "0.0",
         "0.0",
         "0.0",
         "0.0",
         "0.0",
         "0.0",
         "0.0",
         "0.0",
         "0.0",
         "0.0",
         "0.0",
         "0.0",
         "0.0",
         "0.0",
         "0.0",
         "0.0",
         "0.0",
         "0.0",
         "0.0",
         "0.0",
         "0.0",
         "0.0",
         "0.0",
         "0.0",
         "0.0",
         "0.0",
         "0.0",
         "0.0",
         "0.0",
         "0.0",
         "0.0",
         "0.0",
         "0.0",
         "0.0",
         "0.0",
         "0.0",
         "0.0",
         "0.0",
         "0.0",
         "0.0",
         "0.0",
         "0.0",
         "0.0",
         "0.0",
         "0.0",
         "0.0",
         "0.0",
         "0.0",
         "0.0",
         "0.0",
         "0.0",
         "0.0",
         "0.0",
         "0.0",
         "0.0",
         "0.0",
         "0.0",
         "0.0",
         "0.0",
         "0.0",
         "0.0",
         "0.0",
         "0.0",
         "0.0",
         "0.0",
         "0.0",
         "0.0",
         "0.0",
         "0.0",
         "0.0",
         "0.0",
         "0.0",
         "0.0",
         "0.0",
         "0.0",
         "0.0",
         "0.0",
         "0.0",
         "0.0",
         "0.0",
         "0.0",
         "0.0",
         "0.0",
         "0.0",
         "0.0",
         "0.0",
         "0.0",
         "0.0",
         "0.0",
         "0.0",
         "0.0",
         "0.0",
         "0.0",
         "0.0",
         "0.0",
         "0.0",
         "0.0",
         "0.0",
         "0.0",
         "0.0",
         "0.0",
         "0.0",
         "0.0",
         "0.0",
         "0.0",
         "0.0",
         "0.0",
         "0.0",
         "0.0",
         "0.0",
         "0.0",
         "0.0",
         "0.0",
         "0.0",
         "0.0",
         "0.0",
         "0.0",
         "0.0",
         "0.0",
         "0.0",
         "0.0",
         "0.0",
         "0.0",
         "0.0",
         "0.0",
         "0.0",
         "0.0",
         "0.0",
         "0.0",
         "0.0",
         "0.0",
         "0.0",
         "0.0",
         "0.0",
         "0.0",
         "0.0",
         "0.0",
         "0.0",
         "0.0",
         "0.0",
         "0.0",
         "0.0",
         "0.0",
         "0.0",
         "0.0",
         "0.0",
         "0.0",
         "0.0",
         "0.0",
         "0.0",
         "0.0",
         "0.0",
         "0.0",
         "0.0",
         "0.0",
         "0.0",
         "0.0",
         "0.0",
         "0.0",
         "0.0",
         "0.0",
         "0.0",
         "0.0",
         "0.0",
         "0.0",
         "0.0",
         "0.0",
         "0.0",
         "0.0",
         "0.0",
         "0.0",
         "0.0",
         "0.0",
         "0.0",
         "0.0",
         "0.0",
         "0.0",
         "0.0",
         "0.0",
         "0.0",
         "0.0",
         "0.0",
         "0.0",
         "0.0",
         "0.0",
         "0.0",
         "0.0",
         "0.0",
         "0.0",
         "0.0",
         "0.0",
         "0.0",
         "0.0",
         "0.0",
         "0.0",
         "0.0",
         "0.0",
         "0.0",
         "0.0",
         "0.0",
         "0.0",
         "0.0",
         "0.0",
         "0.0",
         "0.0",
         "0.0",
         "0.0",
         "0.0",
         "0.0",
         "0.0",
         "0.0",
         "0.0",
         "0.0",
         "0.0",
         "0.0",
         "0.0",
         "0.0",
         "0.0",
         "0.0",
         "0.0",
         "0.0",
         "0.0",
         "0.0",
         "0.0",
         "0.0",
         "0.0",
         "0.0",
         "0.0",
         "0.0",
         "0.0",
         "0.0",
         "0.0",
         "0.0",
         "0.0",
         "0.0",
         "0.0",
         "0.0",
         "0.0",
         "0.0",
         "0.0",
         "0.0",
         "0.0",
         "0.0",
         "0.0",
         "0.0",
         "0.0",
         "0.0",
         "0.0",
         "0.0",
         "0.0",
         "0.0",
         "0.0",
         "0.0",
         "0.0",
         "0.0",
         "0.0",
         "0.0",
         "0.0",
         "0.0",
         "0.0",
         "0.0",
         "0.0",
         "0.0",
         "0.0",
         "0.0",
         "0.0",
         "0.0",
         "0.0",
         "0.0",
         "0.0",
         "0.0",
         "0.0",
         "0.0",
         "0.0",
         "0.0",
         "0.0",
         "0.0",
         "0.0",
         "0.0",
         "0.0",
         "0.0",
         "0.0",
         "0.0",
         "0.0",
         "0.0",
         "0.0",
         "0.0",
         "0.0",
         "0.0",
         "0.0",
         "0.0",
         "0.0",
         "0.0",
         "0.0",
         "0.0",
         "0.0",
         "0.0",
         "0.0",
         "0.0",
         "0.0",
         "0.0",
         "0.0",
         "0.0",
         "0.0",
         "0.0",
         "0.0",
         "0.0",
         "0.0",
         "0.0",
         "0.0",
         "0.0",
         "0.0",
         "0.0",
         "0.0",
         "0.0",
         "0.0",
         "0.0",
         "0.0",
         "0.0",
         "0.0",
         "0.0",
         "0.0",
         "0.0",
         "0.0",
         "0.0",
         "0.0",
         "0.0",
         "0.0",
         "0.0",
         "0.0",
         "0.0",
         "0.0",
         "0.0",
         "0.0",
         "0.0",
         "0.0",
         "0.0",
         "0.0",
         "0.0",
         "0.0",
         "0.0",
         "0.0",
         "0.0",
         "0.0",
         "0.0",
         "0.0",
         "0.0",
         "0.0",
         "0.0",
         "0.0",
         "0.0",
         "0.0",
         "0.0",
         "0.0",
         "0.0",
         "0.0",
         "0.0",
         "0.0",
         "0.0",
         "0.0",
         "0.0",
         "0.0",
         "0.0",
         "0.0",
         "0.0",
         "0.0",
         "0.0",
         "0.0",
         "0.0",
         "0.0",
         "0.0",
         "0.0",
         "0.0",
         "0.0",
         "0.0",
         "0.0",
         "0.0",
         "0.0",
         "0.0",
         "0.0",
         "0.0",
         "0.0",
         "0.0",
         "0.0",
         "0.0",
         "0.0",
         "0.0",
         "0.0",
         "0.0",
         "0.0",
         "0.0",
         "0.0",
         "0.0",
         "0.0",
         "0.0",
         "0.0",
         "0.0",
         "0.0",
         "0.0",
         "0.0",
         "0.0",
         "0.0",
         "0.0",
         "0.0",
         "0.0",
         "0.0",
         "0.0",
         "0.0",
         "0.0",
         "0.0",
         "0.0",
         "0.0",
         "0.0",
         "0.0",
         "0.0",
         "0.3440367659872689",
         "0.0",
         "0.0",
         "0.0",
         "0.0",
         "0.0",
         "0.0",
         "0.0",
         "0.0",
         "0.0",
         "0.0",
         "0.0",
         "0.0",
         "0.0",
         "0.0",
         "0.0",
         "0.0",
         "0.0",
         "0.0",
         "0.0",
         "0.0",
         "0.0",
         "0.0",
         "0.0",
         "0.0",
         "0.0",
         "0.0",
         "0.0",
         "0.0",
         "0.0",
         "0.0",
         "0.0",
         "0.0",
         "0.0",
         "0.0",
         "0.0",
         "0.0",
         "0.0",
         "0.0",
         "0.0",
         "0.0",
         "0.0",
         "0.0",
         "0.0",
         "0.0",
         "0.0",
         "0.0",
         "0.0",
         "0.0",
         "0.0",
         "0.0",
         "0.0",
         "0.0",
         "0.0",
         "0.0",
         "0.0",
         "0.0",
         "0.0",
         "0.0",
         "0.0",
         "0.0",
         "0.0",
         "0.0",
         "0.0",
         "0.0",
         "0.0",
         "0.0",
         "0.0",
         "0.0",
         "0.0",
         "0.0",
         "0.0",
         "0.0",
         "0.0",
         "0.0",
         "0.0",
         "0.0",
         "0.0",
         "0.0",
         "0.0",
         "0.0",
         "0.0",
         "0.0",
         "0.0",
         "0.0",
         "0.0",
         "0.0",
         "0.0",
         "0.0",
         "0.0",
         "0.0",
         "0.0",
         "0.0",
         "0.0",
         "0.0",
         "0.0",
         "0.0",
         "0.0",
         "0.0",
         "0.0",
         "0.0",
         "0.0",
         "0.0",
         "0.0",
         "0.0",
         "0.0",
         "0.0",
         "0.0",
         "0.0",
         "0.0",
         "0.0",
         "0.0",
         "0.0",
         "0.0",
         "0.0",
         "0.0",
         "0.0",
         "0.0",
         "0.0",
         "0.0",
         "0.0",
         "0.0",
         "0.0",
         "0.0",
         "0.0",
         "0.0",
         "0.0",
         "0.0",
         "0.0",
         "0.0",
         "0.0",
         "0.0",
         "0.0",
         "0.0",
         "0.0",
         "0.0",
         "0.0",
         "0.0",
         "0.0",
         "0.0",
         "0.0",
         "0.0",
         "0.0",
         "0.0",
         "0.0",
         "0.0",
         "0.0",
         "0.0",
         "0.0",
         "0.0",
         "0.0",
         "0.0",
         "0.0",
         "0.0",
         "0.0",
         "0.0",
         "0.0",
         "0.0",
         "0.0",
         "0.0",
         "0.0",
         "0.0",
         "0.0",
         "0.0",
         "0.0",
         "0.0",
         "0.0",
         "0.0",
         "0.0",
         "0.0",
         "0.0",
         "0.0",
         "0.0",
         "0.0",
         "0.0",
         "0.0",
         "0.0",
         "0.0",
         "0.0",
         "0.0",
         "0.0",
         "0.0",
         "0.0",
         "0.0",
         "0.0",
         "0.0",
         "0.0",
         "0.0",
         "0.0",
         "0.0",
         "0.0",
         "0.0",
         "0.0",
         "0.0",
         "0.0",
         "0.0",
         "0.0",
         "0.0",
         "0.0",
         "0.0",
         "0.0",
         "0.0",
         "0.0",
         "0.0",
         "0.0",
         "0.0",
         "0.0",
         "0.0",
         "0.0",
         "0.0",
         "0.0",
         "0.0",
         "0.0",
         "0.0",
         "0.0",
         "0.0",
         "0.0",
         "0.0",
         "0.0",
         "0.0",
         "0.0",
         "0.0",
         "0.0",
         "0.0",
         "0.0",
         "0.0",
         "0.0",
         "0.0",
         "0.0",
         "0.0",
         "0.0",
         "0.0",
         "0.0",
         "0.0",
         "0.0",
         "0.0",
         "0.0",
         "0.0",
         "0.0",
         "0.0",
         "0.0",
         "0.0",
         "0.0",
         "0.0",
         "0.0",
         "0.0",
         "0.0",
         "0.0",
         "0.0",
         "0.0",
         "0.0",
         "0.0",
         "0.0",
         "0.0",
         "0.0",
         "0.0",
         "0.0",
         "0.0",
         "0.0",
         "0.0",
         "0.0",
         "0.0",
         "0.0",
         "0.0",
         "0.0",
         "0.0",
         "0.0",
         "0.0",
         "0.0",
         "0.0",
         "0.0",
         "0.0",
         "0.0",
         "0.0",
         "0.0",
         "0.0",
         "0.0",
         "0.0",
         "0.0",
         "0.0",
         "0.0",
         "0.0",
         "0.0",
         "0.0",
         "0.0",
         "0.0",
         "0.0",
         "0.0",
         "0.0",
         "0.0",
         "0.0",
         "0.0",
         "0.0",
         "0.0",
         "0.0",
         "0.0",
         "0.0",
         "0.0",
         "0.0",
         "0.0",
         "0.0",
         "0.0",
         "0.0",
         "0.0",
         "0.0",
         "0.0",
         "0.0",
         "0.0",
         "0.0",
         "0.0",
         "0.0",
         "0.0",
         "0.0",
         "0.0",
         "0.0",
         "0.0",
         "0.0",
         "0.0",
         "0.0",
         "0.0",
         "0.0",
         "0.0",
         "0.0",
         "0.0",
         "0.0",
         "0.0",
         "0.0",
         "0.0",
         "0.0",
         "0.0",
         "0.0",
         "0.0",
         "0.0",
         "0.0",
         "0.0",
         "0.0",
         "0.0",
         "0.0",
         "0.0",
         "0.0",
         "0.0",
         "0.0",
         "0.0",
         "0.0",
         "0.0",
         "0.0",
         "0.0",
         "0.0",
         "0.0",
         "0.0",
         "0.0",
         "0.0",
         "0.0",
         "0.0",
         "0.0",
         "0.0",
         "0.0",
         "0.0",
         "0.0",
         "0.0",
         "0.0",
         "0.0",
         "0.0",
         "0.0",
         "0.0",
         "0.0",
         "0.0",
         "0.0",
         "0.0",
         "0.0",
         "0.0",
         "0.0",
         "0.0",
         "0.0",
         "0.0",
         "0.0",
         "0.0",
         "0.0",
         "0.0",
         "0.0",
         "0.0",
         "0.0",
         "0.0",
         "0.0",
         "0.0",
         "0.0",
         "0.0",
         "0.0",
         "0.0",
         "0.0",
         "0.0",
         "0.0",
         "0.0",
         "0.0",
         "0.0",
         "0.0",
         "0.0",
         "0.0",
         "0.0",
         "0.0",
         "0.0",
         "0.0",
         "0.0",
         "0.5864022036252196",
         "0.0",
         "0.0",
         "0.0",
         "0.0",
         "0.0",
         "0.0",
         "0.0",
         "0.0",
         "0.0",
         "0.0",
         "0.0",
         "0.0",
         "0.0",
         "0.0",
         "0.0",
         "0.0",
         "0.0",
         "0.0",
         "0.0",
         "0.0",
         "0.0",
         "0.0",
         "0.0",
         "0.0",
         "0.0",
         "0.0",
         "0.0",
         "0.0",
         "0.0",
         "0.0",
         "0.0",
         "0.0",
         "0.0",
         "0.0",
         "0.0",
         "0.0",
         "0.0",
         "0.0",
         "0.0",
         "0.0",
         "0.0",
         "0.0",
         "0.0",
         "0.0",
         "0.0",
         "0.0",
         "0.0",
         "0.0",
         "0.0",
         "0.0",
         "0.0",
         "0.0",
         "0.0",
         "0.0",
         "0.0",
         "0.0",
         "0.0",
         "0.0",
         "0.0",
         "0.0",
         "0.0",
         "0.0",
         "0.0",
         "0.0",
         "0.0",
         "0.0",
         "0.0",
         "0.0",
         "0.0",
         "0.0",
         "0.0",
         "0.0",
         "0.0",
         "0.0",
         "0.0",
         "0.0",
         "0.0",
         "0.0",
         "0.0",
         "0.0",
         "0.0",
         "0.0",
         "0.0",
         "0.0",
         "0.0",
         "0.0",
         "0.0",
         "0.0",
         "0.0",
         "0.0",
         "0.0",
         "0.0",
         "0.0",
         "0.0",
         "0.0",
         "0.0",
         "0.0",
         "0.0",
         "0.0",
         "0.0",
         "0.0",
         "0.0",
         "0.0",
         "0.0",
         "0.0",
         "0.0",
         "0.0",
         "0.0",
         "0.0",
         "0.0",
         "0.0",
         "0.0",
         "0.0",
         "0.0",
         "0.0",
         "0.0",
         "0.0",
         "0.0",
         "0.0",
         "0.0",
         "0.0",
         "0.0",
         "0.0",
         "0.0",
         "0.0",
         "0.0",
         "0.0",
         "0.0",
         "0.0",
         "0.0",
         "0.0",
         "0.0",
         "0.0",
         "0.0",
         "0.0",
         "0.0",
         "0.0",
         "0.0",
         "0.0",
         "0.0",
         "0.0",
         "0.0",
         "0.0",
         "0.0",
         "0.0",
         "0.0",
         "0.0",
         "0.0",
         "0.0",
         "0.0",
         "0.0",
         "0.0",
         "0.0",
         "0.0",
         "0.0",
         "0.0",
         "0.0",
         "0.0",
         "0.0",
         "0.0",
         "0.0",
         "0.0",
         "0.0",
         "0.0",
         "0.0",
         "0.0",
         "0.0",
         "0.0",
         "0.0",
         "0.0",
         "0.0",
         "0.0",
         "0.0",
         "0.0",
         "0.0",
         "0.0",
         "0.0",
         "0.0",
         "0.0",
         "0.0",
         "0.0",
         "0.0",
         "0.0",
         "0.0",
         "0.0",
         "0.0",
         "0.0",
         "0.0",
         "0.0",
         "0.0",
         "0.0",
         "0.0",
         "0.0",
         "0.0",
         "0.0",
         "0.0",
         "0.0",
         "0.0",
         "0.0",
         "0.0",
         "0.0",
         "0.0",
         "0.0",
         "0.0",
         "0.0",
         "0.0",
         "0.0",
         "0.0",
         "0.0",
         "0.0",
         "0.0",
         "0.0",
         "0.0",
         "0.0",
         "0.0",
         "0.0",
         "0.0",
         "0.0",
         "0.0",
         "0.0",
         "0.0",
         "0.0",
         "0.0",
         "0.0",
         "0.0",
         "0.0",
         "0.0",
         "0.0",
         "0.0",
         "0.0",
         "0.0",
         "0.0",
         "0.0",
         "0.0",
         "0.0",
         "0.0",
         "0.0",
         "0.0",
         "0.0",
         "0.0",
         "0.0",
         "0.0",
         "0.0",
         "0.0",
         "0.0",
         "0.0",
         "0.0",
         "0.0",
         "0.0",
         "0.0",
         "0.0",
         "0.0",
         "0.0",
         "0.0",
         "0.0",
         "0.0",
         "0.0",
         "0.0",
         "0.0",
         "0.0",
         "0.0",
         "0.0",
         "0.0",
         "0.0",
         "0.0",
         "0.0",
         "0.0",
         "0.0",
         "0.0",
         "0.0",
         "0.0",
         "0.0",
         "0.0",
         "0.0",
         "0.0",
         "0.0",
         "0.0",
         "0.0",
         "0.0",
         "0.0",
         "0.0",
         "0.0",
         "0.0",
         "0.0",
         "0.0",
         "0.0",
         "0.0",
         "0.0",
         "0.0",
         "0.0",
         "0.0",
         "0.0",
         "0.0",
         "0.0",
         "0.0",
         "0.0",
         "0.0",
         "0.0",
         "0.0",
         "0.0",
         "0.0",
         "0.0",
         "0.0",
         "0.0",
         "0.0",
         "0.0",
         "0.0",
         "0.0",
         "0.0",
         "0.0",
         "0.0",
         "0.0",
         "0.0",
         "0.0",
         "0.0",
         "0.0",
         "0.0",
         "0.0",
         "0.0",
         "0.0",
         "0.0",
         "0.0",
         "0.0",
         "0.0",
         "0.0",
         "0.0",
         "0.0",
         "0.0",
         "0.0",
         "0.0",
         "0.0",
         "0.0",
         "0.0",
         "0.0",
         "0.0",
         "0.0",
         "0.0",
         "0.0",
         "0.0",
         "0.0",
         "0.0",
         "0.0",
         "0.0",
         "0.0",
         "0.0",
         "0.0",
         "0.0",
         "0.0",
         "0.0",
         "0.0",
         "0.0",
         "0.0",
         "0.0",
         "0.0",
         "0.0",
         "0.0",
         "0.0",
         "0.0",
         "0.0",
         "0.0",
         "0.0",
         "0.0",
         "0.0",
         "0.0",
         "0.0",
         "0.0",
         "0.0",
         "0.0",
         "0.0",
         "0.0",
         "0.0",
         "0.0",
         "0.0",
         "0.0",
         "0.0",
         "0.0",
         "0.0",
         "0.0",
         "0.0",
         "0.0",
         "0.0",
         "0.0",
         "0.0",
         "0.0",
         "0.0",
         "0.0",
         "0.0",
         "0.0",
         "0.0",
         "0.0",
         "0.0",
         "0.0",
         "0.0",
         "0.0",
         "0.0",
         "0.0",
         "0.0",
         "0.0",
         "0.0",
         "0.0",
         "0.0",
         "0.0",
         "0.0",
         "0.0",
         "0.0",
         "0.0",
         "0.0",
         "0.0",
         "0.0",
         "0.0",
         "0.0",
         "0.0",
         "0.0",
         "0.0",
         "0.0",
         "0.0",
         "0.0",
         "0.0",
         "0.0",
         "0.0",
         "0.0",
         "0.0",
         "0.0",
         "0.0",
         "0.0",
         "0.0",
         "0.0",
         "0.0",
         "0.0",
         "0.0",
         "0.0",
         "0.0",
         "0.0",
         "0.0",
         "0.0",
         "0.0",
         "0.0",
         "0.0",
         "0.0",
         "0.0",
         "0.0",
         "0.0",
         "0.0",
         "0.0",
         "0.0",
         "0.0",
         "0.0",
         "0.0",
         "0.0",
         "0.0",
         "0.0",
         "0.0",
         "0.0",
         "0.0",
         "0.0",
         "0.0",
         "0.0",
         "0.0",
         "0.0",
         "0.0",
         "0.0",
         "0.0",
         "0.0",
         "0.520826860459255",
         "0.0",
         "0.0",
         "0.0",
         "0.0",
         "0.0",
         "0.0",
         "0.0",
         "0.0",
         "0.0",
         "0.0",
         "0.0",
         "0.0",
         "0.0",
         "0.0",
         "0.0",
         "0.0",
         "0.0",
         "0.0",
         "0.0",
         "0.0",
         "0.0",
         "0.0",
         "0.0",
         "0.0",
         "0.0",
         "0.0",
         "0.0",
         "0.0",
         "0.0",
         "0.0",
         "0.0",
         "0.0",
         "0.0",
         "0.0",
         "0.0",
         "0.0",
         "0.0",
         "0.0",
         "0.0",
         "0.0",
         "0.0",
         "0.0",
         "0.0",
         "0.0",
         "0.0",
         "0.0",
         "0.0",
         "0.0",
         "0.0",
         "0.0",
         "0.0",
         "0.0",
         "0.0",
         "0.0",
         "0.0",
         "0.0",
         "0.0",
         "0.0",
         "0.0",
         "0.0",
         "0.0",
         "0.0",
         "0.0",
         "0.0",
         "0.0",
         "0.0",
         "0.0",
         "0.0",
         "0.0",
         "0.0",
         "0.0",
         "0.0",
         "0.0",
         "0.0",
         "0.0",
         "0.0",
         "0.0",
         "0.0",
         "0.0",
         "0.0",
         "0.0",
         "0.0",
         "0.0",
         "0.0",
         "0.0",
         "0.0",
         "0.0",
         "0.0",
         "0.0",
         "0.0",
         "0.0",
         "0.0",
         "0.0",
         "0.0",
         "0.0",
         "0.0",
         "0.0",
         "0.0",
         "0.0",
         "0.0",
         "0.0",
         "0.0",
         "0.0",
         "0.0",
         "0.0",
         "0.0",
         "0.0",
         "0.0",
         "0.0",
         "0.0",
         "0.0",
         "0.0",
         "0.0",
         "0.0",
         "0.0",
         "0.0",
         "0.0",
         "0.0",
         "0.0",
         "0.0",
         "0.0",
         "0.0",
         "0.0",
         "0.0",
         "0.0",
         "0.0",
         "0.0",
         "0.0",
         "0.0",
         "0.0",
         "0.0",
         "0.0",
         "0.0",
         "0.0",
         "0.0",
         "0.0",
         "0.0",
         "0.0",
         "0.0",
         "0.0",
         "0.0",
         "0.0",
         "0.0",
         "0.0",
         "0.0",
         "0.0",
         "0.0",
         "0.0",
         "0.0",
         "0.0",
         "0.0",
         "0.0",
         "0.0",
         "0.0",
         "0.0",
         "0.0",
         "0.0",
         "0.0",
         "0.0",
         "0.0",
         "0.0",
         "0.0",
         "0.0",
         "0.0",
         "0.0",
         "0.0",
         "0.0",
         "0.0",
         "0.3666127874844506",
         "0.0",
         "0.0",
         "0.0",
         "0.0",
         "0.0",
         "0.0",
         "0.0",
         "0.0",
         "0.0",
         "0.0",
         "0.0",
         "0.0",
         "0.0",
         "0.0",
         "0.0",
         "0.0",
         "0.0",
         "0.0",
         "0.0",
         "0.0",
         "0.0",
         "0.0",
         "0.0",
         "0.0",
         "0.0",
         "0.0",
         "0.0",
         "0.0",
         "0.0",
         "0.0",
         "0.0",
         "0.0",
         "0.0",
         "0.0",
         "0.0",
         "0.0",
         "0.0",
         "0.0",
         "0.0",
         "0.0",
         "0.0",
         "0.0",
         "0.0",
         "0.0",
         "0.0",
         "0.0",
         "0.0",
         "0.0",
         "0.0",
         "0.0",
         "0.0",
         "0.0",
         "0.0",
         "0.0",
         "0.0",
         "0.0",
         "0.0",
         "0.0",
         "0.0",
         "0.0",
         "0.0",
         "0.0",
         "0.0",
         "0.0",
         "0.0",
         "0.0",
         "0.0",
         "0.0",
         "0.0",
         "0.0",
         "0.0",
         "0.0",
         "0.0",
         "0.0",
         "0.0",
         "0.0",
         "0.0",
         "0.0",
         "0.0",
         "0.3634633471335785",
         "0.0",
         "0.0",
         "0.0",
         "0.0",
         "0.0",
         "0.0",
         "0.0",
         "0.0",
         "0.0",
         "0.0",
         "0.0",
         "0.0",
         "0.0",
         "0.0",
         "0.0",
         "0.0",
         "0.0",
         "0.0",
         "0.0",
         "0.0",
         "0.0",
         "0.0",
         "0.0",
         "0.0",
         "0.0",
         "0.0",
         "0.0",
         "0.0",
         "0.0",
         "0.0",
         "0.0",
         "0.0",
         "0.0",
         "0.0",
         "0.0",
         "0.0",
         "0.0",
         "0.0",
         "0.0",
         "0.0",
         "0.0",
         "0.0",
         "0.0",
         "0.0",
         "0.0",
         "0.0",
         "0.0",
         "0.0",
         "0.0",
         "0.0",
         "0.0",
         "0.0",
         "0.0",
         "0.0",
         "0.0",
         "0.0",
         "0.0",
         "0.0",
         "0.0",
         "0.0",
         "0.0",
         "0.0",
         "0.0",
         "0.0",
         "0.0",
         "0.0",
         "0.0",
         "0.0"
        ],
        [
         "4",
         "0.0",
         "0.0",
         "0.0",
         "0.0",
         "0.0",
         "0.0",
         "0.0",
         "0.0",
         "0.0",
         "0.0",
         "0.0",
         "0.0",
         "0.0",
         "0.0",
         "0.0",
         "0.0",
         "0.0",
         "0.0",
         "0.0",
         "0.0",
         "0.0",
         "0.0",
         "0.0",
         "0.0",
         "0.0",
         "0.0",
         "0.0",
         "0.0",
         "0.0",
         "0.0",
         "0.0",
         "0.0",
         "0.0",
         "0.0",
         "0.0",
         "0.0",
         "0.0",
         "0.0",
         "0.0",
         "0.0",
         "0.0",
         "0.0",
         "0.0",
         "0.0",
         "0.0",
         "0.0",
         "0.0",
         "0.0",
         "0.0",
         "0.0",
         "0.0",
         "0.0",
         "0.0",
         "0.0",
         "0.0",
         "0.0",
         "0.0",
         "0.0",
         "0.0",
         "0.0",
         "0.0",
         "0.0",
         "0.0",
         "0.0",
         "0.0",
         "0.0",
         "0.0",
         "0.0",
         "0.0",
         "0.0",
         "0.0",
         "0.0",
         "0.0",
         "0.0",
         "0.0",
         "0.0",
         "0.0",
         "0.0",
         "0.0",
         "0.0",
         "0.0",
         "0.0",
         "0.0",
         "0.0",
         "0.0",
         "0.0",
         "0.0",
         "0.0",
         "0.0",
         "0.0",
         "0.0",
         "0.0",
         "0.0",
         "0.0",
         "0.0",
         "0.0",
         "0.0",
         "0.0",
         "0.0",
         "0.0",
         "0.0",
         "0.0",
         "0.0",
         "0.0",
         "0.0",
         "0.0",
         "0.0",
         "0.0",
         "0.0",
         "0.0",
         "0.0",
         "0.0",
         "0.0",
         "0.0",
         "0.0",
         "0.0",
         "0.0",
         "0.0",
         "0.0",
         "0.0",
         "0.0",
         "0.0",
         "0.0",
         "0.0",
         "0.0",
         "0.0",
         "0.0",
         "0.0",
         "0.0",
         "0.0",
         "0.0",
         "0.0",
         "0.0",
         "0.0",
         "0.0",
         "0.0",
         "0.0",
         "0.0",
         "0.0",
         "0.0",
         "0.0",
         "0.0",
         "0.0",
         "0.0",
         "0.0",
         "0.0",
         "0.0",
         "0.0",
         "0.0",
         "0.0",
         "0.0",
         "0.0",
         "0.0",
         "0.0",
         "0.0",
         "0.0",
         "0.0",
         "0.0",
         "0.0",
         "0.0",
         "0.0",
         "0.0",
         "0.0",
         "0.0",
         "0.0",
         "0.0",
         "0.0",
         "0.0",
         "0.0",
         "0.0",
         "0.0",
         "0.0",
         "0.0",
         "0.0",
         "0.0",
         "0.0",
         "0.0",
         "0.0",
         "0.0",
         "0.0",
         "0.0",
         "0.0",
         "0.0",
         "0.0",
         "0.0",
         "0.0",
         "0.0",
         "0.0",
         "0.0",
         "0.0",
         "0.0",
         "0.0",
         "0.0",
         "0.0",
         "0.0",
         "0.0",
         "0.0",
         "0.0",
         "0.0",
         "0.0",
         "0.0",
         "0.0",
         "0.0",
         "0.0",
         "0.0",
         "0.0",
         "0.0",
         "0.0",
         "0.0",
         "0.0",
         "0.0",
         "0.0",
         "0.0",
         "0.0",
         "0.0",
         "0.0",
         "0.0",
         "0.0",
         "0.0",
         "0.0",
         "0.0",
         "0.0",
         "0.0",
         "0.0",
         "0.0",
         "0.0",
         "0.0",
         "0.0",
         "0.0",
         "0.0",
         "0.0",
         "0.0",
         "0.0",
         "0.0",
         "0.0",
         "0.0",
         "0.0",
         "0.0",
         "0.0",
         "0.0",
         "0.0",
         "0.0",
         "0.0",
         "0.0",
         "0.0",
         "0.0",
         "0.0",
         "0.0",
         "0.0",
         "0.0",
         "0.0",
         "0.0",
         "0.0",
         "0.0",
         "0.0",
         "0.0",
         "0.0",
         "0.0",
         "0.0",
         "0.0",
         "0.0",
         "0.0",
         "0.0",
         "0.0",
         "0.0",
         "0.0",
         "0.0",
         "0.0",
         "0.0",
         "0.0",
         "0.0",
         "0.0",
         "0.0",
         "0.0",
         "0.0",
         "0.0",
         "0.6203738879064342",
         "0.0",
         "0.0",
         "0.0",
         "0.0",
         "0.0",
         "0.0",
         "0.0",
         "0.0",
         "0.0",
         "0.0",
         "0.0",
         "0.0",
         "0.0",
         "0.0",
         "0.0",
         "0.0",
         "0.0",
         "0.0",
         "0.0",
         "0.0",
         "0.0",
         "0.0",
         "0.0",
         "0.0",
         "0.0",
         "0.0",
         "0.0",
         "0.0",
         "0.0",
         "0.0",
         "0.0",
         "0.0",
         "0.0",
         "0.0",
         "0.0",
         "0.0",
         "0.0",
         "0.0",
         "0.0",
         "0.0",
         "0.0",
         "0.0",
         "0.0",
         "0.0",
         "0.0",
         "0.0",
         "0.0",
         "0.0",
         "0.0",
         "0.0",
         "0.0",
         "0.0",
         "0.0",
         "0.0",
         "0.0",
         "0.0",
         "0.0",
         "0.0",
         "0.0",
         "0.0",
         "0.0",
         "0.0",
         "0.0",
         "0.0",
         "0.0",
         "0.0",
         "0.0",
         "0.0",
         "0.0",
         "0.0",
         "0.0",
         "0.0",
         "0.0",
         "0.0",
         "0.0",
         "0.0",
         "0.0",
         "0.0",
         "0.0",
         "0.0",
         "0.0",
         "0.0",
         "0.0",
         "0.0",
         "0.0",
         "0.0",
         "0.0",
         "0.0",
         "0.0",
         "0.0",
         "0.0",
         "0.0",
         "0.0",
         "0.0",
         "0.0",
         "0.0",
         "0.0",
         "0.0",
         "0.0",
         "0.0",
         "0.0",
         "0.0",
         "0.0",
         "0.0",
         "0.0",
         "0.0",
         "0.0",
         "0.0",
         "0.0",
         "0.0",
         "0.0",
         "0.0",
         "0.0",
         "0.0",
         "0.0",
         "0.0",
         "0.0",
         "0.0",
         "0.0",
         "0.0",
         "0.0",
         "0.0",
         "0.0",
         "0.0",
         "0.0",
         "0.0",
         "0.0",
         "0.0",
         "0.0",
         "0.0",
         "0.0",
         "0.0",
         "0.0",
         "0.0",
         "0.0",
         "0.0",
         "0.0",
         "0.0",
         "0.0",
         "0.0",
         "0.0",
         "0.0",
         "0.0",
         "0.0",
         "0.0",
         "0.0",
         "0.0",
         "0.0",
         "0.0",
         "0.0",
         "0.0",
         "0.0",
         "0.0",
         "0.0",
         "0.0",
         "0.0",
         "0.0",
         "0.0",
         "0.0",
         "0.0",
         "0.0",
         "0.0",
         "0.0",
         "0.0",
         "0.0",
         "0.0",
         "0.0",
         "0.0",
         "0.0",
         "0.0",
         "0.0",
         "0.0",
         "0.0",
         "0.0",
         "0.0",
         "0.0",
         "0.0",
         "0.0",
         "0.0",
         "0.0",
         "0.0",
         "0.0",
         "0.0",
         "0.0",
         "0.0",
         "0.0",
         "0.0",
         "0.0",
         "0.0",
         "0.0",
         "0.0",
         "0.0",
         "0.0",
         "0.0",
         "0.0",
         "0.0",
         "0.0",
         "0.0",
         "0.0",
         "0.0",
         "0.0",
         "0.0",
         "0.0",
         "0.0",
         "0.0",
         "0.0",
         "0.0",
         "0.0",
         "0.0",
         "0.0",
         "0.0",
         "0.0",
         "0.0",
         "0.0",
         "0.0",
         "0.0",
         "0.0",
         "0.0",
         "0.0",
         "0.0",
         "0.0",
         "0.0",
         "0.0",
         "0.0",
         "0.0",
         "0.0",
         "0.0",
         "0.0",
         "0.0",
         "0.0",
         "0.0",
         "0.0",
         "0.0",
         "0.0",
         "0.0",
         "0.0",
         "0.0",
         "0.0",
         "0.0",
         "0.0",
         "0.0",
         "0.0",
         "0.0",
         "0.0",
         "0.0",
         "0.0",
         "0.0",
         "0.0",
         "0.0",
         "0.0",
         "0.0",
         "0.0",
         "0.0",
         "0.0",
         "0.0",
         "0.0",
         "0.0",
         "0.0",
         "0.0",
         "0.0",
         "0.0",
         "0.0",
         "0.0",
         "0.0",
         "0.0",
         "0.0",
         "0.0",
         "0.0",
         "0.0",
         "0.0",
         "0.0",
         "0.0",
         "0.0",
         "0.0",
         "0.0",
         "0.0",
         "0.0",
         "0.0",
         "0.0",
         "0.0",
         "0.0",
         "0.0",
         "0.0",
         "0.0",
         "0.0",
         "0.0",
         "0.0",
         "0.0",
         "0.0",
         "0.0",
         "0.0",
         "0.0",
         "0.0",
         "0.0",
         "0.0",
         "0.0",
         "0.0",
         "0.0",
         "0.0",
         "0.0",
         "0.0",
         "0.0",
         "0.0",
         "0.0",
         "0.0",
         "0.0",
         "0.0",
         "0.0",
         "0.0",
         "0.0",
         "0.0",
         "0.0",
         "0.0",
         "0.0",
         "0.0",
         "0.0",
         "0.0",
         "0.0",
         "0.0",
         "0.0",
         "0.0",
         "0.0",
         "0.0",
         "0.0",
         "0.0",
         "0.0",
         "0.0",
         "0.0",
         "0.0",
         "0.0",
         "0.0",
         "0.0",
         "0.0",
         "0.0",
         "0.0",
         "0.0",
         "0.0",
         "0.0",
         "0.0",
         "0.0",
         "0.0",
         "0.0",
         "0.0",
         "0.0",
         "0.0",
         "0.0",
         "0.0",
         "0.0",
         "0.0",
         "0.0",
         "0.0",
         "0.0",
         "0.0",
         "0.0",
         "0.0",
         "0.0",
         "0.0",
         "0.0",
         "0.0",
         "0.0",
         "0.0",
         "0.0",
         "0.0",
         "0.0",
         "0.0",
         "0.0",
         "0.0",
         "0.0",
         "0.0",
         "0.0",
         "0.0",
         "0.0",
         "0.0",
         "0.0",
         "0.0",
         "0.0",
         "0.0",
         "0.0",
         "0.0",
         "0.0",
         "0.0",
         "0.0",
         "0.0",
         "0.0",
         "0.0",
         "0.0",
         "0.0",
         "0.0",
         "0.0",
         "0.0",
         "0.0",
         "0.0",
         "0.0",
         "0.0",
         "0.0",
         "0.0",
         "0.0",
         "0.0",
         "0.0",
         "0.0",
         "0.0",
         "0.0",
         "0.0",
         "0.0",
         "0.0",
         "0.0",
         "0.0",
         "0.0",
         "0.0",
         "0.0",
         "0.0",
         "0.0",
         "0.0",
         "0.0",
         "0.0",
         "0.0",
         "0.0",
         "0.0",
         "0.0",
         "0.0",
         "0.0",
         "0.0",
         "0.0",
         "0.0",
         "0.0",
         "0.0",
         "0.0",
         "0.0",
         "0.0",
         "0.0",
         "0.0",
         "0.0",
         "0.0",
         "0.0",
         "0.0",
         "0.0",
         "0.0",
         "0.0",
         "0.0",
         "0.0",
         "0.0",
         "0.0",
         "0.0",
         "0.0",
         "0.0",
         "0.0",
         "0.0",
         "0.0",
         "0.0",
         "0.0",
         "0.0",
         "0.0",
         "0.0",
         "0.0",
         "0.0",
         "0.0",
         "0.0",
         "0.0",
         "0.0",
         "0.0",
         "0.0",
         "0.0",
         "0.0",
         "0.0",
         "0.0",
         "0.0",
         "0.0",
         "0.0",
         "0.0",
         "0.0",
         "0.0",
         "0.0",
         "0.0",
         "0.0",
         "0.0",
         "0.0",
         "0.0",
         "0.0",
         "0.0",
         "0.0",
         "0.0",
         "0.0",
         "0.0",
         "0.0",
         "0.0",
         "0.0",
         "0.0",
         "0.0",
         "0.0",
         "0.0",
         "0.0",
         "0.0",
         "0.0",
         "0.0",
         "0.0",
         "0.0",
         "0.0",
         "0.0",
         "0.0",
         "0.0",
         "0.0",
         "0.0",
         "0.0",
         "0.0",
         "0.0",
         "0.0",
         "0.0",
         "0.0",
         "0.0",
         "0.0",
         "0.0",
         "0.0",
         "0.0",
         "0.0",
         "0.0",
         "0.0",
         "0.0",
         "0.0",
         "0.0",
         "0.0",
         "0.0",
         "0.0",
         "0.0",
         "0.0",
         "0.0",
         "0.0",
         "0.0",
         "0.0",
         "0.0",
         "0.0",
         "0.0",
         "0.0",
         "0.0",
         "0.0",
         "0.0",
         "0.0",
         "0.0",
         "0.0",
         "0.0",
         "0.0",
         "0.0",
         "0.0",
         "0.0",
         "0.0",
         "0.0",
         "0.0",
         "0.0",
         "0.0",
         "0.0",
         "0.0",
         "0.0",
         "0.0",
         "0.0",
         "0.0",
         "0.0",
         "0.0",
         "0.0",
         "0.0",
         "0.0",
         "0.0",
         "0.0",
         "0.0",
         "0.0",
         "0.0",
         "0.0",
         "0.0",
         "0.0",
         "0.0",
         "0.0",
         "0.0",
         "0.0",
         "0.0",
         "0.0",
         "0.0",
         "0.0",
         "0.0",
         "0.0",
         "0.0",
         "0.0",
         "0.0",
         "0.0",
         "0.0",
         "0.0",
         "0.0",
         "0.0",
         "0.0",
         "0.0",
         "0.0",
         "0.0",
         "0.0",
         "0.0",
         "0.0",
         "0.0",
         "0.0",
         "0.0",
         "0.0",
         "0.0",
         "0.0",
         "0.0",
         "0.0",
         "0.0",
         "0.0",
         "0.0",
         "0.0",
         "0.0",
         "0.0",
         "0.0",
         "0.0",
         "0.0",
         "0.0",
         "0.0",
         "0.0",
         "0.0",
         "0.0",
         "0.0",
         "0.0",
         "0.0",
         "0.0",
         "0.0",
         "0.0",
         "0.0",
         "0.0",
         "0.0",
         "0.0",
         "0.0",
         "0.0",
         "0.0",
         "0.0",
         "0.0",
         "0.0",
         "0.0",
         "0.0",
         "0.0",
         "0.0",
         "0.0",
         "0.0",
         "0.0",
         "0.0",
         "0.0",
         "0.0",
         "0.0",
         "0.0",
         "0.0",
         "0.0",
         "0.0",
         "0.0",
         "0.0",
         "0.0",
         "0.0",
         "0.0",
         "0.0",
         "0.0",
         "0.0",
         "0.0",
         "0.638428211172181",
         "0.0",
         "0.0",
         "0.0",
         "0.0",
         "0.0",
         "0.0",
         "0.0",
         "0.0",
         "0.0",
         "0.0",
         "0.0",
         "0.0",
         "0.0",
         "0.0",
         "0.0",
         "0.0",
         "0.0",
         "0.0",
         "0.0",
         "0.0",
         "0.0",
         "0.0",
         "0.0",
         "0.0",
         "0.0",
         "0.0",
         "0.0",
         "0.0",
         "0.0",
         "0.0",
         "0.0",
         "0.0",
         "0.0",
         "0.0",
         "0.0",
         "0.0",
         "0.0",
         "0.0",
         "0.0",
         "0.0",
         "0.0",
         "0.0",
         "0.0",
         "0.0",
         "0.0",
         "0.0",
         "0.0",
         "0.0",
         "0.0",
         "0.0",
         "0.0",
         "0.0",
         "0.0",
         "0.0",
         "0.0",
         "0.0",
         "0.0",
         "0.0",
         "0.0",
         "0.0",
         "0.0",
         "0.0",
         "0.0",
         "0.0",
         "0.0",
         "0.0",
         "0.0",
         "0.0",
         "0.0",
         "0.0",
         "0.0",
         "0.0",
         "0.0",
         "0.0",
         "0.0",
         "0.0",
         "0.0",
         "0.0",
         "0.0",
         "0.0",
         "0.0",
         "0.0",
         "0.0",
         "0.0",
         "0.0",
         "0.0",
         "0.0",
         "0.0",
         "0.0",
         "0.0",
         "0.0",
         "0.0",
         "0.0",
         "0.0",
         "0.0",
         "0.0",
         "0.0",
         "0.0",
         "0.0",
         "0.0",
         "0.0",
         "0.0",
         "0.0",
         "0.0",
         "0.0",
         "0.0",
         "0.0",
         "0.0",
         "0.0",
         "0.0",
         "0.0",
         "0.0",
         "0.0",
         "0.0",
         "0.0",
         "0.0",
         "0.0",
         "0.0",
         "0.0",
         "0.0",
         "0.0",
         "0.0",
         "0.0",
         "0.0",
         "0.0",
         "0.0",
         "0.0",
         "0.0",
         "0.0",
         "0.0",
         "0.0",
         "0.0",
         "0.0",
         "0.0",
         "0.0",
         "0.0",
         "0.0",
         "0.0",
         "0.0",
         "0.0",
         "0.0",
         "0.0",
         "0.0",
         "0.0",
         "0.0",
         "0.0",
         "0.0",
         "0.0",
         "0.0",
         "0.0",
         "0.0",
         "0.0",
         "0.0",
         "0.0",
         "0.0",
         "0.0",
         "0.0",
         "0.0",
         "0.0",
         "0.0",
         "0.0",
         "0.0",
         "0.0",
         "0.0",
         "0.0",
         "0.0",
         "0.0",
         "0.0",
         "0.0",
         "0.0",
         "0.0",
         "0.0",
         "0.0",
         "0.0",
         "0.0",
         "0.0",
         "0.0",
         "0.0",
         "0.0",
         "0.0",
         "0.0",
         "0.0",
         "0.0",
         "0.0",
         "0.0",
         "0.0",
         "0.0",
         "0.0",
         "0.0",
         "0.0",
         "0.0",
         "0.0",
         "0.0",
         "0.0",
         "0.0",
         "0.0",
         "0.0",
         "0.0",
         "0.0",
         "0.0",
         "0.0",
         "0.0",
         "0.0",
         "0.0",
         "0.0",
         "0.0",
         "0.0",
         "0.0",
         "0.0",
         "0.0",
         "0.0",
         "0.0",
         "0.0",
         "0.0",
         "0.0",
         "0.0",
         "0.0",
         "0.0",
         "0.0",
         "0.0",
         "0.0",
         "0.0",
         "0.4555717927872007",
         "0.0",
         "0.0",
         "0.0",
         "0.0",
         "0.0",
         "0.0",
         "0.0",
         "0.0",
         "0.0",
         "0.0",
         "0.0",
         "0.0",
         "0.0",
         "0.0",
         "0.0",
         "0.0",
         "0.0",
         "0.0",
         "0.0",
         "0.0",
         "0.0",
         "0.0",
         "0.0",
         "0.0",
         "0.0",
         "0.0",
         "0.0",
         "0.0",
         "0.0",
         "0.0",
         "0.0",
         "0.0",
         "0.0",
         "0.0",
         "0.0",
         "0.0",
         "0.0",
         "0.0",
         "0.0",
         "0.0",
         "0.0",
         "0.0",
         "0.0",
         "0.0",
         "0.0",
         "0.0",
         "0.0",
         "0.0",
         "0.0",
         "0.0",
         "0.0",
         "0.0",
         "0.0",
         "0.0",
         "0.0",
         "0.0",
         "0.0",
         "0.0",
         "0.0",
         "0.0",
         "0.0",
         "0.0",
         "0.0",
         "0.0",
         "0.0",
         "0.0",
         "0.0",
         "0.0",
         "0.0",
         "0.0",
         "0.0",
         "0.0",
         "0.0",
         "0.0",
         "0.0",
         "0.0",
         "0.0",
         "0.0",
         "0.0",
         "0.0",
         "0.0",
         "0.0",
         "0.0",
         "0.0",
         "0.0",
         "0.0",
         "0.0",
         "0.0",
         "0.0",
         "0.0",
         "0.0",
         "0.0",
         "0.0",
         "0.0",
         "0.0",
         "0.0",
         "0.0",
         "0.0",
         "0.0",
         "0.0",
         "0.0",
         "0.0",
         "0.0",
         "0.0",
         "0.0",
         "0.0",
         "0.0",
         "0.0",
         "0.0",
         "0.0",
         "0.0",
         "0.0",
         "0.0",
         "0.0",
         "0.0",
         "0.0",
         "0.0",
         "0.0",
         "0.0",
         "0.0",
         "0.0",
         "0.0",
         "0.0",
         "0.0",
         "0.0",
         "0.0",
         "0.0",
         "0.0",
         "0.0",
         "0.0",
         "0.0",
         "0.0",
         "0.0",
         "0.0",
         "0.0",
         "0.0",
         "0.0",
         "0.0",
         "0.0",
         "0.0",
         "0.0",
         "0.0",
         "0.0",
         "0.0",
         "0.0",
         "0.0",
         "0.0",
         "0.0",
         "0.0",
         "0.0",
         "0.0",
         "0.0",
         "0.0",
         "0.0",
         "0.0",
         "0.0",
         "0.0",
         "0.0",
         "0.0",
         "0.0",
         "0.0",
         "0.0",
         "0.0",
         "0.0",
         "0.0",
         "0.0",
         "0.0",
         "0.0",
         "0.0",
         "0.0",
         "0.0",
         "0.0",
         "0.0",
         "0.0",
         "0.0",
         "0.0",
         "0.0",
         "0.0",
         "0.0",
         "0.0",
         "0.0",
         "0.0",
         "0.0",
         "0.0",
         "0.0",
         "0.0",
         "0.0",
         "0.0",
         "0.0",
         "0.0",
         "0.0",
         "0.0",
         "0.0",
         "0.0",
         "0.0",
         "0.0",
         "0.0",
         "0.0",
         "0.0",
         "0.0",
         "0.0",
         "0.0",
         "0.0",
         "0.0",
         "0.0",
         "0.0",
         "0.0",
         "0.0",
         "0.0",
         "0.0",
         "0.0",
         "0.0",
         "0.0",
         "0.0",
         "0.0",
         "0.0",
         "0.0",
         "0.0",
         "0.0",
         "0.0",
         "0.0",
         "0.0",
         "0.0",
         "0.0",
         "0.0",
         "0.0",
         "0.0",
         "0.0",
         "0.0",
         "0.0",
         "0.0",
         "0.0",
         "0.0",
         "0.0",
         "0.0",
         "0.0",
         "0.0",
         "0.0",
         "0.0",
         "0.0",
         "0.0",
         "0.0",
         "0.0",
         "0.0",
         "0.0",
         "0.0",
         "0.0",
         "0.0",
         "0.0",
         "0.0",
         "0.0",
         "0.0",
         "0.0",
         "0.0",
         "0.0",
         "0.0",
         "0.0",
         "0.0",
         "0.0",
         "0.0",
         "0.0",
         "0.0",
         "0.0",
         "0.0",
         "0.0",
         "0.0",
         "0.0",
         "0.0",
         "0.0",
         "0.0",
         "0.0",
         "0.0",
         "0.0",
         "0.0",
         "0.0",
         "0.0",
         "0.0",
         "0.0",
         "0.0",
         "0.0",
         "0.0",
         "0.0",
         "0.0",
         "0.0",
         "0.0",
         "0.0",
         "0.0",
         "0.0",
         "0.0",
         "0.0",
         "0.0",
         "0.0",
         "0.0",
         "0.0",
         "0.0",
         "0.0",
         "0.0",
         "0.0",
         "0.0",
         "0.0",
         "0.0",
         "0.0",
         "0.0",
         "0.0",
         "0.0",
         "0.0",
         "0.0",
         "0.0",
         "0.0",
         "0.0",
         "0.0",
         "0.0",
         "0.0",
         "0.0",
         "0.0",
         "0.0",
         "0.0",
         "0.0",
         "0.0",
         "0.0",
         "0.0",
         "0.0",
         "0.0",
         "0.0",
         "0.0",
         "0.0",
         "0.0",
         "0.0",
         "0.0",
         "0.0",
         "0.0",
         "0.0",
         "0.0",
         "0.0",
         "0.0",
         "0.0",
         "0.0",
         "0.0",
         "0.0",
         "0.0",
         "0.0",
         "0.0",
         "0.0",
         "0.0",
         "0.0",
         "0.0",
         "0.0",
         "0.0",
         "0.0",
         "0.0",
         "0.0",
         "0.0",
         "0.0",
         "0.0",
         "0.0",
         "0.0",
         "0.0",
         "0.0",
         "0.0",
         "0.0",
         "0.0",
         "0.0",
         "0.0",
         "0.0",
         "0.0",
         "0.0",
         "0.0",
         "0.0",
         "0.0",
         "0.0",
         "0.0",
         "0.0",
         "0.0",
         "0.0",
         "0.0",
         "0.0",
         "0.0",
         "0.0",
         "0.0",
         "0.0",
         "0.0",
         "0.0",
         "0.0",
         "0.0",
         "0.0",
         "0.0",
         "0.0",
         "0.0",
         "0.0",
         "0.0",
         "0.0",
         "0.0",
         "0.0",
         "0.0",
         "0.0",
         "0.0",
         "0.0",
         "0.0",
         "0.0",
         "0.0",
         "0.0",
         "0.0",
         "0.0",
         "0.0",
         "0.0",
         "0.0",
         "0.0",
         "0.0",
         "0.0",
         "0.0",
         "0.0",
         "0.0",
         "0.0",
         "0.0",
         "0.0",
         "0.0",
         "0.0",
         "0.0",
         "0.0",
         "0.0",
         "0.0",
         "0.0",
         "0.0",
         "0.0",
         "0.0",
         "0.0",
         "0.0",
         "0.0",
         "0.0",
         "0.0",
         "0.0",
         "0.0",
         "0.0",
         "0.0",
         "0.0",
         "0.0",
         "0.0",
         "0.0",
         "0.0",
         "0.0",
         "0.0",
         "0.0",
         "0.0",
         "0.0",
         "0.0",
         "0.0",
         "0.0",
         "0.0",
         "0.0",
         "0.0",
         "0.0",
         "0.0",
         "0.0",
         "0.0",
         "0.0",
         "0.0",
         "0.0",
         "0.0",
         "0.0",
         "0.0",
         "0.0",
         "0.0",
         "0.0",
         "0.0",
         "0.0",
         "0.0",
         "0.0",
         "0.0",
         "0.0",
         "0.0",
         "0.0",
         "0.0",
         "0.0",
         "0.0",
         "0.0",
         "0.0",
         "0.0",
         "0.0",
         "0.0",
         "0.0",
         "0.0",
         "0.0"
        ]
       ],
       "shape": {
        "columns": 1637,
        "rows": 5
       }
      },
      "text/html": [
       "<div>\n",
       "<style scoped>\n",
       "    .dataframe tbody tr th:only-of-type {\n",
       "        vertical-align: middle;\n",
       "    }\n",
       "\n",
       "    .dataframe tbody tr th {\n",
       "        vertical-align: top;\n",
       "    }\n",
       "\n",
       "    .dataframe thead th {\n",
       "        text-align: right;\n",
       "    }\n",
       "</style>\n",
       "<table border=\"1\" class=\"dataframe\">\n",
       "  <thead>\n",
       "    <tr style=\"text-align: right;\">\n",
       "      <th></th>\n",
       "      <th>abode</th>\n",
       "      <th>abolish</th>\n",
       "      <th>abolished</th>\n",
       "      <th>abolishes</th>\n",
       "      <th>abolishing</th>\n",
       "      <th>abolishment</th>\n",
       "      <th>abolition</th>\n",
       "      <th>abortion</th>\n",
       "      <th>abortions</th>\n",
       "      <th>abridge</th>\n",
       "      <th>...</th>\n",
       "      <th>work</th>\n",
       "      <th>world</th>\n",
       "      <th>would</th>\n",
       "      <th>writing</th>\n",
       "      <th>writs</th>\n",
       "      <th>xi</th>\n",
       "      <th>xiv</th>\n",
       "      <th>year</th>\n",
       "      <th>years</th>\n",
       "      <th>yeas</th>\n",
       "    </tr>\n",
       "  </thead>\n",
       "  <tbody>\n",
       "    <tr>\n",
       "      <th>0</th>\n",
       "      <td>0.0</td>\n",
       "      <td>0.0</td>\n",
       "      <td>0.0</td>\n",
       "      <td>0.0</td>\n",
       "      <td>0.0</td>\n",
       "      <td>0.0</td>\n",
       "      <td>0.0</td>\n",
       "      <td>0.0</td>\n",
       "      <td>0.0</td>\n",
       "      <td>0.0</td>\n",
       "      <td>...</td>\n",
       "      <td>0.0</td>\n",
       "      <td>0.0</td>\n",
       "      <td>0.0</td>\n",
       "      <td>0.0</td>\n",
       "      <td>0.0</td>\n",
       "      <td>0.0</td>\n",
       "      <td>0.0</td>\n",
       "      <td>0.0</td>\n",
       "      <td>0.0</td>\n",
       "      <td>0.0</td>\n",
       "    </tr>\n",
       "    <tr>\n",
       "      <th>1</th>\n",
       "      <td>0.0</td>\n",
       "      <td>0.0</td>\n",
       "      <td>0.0</td>\n",
       "      <td>0.0</td>\n",
       "      <td>0.0</td>\n",
       "      <td>0.0</td>\n",
       "      <td>0.0</td>\n",
       "      <td>0.0</td>\n",
       "      <td>0.0</td>\n",
       "      <td>0.0</td>\n",
       "      <td>...</td>\n",
       "      <td>0.0</td>\n",
       "      <td>0.0</td>\n",
       "      <td>0.0</td>\n",
       "      <td>0.0</td>\n",
       "      <td>0.0</td>\n",
       "      <td>0.0</td>\n",
       "      <td>0.0</td>\n",
       "      <td>0.0</td>\n",
       "      <td>0.0</td>\n",
       "      <td>0.0</td>\n",
       "    </tr>\n",
       "    <tr>\n",
       "      <th>2</th>\n",
       "      <td>0.0</td>\n",
       "      <td>0.0</td>\n",
       "      <td>0.0</td>\n",
       "      <td>0.0</td>\n",
       "      <td>0.0</td>\n",
       "      <td>0.0</td>\n",
       "      <td>0.0</td>\n",
       "      <td>0.0</td>\n",
       "      <td>0.0</td>\n",
       "      <td>0.0</td>\n",
       "      <td>...</td>\n",
       "      <td>0.0</td>\n",
       "      <td>0.0</td>\n",
       "      <td>0.0</td>\n",
       "      <td>0.0</td>\n",
       "      <td>0.0</td>\n",
       "      <td>0.0</td>\n",
       "      <td>0.0</td>\n",
       "      <td>0.0</td>\n",
       "      <td>0.0</td>\n",
       "      <td>0.0</td>\n",
       "    </tr>\n",
       "    <tr>\n",
       "      <th>3</th>\n",
       "      <td>0.0</td>\n",
       "      <td>0.0</td>\n",
       "      <td>0.0</td>\n",
       "      <td>0.0</td>\n",
       "      <td>0.0</td>\n",
       "      <td>0.0</td>\n",
       "      <td>0.0</td>\n",
       "      <td>0.0</td>\n",
       "      <td>0.0</td>\n",
       "      <td>0.0</td>\n",
       "      <td>...</td>\n",
       "      <td>0.0</td>\n",
       "      <td>0.0</td>\n",
       "      <td>0.0</td>\n",
       "      <td>0.0</td>\n",
       "      <td>0.0</td>\n",
       "      <td>0.0</td>\n",
       "      <td>0.0</td>\n",
       "      <td>0.0</td>\n",
       "      <td>0.0</td>\n",
       "      <td>0.0</td>\n",
       "    </tr>\n",
       "    <tr>\n",
       "      <th>4</th>\n",
       "      <td>0.0</td>\n",
       "      <td>0.0</td>\n",
       "      <td>0.0</td>\n",
       "      <td>0.0</td>\n",
       "      <td>0.0</td>\n",
       "      <td>0.0</td>\n",
       "      <td>0.0</td>\n",
       "      <td>0.0</td>\n",
       "      <td>0.0</td>\n",
       "      <td>0.0</td>\n",
       "      <td>...</td>\n",
       "      <td>0.0</td>\n",
       "      <td>0.0</td>\n",
       "      <td>0.0</td>\n",
       "      <td>0.0</td>\n",
       "      <td>0.0</td>\n",
       "      <td>0.0</td>\n",
       "      <td>0.0</td>\n",
       "      <td>0.0</td>\n",
       "      <td>0.0</td>\n",
       "      <td>0.0</td>\n",
       "    </tr>\n",
       "  </tbody>\n",
       "</table>\n",
       "<p>5 rows × 1637 columns</p>\n",
       "</div>"
      ],
      "text/plain": [
       "   abode  abolish  abolished  abolishes  abolishing  abolishment  abolition  \\\n",
       "0    0.0      0.0        0.0        0.0         0.0          0.0        0.0   \n",
       "1    0.0      0.0        0.0        0.0         0.0          0.0        0.0   \n",
       "2    0.0      0.0        0.0        0.0         0.0          0.0        0.0   \n",
       "3    0.0      0.0        0.0        0.0         0.0          0.0        0.0   \n",
       "4    0.0      0.0        0.0        0.0         0.0          0.0        0.0   \n",
       "\n",
       "   abortion  abortions  abridge  ...  work  world  would  writing  writs   xi  \\\n",
       "0       0.0        0.0      0.0  ...   0.0    0.0    0.0      0.0    0.0  0.0   \n",
       "1       0.0        0.0      0.0  ...   0.0    0.0    0.0      0.0    0.0  0.0   \n",
       "2       0.0        0.0      0.0  ...   0.0    0.0    0.0      0.0    0.0  0.0   \n",
       "3       0.0        0.0      0.0  ...   0.0    0.0    0.0      0.0    0.0  0.0   \n",
       "4       0.0        0.0      0.0  ...   0.0    0.0    0.0      0.0    0.0  0.0   \n",
       "\n",
       "   xiv  year  years  yeas  \n",
       "0  0.0   0.0    0.0   0.0  \n",
       "1  0.0   0.0    0.0   0.0  \n",
       "2  0.0   0.0    0.0   0.0  \n",
       "3  0.0   0.0    0.0   0.0  \n",
       "4  0.0   0.0    0.0   0.0  \n",
       "\n",
       "[5 rows x 1637 columns]"
      ]
     },
     "execution_count": 143,
     "metadata": {},
     "output_type": "execute_result"
    }
   ],
   "source": [
    "#It worked without using the ', index=processed_texts.index' at the end.\n",
    "tfidf = pd.DataFrame(tfidf_bow.toarray(), columns=tfidfvec.get_feature_names_out())\n",
    "tfidf.head(5)"
   ]
  },
  {
   "cell_type": "code",
   "execution_count": 144,
   "id": "c6f3ef81",
   "metadata": {},
   "outputs": [
    {
     "data": {
      "application/vnd.microsoft.datawrangler.viewer.v0+json": {
       "columns": [
        {
         "name": "index",
         "rawType": "object",
         "type": "string"
        },
        {
         "name": "0",
         "rawType": "float64",
         "type": "float"
        }
       ],
       "ref": "23775cf8-d5a4-4b78-9bc3-df076a239768",
       "rows": [
        [
         "used",
         "1.0"
        ],
        [
         "requisitions",
         "1.0"
        ],
        [
         "reconstruction",
         "1.0"
        ],
        [
         "religion",
         "1.0"
        ],
        [
         "amendment",
         "1.0"
        ],
        [
         "shall",
         "1.0"
        ],
        [
         "ratification",
         "1.0"
        ],
        [
         "prohibited",
         "1.0"
        ],
        [
         "right",
         "1.0"
        ],
        [
         "suffrage",
         "1.0"
        ],
        [
         "special",
         "1.0"
        ],
        [
         "liberty",
         "1.0"
        ],
        [
         "nan",
         "1.0"
        ],
        [
         "oath",
         "1.0"
        ],
        [
         "power",
         "1.0"
        ],
        [
         "prevention",
         "1.0"
        ],
        [
         "departments",
         "1.0"
        ],
        [
         "choice",
         "1.0"
        ],
        [
         "abolish",
         "1.0"
        ],
        [
         "abolished",
         "1.0"
        ],
        [
         "impeachment",
         "1.0"
        ],
        [
         "franchise",
         "1.0"
        ],
        [
         "balancing",
         "1.0"
        ],
        [
         "internal",
         "1.0"
        ],
        [
         "jurisdiction",
         "1.0"
        ],
        [
         "judges",
         "1.0"
        ],
        [
         "initiative",
         "1.0"
        ],
        [
         "busing",
         "1.0"
        ],
        [
         "citizenship",
         "1.0"
        ],
        [
         "clause",
         "1.0"
        ],
        [
         "compensation",
         "1.0"
        ],
        [
         "pres",
         "0.9506627779208873"
        ],
        [
         "farmers",
         "0.9457895518736779"
        ],
        [
         "adjournment",
         "0.9432263894620496"
        ],
        [
         "equality",
         "0.9382929954625965"
        ],
        [
         "repeals",
         "0.9380032695836948"
        ],
        [
         "indians",
         "0.9375181204196003"
        ],
        [
         "sessions",
         "0.9361689031395174"
        ],
        [
         "lands",
         "0.926643816835578"
        ],
        [
         "appointed",
         "0.9243256742118237"
        ],
        [
         "repealing",
         "0.922248176819593"
        ],
        [
         "session",
         "0.9220816650118805"
        ],
        [
         "church",
         "0.9199866575258726"
        ],
        [
         "suability",
         "0.9154254075703623"
        ],
        [
         "electors",
         "0.9150090276289876"
        ],
        [
         "reserved",
         "0.9135786936211036"
        ],
        [
         "expiration",
         "0.9107969013274118"
        ],
        [
         "militia",
         "0.8960610170971933"
        ],
        [
         "amending",
         "0.895834593321877"
        ],
        [
         "lotteries",
         "0.8945217025913381"
        ]
       ],
       "shape": {
        "columns": 1,
        "rows": 50
       }
      },
      "text/plain": [
       "used              1.000000\n",
       "requisitions      1.000000\n",
       "reconstruction    1.000000\n",
       "religion          1.000000\n",
       "amendment         1.000000\n",
       "shall             1.000000\n",
       "ratification      1.000000\n",
       "prohibited        1.000000\n",
       "right             1.000000\n",
       "suffrage          1.000000\n",
       "special           1.000000\n",
       "liberty           1.000000\n",
       "nan               1.000000\n",
       "oath              1.000000\n",
       "power             1.000000\n",
       "prevention        1.000000\n",
       "departments       1.000000\n",
       "choice            1.000000\n",
       "abolish           1.000000\n",
       "abolished         1.000000\n",
       "impeachment       1.000000\n",
       "franchise         1.000000\n",
       "balancing         1.000000\n",
       "internal          1.000000\n",
       "jurisdiction      1.000000\n",
       "judges            1.000000\n",
       "initiative        1.000000\n",
       "busing            1.000000\n",
       "citizenship       1.000000\n",
       "clause            1.000000\n",
       "compensation      1.000000\n",
       "pres              0.950663\n",
       "farmers           0.945790\n",
       "adjournment       0.943226\n",
       "equality          0.938293\n",
       "repeals           0.938003\n",
       "indians           0.937518\n",
       "sessions          0.936169\n",
       "lands             0.926644\n",
       "appointed         0.924326\n",
       "repealing         0.922248\n",
       "session           0.922082\n",
       "church            0.919987\n",
       "suability         0.915425\n",
       "electors          0.915009\n",
       "reserved          0.913579\n",
       "expiration        0.910797\n",
       "militia           0.896061\n",
       "amending          0.895835\n",
       "lotteries         0.894522\n",
       "dtype: float64"
      ]
     },
     "execution_count": 144,
     "metadata": {},
     "output_type": "execute_result"
    }
   ],
   "source": [
    "tfidf.max().sort_values(ascending=False).head(50)"
   ]
  },
  {
   "cell_type": "code",
   "execution_count": 145,
   "id": "c2f9743a",
   "metadata": {},
   "outputs": [
    {
     "name": "stdout",
     "output_type": "stream",
     "text": [
      "<class 'list'>\n",
      "2355\n"
     ]
    }
   ],
   "source": [
    "print(type(wordsplit))\n",
    "text_set = set(wordsplit)\n",
    "print(text_set.__len__())"
   ]
  },
  {
   "cell_type": "code",
   "execution_count": 146,
   "id": "a566abb7",
   "metadata": {},
   "outputs": [
    {
     "data": {
      "application/vnd.microsoft.datawrangler.viewer.v0+json": {
       "columns": [
        {
         "name": "index",
         "rawType": "int64",
         "type": "integer"
        },
        {
         "name": "source_citation",
         "rawType": "object",
         "type": "string"
        },
        {
         "name": "source_index_number",
         "rawType": "object",
         "type": "string"
        },
        {
         "name": "title_or_description_from_source",
         "rawType": "object",
         "type": "string"
        },
        {
         "name": "year",
         "rawType": "float64",
         "type": "float"
        },
        {
         "name": "month",
         "rawType": "float64",
         "type": "float"
        },
        {
         "name": "day",
         "rawType": "float64",
         "type": "float"
        },
        {
         "name": "congress",
         "rawType": "float64",
         "type": "float"
        },
        {
         "name": "congressional_session",
         "rawType": "object",
         "type": "unknown"
        },
        {
         "name": "joint_resolution_chamber",
         "rawType": "object",
         "type": "unknown"
        },
        {
         "name": "joint_resolution_number",
         "rawType": "float64",
         "type": "float"
        },
        {
         "name": "sponsor_name",
         "rawType": "object",
         "type": "unknown"
        },
        {
         "name": "sponsor_state_or_territory",
         "rawType": "object",
         "type": "unknown"
        },
        {
         "name": "committee_of_referral",
         "rawType": "object",
         "type": "unknown"
        },
        {
         "name": "title_tokens",
         "rawType": "object",
         "type": "unknown"
        }
       ],
       "ref": "f7c79453-247a-4b0e-bf27-8e86b38f56cf",
       "rows": [
        [
         "7",
         "Ames, Herman V. The Proposed Amendments to the Constitution of the United States During the First Century of Its History, American Historical Society Annual Report for the year 1896; H. Doc. 353 part 2, 54th Cong., 2d Session, volume 3550-2, Washington: U.S. Government Printing Office, 1897.",
         "8",
         "Trial by jury in civil action",
         "1788.0",
         null,
         null,
         null,
         null,
         null,
         null,
         null,
         null,
         null,
         "['trial', 'by', 'jury', 'in', 'civil', 'action']"
        ],
        [
         "20",
         "Ames, Herman V. The Proposed Amendments to the Constitution of the United States During the First Century of Its History, American Historical Society Annual Report for the year 1896; H. Doc. 353 part 2, 54th Cong., 2d Session, volume 3550-2, Washington: U.S. Government Printing Office, 1897.",
         "21",
         "Trial by jury in civil cases",
         "1788.0",
         null,
         null,
         null,
         null,
         null,
         null,
         null,
         null,
         null,
         "['trial', 'by', 'jury', 'in', 'civil', 'cases']"
        ],
        [
         "23",
         "Ames, Herman V. The Proposed Amendments to the Constitution of the United States During the First Century of Its History, American Historical Society Annual Report for the year 1896; H. Doc. 353 part 2, 54th Cong., 2d Session, volume 3550-2, Washington: U.S. Government Printing Office, 1897.",
         "24",
         "Religion",
         "1788.0",
         null,
         null,
         null,
         null,
         null,
         null,
         null,
         null,
         null,
         "['religion']"
        ],
        [
         "29",
         "Ames, Herman V. The Proposed Amendments to the Constitution of the United States During the First Century of Its History, American Historical Society Annual Report for the year 1896; H. Doc. 353 part 2, 54th Cong., 2d Session, volume 3550-2, Washington: U.S. Government Printing Office, 1897.",
         "30",
         "Publication of journals annually",
         "1788.0",
         null,
         null,
         null,
         null,
         null,
         null,
         null,
         null,
         null,
         "['publication', 'of', 'journals', 'annually']"
        ],
        [
         "34",
         "Ames, Herman V. The Proposed Amendments to the Constitution of the United States During the First Century of Its History, American Historical Society Annual Report for the year 1896; H. Doc. 353 part 2, 54th Cong., 2d Session, volume 3550-2, Washington: U.S. Government Printing Office, 1897.",
         "35",
         "Period of enlistment of soldiers limited",
         "1788.0",
         null,
         null,
         null,
         null,
         null,
         null,
         null,
         null,
         null,
         "['period', 'of', 'enlistment', 'of', 'soldiers', 'limited']"
        ]
       ],
       "shape": {
        "columns": 14,
        "rows": 5
       }
      },
      "text/html": [
       "<div>\n",
       "<style scoped>\n",
       "    .dataframe tbody tr th:only-of-type {\n",
       "        vertical-align: middle;\n",
       "    }\n",
       "\n",
       "    .dataframe tbody tr th {\n",
       "        vertical-align: top;\n",
       "    }\n",
       "\n",
       "    .dataframe thead th {\n",
       "        text-align: right;\n",
       "    }\n",
       "</style>\n",
       "<table border=\"1\" class=\"dataframe\">\n",
       "  <thead>\n",
       "    <tr style=\"text-align: right;\">\n",
       "      <th></th>\n",
       "      <th>source_citation</th>\n",
       "      <th>source_index_number</th>\n",
       "      <th>title_or_description_from_source</th>\n",
       "      <th>year</th>\n",
       "      <th>month</th>\n",
       "      <th>day</th>\n",
       "      <th>congress</th>\n",
       "      <th>congressional_session</th>\n",
       "      <th>joint_resolution_chamber</th>\n",
       "      <th>joint_resolution_number</th>\n",
       "      <th>sponsor_name</th>\n",
       "      <th>sponsor_state_or_territory</th>\n",
       "      <th>committee_of_referral</th>\n",
       "      <th>title_tokens</th>\n",
       "    </tr>\n",
       "  </thead>\n",
       "  <tbody>\n",
       "    <tr>\n",
       "      <th>7</th>\n",
       "      <td>Ames, Herman V. The Proposed Amendments to the...</td>\n",
       "      <td>8</td>\n",
       "      <td>Trial by jury in civil action</td>\n",
       "      <td>1788.0</td>\n",
       "      <td>NaN</td>\n",
       "      <td>NaN</td>\n",
       "      <td>NaN</td>\n",
       "      <td>NaN</td>\n",
       "      <td>NaN</td>\n",
       "      <td>NaN</td>\n",
       "      <td>NaN</td>\n",
       "      <td>NaN</td>\n",
       "      <td>NaN</td>\n",
       "      <td>[trial, by, jury, in, civil, action]</td>\n",
       "    </tr>\n",
       "    <tr>\n",
       "      <th>20</th>\n",
       "      <td>Ames, Herman V. The Proposed Amendments to the...</td>\n",
       "      <td>21</td>\n",
       "      <td>Trial by jury in civil cases</td>\n",
       "      <td>1788.0</td>\n",
       "      <td>NaN</td>\n",
       "      <td>NaN</td>\n",
       "      <td>NaN</td>\n",
       "      <td>NaN</td>\n",
       "      <td>NaN</td>\n",
       "      <td>NaN</td>\n",
       "      <td>NaN</td>\n",
       "      <td>NaN</td>\n",
       "      <td>NaN</td>\n",
       "      <td>[trial, by, jury, in, civil, cases]</td>\n",
       "    </tr>\n",
       "    <tr>\n",
       "      <th>23</th>\n",
       "      <td>Ames, Herman V. The Proposed Amendments to the...</td>\n",
       "      <td>24</td>\n",
       "      <td>Religion</td>\n",
       "      <td>1788.0</td>\n",
       "      <td>NaN</td>\n",
       "      <td>NaN</td>\n",
       "      <td>NaN</td>\n",
       "      <td>NaN</td>\n",
       "      <td>NaN</td>\n",
       "      <td>NaN</td>\n",
       "      <td>NaN</td>\n",
       "      <td>NaN</td>\n",
       "      <td>NaN</td>\n",
       "      <td>[religion]</td>\n",
       "    </tr>\n",
       "    <tr>\n",
       "      <th>29</th>\n",
       "      <td>Ames, Herman V. The Proposed Amendments to the...</td>\n",
       "      <td>30</td>\n",
       "      <td>Publication of journals annually</td>\n",
       "      <td>1788.0</td>\n",
       "      <td>NaN</td>\n",
       "      <td>NaN</td>\n",
       "      <td>NaN</td>\n",
       "      <td>NaN</td>\n",
       "      <td>NaN</td>\n",
       "      <td>NaN</td>\n",
       "      <td>NaN</td>\n",
       "      <td>NaN</td>\n",
       "      <td>NaN</td>\n",
       "      <td>[publication, of, journals, annually]</td>\n",
       "    </tr>\n",
       "    <tr>\n",
       "      <th>34</th>\n",
       "      <td>Ames, Herman V. The Proposed Amendments to the...</td>\n",
       "      <td>35</td>\n",
       "      <td>Period of enlistment of soldiers limited</td>\n",
       "      <td>1788.0</td>\n",
       "      <td>NaN</td>\n",
       "      <td>NaN</td>\n",
       "      <td>NaN</td>\n",
       "      <td>NaN</td>\n",
       "      <td>NaN</td>\n",
       "      <td>NaN</td>\n",
       "      <td>NaN</td>\n",
       "      <td>NaN</td>\n",
       "      <td>NaN</td>\n",
       "      <td>[period, of, enlistment, of, soldiers, limited]</td>\n",
       "    </tr>\n",
       "  </tbody>\n",
       "</table>\n",
       "</div>"
      ],
      "text/plain": [
       "                                      source_citation source_index_number  \\\n",
       "7   Ames, Herman V. The Proposed Amendments to the...                   8   \n",
       "20  Ames, Herman V. The Proposed Amendments to the...                  21   \n",
       "23  Ames, Herman V. The Proposed Amendments to the...                  24   \n",
       "29  Ames, Herman V. The Proposed Amendments to the...                  30   \n",
       "34  Ames, Herman V. The Proposed Amendments to the...                  35   \n",
       "\n",
       "            title_or_description_from_source    year  month  day  congress  \\\n",
       "7              Trial by jury in civil action  1788.0    NaN  NaN       NaN   \n",
       "20              Trial by jury in civil cases  1788.0    NaN  NaN       NaN   \n",
       "23                                  Religion  1788.0    NaN  NaN       NaN   \n",
       "29          Publication of journals annually  1788.0    NaN  NaN       NaN   \n",
       "34  Period of enlistment of soldiers limited  1788.0    NaN  NaN       NaN   \n",
       "\n",
       "   congressional_session joint_resolution_chamber  joint_resolution_number  \\\n",
       "7                    NaN                      NaN                      NaN   \n",
       "20                   NaN                      NaN                      NaN   \n",
       "23                   NaN                      NaN                      NaN   \n",
       "29                   NaN                      NaN                      NaN   \n",
       "34                   NaN                      NaN                      NaN   \n",
       "\n",
       "   sponsor_name sponsor_state_or_territory committee_of_referral  \\\n",
       "7           NaN                        NaN                   NaN   \n",
       "20          NaN                        NaN                   NaN   \n",
       "23          NaN                        NaN                   NaN   \n",
       "29          NaN                        NaN                   NaN   \n",
       "34          NaN                        NaN                   NaN   \n",
       "\n",
       "                                       title_tokens  \n",
       "7              [trial, by, jury, in, civil, action]  \n",
       "20              [trial, by, jury, in, civil, cases]  \n",
       "23                                       [religion]  \n",
       "29            [publication, of, journals, annually]  \n",
       "34  [period, of, enlistment, of, soldiers, limited]  "
      ]
     },
     "execution_count": 146,
     "metadata": {},
     "output_type": "execute_result"
    }
   ],
   "source": [
    "data_unique.head()"
   ]
  },
  {
   "cell_type": "markdown",
   "id": "4bdd5972",
   "metadata": {},
   "source": [
    "<h1> Prediction: Number of Amendment Proposal w/ factors like Decades, Politcal Party in Power at the time, and whether the country was in war"
   ]
  },
  {
   "cell_type": "code",
   "execution_count": 147,
   "id": "0a569e88",
   "metadata": {},
   "outputs": [
    {
     "data": {
      "application/vnd.microsoft.datawrangler.viewer.v0+json": {
       "columns": [
        {
         "name": "index",
         "rawType": "int64",
         "type": "integer"
        },
        {
         "name": "source_citation",
         "rawType": "object",
         "type": "string"
        },
        {
         "name": "source_index_number",
         "rawType": "object",
         "type": "string"
        },
        {
         "name": "title_or_description_from_source",
         "rawType": "object",
         "type": "string"
        },
        {
         "name": "year",
         "rawType": "float64",
         "type": "float"
        },
        {
         "name": "month",
         "rawType": "float64",
         "type": "float"
        },
        {
         "name": "day",
         "rawType": "float64",
         "type": "float"
        },
        {
         "name": "congress",
         "rawType": "float64",
         "type": "float"
        },
        {
         "name": "congressional_session",
         "rawType": "object",
         "type": "unknown"
        },
        {
         "name": "joint_resolution_chamber",
         "rawType": "object",
         "type": "unknown"
        },
        {
         "name": "joint_resolution_number",
         "rawType": "float64",
         "type": "float"
        },
        {
         "name": "sponsor_name",
         "rawType": "object",
         "type": "unknown"
        },
        {
         "name": "sponsor_state_or_territory",
         "rawType": "object",
         "type": "unknown"
        },
        {
         "name": "committee_of_referral",
         "rawType": "object",
         "type": "unknown"
        },
        {
         "name": "title_tokens",
         "rawType": "object",
         "type": "unknown"
        },
        {
         "name": "decades",
         "rawType": "float64",
         "type": "float"
        }
       ],
       "ref": "fd8d8f9f-c514-479f-b956-0fa516f41692",
       "rows": [
        [
         "7",
         "Ames, Herman V. The Proposed Amendments to the Constitution of the United States During the First Century of Its History, American Historical Society Annual Report for the year 1896; H. Doc. 353 part 2, 54th Cong., 2d Session, volume 3550-2, Washington: U.S. Government Printing Office, 1897.",
         "8",
         "Trial by jury in civil action",
         "1788.0",
         null,
         null,
         null,
         null,
         null,
         null,
         null,
         null,
         null,
         "['trial', 'by', 'jury', 'in', 'civil', 'action']",
         "1780.0"
        ],
        [
         "20",
         "Ames, Herman V. The Proposed Amendments to the Constitution of the United States During the First Century of Its History, American Historical Society Annual Report for the year 1896; H. Doc. 353 part 2, 54th Cong., 2d Session, volume 3550-2, Washington: U.S. Government Printing Office, 1897.",
         "21",
         "Trial by jury in civil cases",
         "1788.0",
         null,
         null,
         null,
         null,
         null,
         null,
         null,
         null,
         null,
         "['trial', 'by', 'jury', 'in', 'civil', 'cases']",
         "1780.0"
        ],
        [
         "23",
         "Ames, Herman V. The Proposed Amendments to the Constitution of the United States During the First Century of Its History, American Historical Society Annual Report for the year 1896; H. Doc. 353 part 2, 54th Cong., 2d Session, volume 3550-2, Washington: U.S. Government Printing Office, 1897.",
         "24",
         "Religion",
         "1788.0",
         null,
         null,
         null,
         null,
         null,
         null,
         null,
         null,
         null,
         "['religion']",
         "1780.0"
        ],
        [
         "29",
         "Ames, Herman V. The Proposed Amendments to the Constitution of the United States During the First Century of Its History, American Historical Society Annual Report for the year 1896; H. Doc. 353 part 2, 54th Cong., 2d Session, volume 3550-2, Washington: U.S. Government Printing Office, 1897.",
         "30",
         "Publication of journals annually",
         "1788.0",
         null,
         null,
         null,
         null,
         null,
         null,
         null,
         null,
         null,
         "['publication', 'of', 'journals', 'annually']",
         "1780.0"
        ],
        [
         "34",
         "Ames, Herman V. The Proposed Amendments to the Constitution of the United States During the First Century of Its History, American Historical Society Annual Report for the year 1896; H. Doc. 353 part 2, 54th Cong., 2d Session, volume 3550-2, Washington: U.S. Government Printing Office, 1897.",
         "35",
         "Period of enlistment of soldiers limited",
         "1788.0",
         null,
         null,
         null,
         null,
         null,
         null,
         null,
         null,
         null,
         "['period', 'of', 'enlistment', 'of', 'soldiers', 'limited']",
         "1780.0"
        ]
       ],
       "shape": {
        "columns": 15,
        "rows": 5
       }
      },
      "text/html": [
       "<div>\n",
       "<style scoped>\n",
       "    .dataframe tbody tr th:only-of-type {\n",
       "        vertical-align: middle;\n",
       "    }\n",
       "\n",
       "    .dataframe tbody tr th {\n",
       "        vertical-align: top;\n",
       "    }\n",
       "\n",
       "    .dataframe thead th {\n",
       "        text-align: right;\n",
       "    }\n",
       "</style>\n",
       "<table border=\"1\" class=\"dataframe\">\n",
       "  <thead>\n",
       "    <tr style=\"text-align: right;\">\n",
       "      <th></th>\n",
       "      <th>source_citation</th>\n",
       "      <th>source_index_number</th>\n",
       "      <th>title_or_description_from_source</th>\n",
       "      <th>year</th>\n",
       "      <th>month</th>\n",
       "      <th>day</th>\n",
       "      <th>congress</th>\n",
       "      <th>congressional_session</th>\n",
       "      <th>joint_resolution_chamber</th>\n",
       "      <th>joint_resolution_number</th>\n",
       "      <th>sponsor_name</th>\n",
       "      <th>sponsor_state_or_territory</th>\n",
       "      <th>committee_of_referral</th>\n",
       "      <th>title_tokens</th>\n",
       "      <th>decades</th>\n",
       "    </tr>\n",
       "  </thead>\n",
       "  <tbody>\n",
       "    <tr>\n",
       "      <th>7</th>\n",
       "      <td>Ames, Herman V. The Proposed Amendments to the...</td>\n",
       "      <td>8</td>\n",
       "      <td>Trial by jury in civil action</td>\n",
       "      <td>1788.0</td>\n",
       "      <td>NaN</td>\n",
       "      <td>NaN</td>\n",
       "      <td>NaN</td>\n",
       "      <td>NaN</td>\n",
       "      <td>NaN</td>\n",
       "      <td>NaN</td>\n",
       "      <td>NaN</td>\n",
       "      <td>NaN</td>\n",
       "      <td>NaN</td>\n",
       "      <td>[trial, by, jury, in, civil, action]</td>\n",
       "      <td>1780.0</td>\n",
       "    </tr>\n",
       "    <tr>\n",
       "      <th>20</th>\n",
       "      <td>Ames, Herman V. The Proposed Amendments to the...</td>\n",
       "      <td>21</td>\n",
       "      <td>Trial by jury in civil cases</td>\n",
       "      <td>1788.0</td>\n",
       "      <td>NaN</td>\n",
       "      <td>NaN</td>\n",
       "      <td>NaN</td>\n",
       "      <td>NaN</td>\n",
       "      <td>NaN</td>\n",
       "      <td>NaN</td>\n",
       "      <td>NaN</td>\n",
       "      <td>NaN</td>\n",
       "      <td>NaN</td>\n",
       "      <td>[trial, by, jury, in, civil, cases]</td>\n",
       "      <td>1780.0</td>\n",
       "    </tr>\n",
       "    <tr>\n",
       "      <th>23</th>\n",
       "      <td>Ames, Herman V. The Proposed Amendments to the...</td>\n",
       "      <td>24</td>\n",
       "      <td>Religion</td>\n",
       "      <td>1788.0</td>\n",
       "      <td>NaN</td>\n",
       "      <td>NaN</td>\n",
       "      <td>NaN</td>\n",
       "      <td>NaN</td>\n",
       "      <td>NaN</td>\n",
       "      <td>NaN</td>\n",
       "      <td>NaN</td>\n",
       "      <td>NaN</td>\n",
       "      <td>NaN</td>\n",
       "      <td>[religion]</td>\n",
       "      <td>1780.0</td>\n",
       "    </tr>\n",
       "    <tr>\n",
       "      <th>29</th>\n",
       "      <td>Ames, Herman V. The Proposed Amendments to the...</td>\n",
       "      <td>30</td>\n",
       "      <td>Publication of journals annually</td>\n",
       "      <td>1788.0</td>\n",
       "      <td>NaN</td>\n",
       "      <td>NaN</td>\n",
       "      <td>NaN</td>\n",
       "      <td>NaN</td>\n",
       "      <td>NaN</td>\n",
       "      <td>NaN</td>\n",
       "      <td>NaN</td>\n",
       "      <td>NaN</td>\n",
       "      <td>NaN</td>\n",
       "      <td>[publication, of, journals, annually]</td>\n",
       "      <td>1780.0</td>\n",
       "    </tr>\n",
       "    <tr>\n",
       "      <th>34</th>\n",
       "      <td>Ames, Herman V. The Proposed Amendments to the...</td>\n",
       "      <td>35</td>\n",
       "      <td>Period of enlistment of soldiers limited</td>\n",
       "      <td>1788.0</td>\n",
       "      <td>NaN</td>\n",
       "      <td>NaN</td>\n",
       "      <td>NaN</td>\n",
       "      <td>NaN</td>\n",
       "      <td>NaN</td>\n",
       "      <td>NaN</td>\n",
       "      <td>NaN</td>\n",
       "      <td>NaN</td>\n",
       "      <td>NaN</td>\n",
       "      <td>[period, of, enlistment, of, soldiers, limited]</td>\n",
       "      <td>1780.0</td>\n",
       "    </tr>\n",
       "  </tbody>\n",
       "</table>\n",
       "</div>"
      ],
      "text/plain": [
       "                                      source_citation source_index_number  \\\n",
       "7   Ames, Herman V. The Proposed Amendments to the...                   8   \n",
       "20  Ames, Herman V. The Proposed Amendments to the...                  21   \n",
       "23  Ames, Herman V. The Proposed Amendments to the...                  24   \n",
       "29  Ames, Herman V. The Proposed Amendments to the...                  30   \n",
       "34  Ames, Herman V. The Proposed Amendments to the...                  35   \n",
       "\n",
       "            title_or_description_from_source    year  month  day  congress  \\\n",
       "7              Trial by jury in civil action  1788.0    NaN  NaN       NaN   \n",
       "20              Trial by jury in civil cases  1788.0    NaN  NaN       NaN   \n",
       "23                                  Religion  1788.0    NaN  NaN       NaN   \n",
       "29          Publication of journals annually  1788.0    NaN  NaN       NaN   \n",
       "34  Period of enlistment of soldiers limited  1788.0    NaN  NaN       NaN   \n",
       "\n",
       "   congressional_session joint_resolution_chamber  joint_resolution_number  \\\n",
       "7                    NaN                      NaN                      NaN   \n",
       "20                   NaN                      NaN                      NaN   \n",
       "23                   NaN                      NaN                      NaN   \n",
       "29                   NaN                      NaN                      NaN   \n",
       "34                   NaN                      NaN                      NaN   \n",
       "\n",
       "   sponsor_name sponsor_state_or_territory committee_of_referral  \\\n",
       "7           NaN                        NaN                   NaN   \n",
       "20          NaN                        NaN                   NaN   \n",
       "23          NaN                        NaN                   NaN   \n",
       "29          NaN                        NaN                   NaN   \n",
       "34          NaN                        NaN                   NaN   \n",
       "\n",
       "                                       title_tokens  decades  \n",
       "7              [trial, by, jury, in, civil, action]   1780.0  \n",
       "20              [trial, by, jury, in, civil, cases]   1780.0  \n",
       "23                                       [religion]   1780.0  \n",
       "29            [publication, of, journals, annually]   1780.0  \n",
       "34  [period, of, enlistment, of, soldiers, limited]   1780.0  "
      ]
     },
     "execution_count": 147,
     "metadata": {},
     "output_type": "execute_result"
    }
   ],
   "source": [
    "data_unique['decades'] = (data_unique['year'] // 10) * 10\n",
    "data_unique.head()"
   ]
  },
  {
   "cell_type": "code",
   "execution_count": 148,
   "id": "355b1dfa",
   "metadata": {},
   "outputs": [
    {
     "data": {
      "application/vnd.microsoft.datawrangler.viewer.v0+json": {
       "columns": [
        {
         "name": "index",
         "rawType": "int64",
         "type": "integer"
        },
        {
         "name": "decades",
         "rawType": "float64",
         "type": "float"
        },
        {
         "name": "source_citation",
         "rawType": "int64",
         "type": "integer"
        },
        {
         "name": "source_index_number",
         "rawType": "int64",
         "type": "integer"
        },
        {
         "name": "title_or_description_from_source",
         "rawType": "int64",
         "type": "integer"
        },
        {
         "name": "year",
         "rawType": "int64",
         "type": "integer"
        },
        {
         "name": "month",
         "rawType": "int64",
         "type": "integer"
        },
        {
         "name": "day",
         "rawType": "int64",
         "type": "integer"
        },
        {
         "name": "congress",
         "rawType": "int64",
         "type": "integer"
        },
        {
         "name": "congressional_session",
         "rawType": "int64",
         "type": "integer"
        },
        {
         "name": "joint_resolution_chamber",
         "rawType": "int64",
         "type": "integer"
        },
        {
         "name": "joint_resolution_number",
         "rawType": "int64",
         "type": "integer"
        },
        {
         "name": "sponsor_name",
         "rawType": "int64",
         "type": "integer"
        },
        {
         "name": "sponsor_state_or_territory",
         "rawType": "int64",
         "type": "integer"
        },
        {
         "name": "committee_of_referral",
         "rawType": "int64",
         "type": "integer"
        },
        {
         "name": "title_tokens",
         "rawType": "int64",
         "type": "integer"
        }
       ],
       "ref": "4fb67223-1958-4f7f-bab8-e772771e683c",
       "rows": [
        [
         "0",
         "1780.0",
         "173",
         "174",
         "174",
         "174",
         "84",
         "84",
         "3",
         "3",
         "0",
         "0",
         "31",
         "28",
         "0",
         "174"
        ],
        [
         "1",
         "1790.0",
         "20",
         "20",
         "20",
         "20",
         "14",
         "14",
         "11",
         "11",
         "0",
         "0",
         "4",
         "3",
         "0",
         "20"
        ],
        [
         "2",
         "1800.0",
         "37",
         "37",
         "37",
         "37",
         "27",
         "27",
         "26",
         "26",
         "0",
         "0",
         "22",
         "22",
         "0",
         "37"
        ],
        [
         "3",
         "1810.0",
         "40",
         "40",
         "40",
         "40",
         "18",
         "18",
         "17",
         "17",
         "0",
         "0",
         "17",
         "14",
         "0",
         "40"
        ],
        [
         "4",
         "1820.0",
         "75",
         "76",
         "76",
         "76",
         "62",
         "62",
         "55",
         "55",
         "0",
         "0",
         "57",
         "55",
         "0",
         "76"
        ],
        [
         "5",
         "1830.0",
         "80",
         "81",
         "81",
         "81",
         "39",
         "39",
         "39",
         "39",
         "0",
         "0",
         "35",
         "31",
         "0",
         "81"
        ],
        [
         "6",
         "1840.0",
         "44",
         "44",
         "44",
         "44",
         "39",
         "39",
         "38",
         "38",
         "0",
         "0",
         "38",
         "38",
         "0",
         "44"
        ],
        [
         "7",
         "1850.0",
         "15",
         "15",
         "15",
         "15",
         "12",
         "12",
         "12",
         "12",
         "0",
         "0",
         "12",
         "12",
         "0",
         "15"
        ],
        [
         "8",
         "1860.0",
         "409",
         "409",
         "409",
         "409",
         "196",
         "196",
         "191",
         "191",
         "0",
         "0",
         "192",
         "182",
         "5",
         "409"
        ],
        [
         "9",
         "1870.0",
         "138",
         "138",
         "138",
         "138",
         "122",
         "122",
         "122",
         "122",
         "0",
         "0",
         "122",
         "118",
         "104",
         "138"
        ],
        [
         "10",
         "1880.0",
         "179",
         "179",
         "179",
         "179",
         "164",
         "164",
         "164",
         "164",
         "14",
         "14",
         "164",
         "163",
         "145",
         "179"
        ],
        [
         "11",
         "1890.0",
         "106",
         "106",
         "106",
         "106",
         "106",
         "106",
         "106",
         "106",
         "106",
         "106",
         "106",
         "106",
         "1",
         "106"
        ],
        [
         "12",
         "1900.0",
         "141",
         "141",
         "141",
         "141",
         "141",
         "141",
         "141",
         "141",
         "141",
         "141",
         "141",
         "141",
         "0",
         "141"
        ],
        [
         "13",
         "1910.0",
         "290",
         "290",
         "290",
         "290",
         "290",
         "290",
         "290",
         "290",
         "290",
         "290",
         "290",
         "290",
         "0",
         "290"
        ],
        [
         "14",
         "1920.0",
         "288",
         "288",
         "288",
         "288",
         "288",
         "288",
         "288",
         "228",
         "284",
         "285",
         "288",
         "288",
         "104",
         "288"
        ],
        [
         "15",
         "1930.0",
         "427",
         "427",
         "427",
         "427",
         "427",
         "427",
         "427",
         "0",
         "426",
         "427",
         "427",
         "427",
         "427",
         "427"
        ],
        [
         "16",
         "1940.0",
         "226",
         "226",
         "226",
         "226",
         "226",
         "226",
         "226",
         "0",
         "226",
         "226",
         "226",
         "225",
         "226",
         "226"
        ],
        [
         "17",
         "1950.0",
         "359",
         "359",
         "359",
         "359",
         "359",
         "359",
         "359",
         "0",
         "359",
         "359",
         "359",
         "359",
         "359",
         "359"
        ],
        [
         "18",
         "1960.0",
         "334",
         "347",
         "347",
         "347",
         "347",
         "347",
         "347",
         "0",
         "347",
         "347",
         "347",
         "347",
         "162",
         "347"
        ],
        [
         "19",
         "1970.0",
         "439",
         "440",
         "440",
         "440",
         "438",
         "438",
         "440",
         "0",
         "440",
         "438",
         "438",
         "438",
         "0",
         "440"
        ],
        [
         "20",
         "1980.0",
         "286",
         "286",
         "286",
         "286",
         "286",
         "286",
         "286",
         "0",
         "286",
         "286",
         "286",
         "286",
         "0",
         "286"
        ],
        [
         "21",
         "1990.0",
         "270",
         "10",
         "270",
         "270",
         "270",
         "270",
         "270",
         "0",
         "270",
         "270",
         "270",
         "270",
         "259",
         "270"
        ],
        [
         "22",
         "2000.0",
         "121",
         "0",
         "121",
         "121",
         "121",
         "121",
         "121",
         "0",
         "121",
         "121",
         "121",
         "121",
         "121",
         "121"
        ],
        [
         "23",
         "2010.0",
         "113",
         "0",
         "113",
         "113",
         "113",
         "113",
         "113",
         "0",
         "113",
         "113",
         "113",
         "113",
         "113",
         "113"
        ]
       ],
       "shape": {
        "columns": 15,
        "rows": 24
       }
      },
      "text/html": [
       "<div>\n",
       "<style scoped>\n",
       "    .dataframe tbody tr th:only-of-type {\n",
       "        vertical-align: middle;\n",
       "    }\n",
       "\n",
       "    .dataframe tbody tr th {\n",
       "        vertical-align: top;\n",
       "    }\n",
       "\n",
       "    .dataframe thead th {\n",
       "        text-align: right;\n",
       "    }\n",
       "</style>\n",
       "<table border=\"1\" class=\"dataframe\">\n",
       "  <thead>\n",
       "    <tr style=\"text-align: right;\">\n",
       "      <th></th>\n",
       "      <th>decades</th>\n",
       "      <th>source_citation</th>\n",
       "      <th>source_index_number</th>\n",
       "      <th>title_or_description_from_source</th>\n",
       "      <th>year</th>\n",
       "      <th>month</th>\n",
       "      <th>day</th>\n",
       "      <th>congress</th>\n",
       "      <th>congressional_session</th>\n",
       "      <th>joint_resolution_chamber</th>\n",
       "      <th>joint_resolution_number</th>\n",
       "      <th>sponsor_name</th>\n",
       "      <th>sponsor_state_or_territory</th>\n",
       "      <th>committee_of_referral</th>\n",
       "      <th>title_tokens</th>\n",
       "    </tr>\n",
       "  </thead>\n",
       "  <tbody>\n",
       "    <tr>\n",
       "      <th>0</th>\n",
       "      <td>1780.0</td>\n",
       "      <td>173</td>\n",
       "      <td>174</td>\n",
       "      <td>174</td>\n",
       "      <td>174</td>\n",
       "      <td>84</td>\n",
       "      <td>84</td>\n",
       "      <td>3</td>\n",
       "      <td>3</td>\n",
       "      <td>0</td>\n",
       "      <td>0</td>\n",
       "      <td>31</td>\n",
       "      <td>28</td>\n",
       "      <td>0</td>\n",
       "      <td>174</td>\n",
       "    </tr>\n",
       "    <tr>\n",
       "      <th>1</th>\n",
       "      <td>1790.0</td>\n",
       "      <td>20</td>\n",
       "      <td>20</td>\n",
       "      <td>20</td>\n",
       "      <td>20</td>\n",
       "      <td>14</td>\n",
       "      <td>14</td>\n",
       "      <td>11</td>\n",
       "      <td>11</td>\n",
       "      <td>0</td>\n",
       "      <td>0</td>\n",
       "      <td>4</td>\n",
       "      <td>3</td>\n",
       "      <td>0</td>\n",
       "      <td>20</td>\n",
       "    </tr>\n",
       "    <tr>\n",
       "      <th>2</th>\n",
       "      <td>1800.0</td>\n",
       "      <td>37</td>\n",
       "      <td>37</td>\n",
       "      <td>37</td>\n",
       "      <td>37</td>\n",
       "      <td>27</td>\n",
       "      <td>27</td>\n",
       "      <td>26</td>\n",
       "      <td>26</td>\n",
       "      <td>0</td>\n",
       "      <td>0</td>\n",
       "      <td>22</td>\n",
       "      <td>22</td>\n",
       "      <td>0</td>\n",
       "      <td>37</td>\n",
       "    </tr>\n",
       "    <tr>\n",
       "      <th>3</th>\n",
       "      <td>1810.0</td>\n",
       "      <td>40</td>\n",
       "      <td>40</td>\n",
       "      <td>40</td>\n",
       "      <td>40</td>\n",
       "      <td>18</td>\n",
       "      <td>18</td>\n",
       "      <td>17</td>\n",
       "      <td>17</td>\n",
       "      <td>0</td>\n",
       "      <td>0</td>\n",
       "      <td>17</td>\n",
       "      <td>14</td>\n",
       "      <td>0</td>\n",
       "      <td>40</td>\n",
       "    </tr>\n",
       "    <tr>\n",
       "      <th>4</th>\n",
       "      <td>1820.0</td>\n",
       "      <td>75</td>\n",
       "      <td>76</td>\n",
       "      <td>76</td>\n",
       "      <td>76</td>\n",
       "      <td>62</td>\n",
       "      <td>62</td>\n",
       "      <td>55</td>\n",
       "      <td>55</td>\n",
       "      <td>0</td>\n",
       "      <td>0</td>\n",
       "      <td>57</td>\n",
       "      <td>55</td>\n",
       "      <td>0</td>\n",
       "      <td>76</td>\n",
       "    </tr>\n",
       "    <tr>\n",
       "      <th>5</th>\n",
       "      <td>1830.0</td>\n",
       "      <td>80</td>\n",
       "      <td>81</td>\n",
       "      <td>81</td>\n",
       "      <td>81</td>\n",
       "      <td>39</td>\n",
       "      <td>39</td>\n",
       "      <td>39</td>\n",
       "      <td>39</td>\n",
       "      <td>0</td>\n",
       "      <td>0</td>\n",
       "      <td>35</td>\n",
       "      <td>31</td>\n",
       "      <td>0</td>\n",
       "      <td>81</td>\n",
       "    </tr>\n",
       "    <tr>\n",
       "      <th>6</th>\n",
       "      <td>1840.0</td>\n",
       "      <td>44</td>\n",
       "      <td>44</td>\n",
       "      <td>44</td>\n",
       "      <td>44</td>\n",
       "      <td>39</td>\n",
       "      <td>39</td>\n",
       "      <td>38</td>\n",
       "      <td>38</td>\n",
       "      <td>0</td>\n",
       "      <td>0</td>\n",
       "      <td>38</td>\n",
       "      <td>38</td>\n",
       "      <td>0</td>\n",
       "      <td>44</td>\n",
       "    </tr>\n",
       "    <tr>\n",
       "      <th>7</th>\n",
       "      <td>1850.0</td>\n",
       "      <td>15</td>\n",
       "      <td>15</td>\n",
       "      <td>15</td>\n",
       "      <td>15</td>\n",
       "      <td>12</td>\n",
       "      <td>12</td>\n",
       "      <td>12</td>\n",
       "      <td>12</td>\n",
       "      <td>0</td>\n",
       "      <td>0</td>\n",
       "      <td>12</td>\n",
       "      <td>12</td>\n",
       "      <td>0</td>\n",
       "      <td>15</td>\n",
       "    </tr>\n",
       "    <tr>\n",
       "      <th>8</th>\n",
       "      <td>1860.0</td>\n",
       "      <td>409</td>\n",
       "      <td>409</td>\n",
       "      <td>409</td>\n",
       "      <td>409</td>\n",
       "      <td>196</td>\n",
       "      <td>196</td>\n",
       "      <td>191</td>\n",
       "      <td>191</td>\n",
       "      <td>0</td>\n",
       "      <td>0</td>\n",
       "      <td>192</td>\n",
       "      <td>182</td>\n",
       "      <td>5</td>\n",
       "      <td>409</td>\n",
       "    </tr>\n",
       "    <tr>\n",
       "      <th>9</th>\n",
       "      <td>1870.0</td>\n",
       "      <td>138</td>\n",
       "      <td>138</td>\n",
       "      <td>138</td>\n",
       "      <td>138</td>\n",
       "      <td>122</td>\n",
       "      <td>122</td>\n",
       "      <td>122</td>\n",
       "      <td>122</td>\n",
       "      <td>0</td>\n",
       "      <td>0</td>\n",
       "      <td>122</td>\n",
       "      <td>118</td>\n",
       "      <td>104</td>\n",
       "      <td>138</td>\n",
       "    </tr>\n",
       "    <tr>\n",
       "      <th>10</th>\n",
       "      <td>1880.0</td>\n",
       "      <td>179</td>\n",
       "      <td>179</td>\n",
       "      <td>179</td>\n",
       "      <td>179</td>\n",
       "      <td>164</td>\n",
       "      <td>164</td>\n",
       "      <td>164</td>\n",
       "      <td>164</td>\n",
       "      <td>14</td>\n",
       "      <td>14</td>\n",
       "      <td>164</td>\n",
       "      <td>163</td>\n",
       "      <td>145</td>\n",
       "      <td>179</td>\n",
       "    </tr>\n",
       "    <tr>\n",
       "      <th>11</th>\n",
       "      <td>1890.0</td>\n",
       "      <td>106</td>\n",
       "      <td>106</td>\n",
       "      <td>106</td>\n",
       "      <td>106</td>\n",
       "      <td>106</td>\n",
       "      <td>106</td>\n",
       "      <td>106</td>\n",
       "      <td>106</td>\n",
       "      <td>106</td>\n",
       "      <td>106</td>\n",
       "      <td>106</td>\n",
       "      <td>106</td>\n",
       "      <td>1</td>\n",
       "      <td>106</td>\n",
       "    </tr>\n",
       "    <tr>\n",
       "      <th>12</th>\n",
       "      <td>1900.0</td>\n",
       "      <td>141</td>\n",
       "      <td>141</td>\n",
       "      <td>141</td>\n",
       "      <td>141</td>\n",
       "      <td>141</td>\n",
       "      <td>141</td>\n",
       "      <td>141</td>\n",
       "      <td>141</td>\n",
       "      <td>141</td>\n",
       "      <td>141</td>\n",
       "      <td>141</td>\n",
       "      <td>141</td>\n",
       "      <td>0</td>\n",
       "      <td>141</td>\n",
       "    </tr>\n",
       "    <tr>\n",
       "      <th>13</th>\n",
       "      <td>1910.0</td>\n",
       "      <td>290</td>\n",
       "      <td>290</td>\n",
       "      <td>290</td>\n",
       "      <td>290</td>\n",
       "      <td>290</td>\n",
       "      <td>290</td>\n",
       "      <td>290</td>\n",
       "      <td>290</td>\n",
       "      <td>290</td>\n",
       "      <td>290</td>\n",
       "      <td>290</td>\n",
       "      <td>290</td>\n",
       "      <td>0</td>\n",
       "      <td>290</td>\n",
       "    </tr>\n",
       "    <tr>\n",
       "      <th>14</th>\n",
       "      <td>1920.0</td>\n",
       "      <td>288</td>\n",
       "      <td>288</td>\n",
       "      <td>288</td>\n",
       "      <td>288</td>\n",
       "      <td>288</td>\n",
       "      <td>288</td>\n",
       "      <td>288</td>\n",
       "      <td>228</td>\n",
       "      <td>284</td>\n",
       "      <td>285</td>\n",
       "      <td>288</td>\n",
       "      <td>288</td>\n",
       "      <td>104</td>\n",
       "      <td>288</td>\n",
       "    </tr>\n",
       "    <tr>\n",
       "      <th>15</th>\n",
       "      <td>1930.0</td>\n",
       "      <td>427</td>\n",
       "      <td>427</td>\n",
       "      <td>427</td>\n",
       "      <td>427</td>\n",
       "      <td>427</td>\n",
       "      <td>427</td>\n",
       "      <td>427</td>\n",
       "      <td>0</td>\n",
       "      <td>426</td>\n",
       "      <td>427</td>\n",
       "      <td>427</td>\n",
       "      <td>427</td>\n",
       "      <td>427</td>\n",
       "      <td>427</td>\n",
       "    </tr>\n",
       "    <tr>\n",
       "      <th>16</th>\n",
       "      <td>1940.0</td>\n",
       "      <td>226</td>\n",
       "      <td>226</td>\n",
       "      <td>226</td>\n",
       "      <td>226</td>\n",
       "      <td>226</td>\n",
       "      <td>226</td>\n",
       "      <td>226</td>\n",
       "      <td>0</td>\n",
       "      <td>226</td>\n",
       "      <td>226</td>\n",
       "      <td>226</td>\n",
       "      <td>225</td>\n",
       "      <td>226</td>\n",
       "      <td>226</td>\n",
       "    </tr>\n",
       "    <tr>\n",
       "      <th>17</th>\n",
       "      <td>1950.0</td>\n",
       "      <td>359</td>\n",
       "      <td>359</td>\n",
       "      <td>359</td>\n",
       "      <td>359</td>\n",
       "      <td>359</td>\n",
       "      <td>359</td>\n",
       "      <td>359</td>\n",
       "      <td>0</td>\n",
       "      <td>359</td>\n",
       "      <td>359</td>\n",
       "      <td>359</td>\n",
       "      <td>359</td>\n",
       "      <td>359</td>\n",
       "      <td>359</td>\n",
       "    </tr>\n",
       "    <tr>\n",
       "      <th>18</th>\n",
       "      <td>1960.0</td>\n",
       "      <td>334</td>\n",
       "      <td>347</td>\n",
       "      <td>347</td>\n",
       "      <td>347</td>\n",
       "      <td>347</td>\n",
       "      <td>347</td>\n",
       "      <td>347</td>\n",
       "      <td>0</td>\n",
       "      <td>347</td>\n",
       "      <td>347</td>\n",
       "      <td>347</td>\n",
       "      <td>347</td>\n",
       "      <td>162</td>\n",
       "      <td>347</td>\n",
       "    </tr>\n",
       "    <tr>\n",
       "      <th>19</th>\n",
       "      <td>1970.0</td>\n",
       "      <td>439</td>\n",
       "      <td>440</td>\n",
       "      <td>440</td>\n",
       "      <td>440</td>\n",
       "      <td>438</td>\n",
       "      <td>438</td>\n",
       "      <td>440</td>\n",
       "      <td>0</td>\n",
       "      <td>440</td>\n",
       "      <td>438</td>\n",
       "      <td>438</td>\n",
       "      <td>438</td>\n",
       "      <td>0</td>\n",
       "      <td>440</td>\n",
       "    </tr>\n",
       "    <tr>\n",
       "      <th>20</th>\n",
       "      <td>1980.0</td>\n",
       "      <td>286</td>\n",
       "      <td>286</td>\n",
       "      <td>286</td>\n",
       "      <td>286</td>\n",
       "      <td>286</td>\n",
       "      <td>286</td>\n",
       "      <td>286</td>\n",
       "      <td>0</td>\n",
       "      <td>286</td>\n",
       "      <td>286</td>\n",
       "      <td>286</td>\n",
       "      <td>286</td>\n",
       "      <td>0</td>\n",
       "      <td>286</td>\n",
       "    </tr>\n",
       "    <tr>\n",
       "      <th>21</th>\n",
       "      <td>1990.0</td>\n",
       "      <td>270</td>\n",
       "      <td>10</td>\n",
       "      <td>270</td>\n",
       "      <td>270</td>\n",
       "      <td>270</td>\n",
       "      <td>270</td>\n",
       "      <td>270</td>\n",
       "      <td>0</td>\n",
       "      <td>270</td>\n",
       "      <td>270</td>\n",
       "      <td>270</td>\n",
       "      <td>270</td>\n",
       "      <td>259</td>\n",
       "      <td>270</td>\n",
       "    </tr>\n",
       "    <tr>\n",
       "      <th>22</th>\n",
       "      <td>2000.0</td>\n",
       "      <td>121</td>\n",
       "      <td>0</td>\n",
       "      <td>121</td>\n",
       "      <td>121</td>\n",
       "      <td>121</td>\n",
       "      <td>121</td>\n",
       "      <td>121</td>\n",
       "      <td>0</td>\n",
       "      <td>121</td>\n",
       "      <td>121</td>\n",
       "      <td>121</td>\n",
       "      <td>121</td>\n",
       "      <td>121</td>\n",
       "      <td>121</td>\n",
       "    </tr>\n",
       "    <tr>\n",
       "      <th>23</th>\n",
       "      <td>2010.0</td>\n",
       "      <td>113</td>\n",
       "      <td>0</td>\n",
       "      <td>113</td>\n",
       "      <td>113</td>\n",
       "      <td>113</td>\n",
       "      <td>113</td>\n",
       "      <td>113</td>\n",
       "      <td>0</td>\n",
       "      <td>113</td>\n",
       "      <td>113</td>\n",
       "      <td>113</td>\n",
       "      <td>113</td>\n",
       "      <td>113</td>\n",
       "      <td>113</td>\n",
       "    </tr>\n",
       "  </tbody>\n",
       "</table>\n",
       "</div>"
      ],
      "text/plain": [
       "    decades  source_citation  source_index_number  \\\n",
       "0    1780.0              173                  174   \n",
       "1    1790.0               20                   20   \n",
       "2    1800.0               37                   37   \n",
       "3    1810.0               40                   40   \n",
       "4    1820.0               75                   76   \n",
       "5    1830.0               80                   81   \n",
       "6    1840.0               44                   44   \n",
       "7    1850.0               15                   15   \n",
       "8    1860.0              409                  409   \n",
       "9    1870.0              138                  138   \n",
       "10   1880.0              179                  179   \n",
       "11   1890.0              106                  106   \n",
       "12   1900.0              141                  141   \n",
       "13   1910.0              290                  290   \n",
       "14   1920.0              288                  288   \n",
       "15   1930.0              427                  427   \n",
       "16   1940.0              226                  226   \n",
       "17   1950.0              359                  359   \n",
       "18   1960.0              334                  347   \n",
       "19   1970.0              439                  440   \n",
       "20   1980.0              286                  286   \n",
       "21   1990.0              270                   10   \n",
       "22   2000.0              121                    0   \n",
       "23   2010.0              113                    0   \n",
       "\n",
       "    title_or_description_from_source  year  month  day  congress  \\\n",
       "0                                174   174     84   84         3   \n",
       "1                                 20    20     14   14        11   \n",
       "2                                 37    37     27   27        26   \n",
       "3                                 40    40     18   18        17   \n",
       "4                                 76    76     62   62        55   \n",
       "5                                 81    81     39   39        39   \n",
       "6                                 44    44     39   39        38   \n",
       "7                                 15    15     12   12        12   \n",
       "8                                409   409    196  196       191   \n",
       "9                                138   138    122  122       122   \n",
       "10                               179   179    164  164       164   \n",
       "11                               106   106    106  106       106   \n",
       "12                               141   141    141  141       141   \n",
       "13                               290   290    290  290       290   \n",
       "14                               288   288    288  288       288   \n",
       "15                               427   427    427  427       427   \n",
       "16                               226   226    226  226       226   \n",
       "17                               359   359    359  359       359   \n",
       "18                               347   347    347  347       347   \n",
       "19                               440   440    438  438       440   \n",
       "20                               286   286    286  286       286   \n",
       "21                               270   270    270  270       270   \n",
       "22                               121   121    121  121       121   \n",
       "23                               113   113    113  113       113   \n",
       "\n",
       "    congressional_session  joint_resolution_chamber  joint_resolution_number  \\\n",
       "0                       3                         0                        0   \n",
       "1                      11                         0                        0   \n",
       "2                      26                         0                        0   \n",
       "3                      17                         0                        0   \n",
       "4                      55                         0                        0   \n",
       "5                      39                         0                        0   \n",
       "6                      38                         0                        0   \n",
       "7                      12                         0                        0   \n",
       "8                     191                         0                        0   \n",
       "9                     122                         0                        0   \n",
       "10                    164                        14                       14   \n",
       "11                    106                       106                      106   \n",
       "12                    141                       141                      141   \n",
       "13                    290                       290                      290   \n",
       "14                    228                       284                      285   \n",
       "15                      0                       426                      427   \n",
       "16                      0                       226                      226   \n",
       "17                      0                       359                      359   \n",
       "18                      0                       347                      347   \n",
       "19                      0                       440                      438   \n",
       "20                      0                       286                      286   \n",
       "21                      0                       270                      270   \n",
       "22                      0                       121                      121   \n",
       "23                      0                       113                      113   \n",
       "\n",
       "    sponsor_name  sponsor_state_or_territory  committee_of_referral  \\\n",
       "0             31                          28                      0   \n",
       "1              4                           3                      0   \n",
       "2             22                          22                      0   \n",
       "3             17                          14                      0   \n",
       "4             57                          55                      0   \n",
       "5             35                          31                      0   \n",
       "6             38                          38                      0   \n",
       "7             12                          12                      0   \n",
       "8            192                         182                      5   \n",
       "9            122                         118                    104   \n",
       "10           164                         163                    145   \n",
       "11           106                         106                      1   \n",
       "12           141                         141                      0   \n",
       "13           290                         290                      0   \n",
       "14           288                         288                    104   \n",
       "15           427                         427                    427   \n",
       "16           226                         225                    226   \n",
       "17           359                         359                    359   \n",
       "18           347                         347                    162   \n",
       "19           438                         438                      0   \n",
       "20           286                         286                      0   \n",
       "21           270                         270                    259   \n",
       "22           121                         121                    121   \n",
       "23           113                         113                    113   \n",
       "\n",
       "    title_tokens  \n",
       "0            174  \n",
       "1             20  \n",
       "2             37  \n",
       "3             40  \n",
       "4             76  \n",
       "5             81  \n",
       "6             44  \n",
       "7             15  \n",
       "8            409  \n",
       "9            138  \n",
       "10           179  \n",
       "11           106  \n",
       "12           141  \n",
       "13           290  \n",
       "14           288  \n",
       "15           427  \n",
       "16           226  \n",
       "17           359  \n",
       "18           347  \n",
       "19           440  \n",
       "20           286  \n",
       "21           270  \n",
       "22           121  \n",
       "23           113  "
      ]
     },
     "execution_count": 148,
     "metadata": {},
     "output_type": "execute_result"
    }
   ],
   "source": [
    "counts_df = data_unique.groupby('decades').count()\n",
    "counts_df = counts_df.reset_index()\n",
    "counts_df"
   ]
  },
  {
   "cell_type": "code",
   "execution_count": 149,
   "id": "0c52d7b8",
   "metadata": {},
   "outputs": [
    {
     "data": {
      "application/vnd.microsoft.datawrangler.viewer.v0+json": {
       "columns": [
        {
         "name": "index",
         "rawType": "int64",
         "type": "integer"
        },
        {
         "name": "decades",
         "rawType": "float64",
         "type": "float"
        },
        {
         "name": "proposal_counts",
         "rawType": "int64",
         "type": "integer"
        }
       ],
       "ref": "81e53656-6683-4c9a-bcb1-2d5f515d7c01",
       "rows": [
        [
         "0",
         "1780.0",
         "174"
        ],
        [
         "1",
         "1790.0",
         "20"
        ],
        [
         "2",
         "1800.0",
         "37"
        ],
        [
         "3",
         "1810.0",
         "40"
        ],
        [
         "4",
         "1820.0",
         "76"
        ],
        [
         "5",
         "1830.0",
         "81"
        ],
        [
         "6",
         "1840.0",
         "44"
        ],
        [
         "7",
         "1850.0",
         "15"
        ],
        [
         "8",
         "1860.0",
         "409"
        ],
        [
         "9",
         "1870.0",
         "138"
        ],
        [
         "10",
         "1880.0",
         "179"
        ],
        [
         "11",
         "1890.0",
         "106"
        ],
        [
         "12",
         "1900.0",
         "141"
        ],
        [
         "13",
         "1910.0",
         "290"
        ],
        [
         "14",
         "1920.0",
         "288"
        ],
        [
         "15",
         "1930.0",
         "427"
        ],
        [
         "16",
         "1940.0",
         "226"
        ],
        [
         "17",
         "1950.0",
         "359"
        ],
        [
         "18",
         "1960.0",
         "347"
        ],
        [
         "19",
         "1970.0",
         "440"
        ],
        [
         "20",
         "1980.0",
         "286"
        ],
        [
         "21",
         "1990.0",
         "270"
        ],
        [
         "22",
         "2000.0",
         "121"
        ],
        [
         "23",
         "2010.0",
         "113"
        ]
       ],
       "shape": {
        "columns": 2,
        "rows": 24
       }
      },
      "text/html": [
       "<div>\n",
       "<style scoped>\n",
       "    .dataframe tbody tr th:only-of-type {\n",
       "        vertical-align: middle;\n",
       "    }\n",
       "\n",
       "    .dataframe tbody tr th {\n",
       "        vertical-align: top;\n",
       "    }\n",
       "\n",
       "    .dataframe thead th {\n",
       "        text-align: right;\n",
       "    }\n",
       "</style>\n",
       "<table border=\"1\" class=\"dataframe\">\n",
       "  <thead>\n",
       "    <tr style=\"text-align: right;\">\n",
       "      <th></th>\n",
       "      <th>decades</th>\n",
       "      <th>proposal_counts</th>\n",
       "    </tr>\n",
       "  </thead>\n",
       "  <tbody>\n",
       "    <tr>\n",
       "      <th>0</th>\n",
       "      <td>1780.0</td>\n",
       "      <td>174</td>\n",
       "    </tr>\n",
       "    <tr>\n",
       "      <th>1</th>\n",
       "      <td>1790.0</td>\n",
       "      <td>20</td>\n",
       "    </tr>\n",
       "    <tr>\n",
       "      <th>2</th>\n",
       "      <td>1800.0</td>\n",
       "      <td>37</td>\n",
       "    </tr>\n",
       "    <tr>\n",
       "      <th>3</th>\n",
       "      <td>1810.0</td>\n",
       "      <td>40</td>\n",
       "    </tr>\n",
       "    <tr>\n",
       "      <th>4</th>\n",
       "      <td>1820.0</td>\n",
       "      <td>76</td>\n",
       "    </tr>\n",
       "    <tr>\n",
       "      <th>5</th>\n",
       "      <td>1830.0</td>\n",
       "      <td>81</td>\n",
       "    </tr>\n",
       "    <tr>\n",
       "      <th>6</th>\n",
       "      <td>1840.0</td>\n",
       "      <td>44</td>\n",
       "    </tr>\n",
       "    <tr>\n",
       "      <th>7</th>\n",
       "      <td>1850.0</td>\n",
       "      <td>15</td>\n",
       "    </tr>\n",
       "    <tr>\n",
       "      <th>8</th>\n",
       "      <td>1860.0</td>\n",
       "      <td>409</td>\n",
       "    </tr>\n",
       "    <tr>\n",
       "      <th>9</th>\n",
       "      <td>1870.0</td>\n",
       "      <td>138</td>\n",
       "    </tr>\n",
       "    <tr>\n",
       "      <th>10</th>\n",
       "      <td>1880.0</td>\n",
       "      <td>179</td>\n",
       "    </tr>\n",
       "    <tr>\n",
       "      <th>11</th>\n",
       "      <td>1890.0</td>\n",
       "      <td>106</td>\n",
       "    </tr>\n",
       "    <tr>\n",
       "      <th>12</th>\n",
       "      <td>1900.0</td>\n",
       "      <td>141</td>\n",
       "    </tr>\n",
       "    <tr>\n",
       "      <th>13</th>\n",
       "      <td>1910.0</td>\n",
       "      <td>290</td>\n",
       "    </tr>\n",
       "    <tr>\n",
       "      <th>14</th>\n",
       "      <td>1920.0</td>\n",
       "      <td>288</td>\n",
       "    </tr>\n",
       "    <tr>\n",
       "      <th>15</th>\n",
       "      <td>1930.0</td>\n",
       "      <td>427</td>\n",
       "    </tr>\n",
       "    <tr>\n",
       "      <th>16</th>\n",
       "      <td>1940.0</td>\n",
       "      <td>226</td>\n",
       "    </tr>\n",
       "    <tr>\n",
       "      <th>17</th>\n",
       "      <td>1950.0</td>\n",
       "      <td>359</td>\n",
       "    </tr>\n",
       "    <tr>\n",
       "      <th>18</th>\n",
       "      <td>1960.0</td>\n",
       "      <td>347</td>\n",
       "    </tr>\n",
       "    <tr>\n",
       "      <th>19</th>\n",
       "      <td>1970.0</td>\n",
       "      <td>440</td>\n",
       "    </tr>\n",
       "    <tr>\n",
       "      <th>20</th>\n",
       "      <td>1980.0</td>\n",
       "      <td>286</td>\n",
       "    </tr>\n",
       "    <tr>\n",
       "      <th>21</th>\n",
       "      <td>1990.0</td>\n",
       "      <td>270</td>\n",
       "    </tr>\n",
       "    <tr>\n",
       "      <th>22</th>\n",
       "      <td>2000.0</td>\n",
       "      <td>121</td>\n",
       "    </tr>\n",
       "    <tr>\n",
       "      <th>23</th>\n",
       "      <td>2010.0</td>\n",
       "      <td>113</td>\n",
       "    </tr>\n",
       "  </tbody>\n",
       "</table>\n",
       "</div>"
      ],
      "text/plain": [
       "    decades  proposal_counts\n",
       "0    1780.0              174\n",
       "1    1790.0               20\n",
       "2    1800.0               37\n",
       "3    1810.0               40\n",
       "4    1820.0               76\n",
       "5    1830.0               81\n",
       "6    1840.0               44\n",
       "7    1850.0               15\n",
       "8    1860.0              409\n",
       "9    1870.0              138\n",
       "10   1880.0              179\n",
       "11   1890.0              106\n",
       "12   1900.0              141\n",
       "13   1910.0              290\n",
       "14   1920.0              288\n",
       "15   1930.0              427\n",
       "16   1940.0              226\n",
       "17   1950.0              359\n",
       "18   1960.0              347\n",
       "19   1970.0              440\n",
       "20   1980.0              286\n",
       "21   1990.0              270\n",
       "22   2000.0              121\n",
       "23   2010.0              113"
      ]
     },
     "execution_count": 149,
     "metadata": {},
     "output_type": "execute_result"
    }
   ],
   "source": [
    "# create new df with only necessary columns we will be using\n",
    "decades_df = pd.DataFrame({\n",
    "    'decades' : counts_df['decades'],\n",
    "    'proposal_counts' : counts_df['title_or_description_from_source']\n",
    "    \n",
    "})\n",
    "decades_df"
   ]
  },
  {
   "cell_type": "code",
   "execution_count": 150,
   "id": "ffcc7352",
   "metadata": {},
   "outputs": [
    {
     "data": {
      "application/vnd.microsoft.datawrangler.viewer.v0+json": {
       "columns": [
        {
         "name": "index",
         "rawType": "int64",
         "type": "integer"
        },
        {
         "name": "decades",
         "rawType": "float64",
         "type": "float"
        },
        {
         "name": "in war?",
         "rawType": "int64",
         "type": "integer"
        },
        {
         "name": "politcal party in power (democratic, republican, neither, or both)",
         "rawType": "object",
         "type": "string"
        }
       ],
       "ref": "290fa9cc-7a42-4f29-8f90-4a0b1991c249",
       "rows": [
        [
         "0",
         "1780.0",
         "1",
         "neither"
        ],
        [
         "1",
         "1790.0",
         "1",
         "neither"
        ],
        [
         "2",
         "1800.0",
         "1",
         "both"
        ],
        [
         "3",
         "1810.0",
         "1",
         "both"
        ],
        [
         "4",
         "1820.0",
         "0",
         "both"
        ]
       ],
       "shape": {
        "columns": 3,
        "rows": 5
       }
      },
      "text/html": [
       "<div>\n",
       "<style scoped>\n",
       "    .dataframe tbody tr th:only-of-type {\n",
       "        vertical-align: middle;\n",
       "    }\n",
       "\n",
       "    .dataframe tbody tr th {\n",
       "        vertical-align: top;\n",
       "    }\n",
       "\n",
       "    .dataframe thead th {\n",
       "        text-align: right;\n",
       "    }\n",
       "</style>\n",
       "<table border=\"1\" class=\"dataframe\">\n",
       "  <thead>\n",
       "    <tr style=\"text-align: right;\">\n",
       "      <th></th>\n",
       "      <th>decades</th>\n",
       "      <th>in war?</th>\n",
       "      <th>politcal party in power (democratic, republican, neither, or both)</th>\n",
       "    </tr>\n",
       "  </thead>\n",
       "  <tbody>\n",
       "    <tr>\n",
       "      <th>0</th>\n",
       "      <td>1780.0</td>\n",
       "      <td>1</td>\n",
       "      <td>neither</td>\n",
       "    </tr>\n",
       "    <tr>\n",
       "      <th>1</th>\n",
       "      <td>1790.0</td>\n",
       "      <td>1</td>\n",
       "      <td>neither</td>\n",
       "    </tr>\n",
       "    <tr>\n",
       "      <th>2</th>\n",
       "      <td>1800.0</td>\n",
       "      <td>1</td>\n",
       "      <td>both</td>\n",
       "    </tr>\n",
       "    <tr>\n",
       "      <th>3</th>\n",
       "      <td>1810.0</td>\n",
       "      <td>1</td>\n",
       "      <td>both</td>\n",
       "    </tr>\n",
       "    <tr>\n",
       "      <th>4</th>\n",
       "      <td>1820.0</td>\n",
       "      <td>0</td>\n",
       "      <td>both</td>\n",
       "    </tr>\n",
       "  </tbody>\n",
       "</table>\n",
       "</div>"
      ],
      "text/plain": [
       "   decades  in war?  \\\n",
       "0   1780.0        1   \n",
       "1   1790.0        1   \n",
       "2   1800.0        1   \n",
       "3   1810.0        1   \n",
       "4   1820.0        0   \n",
       "\n",
       "  politcal party in power (democratic, republican, neither, or both)  \n",
       "0                                            neither                  \n",
       "1                                            neither                  \n",
       "2                                               both                  \n",
       "3                                               both                  \n",
       "4                                               both                  "
      ]
     },
     "execution_count": 150,
     "metadata": {},
     "output_type": "execute_result"
    }
   ],
   "source": [
    "# create new dataset for external information on war & political power\n",
    "political_power = pd.read_excel('pol_power.xlsx')\n",
    "political_power['decades'] = political_power['decades'].astype(float)\n",
    "political_power.head()"
   ]
  },
  {
   "cell_type": "code",
   "execution_count": 151,
   "id": "7f89156e",
   "metadata": {},
   "outputs": [
    {
     "data": {
      "application/vnd.microsoft.datawrangler.viewer.v0+json": {
       "columns": [
        {
         "name": "index",
         "rawType": "int64",
         "type": "integer"
        },
        {
         "name": "decades",
         "rawType": "float64",
         "type": "float"
        },
        {
         "name": "proposal_counts",
         "rawType": "int64",
         "type": "integer"
        },
        {
         "name": "in_war",
         "rawType": "int64",
         "type": "integer"
        },
        {
         "name": "politcal_power",
         "rawType": "object",
         "type": "string"
        }
       ],
       "ref": "9c218c0b-678e-4ba2-b7f5-22979b8416bc",
       "rows": [
        [
         "0",
         "1780.0",
         "174",
         "1",
         "neither"
        ],
        [
         "1",
         "1790.0",
         "20",
         "1",
         "neither"
        ],
        [
         "2",
         "1800.0",
         "37",
         "1",
         "both"
        ],
        [
         "3",
         "1810.0",
         "40",
         "1",
         "both"
        ],
        [
         "4",
         "1820.0",
         "76",
         "0",
         "both"
        ],
        [
         "5",
         "1830.0",
         "81",
         "1",
         "democratic"
        ],
        [
         "6",
         "1840.0",
         "44",
         "1",
         "democratic"
        ],
        [
         "7",
         "1850.0",
         "15",
         "1",
         "democratic"
        ],
        [
         "8",
         "1860.0",
         "409",
         "1",
         "republican"
        ],
        [
         "9",
         "1870.0",
         "138",
         "1",
         "republican"
        ],
        [
         "10",
         "1880.0",
         "179",
         "1",
         "republican"
        ],
        [
         "11",
         "1890.0",
         "106",
         "1",
         "republican"
        ],
        [
         "12",
         "1900.0",
         "141",
         "0",
         "republican"
        ],
        [
         "13",
         "1910.0",
         "290",
         "1",
         "democratic"
        ],
        [
         "14",
         "1920.0",
         "288",
         "0",
         "republican"
        ],
        [
         "15",
         "1930.0",
         "427",
         "0",
         "democratic"
        ],
        [
         "16",
         "1940.0",
         "226",
         "1",
         "democratic"
        ],
        [
         "17",
         "1950.0",
         "359",
         "1",
         "republican"
        ],
        [
         "18",
         "1960.0",
         "347",
         "1",
         "democratic"
        ],
        [
         "19",
         "1970.0",
         "440",
         "1",
         "both"
        ],
        [
         "20",
         "1980.0",
         "286",
         "0",
         "republican"
        ],
        [
         "21",
         "1990.0",
         "270",
         "1",
         "democratic"
        ],
        [
         "22",
         "2000.0",
         "121",
         "1",
         "republican"
        ],
        [
         "23",
         "2010.0",
         "113",
         "1",
         "democratic"
        ]
       ],
       "shape": {
        "columns": 4,
        "rows": 24
       }
      },
      "text/html": [
       "<div>\n",
       "<style scoped>\n",
       "    .dataframe tbody tr th:only-of-type {\n",
       "        vertical-align: middle;\n",
       "    }\n",
       "\n",
       "    .dataframe tbody tr th {\n",
       "        vertical-align: top;\n",
       "    }\n",
       "\n",
       "    .dataframe thead th {\n",
       "        text-align: right;\n",
       "    }\n",
       "</style>\n",
       "<table border=\"1\" class=\"dataframe\">\n",
       "  <thead>\n",
       "    <tr style=\"text-align: right;\">\n",
       "      <th></th>\n",
       "      <th>decades</th>\n",
       "      <th>proposal_counts</th>\n",
       "      <th>in_war</th>\n",
       "      <th>politcal_power</th>\n",
       "    </tr>\n",
       "  </thead>\n",
       "  <tbody>\n",
       "    <tr>\n",
       "      <th>0</th>\n",
       "      <td>1780.0</td>\n",
       "      <td>174</td>\n",
       "      <td>1</td>\n",
       "      <td>neither</td>\n",
       "    </tr>\n",
       "    <tr>\n",
       "      <th>1</th>\n",
       "      <td>1790.0</td>\n",
       "      <td>20</td>\n",
       "      <td>1</td>\n",
       "      <td>neither</td>\n",
       "    </tr>\n",
       "    <tr>\n",
       "      <th>2</th>\n",
       "      <td>1800.0</td>\n",
       "      <td>37</td>\n",
       "      <td>1</td>\n",
       "      <td>both</td>\n",
       "    </tr>\n",
       "    <tr>\n",
       "      <th>3</th>\n",
       "      <td>1810.0</td>\n",
       "      <td>40</td>\n",
       "      <td>1</td>\n",
       "      <td>both</td>\n",
       "    </tr>\n",
       "    <tr>\n",
       "      <th>4</th>\n",
       "      <td>1820.0</td>\n",
       "      <td>76</td>\n",
       "      <td>0</td>\n",
       "      <td>both</td>\n",
       "    </tr>\n",
       "    <tr>\n",
       "      <th>5</th>\n",
       "      <td>1830.0</td>\n",
       "      <td>81</td>\n",
       "      <td>1</td>\n",
       "      <td>democratic</td>\n",
       "    </tr>\n",
       "    <tr>\n",
       "      <th>6</th>\n",
       "      <td>1840.0</td>\n",
       "      <td>44</td>\n",
       "      <td>1</td>\n",
       "      <td>democratic</td>\n",
       "    </tr>\n",
       "    <tr>\n",
       "      <th>7</th>\n",
       "      <td>1850.0</td>\n",
       "      <td>15</td>\n",
       "      <td>1</td>\n",
       "      <td>democratic</td>\n",
       "    </tr>\n",
       "    <tr>\n",
       "      <th>8</th>\n",
       "      <td>1860.0</td>\n",
       "      <td>409</td>\n",
       "      <td>1</td>\n",
       "      <td>republican</td>\n",
       "    </tr>\n",
       "    <tr>\n",
       "      <th>9</th>\n",
       "      <td>1870.0</td>\n",
       "      <td>138</td>\n",
       "      <td>1</td>\n",
       "      <td>republican</td>\n",
       "    </tr>\n",
       "    <tr>\n",
       "      <th>10</th>\n",
       "      <td>1880.0</td>\n",
       "      <td>179</td>\n",
       "      <td>1</td>\n",
       "      <td>republican</td>\n",
       "    </tr>\n",
       "    <tr>\n",
       "      <th>11</th>\n",
       "      <td>1890.0</td>\n",
       "      <td>106</td>\n",
       "      <td>1</td>\n",
       "      <td>republican</td>\n",
       "    </tr>\n",
       "    <tr>\n",
       "      <th>12</th>\n",
       "      <td>1900.0</td>\n",
       "      <td>141</td>\n",
       "      <td>0</td>\n",
       "      <td>republican</td>\n",
       "    </tr>\n",
       "    <tr>\n",
       "      <th>13</th>\n",
       "      <td>1910.0</td>\n",
       "      <td>290</td>\n",
       "      <td>1</td>\n",
       "      <td>democratic</td>\n",
       "    </tr>\n",
       "    <tr>\n",
       "      <th>14</th>\n",
       "      <td>1920.0</td>\n",
       "      <td>288</td>\n",
       "      <td>0</td>\n",
       "      <td>republican</td>\n",
       "    </tr>\n",
       "    <tr>\n",
       "      <th>15</th>\n",
       "      <td>1930.0</td>\n",
       "      <td>427</td>\n",
       "      <td>0</td>\n",
       "      <td>democratic</td>\n",
       "    </tr>\n",
       "    <tr>\n",
       "      <th>16</th>\n",
       "      <td>1940.0</td>\n",
       "      <td>226</td>\n",
       "      <td>1</td>\n",
       "      <td>democratic</td>\n",
       "    </tr>\n",
       "    <tr>\n",
       "      <th>17</th>\n",
       "      <td>1950.0</td>\n",
       "      <td>359</td>\n",
       "      <td>1</td>\n",
       "      <td>republican</td>\n",
       "    </tr>\n",
       "    <tr>\n",
       "      <th>18</th>\n",
       "      <td>1960.0</td>\n",
       "      <td>347</td>\n",
       "      <td>1</td>\n",
       "      <td>democratic</td>\n",
       "    </tr>\n",
       "    <tr>\n",
       "      <th>19</th>\n",
       "      <td>1970.0</td>\n",
       "      <td>440</td>\n",
       "      <td>1</td>\n",
       "      <td>both</td>\n",
       "    </tr>\n",
       "    <tr>\n",
       "      <th>20</th>\n",
       "      <td>1980.0</td>\n",
       "      <td>286</td>\n",
       "      <td>0</td>\n",
       "      <td>republican</td>\n",
       "    </tr>\n",
       "    <tr>\n",
       "      <th>21</th>\n",
       "      <td>1990.0</td>\n",
       "      <td>270</td>\n",
       "      <td>1</td>\n",
       "      <td>democratic</td>\n",
       "    </tr>\n",
       "    <tr>\n",
       "      <th>22</th>\n",
       "      <td>2000.0</td>\n",
       "      <td>121</td>\n",
       "      <td>1</td>\n",
       "      <td>republican</td>\n",
       "    </tr>\n",
       "    <tr>\n",
       "      <th>23</th>\n",
       "      <td>2010.0</td>\n",
       "      <td>113</td>\n",
       "      <td>1</td>\n",
       "      <td>democratic</td>\n",
       "    </tr>\n",
       "  </tbody>\n",
       "</table>\n",
       "</div>"
      ],
      "text/plain": [
       "    decades  proposal_counts  in_war politcal_power\n",
       "0    1780.0              174       1        neither\n",
       "1    1790.0               20       1        neither\n",
       "2    1800.0               37       1           both\n",
       "3    1810.0               40       1           both\n",
       "4    1820.0               76       0           both\n",
       "5    1830.0               81       1     democratic\n",
       "6    1840.0               44       1     democratic\n",
       "7    1850.0               15       1     democratic\n",
       "8    1860.0              409       1     republican\n",
       "9    1870.0              138       1     republican\n",
       "10   1880.0              179       1     republican\n",
       "11   1890.0              106       1     republican\n",
       "12   1900.0              141       0     republican\n",
       "13   1910.0              290       1     democratic\n",
       "14   1920.0              288       0     republican\n",
       "15   1930.0              427       0     democratic\n",
       "16   1940.0              226       1     democratic\n",
       "17   1950.0              359       1     republican\n",
       "18   1960.0              347       1     democratic\n",
       "19   1970.0              440       1           both\n",
       "20   1980.0              286       0     republican\n",
       "21   1990.0              270       1     democratic\n",
       "22   2000.0              121       1     republican\n",
       "23   2010.0              113       1     democratic"
      ]
     },
     "execution_count": 151,
     "metadata": {},
     "output_type": "execute_result"
    }
   ],
   "source": [
    "# add new info into our existing df\n",
    "decades_df['in_war'] = political_power['in war?']\n",
    "decades_df['politcal_power'] = political_power['politcal party in power (democratic, republican, neither, or both)']\n",
    "decades_df"
   ]
  },
  {
   "cell_type": "code",
   "execution_count": 152,
   "id": "70038d5f",
   "metadata": {},
   "outputs": [
    {
     "data": {
      "application/vnd.microsoft.datawrangler.viewer.v0+json": {
       "columns": [
        {
         "name": "index",
         "rawType": "int64",
         "type": "integer"
        },
        {
         "name": "decades",
         "rawType": "float64",
         "type": "float"
        },
        {
         "name": "proposal_counts",
         "rawType": "int64",
         "type": "integer"
        },
        {
         "name": "in_war",
         "rawType": "int64",
         "type": "integer"
        },
        {
         "name": "politcal_power_democratic",
         "rawType": "bool",
         "type": "boolean"
        },
        {
         "name": "politcal_power_neither",
         "rawType": "bool",
         "type": "boolean"
        },
        {
         "name": "politcal_power_republican",
         "rawType": "bool",
         "type": "boolean"
        }
       ],
       "ref": "2542a1cf-72d8-451c-bc6d-93f38cb3bbe6",
       "rows": [
        [
         "0",
         "1780.0",
         "174",
         "1",
         "False",
         "True",
         "False"
        ],
        [
         "1",
         "1790.0",
         "20",
         "1",
         "False",
         "True",
         "False"
        ],
        [
         "2",
         "1800.0",
         "37",
         "1",
         "False",
         "False",
         "False"
        ],
        [
         "3",
         "1810.0",
         "40",
         "1",
         "False",
         "False",
         "False"
        ],
        [
         "4",
         "1820.0",
         "76",
         "0",
         "False",
         "False",
         "False"
        ],
        [
         "5",
         "1830.0",
         "81",
         "1",
         "True",
         "False",
         "False"
        ],
        [
         "6",
         "1840.0",
         "44",
         "1",
         "True",
         "False",
         "False"
        ],
        [
         "7",
         "1850.0",
         "15",
         "1",
         "True",
         "False",
         "False"
        ],
        [
         "8",
         "1860.0",
         "409",
         "1",
         "False",
         "False",
         "True"
        ],
        [
         "9",
         "1870.0",
         "138",
         "1",
         "False",
         "False",
         "True"
        ],
        [
         "10",
         "1880.0",
         "179",
         "1",
         "False",
         "False",
         "True"
        ],
        [
         "11",
         "1890.0",
         "106",
         "1",
         "False",
         "False",
         "True"
        ],
        [
         "12",
         "1900.0",
         "141",
         "0",
         "False",
         "False",
         "True"
        ],
        [
         "13",
         "1910.0",
         "290",
         "1",
         "True",
         "False",
         "False"
        ],
        [
         "14",
         "1920.0",
         "288",
         "0",
         "False",
         "False",
         "True"
        ],
        [
         "15",
         "1930.0",
         "427",
         "0",
         "True",
         "False",
         "False"
        ],
        [
         "16",
         "1940.0",
         "226",
         "1",
         "True",
         "False",
         "False"
        ],
        [
         "17",
         "1950.0",
         "359",
         "1",
         "False",
         "False",
         "True"
        ],
        [
         "18",
         "1960.0",
         "347",
         "1",
         "True",
         "False",
         "False"
        ],
        [
         "19",
         "1970.0",
         "440",
         "1",
         "False",
         "False",
         "False"
        ],
        [
         "20",
         "1980.0",
         "286",
         "0",
         "False",
         "False",
         "True"
        ],
        [
         "21",
         "1990.0",
         "270",
         "1",
         "True",
         "False",
         "False"
        ],
        [
         "22",
         "2000.0",
         "121",
         "1",
         "False",
         "False",
         "True"
        ],
        [
         "23",
         "2010.0",
         "113",
         "1",
         "True",
         "False",
         "False"
        ]
       ],
       "shape": {
        "columns": 6,
        "rows": 24
       }
      },
      "text/html": [
       "<div>\n",
       "<style scoped>\n",
       "    .dataframe tbody tr th:only-of-type {\n",
       "        vertical-align: middle;\n",
       "    }\n",
       "\n",
       "    .dataframe tbody tr th {\n",
       "        vertical-align: top;\n",
       "    }\n",
       "\n",
       "    .dataframe thead th {\n",
       "        text-align: right;\n",
       "    }\n",
       "</style>\n",
       "<table border=\"1\" class=\"dataframe\">\n",
       "  <thead>\n",
       "    <tr style=\"text-align: right;\">\n",
       "      <th></th>\n",
       "      <th>decades</th>\n",
       "      <th>proposal_counts</th>\n",
       "      <th>in_war</th>\n",
       "      <th>politcal_power_democratic</th>\n",
       "      <th>politcal_power_neither</th>\n",
       "      <th>politcal_power_republican</th>\n",
       "    </tr>\n",
       "  </thead>\n",
       "  <tbody>\n",
       "    <tr>\n",
       "      <th>0</th>\n",
       "      <td>1780.0</td>\n",
       "      <td>174</td>\n",
       "      <td>1</td>\n",
       "      <td>False</td>\n",
       "      <td>True</td>\n",
       "      <td>False</td>\n",
       "    </tr>\n",
       "    <tr>\n",
       "      <th>1</th>\n",
       "      <td>1790.0</td>\n",
       "      <td>20</td>\n",
       "      <td>1</td>\n",
       "      <td>False</td>\n",
       "      <td>True</td>\n",
       "      <td>False</td>\n",
       "    </tr>\n",
       "    <tr>\n",
       "      <th>2</th>\n",
       "      <td>1800.0</td>\n",
       "      <td>37</td>\n",
       "      <td>1</td>\n",
       "      <td>False</td>\n",
       "      <td>False</td>\n",
       "      <td>False</td>\n",
       "    </tr>\n",
       "    <tr>\n",
       "      <th>3</th>\n",
       "      <td>1810.0</td>\n",
       "      <td>40</td>\n",
       "      <td>1</td>\n",
       "      <td>False</td>\n",
       "      <td>False</td>\n",
       "      <td>False</td>\n",
       "    </tr>\n",
       "    <tr>\n",
       "      <th>4</th>\n",
       "      <td>1820.0</td>\n",
       "      <td>76</td>\n",
       "      <td>0</td>\n",
       "      <td>False</td>\n",
       "      <td>False</td>\n",
       "      <td>False</td>\n",
       "    </tr>\n",
       "    <tr>\n",
       "      <th>5</th>\n",
       "      <td>1830.0</td>\n",
       "      <td>81</td>\n",
       "      <td>1</td>\n",
       "      <td>True</td>\n",
       "      <td>False</td>\n",
       "      <td>False</td>\n",
       "    </tr>\n",
       "    <tr>\n",
       "      <th>6</th>\n",
       "      <td>1840.0</td>\n",
       "      <td>44</td>\n",
       "      <td>1</td>\n",
       "      <td>True</td>\n",
       "      <td>False</td>\n",
       "      <td>False</td>\n",
       "    </tr>\n",
       "    <tr>\n",
       "      <th>7</th>\n",
       "      <td>1850.0</td>\n",
       "      <td>15</td>\n",
       "      <td>1</td>\n",
       "      <td>True</td>\n",
       "      <td>False</td>\n",
       "      <td>False</td>\n",
       "    </tr>\n",
       "    <tr>\n",
       "      <th>8</th>\n",
       "      <td>1860.0</td>\n",
       "      <td>409</td>\n",
       "      <td>1</td>\n",
       "      <td>False</td>\n",
       "      <td>False</td>\n",
       "      <td>True</td>\n",
       "    </tr>\n",
       "    <tr>\n",
       "      <th>9</th>\n",
       "      <td>1870.0</td>\n",
       "      <td>138</td>\n",
       "      <td>1</td>\n",
       "      <td>False</td>\n",
       "      <td>False</td>\n",
       "      <td>True</td>\n",
       "    </tr>\n",
       "    <tr>\n",
       "      <th>10</th>\n",
       "      <td>1880.0</td>\n",
       "      <td>179</td>\n",
       "      <td>1</td>\n",
       "      <td>False</td>\n",
       "      <td>False</td>\n",
       "      <td>True</td>\n",
       "    </tr>\n",
       "    <tr>\n",
       "      <th>11</th>\n",
       "      <td>1890.0</td>\n",
       "      <td>106</td>\n",
       "      <td>1</td>\n",
       "      <td>False</td>\n",
       "      <td>False</td>\n",
       "      <td>True</td>\n",
       "    </tr>\n",
       "    <tr>\n",
       "      <th>12</th>\n",
       "      <td>1900.0</td>\n",
       "      <td>141</td>\n",
       "      <td>0</td>\n",
       "      <td>False</td>\n",
       "      <td>False</td>\n",
       "      <td>True</td>\n",
       "    </tr>\n",
       "    <tr>\n",
       "      <th>13</th>\n",
       "      <td>1910.0</td>\n",
       "      <td>290</td>\n",
       "      <td>1</td>\n",
       "      <td>True</td>\n",
       "      <td>False</td>\n",
       "      <td>False</td>\n",
       "    </tr>\n",
       "    <tr>\n",
       "      <th>14</th>\n",
       "      <td>1920.0</td>\n",
       "      <td>288</td>\n",
       "      <td>0</td>\n",
       "      <td>False</td>\n",
       "      <td>False</td>\n",
       "      <td>True</td>\n",
       "    </tr>\n",
       "    <tr>\n",
       "      <th>15</th>\n",
       "      <td>1930.0</td>\n",
       "      <td>427</td>\n",
       "      <td>0</td>\n",
       "      <td>True</td>\n",
       "      <td>False</td>\n",
       "      <td>False</td>\n",
       "    </tr>\n",
       "    <tr>\n",
       "      <th>16</th>\n",
       "      <td>1940.0</td>\n",
       "      <td>226</td>\n",
       "      <td>1</td>\n",
       "      <td>True</td>\n",
       "      <td>False</td>\n",
       "      <td>False</td>\n",
       "    </tr>\n",
       "    <tr>\n",
       "      <th>17</th>\n",
       "      <td>1950.0</td>\n",
       "      <td>359</td>\n",
       "      <td>1</td>\n",
       "      <td>False</td>\n",
       "      <td>False</td>\n",
       "      <td>True</td>\n",
       "    </tr>\n",
       "    <tr>\n",
       "      <th>18</th>\n",
       "      <td>1960.0</td>\n",
       "      <td>347</td>\n",
       "      <td>1</td>\n",
       "      <td>True</td>\n",
       "      <td>False</td>\n",
       "      <td>False</td>\n",
       "    </tr>\n",
       "    <tr>\n",
       "      <th>19</th>\n",
       "      <td>1970.0</td>\n",
       "      <td>440</td>\n",
       "      <td>1</td>\n",
       "      <td>False</td>\n",
       "      <td>False</td>\n",
       "      <td>False</td>\n",
       "    </tr>\n",
       "    <tr>\n",
       "      <th>20</th>\n",
       "      <td>1980.0</td>\n",
       "      <td>286</td>\n",
       "      <td>0</td>\n",
       "      <td>False</td>\n",
       "      <td>False</td>\n",
       "      <td>True</td>\n",
       "    </tr>\n",
       "    <tr>\n",
       "      <th>21</th>\n",
       "      <td>1990.0</td>\n",
       "      <td>270</td>\n",
       "      <td>1</td>\n",
       "      <td>True</td>\n",
       "      <td>False</td>\n",
       "      <td>False</td>\n",
       "    </tr>\n",
       "    <tr>\n",
       "      <th>22</th>\n",
       "      <td>2000.0</td>\n",
       "      <td>121</td>\n",
       "      <td>1</td>\n",
       "      <td>False</td>\n",
       "      <td>False</td>\n",
       "      <td>True</td>\n",
       "    </tr>\n",
       "    <tr>\n",
       "      <th>23</th>\n",
       "      <td>2010.0</td>\n",
       "      <td>113</td>\n",
       "      <td>1</td>\n",
       "      <td>True</td>\n",
       "      <td>False</td>\n",
       "      <td>False</td>\n",
       "    </tr>\n",
       "  </tbody>\n",
       "</table>\n",
       "</div>"
      ],
      "text/plain": [
       "    decades  proposal_counts  in_war  politcal_power_democratic  \\\n",
       "0    1780.0              174       1                      False   \n",
       "1    1790.0               20       1                      False   \n",
       "2    1800.0               37       1                      False   \n",
       "3    1810.0               40       1                      False   \n",
       "4    1820.0               76       0                      False   \n",
       "5    1830.0               81       1                       True   \n",
       "6    1840.0               44       1                       True   \n",
       "7    1850.0               15       1                       True   \n",
       "8    1860.0              409       1                      False   \n",
       "9    1870.0              138       1                      False   \n",
       "10   1880.0              179       1                      False   \n",
       "11   1890.0              106       1                      False   \n",
       "12   1900.0              141       0                      False   \n",
       "13   1910.0              290       1                       True   \n",
       "14   1920.0              288       0                      False   \n",
       "15   1930.0              427       0                       True   \n",
       "16   1940.0              226       1                       True   \n",
       "17   1950.0              359       1                      False   \n",
       "18   1960.0              347       1                       True   \n",
       "19   1970.0              440       1                      False   \n",
       "20   1980.0              286       0                      False   \n",
       "21   1990.0              270       1                       True   \n",
       "22   2000.0              121       1                      False   \n",
       "23   2010.0              113       1                       True   \n",
       "\n",
       "    politcal_power_neither  politcal_power_republican  \n",
       "0                     True                      False  \n",
       "1                     True                      False  \n",
       "2                    False                      False  \n",
       "3                    False                      False  \n",
       "4                    False                      False  \n",
       "5                    False                      False  \n",
       "6                    False                      False  \n",
       "7                    False                      False  \n",
       "8                    False                       True  \n",
       "9                    False                       True  \n",
       "10                   False                       True  \n",
       "11                   False                       True  \n",
       "12                   False                       True  \n",
       "13                   False                      False  \n",
       "14                   False                       True  \n",
       "15                   False                      False  \n",
       "16                   False                      False  \n",
       "17                   False                       True  \n",
       "18                   False                      False  \n",
       "19                   False                      False  \n",
       "20                   False                       True  \n",
       "21                   False                      False  \n",
       "22                   False                       True  \n",
       "23                   False                      False  "
      ]
     },
     "execution_count": 152,
     "metadata": {},
     "output_type": "execute_result"
    }
   ],
   "source": [
    "# one hot encode politcal party for modeling\n",
    "df_encoded = pd.get_dummies(decades_df, columns=['politcal_power'])\n",
    "df_encoded = df_encoded.drop(['politcal_power_both'], axis = 1) # to avoid multicollinearity\n",
    "df_encoded"
   ]
  },
  {
   "cell_type": "code",
   "execution_count": 153,
   "id": "3452e533",
   "metadata": {},
   "outputs": [],
   "source": [
    "X = df_encoded.drop(columns=['proposal_counts', 'decades'])  # predictors\n",
    "y = df_encoded['proposal_counts'] # target"
   ]
  },
  {
   "cell_type": "code",
   "execution_count": 154,
   "id": "f3122987",
   "metadata": {},
   "outputs": [
    {
     "name": "stdout",
     "output_type": "stream",
     "text": [
      "Intercept: 187.95419847328253\n",
      "Coefficients:\n",
      "in_war                      -52.938931\n",
      "politcal_power_democratic    60.547074\n",
      "politcal_power_neither      -38.015267\n",
      "politcal_power_republican    72.560645\n",
      "dtype: float64\n"
     ]
    }
   ],
   "source": [
    "model = LinearRegression()\n",
    "model.fit(X, y)\n",
    "\n",
    "# View coefficients\n",
    "coefficients = pd.Series(model.coef_, index=X.columns)\n",
    "print(\"Intercept:\", model.intercept_)\n",
    "print(\"Coefficients:\")\n",
    "print(coefficients)"
   ]
  },
  {
   "cell_type": "code",
   "execution_count": 155,
   "id": "6eed8f70",
   "metadata": {},
   "outputs": [
    {
     "name": "stdout",
     "output_type": "stream",
     "text": [
      "Mean Squared Error: 16016.601286400904\n",
      "R-squared: 0.10817386495173364\n"
     ]
    }
   ],
   "source": [
    "y_pred = model.predict(X)\n",
    "mse = mean_squared_error(y, y_pred)\n",
    "r2 = r2_score(y, y_pred)\n",
    "\n",
    "print(\"Mean Squared Error:\", mse)\n",
    "print(\"R-squared:\", r2)"
   ]
  },
  {
   "cell_type": "code",
   "execution_count": 156,
   "id": "95992d48",
   "metadata": {},
   "outputs": [
    {
     "name": "stdout",
     "output_type": "stream",
     "text": [
      "192.79166666666666 126.5567117398398\n"
     ]
    }
   ],
   "source": [
    "import numpy as np\n",
    "avg_prop_count = df_encoded['proposal_counts'].mean()\n",
    "RMSE = np.sqrt(mse)\n",
    "\n",
    "print(avg_prop_count, RMSE)"
   ]
  },
  {
   "cell_type": "code",
   "execution_count": 157,
   "id": "109e78f1",
   "metadata": {},
   "outputs": [
    {
     "name": "stdout",
     "output_type": "stream",
     "text": [
      "0.6564428531999471\n"
     ]
    }
   ],
   "source": [
    "relative_error = RMSE/avg_prop_count\n",
    "print(relative_error)"
   ]
  },
  {
   "cell_type": "code",
   "execution_count": 158,
   "id": "7b9462a8",
   "metadata": {},
   "outputs": [
    {
     "name": "stdout",
     "output_type": "stream",
     "text": [
      "                 Generalized Linear Model Regression Results                  \n",
      "==============================================================================\n",
      "Dep. Variable:        proposal_counts   No. Observations:                   24\n",
      "Model:                            GLM   Df Residuals:                       19\n",
      "Model Family:                 Poisson   Df Model:                            4\n",
      "Link Function:                    Log   Scale:                          1.0000\n",
      "Method:                          IRLS   Log-Likelihood:                -1147.0\n",
      "Date:                Tue, 01 Jul 2025   Deviance:                       2132.1\n",
      "Time:                        20:18:03   Pearson chi2:                 2.17e+03\n",
      "No. Iterations:                     5   Pseudo R-squ. (CS):              1.000\n",
      "Covariance Type:            nonrobust                                         \n",
      "=====================================================================================================\n",
      "                                        coef    std err          z      P>|z|      [0.025      0.975]\n",
      "-----------------------------------------------------------------------------------------------------\n",
      "Intercept                             5.1777      0.048    108.336      0.000       5.084       5.271\n",
      "politcal_power_democratic[T.True]     0.3435      0.048      7.212      0.000       0.250       0.437\n",
      "politcal_power_neither[T.True]       -0.3567      0.083     -4.279      0.000      -0.520      -0.193\n",
      "politcal_power_republican[T.True]     0.3967      0.047      8.477      0.000       0.305       0.488\n",
      "in_war                               -0.2463      0.035     -7.063      0.000      -0.315      -0.178\n",
      "=====================================================================================================\n"
     ]
    }
   ],
   "source": [
    "import statsmodels.api as sm\n",
    "import statsmodels.formula.api as smf\n",
    "\n",
    "model = smf.glm(formula='proposal_counts ~ in_war + politcal_power_democratic + politcal_power_neither + politcal_power_republican',\n",
    "                data=df_encoded, family=sm.families.Poisson()).fit()\n",
    "print(model.summary())"
   ]
  },
  {
   "cell_type": "code",
   "execution_count": 159,
   "id": "dd29da47",
   "metadata": {},
   "outputs": [
    {
     "name": "stdout",
     "output_type": "stream",
     "text": [
      "1.3639705932663844 0.6675773601949113 1.4280358947770884 0.7908871412226887\n"
     ]
    }
   ],
   "source": [
    "democrat = np.exp(0.3104)\n",
    "neither = np.exp(-0.4041)\n",
    "republican = np.exp(0.3563)\n",
    "war = np.exp(-0.2346)\n",
    "\n",
    "print(democrat, neither, republican, war)"
   ]
  },
  {
   "cell_type": "markdown",
   "id": "dca97643",
   "metadata": {},
   "source": [
    "Given the Poisson Regression summary, we can conclude the following:\n",
    "1. proposal count is 36% higher in democratic eras compared to when both parties are in power\n",
    "2. proposal count is 33% lower when neither parties are in power\n",
    "3. proposal counts is 43% higher in republican eras compared to when both parties are in power\n",
    "4. during war periods, proposal counts are 21% lower on average"
   ]
  },
  {
   "cell_type": "markdown",
   "id": "06c09c51",
   "metadata": {},
   "source": [
    "all of the coefficients have very low p-values (P>|z| = 0.000), meaning they’re statistically significant at any standard threshold (0.05, 0.01, etc). this means that we can rely on the interpretations above to make a prediction on amendment proposal counts based on politcal party in power and war status of the country at the time."
   ]
  },
  {
   "cell_type": "code",
   "execution_count": 160,
   "id": "1a976dfe",
   "metadata": {},
   "outputs": [
    {
     "data": {
      "application/vnd.microsoft.datawrangler.viewer.v0+json": {
       "columns": [
        {
         "name": "index",
         "rawType": "int64",
         "type": "integer"
        },
        {
         "name": "year",
         "rawType": "float64",
         "type": "float"
        },
        {
         "name": "count",
         "rawType": "int64",
         "type": "integer"
        }
       ],
       "ref": "5c025a3e-d623-4f18-b93c-916adcf2abe0",
       "rows": [
        [
         "0",
         "1788.0",
         "123"
        ],
        [
         "1",
         "1789.0",
         "188"
        ],
        [
         "2",
         "1790.0",
         "1"
        ],
        [
         "3",
         "1791.0",
         "1"
        ],
        [
         "4",
         "1793.0",
         "11"
        ]
       ],
       "shape": {
        "columns": 2,
        "rows": 5
       }
      },
      "text/html": [
       "<div>\n",
       "<style scoped>\n",
       "    .dataframe tbody tr th:only-of-type {\n",
       "        vertical-align: middle;\n",
       "    }\n",
       "\n",
       "    .dataframe tbody tr th {\n",
       "        vertical-align: top;\n",
       "    }\n",
       "\n",
       "    .dataframe thead th {\n",
       "        text-align: right;\n",
       "    }\n",
       "</style>\n",
       "<table border=\"1\" class=\"dataframe\">\n",
       "  <thead>\n",
       "    <tr style=\"text-align: right;\">\n",
       "      <th></th>\n",
       "      <th>year</th>\n",
       "      <th>count</th>\n",
       "    </tr>\n",
       "  </thead>\n",
       "  <tbody>\n",
       "    <tr>\n",
       "      <th>0</th>\n",
       "      <td>1788.0</td>\n",
       "      <td>123</td>\n",
       "    </tr>\n",
       "    <tr>\n",
       "      <th>1</th>\n",
       "      <td>1789.0</td>\n",
       "      <td>188</td>\n",
       "    </tr>\n",
       "    <tr>\n",
       "      <th>2</th>\n",
       "      <td>1790.0</td>\n",
       "      <td>1</td>\n",
       "    </tr>\n",
       "    <tr>\n",
       "      <th>3</th>\n",
       "      <td>1791.0</td>\n",
       "      <td>1</td>\n",
       "    </tr>\n",
       "    <tr>\n",
       "      <th>4</th>\n",
       "      <td>1793.0</td>\n",
       "      <td>11</td>\n",
       "    </tr>\n",
       "  </tbody>\n",
       "</table>\n",
       "</div>"
      ],
      "text/plain": [
       "     year  count\n",
       "0  1788.0    123\n",
       "1  1789.0    188\n",
       "2  1790.0      1\n",
       "3  1791.0      1\n",
       "4  1793.0     11"
      ]
     },
     "execution_count": 160,
     "metadata": {},
     "output_type": "execute_result"
    }
   ],
   "source": [
    "yearly_counts = data.groupby('year').size().reset_index(name='count').sort_values(by='year')\n",
    "yearly_counts.head()"
   ]
  },
  {
   "cell_type": "markdown",
   "id": "d8f05684",
   "metadata": {},
   "source": [
    "# Visualizations"
   ]
  },
  {
   "cell_type": "code",
   "execution_count": 161,
   "id": "a1453ec1",
   "metadata": {},
   "outputs": [
    {
     "name": "stderr",
     "output_type": "stream",
     "text": [
      "c:\\Users\\alons\\miniconda3\\envs\\dighum101\\Lib\\site-packages\\matplotlib\\text.py:1477: FutureWarning: Calling float on a single element Series is deprecated and will raise a TypeError in the future. Use float(ser.iloc[0]) instead\n",
      "  y = float(self.convert_yunits(y))\n"
     ]
    },
    {
     "data": {
      "image/png": "[encoded data removed]",
      "text/plain": [
       "<Figure size 1600x800 with 1 Axes>"
      ]
     },
     "metadata": {},
     "output_type": "display_data"
    }
   ],
   "source": [
    "import matplotlib.pyplot as plt\n",
    "import seaborn as sns\n",
    "\n",
    "# Set the plot style and size\n",
    "plt.style.use('seaborn-v0_8-whitegrid')\n",
    "fig, ax = plt.subplots(figsize=(16, 8))\n",
    "\n",
    "# Plot the data\n",
    "ax.plot(yearly_counts['year'], yearly_counts['count'], color='navy', linewidth=2)\n",
    "\n",
    "# Shading for major US wars\n",
    "ax.axvspan(1861, 1865, color='gray', alpha=0.3, label='US Civil War')\n",
    "ax.axvspan(1917, 1918, color='lightgray', alpha=0.5, label='WWI')\n",
    "ax.axvspan(1941, 1945, color='lightgray', alpha=0.5, label='WWII')\n",
    "\n",
    "# Annotations\n",
    "ax.annotate('Progressive Era Peak', xy=(1913, yearly_counts.loc[yearly_counts['year'] == 1913, 'count']),\n",
    "            xytext=(1913, 150), arrowprops=dict(facecolor='black', shrink=0.05),\n",
    "            ha='center', fontsize=10)\n",
    "\n",
    "ax.annotate('Civil Rights Era Peak', xy=(1963, yearly_counts.loc[yearly_counts['year'] == 1963, 'count']),\n",
    "            xytext=(1963, 200), arrowprops=dict(facecolor='black', shrink=0.05),\n",
    "            ha='center', fontsize=10)\n",
    "\n",
    "# --- Final Touches ---\n",
    "ax.set_title('Proposed Amendments to the U.S. Constitution (1787-2014)', fontsize=18, fontweight='bold')\n",
    "ax.set_xlabel('Year', fontsize=12)\n",
    "ax.set_ylabel('Number of Proposed Amendments', fontsize=12)\n",
    "ax.set_xlim(yearly_counts['year'].min(), yearly_counts['year'].max())\n",
    "ax.set_ylim(0)\n",
    "ax.legend()\n",
    "\n",
    "plt.show()"
   ]
  },
  {
   "cell_type": "markdown",
   "id": "885a60e7",
   "metadata": {},
   "source": [
    "Figure shows the number of amendments proposed each year and significant events that could have influenced them"
   ]
  },
  {
   "cell_type": "code",
   "execution_count": 162,
   "id": "d3ffc6d3",
   "metadata": {},
   "outputs": [
    {
     "data": {
      "image/png": "[encoded data removed]",
      "text/plain": [
       "<Figure size 1600x900 with 1 Axes>"
      ]
     },
     "metadata": {},
     "output_type": "display_data"
    }
   ],
   "source": [
    "data['title_or_description_from_source'] = data['title_or_description_from_source'].astype(str)\n",
    "\n",
    "keywords = ['right', 'election', 'president', 'slavery', 'suffrage', 'income', 'prayer', 'marriage']\n",
    "keyword_counts_per_year = {key: Counter() for key in keywords}\n",
    "\n",
    "for year, group in data.groupby('year'):\n",
    "    all_titles_in_year = ' '.join(group['title_or_description_from_source']).lower()\n",
    "    tokens = nltk.word_tokenize(all_titles_in_year)\n",
    "    for key in keywords:\n",
    "        keyword_counts_per_year[key][year] = tokens.count(key)\n",
    "\n",
    "# Convert the yearly counts into a DataFrame\n",
    "keyword_df = pd.DataFrame(keyword_counts_per_year).fillna(0).sort_index()\n",
    "\n",
    "# Plot the keyword trends\n",
    "plt.style.use('seaborn-v0_8-whitegrid')\n",
    "fig, ax = plt.subplots(figsize=(16, 9))\n",
    "\n",
    "keyword_df.plot(ax=ax, linewidth=2)\n",
    "\n",
    "ax.set_title('Frequency of Key Terms in Proposed Amendments Over Time', fontsize=18, fontweight='bold')\n",
    "ax.set_xlabel('Year', fontsize=12)\n",
    "ax.set_ylabel('Term Frequency', fontsize=12)\n",
    "ax.legend(title='Keywords')\n",
    "ax.grid(True, which='both', linestyle='--', linewidth=0.5)\n",
    "ax.set_xlim(data['year'].min(), data['year'].max())\n",
    "\n",
    "plt.show()"
   ]
  },
  {
   "cell_type": "markdown",
   "id": "8635121e",
   "metadata": {},
   "source": [
    "Slavery (purple) is a turn occasionally used early on, and spikes during the Civil War (1861) and then disappears afterward\n",
    "Suffrage appears in the late 1800s and stops in the 1920s when women were granted the right to vote."
   ]
  },
  {
   "cell_type": "code",
   "execution_count": 163,
   "id": "da941e79",
   "metadata": {},
   "outputs": [
    {
     "data": {
      "image/png": "[encoded data removed]",
      "text/plain": [
       "<Figure size 1000x600 with 1 Axes>"
      ]
     },
     "metadata": {},
     "output_type": "display_data"
    }
   ],
   "source": [
    "coefficients = {\n",
    "    'War': -0.2346,\n",
    "    'Democratic Power': 0.3093,\n",
    "    'Republican Power': 0.3592,\n",
    "    'Neither Party Power': -0.4048\n",
    "}\n",
    "# Standard errors from summary output\n",
    "std_errors = {\n",
    "    'War': 0.058,\n",
    "    'Democratic Power': 0.046,\n",
    "    'Republican Power': 0.043,\n",
    "    'Neither Party Power': 0.123\n",
    "}\n",
    "\n",
    "coef_df = pd.DataFrame({\n",
    "    'variable': list(coefficients.keys()),\n",
    "    'coef': list(coefficients.values()),\n",
    "    'std_err': list(std_errors.values())\n",
    "})\n",
    "\n",
    "# Calculate 95% confidence intervals (z-score for 95% is approx. 1.96)\n",
    "coef_df['ci_lower'] = coef_df['coef'] - 1.96 * coef_df['std_err']\n",
    "coef_df['ci_upper'] = coef_df['coef'] + 1.96 * coef_df['std_err']\n",
    "coef_df['error'] = coef_df['coef'] - coef_df['ci_lower']\n",
    "\n",
    "# Plot the coefficients\n",
    "fig, ax = plt.subplots(figsize=(10, 6))\n",
    "ax.errorbar(y=coef_df['variable'], x=coef_df['coef'], xerr=coef_df['error'],\n",
    "            fmt='o', color='navy', ecolor='gray', elinewidth=3, capsize=0)\n",
    "\n",
    "# Add a vertical line at zero to indicate no effect\n",
    "ax.axvline(x=0, color='red', linestyle='--')\n",
    "\n",
    "# Final Touches\n",
    "ax.set_title('Impact of Contextual Factors on Amendment Proposals', fontsize=16, fontweight='bold')\n",
    "ax.set_xlabel('Coefficient (Effect on Log Count of Proposals)')\n",
    "ax.set_ylabel('Variable')\n",
    "plt.show()"
   ]
  },
  {
   "cell_type": "markdown",
   "id": "5fb51d3f",
   "metadata": {},
   "source": [
    "This coefficient plot shows us the results of the linear regression analysis. The red dotted line is essentially a baseline that says \"no effect\"; if a horizontal factor had zero impact, their blue dot would be on this line. Dots to the right have positive effect, meaning an increase in the # of proposed amendments. To the left means a decrease.\n",
    "\n",
    "The figure itself tells us that political party significantly matters. When a single party has power (either Republican or Democratic), there is a significant increase in the # of proposed amendments. When there are neither, there is a decrease. The figure also indicates that, during wartime, proposed amendments decrease as the nation is focused on foreign affairs."
   ]
  },
  {
   "cell_type": "code",
   "execution_count": 164,
   "id": "f64388ed",
   "metadata": {},
   "outputs": [
    {
     "data": {
      "image/png": "[encoded data removed]",
      "text/plain": [
       "<Figure size 1200x600 with 1 Axes>"
      ]
     },
     "metadata": {},
     "output_type": "display_data"
    }
   ],
   "source": [
    "plt.figure(figsize=(12, 6))\n",
    "\n",
    "sns.histplot(yearly_counts['count'], bins=20, color='lightgreen', edgecolor='black', kde=True)\n",
    "\n",
    "# Calculate and plot the mean and median\n",
    "mean_val = yearly_counts['count'].mean()\n",
    "median_val = yearly_counts['count'].median()\n",
    "\n",
    "plt.axvline(mean_val, color='red', linestyle='--', linewidth=2, label=f'Mean: {mean_val:.2f}')\n",
    "plt.axvline(median_val, color='green', linestyle='-', linewidth=2, label=f'Median: {median_val:.2f}')\n",
    "\n",
    "plt.title('Distribution of Amendments Proposed Each Year with Density Curve', fontsize=16)\n",
    "plt.xlabel('Number of Proposed Amendments')\n",
    "plt.ylabel('Frequency (Count of Years)')\n",
    "plt.legend()\n",
    "plt.tight_layout()\n",
    "plt.show()"
   ]
  },
  {
   "cell_type": "markdown",
   "id": "c03b53d4",
   "metadata": {},
   "source": [
    "Green line is the median, and the red dotted line is the mean; data is right-skewed which means that there are some yeaes with a high number of amendment proposals that skews the average up."
   ]
  }
 ],
 "metadata": {
  "kernelspec": {
   "display_name": "dighum101",
   "language": "python",
   "name": "dighum101"
  },
  "language_info": {
   "codemirror_mode": {
    "name": "ipython",
    "version": 3
   },
   "file_extension": ".py",
   "mimetype": "text/x-python",
   "name": "python",
   "nbconvert_exporter": "python",
   "pygments_lexer": "ipython3",
   "version": "3.12.10"
  }
 },
 "nbformat": 4,
 "nbformat_minor": 5
}
